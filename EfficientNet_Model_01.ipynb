{
  "cells": [
    {
      "cell_type": "code",
      "execution_count": null,
      "metadata": {
        "colab": {
          "base_uri": "https://localhost:8080/"
        },
        "id": "-P2q4WSEARhh",
        "outputId": "11ff17d0-6a41-4e32-d278-e2fbbfe3d27e"
      },
      "outputs": [
        {
          "name": "stdout",
          "output_type": "stream",
          "text": [
            "Looking in indexes: https://pypi.org/simple, https://us-python.pkg.dev/colab-wheels/public/simple/\n",
            "Collecting cloud_tpu_client\n",
            "  Downloading cloud_tpu_client-0.10-py3-none-any.whl (7.4 kB)\n",
            "Collecting google-api-python-client==1.8.0\n",
            "  Downloading google_api_python_client-1.8.0-py3-none-any.whl (57 kB)\n",
            "\u001b[K     |████████████████████████████████| 57 kB 3.0 MB/s \n",
            "\u001b[?25hRequirement already satisfied: oauth2client in /usr/local/lib/python3.7/dist-packages (from cloud_tpu_client) (4.1.3)\n",
            "Requirement already satisfied: google-auth-httplib2>=0.0.3 in /usr/local/lib/python3.7/dist-packages (from google-api-python-client==1.8.0->cloud_tpu_client) (0.0.4)\n",
            "Requirement already satisfied: google-api-core<2dev,>=1.13.0 in /usr/local/lib/python3.7/dist-packages (from google-api-python-client==1.8.0->cloud_tpu_client) (1.31.6)\n",
            "Requirement already satisfied: uritemplate<4dev,>=3.0.0 in /usr/local/lib/python3.7/dist-packages (from google-api-python-client==1.8.0->cloud_tpu_client) (3.0.1)\n",
            "Requirement already satisfied: httplib2<1dev,>=0.9.2 in /usr/local/lib/python3.7/dist-packages (from google-api-python-client==1.8.0->cloud_tpu_client) (0.17.4)\n",
            "Requirement already satisfied: google-auth>=1.4.1 in /usr/local/lib/python3.7/dist-packages (from google-api-python-client==1.8.0->cloud_tpu_client) (1.35.0)\n",
            "Requirement already satisfied: six<2dev,>=1.6.1 in /usr/local/lib/python3.7/dist-packages (from google-api-python-client==1.8.0->cloud_tpu_client) (1.15.0)\n",
            "Requirement already satisfied: protobuf<4.0.0dev,>=3.12.0 in /usr/local/lib/python3.7/dist-packages (from google-api-core<2dev,>=1.13.0->google-api-python-client==1.8.0->cloud_tpu_client) (3.17.3)\n",
            "Requirement already satisfied: requests<3.0.0dev,>=2.18.0 in /usr/local/lib/python3.7/dist-packages (from google-api-core<2dev,>=1.13.0->google-api-python-client==1.8.0->cloud_tpu_client) (2.23.0)\n",
            "Requirement already satisfied: googleapis-common-protos<2.0dev,>=1.6.0 in /usr/local/lib/python3.7/dist-packages (from google-api-core<2dev,>=1.13.0->google-api-python-client==1.8.0->cloud_tpu_client) (1.56.2)\n",
            "Requirement already satisfied: setuptools>=40.3.0 in /usr/local/lib/python3.7/dist-packages (from google-api-core<2dev,>=1.13.0->google-api-python-client==1.8.0->cloud_tpu_client) (57.4.0)\n",
            "Requirement already satisfied: pytz in /usr/local/lib/python3.7/dist-packages (from google-api-core<2dev,>=1.13.0->google-api-python-client==1.8.0->cloud_tpu_client) (2022.1)\n",
            "Requirement already satisfied: packaging>=14.3 in /usr/local/lib/python3.7/dist-packages (from google-api-core<2dev,>=1.13.0->google-api-python-client==1.8.0->cloud_tpu_client) (21.3)\n",
            "Requirement already satisfied: cachetools<5.0,>=2.0.0 in /usr/local/lib/python3.7/dist-packages (from google-auth>=1.4.1->google-api-python-client==1.8.0->cloud_tpu_client) (4.2.4)\n",
            "Requirement already satisfied: rsa<5,>=3.1.4 in /usr/local/lib/python3.7/dist-packages (from google-auth>=1.4.1->google-api-python-client==1.8.0->cloud_tpu_client) (4.8)\n",
            "Requirement already satisfied: pyasn1-modules>=0.2.1 in /usr/local/lib/python3.7/dist-packages (from google-auth>=1.4.1->google-api-python-client==1.8.0->cloud_tpu_client) (0.2.8)\n",
            "Requirement already satisfied: pyparsing!=3.0.5,>=2.0.2 in /usr/local/lib/python3.7/dist-packages (from packaging>=14.3->google-api-core<2dev,>=1.13.0->google-api-python-client==1.8.0->cloud_tpu_client) (3.0.9)\n",
            "Requirement already satisfied: pyasn1<0.5.0,>=0.4.6 in /usr/local/lib/python3.7/dist-packages (from pyasn1-modules>=0.2.1->google-auth>=1.4.1->google-api-python-client==1.8.0->cloud_tpu_client) (0.4.8)\n",
            "Requirement already satisfied: idna<3,>=2.5 in /usr/local/lib/python3.7/dist-packages (from requests<3.0.0dev,>=2.18.0->google-api-core<2dev,>=1.13.0->google-api-python-client==1.8.0->cloud_tpu_client) (2.10)\n",
            "Requirement already satisfied: urllib3!=1.25.0,!=1.25.1,<1.26,>=1.21.1 in /usr/local/lib/python3.7/dist-packages (from requests<3.0.0dev,>=2.18.0->google-api-core<2dev,>=1.13.0->google-api-python-client==1.8.0->cloud_tpu_client) (1.24.3)\n",
            "Requirement already satisfied: chardet<4,>=3.0.2 in /usr/local/lib/python3.7/dist-packages (from requests<3.0.0dev,>=2.18.0->google-api-core<2dev,>=1.13.0->google-api-python-client==1.8.0->cloud_tpu_client) (3.0.4)\n",
            "Requirement already satisfied: certifi>=2017.4.17 in /usr/local/lib/python3.7/dist-packages (from requests<3.0.0dev,>=2.18.0->google-api-core<2dev,>=1.13.0->google-api-python-client==1.8.0->cloud_tpu_client) (2022.5.18.1)\n",
            "Installing collected packages: google-api-python-client, cloud-tpu-client\n",
            "  Attempting uninstall: google-api-python-client\n",
            "    Found existing installation: google-api-python-client 1.12.11\n",
            "    Uninstalling google-api-python-client-1.12.11:\n",
            "      Successfully uninstalled google-api-python-client-1.12.11\n",
            "\u001b[31mERROR: pip's dependency resolver does not currently take into account all the packages that are installed. This behaviour is the source of the following dependency conflicts.\n",
            "earthengine-api 0.1.312 requires google-api-python-client<2,>=1.12.1, but you have google-api-python-client 1.8.0 which is incompatible.\u001b[0m\n",
            "Successfully installed cloud-tpu-client-0.10 google-api-python-client-1.8.0\n"
          ]
        }
      ],
      "source": [
        "!pip install cloud_tpu_client"
      ]
    },
    {
      "cell_type": "code",
      "execution_count": null,
      "metadata": {
        "colab": {
          "base_uri": "https://localhost:8080/"
        },
        "id": "LvgMhZQt7W5w",
        "outputId": "8ddcc579-d3d5-4fe7-d101-95bd2d7f0c81"
      },
      "outputs": [
        {
          "name": "stdout",
          "output_type": "stream",
          "text": [
            "Downloading data from https://storage.googleapis.com/keras-applications/efficientnetb0.h5\n",
            "21839872/21834768 [==============================] - 0s 0us/step\n",
            "21848064/21834768 [==============================] - 0s 0us/step\n"
          ]
        }
      ],
      "source": [
        "from tensorflow.keras.applications import EfficientNetB0\n",
        "model = EfficientNetB0(weights='imagenet')"
      ]
    },
    {
      "cell_type": "code",
      "execution_count": null,
      "metadata": {
        "id": "0iYRk_PS7W8V"
      },
      "outputs": [],
      "source": [
        "# IMG_SIZE is determined by EfficientNet model choice\n",
        "IMG_SIZE = 224"
      ]
    },
    {
      "cell_type": "code",
      "execution_count": null,
      "metadata": {
        "colab": {
          "base_uri": "https://localhost:8080/"
        },
        "id": "06Ys3SeT7W-y",
        "outputId": "ba2cb12d-1d2b-4720-f1d2-819e118eb0c2"
      },
      "outputs": [
        {
          "name": "stdout",
          "output_type": "stream",
          "text": [
            "Not connected to a TPU runtime. Using CPU/GPU strategy\n",
            "INFO:tensorflow:Using MirroredStrategy with devices ('/job:localhost/replica:0/task:0/device:GPU:0',)\n"
          ]
        }
      ],
      "source": [
        "from cloud_tpu_client import Client\n",
        "import tensorflow as tf\n",
        "import numpy as np\n",
        "\n",
        "\n",
        "\n",
        "try:\n",
        "    c = Client()\n",
        "    c.configure_tpu_version(tf.__version__, restart_type=\"always\")\n",
        "    tpu = tf.distribute.cluster_resolver.TPUClusterResolver.connect()\n",
        "    print(\"Device:\", tpu.master())\n",
        "    strategy = tf.distribute.TPUStrategy(tpu)\n",
        "\n",
        "except ValueError:\n",
        "    print(\"Not connected to a TPU runtime. Using CPU/GPU strategy\")\n",
        "    strategy = tf.distribute.MirroredStrategy()"
      ]
    },
    {
      "cell_type": "code",
      "execution_count": null,
      "metadata": {
        "colab": {
          "base_uri": "https://localhost:8080/"
        },
        "id": "54v8xUNRBnT6",
        "outputId": "e96ed550-f081-4bb2-b60f-8562a24717f8"
      },
      "outputs": [
        {
          "name": "stdout",
          "output_type": "stream",
          "text": [
            "<PrefetchDataset element_spec=(TensorSpec(shape=(224, 224, 3), dtype=tf.uint8, name=None), TensorSpec(shape=(), dtype=tf.int32, name=None))>\n",
            "<PrefetchDataset element_spec=(TensorSpec(shape=(224, 224, 3), dtype=tf.uint8, name=None), TensorSpec(shape=(), dtype=tf.int32, name=None))>\n"
          ]
        }
      ],
      "source": [
        "batch_size = 8\n",
        "SHUFFLE_BUFFER_SIZE = 128\n",
        "\n",
        "x_train, x_test, y_train, y_test = np.load(\"/content/drive/MyDrive/steel_surface_224.npy\", allow_pickle=True)\n",
        "ds_train = tf.data.Dataset.from_tensor_slices((x_train, y_train))\n",
        "ds_train = ds_train.prefetch(batch_size)\n",
        "ds_test = tf.data.Dataset.from_tensor_slices((x_test, y_test))\n",
        "ds_test = ds_test.prefetch(batch_size)\n",
        "print(ds_train)\n",
        "print(ds_test)"
      ]
    },
    {
      "cell_type": "code",
      "execution_count": null,
      "metadata": {
        "id": "ETtjOBJr7XBF"
      },
      "outputs": [],
      "source": [
        "NUM_CLASSES = 6"
      ]
    },
    {
      "cell_type": "code",
      "execution_count": null,
      "metadata": {
        "id": "7fDMzZvW7XDY"
      },
      "outputs": [],
      "source": [
        "size = (IMG_SIZE, IMG_SIZE)\n",
        "ds_train = ds_train.map(lambda image, label: (tf.image.resize(image, size), label))\n",
        "ds_test = ds_test.map(lambda image, label: (tf.image.resize(image, size), label))"
      ]
    },
    {
      "cell_type": "code",
      "execution_count": null,
      "metadata": {
        "colab": {
          "base_uri": "https://localhost:8080/",
          "height": 264
        },
        "id": "KO1NCo6Z7XFp",
        "outputId": "b9b63c52-d439-4757-d3da-8f2333a0026c"
      },
      "outputs": [
        {
          "data": {
            "image/png": "[encoded data removed]",
            "text/plain": [
              "<Figure size 432x288 with 9 Axes>"
            ]
          },
          "metadata": {
            "needs_background": "light"
          },
          "output_type": "display_data"
        }
      ],
      "source": [
        "import matplotlib.pyplot as plt\n",
        "\n",
        "labellist=[\"crazing\",\"inclusion\",\"patches\",\"pitted_surface\",\"rolled-in_scale\",\"scratches\"]\n",
        "def format_label(label):\n",
        "  return labellist[(int(str(label)[10]))]\n",
        "\n",
        "\n",
        "for i, (image, label) in enumerate(ds_train.take(9)):\n",
        "    ax = plt.subplot(3, 3, i + 1)\n",
        "    plt.imshow(image.numpy().astype(\"uint8\"))\n",
        "    plt.title(format_label(label))\n",
        "    plt.axis(\"off\")"
      ]
    },
    {
      "cell_type": "code",
      "execution_count": null,
      "metadata": {
        "id": "p_L0gBYE7XIA"
      },
      "outputs": [],
      "source": [
        "from tensorflow.keras.models import Sequential\n",
        "from tensorflow.keras import layers\n",
        "\n",
        "img_augmentation = Sequential(\n",
        "    [\n",
        "        layers.RandomRotation(factor=0.15),\n",
        "        layers.RandomTranslation(height_factor=0.1, width_factor=0.1),\n",
        "        layers.RandomFlip(),\n",
        "        layers.RandomContrast(factor=0.1),\n",
        "    ],\n",
        "    name=\"img_augmentation\",\n",
        ")"
      ]
    },
    {
      "cell_type": "code",
      "execution_count": null,
      "metadata": {
        "id": "7MepxW4l7XMW"
      },
      "outputs": [],
      "source": [
        "# One-hot / categorical encoding\n",
        "def input_preprocess(image, label):\n",
        "    label = tf.one_hot(label, NUM_CLASSES)\n",
        "    return image, label\n",
        "\n",
        "\n",
        "ds_train = ds_train.map(\n",
        "    input_preprocess, num_parallel_calls=tf.data.AUTOTUNE\n",
        ")\n",
        "ds_train = ds_train.batch(batch_size=batch_size, drop_remainder=True)\n",
        "ds_train = ds_train.prefetch(tf.data.AUTOTUNE)\n",
        "\n",
        "ds_test = ds_test.map(input_preprocess)\n",
        "ds_test = ds_test.batch(batch_size=batch_size, drop_remainder=True)"
      ]
    },
    {
      "cell_type": "code",
      "execution_count": null,
      "metadata": {
        "colab": {
          "base_uri": "https://localhost:8080/"
        },
        "id": "Y4me0mAj7XOh",
        "outputId": "a4749692-f391-4238-e554-aafdcefd0aee"
      },
      "outputs": [
        {
          "name": "stdout",
          "output_type": "stream",
          "text": [
            "INFO:tensorflow:Reduce to /job:localhost/replica:0/task:0/device:CPU:0 then broadcast to ('/job:localhost/replica:0/task:0/device:CPU:0',).\n",
            "INFO:tensorflow:Reduce to /job:localhost/replica:0/task:0/device:CPU:0 then broadcast to ('/job:localhost/replica:0/task:0/device:CPU:0',).\n",
            "INFO:tensorflow:Reduce to /job:localhost/replica:0/task:0/device:CPU:0 then broadcast to ('/job:localhost/replica:0/task:0/device:CPU:0',).\n",
            "INFO:tensorflow:Reduce to /job:localhost/replica:0/task:0/device:CPU:0 then broadcast to ('/job:localhost/replica:0/task:0/device:CPU:0',).\n",
            "INFO:tensorflow:Reduce to /job:localhost/replica:0/task:0/device:CPU:0 then broadcast to ('/job:localhost/replica:0/task:0/device:CPU:0',).\n",
            "INFO:tensorflow:Reduce to /job:localhost/replica:0/task:0/device:CPU:0 then broadcast to ('/job:localhost/replica:0/task:0/device:CPU:0',).\n",
            "INFO:tensorflow:Reduce to /job:localhost/replica:0/task:0/device:CPU:0 then broadcast to ('/job:localhost/replica:0/task:0/device:CPU:0',).\n",
            "INFO:tensorflow:Reduce to /job:localhost/replica:0/task:0/device:CPU:0 then broadcast to ('/job:localhost/replica:0/task:0/device:CPU:0',).\n",
            "INFO:tensorflow:Reduce to /job:localhost/replica:0/task:0/device:CPU:0 then broadcast to ('/job:localhost/replica:0/task:0/device:CPU:0',).\n",
            "INFO:tensorflow:Reduce to /job:localhost/replica:0/task:0/device:CPU:0 then broadcast to ('/job:localhost/replica:0/task:0/device:CPU:0',).\n",
            "Model: \"model\"\n",
            "_________________________________________________________________\n",
            " Layer (type)                Output Shape              Param #   \n",
            "=================================================================\n",
            " input_2 (InputLayer)        [(None, 224, 224, 3)]     0         \n",
            "                                                                 \n",
            " img_augmentation (Sequentia  (None, 224, 224, 3)      0         \n",
            " l)                                                              \n",
            "                                                                 \n",
            " efficientnetb0 (Functional)  (None, 6)                4057257   \n",
            "                                                                 \n",
            "=================================================================\n",
            "Total params: 4,057,257\n",
            "Trainable params: 4,015,234\n",
            "Non-trainable params: 42,023\n",
            "_________________________________________________________________\n",
            "Epoch 1/100\n",
            "135/135 - 49s - loss: 2.9511 - accuracy: 0.4111 - val_loss: 4.6174 - val_accuracy: 0.1722 - 49s/epoch - 361ms/step\n",
            "Epoch 2/100\n",
            "135/135 - 12s - loss: 1.4510 - accuracy: 0.5500 - val_loss: 4.2890 - val_accuracy: 0.1722 - 12s/epoch - 91ms/step\n",
            "Epoch 3/100\n",
            "135/135 - 12s - loss: 1.1404 - accuracy: 0.6472 - val_loss: 6.4035 - val_accuracy: 0.1889 - 12s/epoch - 91ms/step\n",
            "Epoch 4/100\n",
            "135/135 - 12s - loss: 1.0185 - accuracy: 0.6685 - val_loss: 1.7847 - val_accuracy: 0.6889 - 12s/epoch - 92ms/step\n",
            "Epoch 5/100\n",
            "135/135 - 13s - loss: 0.8632 - accuracy: 0.7231 - val_loss: 1.0477 - val_accuracy: 0.8028 - 13s/epoch - 93ms/step\n",
            "Epoch 6/100\n",
            "135/135 - 13s - loss: 0.8183 - accuracy: 0.7176 - val_loss: 1.3447 - val_accuracy: 0.7222 - 13s/epoch - 94ms/step\n",
            "Epoch 7/100\n",
            "135/135 - 13s - loss: 0.7029 - accuracy: 0.7602 - val_loss: 6.0767 - val_accuracy: 0.5972 - 13s/epoch - 95ms/step\n",
            "Epoch 8/100\n",
            "135/135 - 13s - loss: 0.5915 - accuracy: 0.7907 - val_loss: 1.9353 - val_accuracy: 0.6944 - 13s/epoch - 93ms/step\n",
            "Epoch 9/100\n",
            "135/135 - 13s - loss: 0.5841 - accuracy: 0.8167 - val_loss: 3.2303 - val_accuracy: 0.6500 - 13s/epoch - 96ms/step\n",
            "Epoch 10/100\n",
            "135/135 - 13s - loss: 0.5489 - accuracy: 0.8148 - val_loss: 0.8795 - val_accuracy: 0.8028 - 13s/epoch - 98ms/step\n",
            "Epoch 11/100\n",
            "135/135 - 12s - loss: 0.4739 - accuracy: 0.8454 - val_loss: 0.8838 - val_accuracy: 0.8250 - 12s/epoch - 92ms/step\n",
            "Epoch 12/100\n",
            "135/135 - 12s - loss: 0.4391 - accuracy: 0.8565 - val_loss: 3.2196 - val_accuracy: 0.7083 - 12s/epoch - 92ms/step\n",
            "Epoch 13/100\n",
            "135/135 - 13s - loss: 0.4676 - accuracy: 0.8435 - val_loss: 0.2245 - val_accuracy: 0.9444 - 13s/epoch - 93ms/step\n",
            "Epoch 14/100\n",
            "135/135 - 13s - loss: 0.4076 - accuracy: 0.8769 - val_loss: 3.0527 - val_accuracy: 0.6917 - 13s/epoch - 93ms/step\n",
            "Epoch 15/100\n",
            "135/135 - 13s - loss: 0.3520 - accuracy: 0.8981 - val_loss: 5.3347 - val_accuracy: 0.5556 - 13s/epoch - 93ms/step\n",
            "Epoch 16/100\n",
            "135/135 - 13s - loss: 0.3397 - accuracy: 0.8694 - val_loss: 0.4880 - val_accuracy: 0.8944 - 13s/epoch - 93ms/step\n",
            "Epoch 17/100\n",
            "135/135 - 13s - loss: 0.3668 - accuracy: 0.8713 - val_loss: 1.8902 - val_accuracy: 0.6861 - 13s/epoch - 93ms/step\n",
            "Epoch 18/100\n",
            "135/135 - 12s - loss: 0.2971 - accuracy: 0.9028 - val_loss: 0.3700 - val_accuracy: 0.8944 - 12s/epoch - 92ms/step\n",
            "Epoch 19/100\n",
            "135/135 - 13s - loss: 0.3206 - accuracy: 0.8843 - val_loss: 2.9179 - val_accuracy: 0.6861 - 13s/epoch - 93ms/step\n",
            "Epoch 20/100\n",
            "135/135 - 12s - loss: 0.3442 - accuracy: 0.8907 - val_loss: 0.2288 - val_accuracy: 0.9278 - 12s/epoch - 93ms/step\n",
            "Epoch 21/100\n",
            "135/135 - 13s - loss: 0.2215 - accuracy: 0.9287 - val_loss: 7.4576 - val_accuracy: 0.6444 - 13s/epoch - 94ms/step\n",
            "Epoch 22/100\n",
            "135/135 - 13s - loss: 0.2475 - accuracy: 0.9194 - val_loss: 6.3722 - val_accuracy: 0.5972 - 13s/epoch - 93ms/step\n",
            "Epoch 23/100\n",
            "135/135 - 13s - loss: 0.1938 - accuracy: 0.9380 - val_loss: 0.7245 - val_accuracy: 0.8917 - 13s/epoch - 93ms/step\n",
            "Epoch 24/100\n",
            "135/135 - 13s - loss: 0.2065 - accuracy: 0.9333 - val_loss: 4.3195 - val_accuracy: 0.6583 - 13s/epoch - 94ms/step\n",
            "Epoch 25/100\n",
            "135/135 - 13s - loss: 0.2301 - accuracy: 0.9241 - val_loss: 5.1511 - val_accuracy: 0.5889 - 13s/epoch - 96ms/step\n",
            "Epoch 26/100\n",
            "135/135 - 13s - loss: 0.2269 - accuracy: 0.9231 - val_loss: 0.5138 - val_accuracy: 0.8889 - 13s/epoch - 93ms/step\n",
            "Epoch 27/100\n",
            "135/135 - 13s - loss: 0.2097 - accuracy: 0.9204 - val_loss: 0.4888 - val_accuracy: 0.8667 - 13s/epoch - 93ms/step\n",
            "Epoch 28/100\n",
            "135/135 - 13s - loss: 0.1978 - accuracy: 0.9380 - val_loss: 0.8297 - val_accuracy: 0.8278 - 13s/epoch - 93ms/step\n",
            "Epoch 29/100\n",
            "135/135 - 13s - loss: 0.2483 - accuracy: 0.9185 - val_loss: 0.4933 - val_accuracy: 0.8944 - 13s/epoch - 93ms/step\n",
            "Epoch 30/100\n",
            "135/135 - 12s - loss: 0.2394 - accuracy: 0.9213 - val_loss: 1.0267 - val_accuracy: 0.7944 - 12s/epoch - 93ms/step\n",
            "Epoch 31/100\n",
            "135/135 - 12s - loss: 0.1690 - accuracy: 0.9444 - val_loss: 0.6792 - val_accuracy: 0.8194 - 12s/epoch - 92ms/step\n",
            "Epoch 32/100\n",
            "135/135 - 13s - loss: 0.2008 - accuracy: 0.9287 - val_loss: 1.3124 - val_accuracy: 0.7500 - 13s/epoch - 93ms/step\n",
            "Epoch 33/100\n",
            "135/135 - 13s - loss: 0.2310 - accuracy: 0.9213 - val_loss: 0.3540 - val_accuracy: 0.9056 - 13s/epoch - 93ms/step\n",
            "Epoch 34/100\n",
            "135/135 - 13s - loss: 0.1994 - accuracy: 0.9407 - val_loss: 0.7363 - val_accuracy: 0.7833 - 13s/epoch - 93ms/step\n",
            "Epoch 35/100\n",
            "135/135 - 13s - loss: 0.1885 - accuracy: 0.9407 - val_loss: 0.2345 - val_accuracy: 0.9389 - 13s/epoch - 93ms/step\n",
            "Epoch 36/100\n",
            "135/135 - 13s - loss: 0.1664 - accuracy: 0.9500 - val_loss: 0.2659 - val_accuracy: 0.9278 - 13s/epoch - 93ms/step\n",
            "Epoch 37/100\n",
            "135/135 - 13s - loss: 0.1681 - accuracy: 0.9463 - val_loss: 0.3766 - val_accuracy: 0.8917 - 13s/epoch - 93ms/step\n",
            "Epoch 38/100\n",
            "135/135 - 12s - loss: 0.1445 - accuracy: 0.9509 - val_loss: 0.2917 - val_accuracy: 0.9417 - 12s/epoch - 93ms/step\n",
            "Epoch 39/100\n",
            "135/135 - 13s - loss: 0.1490 - accuracy: 0.9472 - val_loss: 1.1809 - val_accuracy: 0.7556 - 13s/epoch - 93ms/step\n",
            "Epoch 40/100\n",
            "135/135 - 13s - loss: 0.1345 - accuracy: 0.9593 - val_loss: 0.3074 - val_accuracy: 0.9333 - 13s/epoch - 93ms/step\n",
            "Epoch 41/100\n",
            "135/135 - 13s - loss: 0.1651 - accuracy: 0.9500 - val_loss: 3.8695 - val_accuracy: 0.5944 - 13s/epoch - 93ms/step\n",
            "Epoch 42/100\n",
            "135/135 - 13s - loss: 0.2830 - accuracy: 0.9111 - val_loss: 0.2525 - val_accuracy: 0.9056 - 13s/epoch - 93ms/step\n",
            "Epoch 43/100\n",
            "135/135 - 13s - loss: 0.0673 - accuracy: 0.9806 - val_loss: 0.4416 - val_accuracy: 0.8722 - 13s/epoch - 93ms/step\n",
            "Epoch 44/100\n",
            "135/135 - 13s - loss: 0.1436 - accuracy: 0.9463 - val_loss: 0.4199 - val_accuracy: 0.9028 - 13s/epoch - 93ms/step\n",
            "Epoch 45/100\n",
            "135/135 - 12s - loss: 0.1605 - accuracy: 0.9509 - val_loss: 4.1154 - val_accuracy: 0.5806 - 12s/epoch - 92ms/step\n",
            "Epoch 46/100\n",
            "135/135 - 13s - loss: 0.0961 - accuracy: 0.9713 - val_loss: 0.2141 - val_accuracy: 0.9444 - 13s/epoch - 93ms/step\n",
            "Epoch 47/100\n",
            "135/135 - 13s - loss: 0.0748 - accuracy: 0.9731 - val_loss: 0.2615 - val_accuracy: 0.9139 - 13s/epoch - 93ms/step\n",
            "Epoch 48/100\n",
            "135/135 - 13s - loss: 0.1078 - accuracy: 0.9657 - val_loss: 0.0854 - val_accuracy: 0.9694 - 13s/epoch - 97ms/step\n",
            "Epoch 49/100\n",
            "135/135 - 13s - loss: 0.1124 - accuracy: 0.9611 - val_loss: 0.2230 - val_accuracy: 0.9361 - 13s/epoch - 93ms/step\n",
            "Epoch 50/100\n",
            "135/135 - 12s - loss: 0.0896 - accuracy: 0.9611 - val_loss: 0.3664 - val_accuracy: 0.9056 - 12s/epoch - 92ms/step\n",
            "Epoch 51/100\n",
            "135/135 - 13s - loss: 0.1083 - accuracy: 0.9639 - val_loss: 0.3196 - val_accuracy: 0.8917 - 13s/epoch - 93ms/step\n",
            "Epoch 52/100\n",
            "135/135 - 13s - loss: 0.1551 - accuracy: 0.9444 - val_loss: 0.3250 - val_accuracy: 0.9306 - 13s/epoch - 93ms/step\n",
            "Epoch 53/100\n",
            "135/135 - 13s - loss: 0.1492 - accuracy: 0.9546 - val_loss: 0.1214 - val_accuracy: 0.9694 - 13s/epoch - 93ms/step\n",
            "Epoch 54/100\n",
            "135/135 - 13s - loss: 0.1488 - accuracy: 0.9537 - val_loss: 0.2523 - val_accuracy: 0.9167 - 13s/epoch - 93ms/step\n",
            "Epoch 55/100\n",
            "135/135 - 13s - loss: 0.1903 - accuracy: 0.9417 - val_loss: 1.0068 - val_accuracy: 0.8667 - 13s/epoch - 93ms/step\n",
            "Epoch 56/100\n",
            "135/135 - 13s - loss: 0.2001 - accuracy: 0.9380 - val_loss: 0.3996 - val_accuracy: 0.9250 - 13s/epoch - 93ms/step\n",
            "Epoch 57/100\n",
            "135/135 - 13s - loss: 0.1027 - accuracy: 0.9676 - val_loss: 0.2285 - val_accuracy: 0.9500 - 13s/epoch - 93ms/step\n",
            "Epoch 58/100\n",
            "135/135 - 13s - loss: 0.0531 - accuracy: 0.9861 - val_loss: 0.1422 - val_accuracy: 0.9528 - 13s/epoch - 93ms/step\n",
            "Epoch 59/100\n",
            "135/135 - 12s - loss: 0.0725 - accuracy: 0.9806 - val_loss: 0.1115 - val_accuracy: 0.9694 - 12s/epoch - 93ms/step\n",
            "Epoch 60/100\n",
            "135/135 - 13s - loss: 0.0718 - accuracy: 0.9750 - val_loss: 0.3234 - val_accuracy: 0.9194 - 13s/epoch - 93ms/step\n",
            "Epoch 61/100\n",
            "135/135 - 12s - loss: 0.0772 - accuracy: 0.9694 - val_loss: 3.7822 - val_accuracy: 0.7972 - 12s/epoch - 93ms/step\n",
            "Epoch 62/100\n",
            "135/135 - 13s - loss: 0.1151 - accuracy: 0.9602 - val_loss: 1.8662 - val_accuracy: 0.7861 - 13s/epoch - 93ms/step\n",
            "Epoch 63/100\n",
            "135/135 - 12s - loss: 0.1147 - accuracy: 0.9648 - val_loss: 0.3361 - val_accuracy: 0.8861 - 12s/epoch - 93ms/step\n",
            "Epoch 64/100\n",
            "135/135 - 13s - loss: 0.0466 - accuracy: 0.9852 - val_loss: 0.1497 - val_accuracy: 0.9500 - 13s/epoch - 93ms/step\n",
            "Epoch 65/100\n",
            "135/135 - 13s - loss: 0.1131 - accuracy: 0.9611 - val_loss: 0.2977 - val_accuracy: 0.9250 - 13s/epoch - 93ms/step\n",
            "Epoch 66/100\n",
            "135/135 - 13s - loss: 0.0890 - accuracy: 0.9713 - val_loss: 0.5199 - val_accuracy: 0.9556 - 13s/epoch - 93ms/step\n",
            "Epoch 67/100\n",
            "135/135 - 13s - loss: 0.1331 - accuracy: 0.9630 - val_loss: 0.4557 - val_accuracy: 0.8833 - 13s/epoch - 93ms/step\n",
            "Epoch 68/100\n",
            "135/135 - 13s - loss: 0.0839 - accuracy: 0.9750 - val_loss: 0.7749 - val_accuracy: 0.9250 - 13s/epoch - 93ms/step\n",
            "Epoch 69/100\n",
            "135/135 - 13s - loss: 0.1065 - accuracy: 0.9648 - val_loss: 0.5049 - val_accuracy: 0.9167 - 13s/epoch - 93ms/step\n",
            "Epoch 70/100\n",
            "135/135 - 13s - loss: 0.0647 - accuracy: 0.9833 - val_loss: 0.0920 - val_accuracy: 0.9639 - 13s/epoch - 93ms/step\n",
            "Epoch 71/100\n",
            "135/135 - 13s - loss: 0.0589 - accuracy: 0.9815 - val_loss: 0.3194 - val_accuracy: 0.9389 - 13s/epoch - 93ms/step\n",
            "Epoch 72/100\n",
            "135/135 - 13s - loss: 0.0596 - accuracy: 0.9815 - val_loss: 0.6767 - val_accuracy: 0.9083 - 13s/epoch - 95ms/step\n",
            "Epoch 73/100\n",
            "135/135 - 13s - loss: 0.0315 - accuracy: 0.9907 - val_loss: 0.1902 - val_accuracy: 0.9528 - 13s/epoch - 93ms/step\n",
            "Epoch 74/100\n",
            "135/135 - 13s - loss: 0.0533 - accuracy: 0.9824 - val_loss: 0.2460 - val_accuracy: 0.9583 - 13s/epoch - 93ms/step\n",
            "Epoch 75/100\n",
            "135/135 - 13s - loss: 0.0858 - accuracy: 0.9731 - val_loss: 0.1327 - val_accuracy: 0.9583 - 13s/epoch - 93ms/step\n",
            "Epoch 76/100\n",
            "135/135 - 13s - loss: 0.0840 - accuracy: 0.9731 - val_loss: 0.8043 - val_accuracy: 0.8639 - 13s/epoch - 94ms/step\n",
            "Epoch 77/100\n",
            "135/135 - 13s - loss: 0.0732 - accuracy: 0.9750 - val_loss: 0.1294 - val_accuracy: 0.9583 - 13s/epoch - 93ms/step\n",
            "Epoch 78/100\n",
            "135/135 - 13s - loss: 0.1093 - accuracy: 0.9704 - val_loss: 0.1806 - val_accuracy: 0.9444 - 13s/epoch - 93ms/step\n",
            "Epoch 79/100\n",
            "135/135 - 13s - loss: 0.1272 - accuracy: 0.9574 - val_loss: 0.3726 - val_accuracy: 0.9278 - 13s/epoch - 94ms/step\n",
            "Epoch 80/100\n",
            "135/135 - 13s - loss: 0.0740 - accuracy: 0.9787 - val_loss: 0.2282 - val_accuracy: 0.9444 - 13s/epoch - 96ms/step\n",
            "Epoch 81/100\n",
            "135/135 - 13s - loss: 0.0293 - accuracy: 0.9889 - val_loss: 0.0536 - val_accuracy: 0.9861 - 13s/epoch - 93ms/step\n",
            "Epoch 82/100\n",
            "135/135 - 13s - loss: 0.0372 - accuracy: 0.9880 - val_loss: 0.0467 - val_accuracy: 0.9833 - 13s/epoch - 94ms/step\n",
            "Epoch 83/100\n",
            "135/135 - 13s - loss: 0.0585 - accuracy: 0.9769 - val_loss: 0.4282 - val_accuracy: 0.9056 - 13s/epoch - 93ms/step\n",
            "Epoch 84/100\n",
            "135/135 - 13s - loss: 0.1036 - accuracy: 0.9694 - val_loss: 1.0089 - val_accuracy: 0.8833 - 13s/epoch - 94ms/step\n",
            "Epoch 85/100\n",
            "135/135 - 13s - loss: 0.0906 - accuracy: 0.9731 - val_loss: 0.3071 - val_accuracy: 0.9361 - 13s/epoch - 93ms/step\n",
            "Epoch 86/100\n",
            "135/135 - 12s - loss: 0.0553 - accuracy: 0.9778 - val_loss: 0.2663 - val_accuracy: 0.9000 - 12s/epoch - 93ms/step\n",
            "Epoch 87/100\n",
            "135/135 - 13s - loss: 0.0334 - accuracy: 0.9870 - val_loss: 0.1864 - val_accuracy: 0.9444 - 13s/epoch - 93ms/step\n",
            "Epoch 88/100\n",
            "135/135 - 13s - loss: 0.0622 - accuracy: 0.9815 - val_loss: 0.0926 - val_accuracy: 0.9750 - 13s/epoch - 93ms/step\n",
            "Epoch 89/100\n",
            "135/135 - 12s - loss: 0.0372 - accuracy: 0.9889 - val_loss: 0.1512 - val_accuracy: 0.9528 - 12s/epoch - 93ms/step\n",
            "Epoch 90/100\n",
            "135/135 - 12s - loss: 0.1115 - accuracy: 0.9713 - val_loss: 0.1919 - val_accuracy: 0.9639 - 12s/epoch - 92ms/step\n",
            "Epoch 91/100\n",
            "135/135 - 12s - loss: 0.0967 - accuracy: 0.9713 - val_loss: 0.3868 - val_accuracy: 0.9250 - 12s/epoch - 92ms/step\n",
            "Epoch 92/100\n",
            "135/135 - 13s - loss: 0.0472 - accuracy: 0.9796 - val_loss: 0.1909 - val_accuracy: 0.9472 - 13s/epoch - 93ms/step\n",
            "Epoch 93/100\n",
            "135/135 - 13s - loss: 0.0450 - accuracy: 0.9824 - val_loss: 0.4058 - val_accuracy: 0.9167 - 13s/epoch - 93ms/step\n",
            "Epoch 94/100\n",
            "135/135 - 14s - loss: 0.0737 - accuracy: 0.9704 - val_loss: 0.1979 - val_accuracy: 0.9583 - 14s/epoch - 101ms/step\n",
            "Epoch 95/100\n",
            "135/135 - 13s - loss: 0.0718 - accuracy: 0.9796 - val_loss: 0.0796 - val_accuracy: 0.9667 - 13s/epoch - 100ms/step\n",
            "Epoch 96/100\n",
            "135/135 - 13s - loss: 0.0324 - accuracy: 0.9907 - val_loss: 0.1617 - val_accuracy: 0.9417 - 13s/epoch - 93ms/step\n",
            "Epoch 97/100\n",
            "135/135 - 12s - loss: 0.0436 - accuracy: 0.9870 - val_loss: 0.2593 - val_accuracy: 0.9278 - 12s/epoch - 92ms/step\n",
            "Epoch 98/100\n",
            "135/135 - 13s - loss: 0.0371 - accuracy: 0.9870 - val_loss: 0.1523 - val_accuracy: 0.9500 - 13s/epoch - 93ms/step\n",
            "Epoch 99/100\n",
            "135/135 - 13s - loss: 0.0335 - accuracy: 0.9926 - val_loss: 0.2229 - val_accuracy: 0.9417 - 13s/epoch - 96ms/step\n",
            "Epoch 100/100\n",
            "135/135 - 13s - loss: 0.0399 - accuracy: 0.9870 - val_loss: 0.5486 - val_accuracy: 0.9167 - 13s/epoch - 93ms/step\n"
          ]
        }
      ],
      "source": [
        "from tensorflow.keras.applications import EfficientNetB0\n",
        "\n",
        "with strategy.scope():\n",
        "    inputs = layers.Input(shape=(IMG_SIZE, IMG_SIZE, 3))\n",
        "    x = img_augmentation(inputs)\n",
        "    outputs = EfficientNetB0(include_top=True, weights=None, classes=NUM_CLASSES)(x)\n",
        "\n",
        "    model = tf.keras.Model(inputs, outputs)\n",
        "    model.compile(\n",
        "        optimizer=\"adam\", loss=\"categorical_crossentropy\", metrics=[\"accuracy\"]\n",
        "    )\n",
        "\n",
        "model.summary()\n",
        "\n",
        "epochs = 100  # @param {type: \"slider\", min:10, max:100}\n",
        "hist = model.fit(ds_train, epochs=epochs, validation_data=ds_test, verbose=2)"
      ]
    },
    {
      "cell_type": "code",
      "execution_count": null,
      "metadata": {
        "colab": {
          "base_uri": "https://localhost:8080/",
          "height": 295
        },
        "id": "u4mPhmmq7XQ2",
        "outputId": "e1356433-da38-4846-a840-2f45b8ac4921"
      },
      "outputs": [
        {
          "data": {
            "image/png": "[encoded data removed]",
            "text/plain": [
              "<Figure size 432x288 with 1 Axes>"
            ]
          },
          "metadata": {
            "needs_background": "light"
          },
          "output_type": "display_data"
        }
      ],
      "source": [
        "import matplotlib.pyplot as plt\n",
        "\n",
        "\n",
        "def plot_hist(hist):\n",
        "    plt.plot(hist.history[\"accuracy\"])\n",
        "    plt.plot(hist.history[\"val_accuracy\"])\n",
        "    plt.title(\"model accuracy\")\n",
        "    plt.ylabel(\"accuracy\")\n",
        "    plt.xlabel(\"epoch\")\n",
        "    plt.legend([\"train\", \"validation\"], loc=\"upper left\")\n",
        "    plt.show()\n",
        "\n",
        "\n",
        "plot_hist(hist)"
      ]
    },
    {
      "cell_type": "code",
      "execution_count": null,
      "metadata": {
        "id": "e_GRQrzy7XSx"
      },
      "outputs": [],
      "source": [
        "def build_model(num_classes):\n",
        "    inputs = layers.Input(shape=(IMG_SIZE, IMG_SIZE, 3))\n",
        "    x = img_augmentation(inputs)\n",
        "    model = EfficientNetB0(include_top=False, input_tensor=x, weights=\"imagenet\")\n",
        "\n",
        "    # Freeze the pretrained weights\n",
        "    model.trainable = False\n",
        "\n",
        "    # Rebuild top\n",
        "    x = layers.GlobalAveragePooling2D(name=\"avg_pool\")(model.output)\n",
        "    x = layers.BatchNormalization()(x)\n",
        "\n",
        "    top_dropout_rate = 0.2\n",
        "    x = layers.Dropout(top_dropout_rate, name=\"top_dropout\")(x)\n",
        "    outputs = layers.Dense(NUM_CLASSES, activation=\"softmax\", name=\"pred\")(x)\n",
        "\n",
        "    # Compile\n",
        "    model = tf.keras.Model(inputs, outputs, name=\"EfficientNet\")\n",
        "    optimizer = tf.keras.optimizers.Adam(learning_rate=1e-2)\n",
        "    model.compile(\n",
        "        optimizer=optimizer, loss=\"categorical_crossentropy\", metrics=[\"accuracy\"]\n",
        "    )\n",
        "    return model"
      ]
    },
    {
      "cell_type": "code",
      "execution_count": null,
      "metadata": {
        "colab": {
          "base_uri": "https://localhost:8080/",
          "height": 1000
        },
        "id": "oHNly0LAIU8d",
        "outputId": "4ff0e6e0-04ee-40ca-a61e-78d44b85c90e"
      },
      "outputs": [
        {
          "name": "stdout",
          "output_type": "stream",
          "text": [
            "Downloading data from https://storage.googleapis.com/keras-applications/efficientnetb0_notop.h5\n",
            "16711680/16705208 [==============================] - 0s 0us/step\n",
            "16719872/16705208 [==============================] - 0s 0us/step\n",
            "Epoch 1/60\n",
            "135/135 - 15s - loss: 0.4871 - accuracy: 0.8926 - val_loss: 0.1249 - val_accuracy: 0.9556 - 15s/epoch - 109ms/step\n",
            "Epoch 2/60\n",
            "135/135 - 4s - loss: 0.3906 - accuracy: 0.9370 - val_loss: 0.0586 - val_accuracy: 0.9750 - 4s/epoch - 29ms/step\n",
            "Epoch 3/60\n",
            "135/135 - 4s - loss: 0.2828 - accuracy: 0.9648 - val_loss: 0.0531 - val_accuracy: 0.9861 - 4s/epoch - 29ms/step\n",
            "Epoch 4/60\n",
            "135/135 - 4s - loss: 0.2956 - accuracy: 0.9593 - val_loss: 0.0430 - val_accuracy: 0.9861 - 4s/epoch - 29ms/step\n",
            "Epoch 5/60\n",
            "135/135 - 4s - loss: 0.2288 - accuracy: 0.9676 - val_loss: 0.0303 - val_accuracy: 0.9917 - 4s/epoch - 29ms/step\n",
            "Epoch 6/60\n",
            "135/135 - 4s - loss: 0.2951 - accuracy: 0.9667 - val_loss: 0.4026 - val_accuracy: 0.9611 - 4s/epoch - 29ms/step\n",
            "Epoch 7/60\n",
            "135/135 - 4s - loss: 0.3675 - accuracy: 0.9556 - val_loss: 0.0900 - val_accuracy: 0.9861 - 4s/epoch - 29ms/step\n",
            "Epoch 8/60\n",
            "135/135 - 4s - loss: 0.3133 - accuracy: 0.9731 - val_loss: 3.4150e-06 - val_accuracy: 1.0000 - 4s/epoch - 30ms/step\n",
            "Epoch 9/60\n",
            "135/135 - 4s - loss: 0.2286 - accuracy: 0.9769 - val_loss: 0.2875 - val_accuracy: 0.9806 - 4s/epoch - 29ms/step\n",
            "Epoch 10/60\n",
            "135/135 - 4s - loss: 0.4826 - accuracy: 0.9556 - val_loss: 0.0663 - val_accuracy: 0.9889 - 4s/epoch - 29ms/step\n",
            "Epoch 11/60\n",
            "135/135 - 4s - loss: 0.3055 - accuracy: 0.9750 - val_loss: 0.0194 - val_accuracy: 0.9917 - 4s/epoch - 29ms/step\n",
            "Epoch 12/60\n",
            "135/135 - 4s - loss: 0.2269 - accuracy: 0.9769 - val_loss: 0.0210 - val_accuracy: 0.9972 - 4s/epoch - 29ms/step\n",
            "Epoch 13/60\n",
            "135/135 - 4s - loss: 0.1962 - accuracy: 0.9833 - val_loss: 0.0987 - val_accuracy: 0.9889 - 4s/epoch - 29ms/step\n",
            "Epoch 14/60\n",
            "135/135 - 4s - loss: 0.2381 - accuracy: 0.9824 - val_loss: 0.1551 - val_accuracy: 0.9917 - 4s/epoch - 29ms/step\n",
            "Epoch 15/60\n",
            "135/135 - 4s - loss: 0.3196 - accuracy: 0.9750 - val_loss: 0.1559 - val_accuracy: 0.9917 - 4s/epoch - 29ms/step\n",
            "Epoch 16/60\n",
            "135/135 - 4s - loss: 0.3109 - accuracy: 0.9741 - val_loss: 0.1026 - val_accuracy: 0.9917 - 4s/epoch - 29ms/step\n",
            "Epoch 17/60\n",
            "135/135 - 4s - loss: 0.3552 - accuracy: 0.9685 - val_loss: 0.0592 - val_accuracy: 0.9917 - 4s/epoch - 29ms/step\n",
            "Epoch 18/60\n",
            "135/135 - 4s - loss: 0.2103 - accuracy: 0.9787 - val_loss: 0.0646 - val_accuracy: 0.9944 - 4s/epoch - 29ms/step\n",
            "Epoch 19/60\n",
            "135/135 - 4s - loss: 0.3523 - accuracy: 0.9731 - val_loss: 0.3265 - val_accuracy: 0.9861 - 4s/epoch - 29ms/step\n",
            "Epoch 20/60\n",
            "135/135 - 4s - loss: 0.1757 - accuracy: 0.9852 - val_loss: 0.0049 - val_accuracy: 0.9972 - 4s/epoch - 29ms/step\n",
            "Epoch 21/60\n",
            "135/135 - 4s - loss: 0.2210 - accuracy: 0.9769 - val_loss: 0.0656 - val_accuracy: 0.9944 - 4s/epoch - 29ms/step\n",
            "Epoch 22/60\n",
            "135/135 - 4s - loss: 0.2140 - accuracy: 0.9806 - val_loss: 0.1666 - val_accuracy: 0.9917 - 4s/epoch - 29ms/step\n",
            "Epoch 23/60\n",
            "135/135 - 4s - loss: 0.3153 - accuracy: 0.9769 - val_loss: 0.0035 - val_accuracy: 0.9972 - 4s/epoch - 29ms/step\n",
            "Epoch 24/60\n",
            "135/135 - 4s - loss: 0.2393 - accuracy: 0.9824 - val_loss: 0.0868 - val_accuracy: 0.9917 - 4s/epoch - 29ms/step\n",
            "Epoch 25/60\n",
            "135/135 - 4s - loss: 0.3568 - accuracy: 0.9741 - val_loss: 0.1994 - val_accuracy: 0.9806 - 4s/epoch - 29ms/step\n",
            "Epoch 26/60\n",
            "135/135 - 4s - loss: 0.4338 - accuracy: 0.9769 - val_loss: 0.2338 - val_accuracy: 0.9917 - 4s/epoch - 29ms/step\n",
            "Epoch 27/60\n",
            "135/135 - 4s - loss: 0.2488 - accuracy: 0.9806 - val_loss: 0.0676 - val_accuracy: 0.9944 - 4s/epoch - 29ms/step\n",
            "Epoch 28/60\n",
            "135/135 - 4s - loss: 0.3450 - accuracy: 0.9833 - val_loss: 0.0515 - val_accuracy: 0.9917 - 4s/epoch - 29ms/step\n",
            "Epoch 29/60\n",
            "135/135 - 4s - loss: 0.3792 - accuracy: 0.9769 - val_loss: 0.3951 - val_accuracy: 0.9806 - 4s/epoch - 29ms/step\n",
            "Epoch 30/60\n",
            "135/135 - 4s - loss: 0.5759 - accuracy: 0.9750 - val_loss: 0.2191 - val_accuracy: 0.9889 - 4s/epoch - 29ms/step\n",
            "Epoch 31/60\n",
            "135/135 - 4s - loss: 0.3332 - accuracy: 0.9769 - val_loss: 0.4775 - val_accuracy: 0.9833 - 4s/epoch - 29ms/step\n",
            "Epoch 32/60\n",
            "135/135 - 4s - loss: 0.2334 - accuracy: 0.9852 - val_loss: 0.0745 - val_accuracy: 0.9944 - 4s/epoch - 28ms/step\n",
            "Epoch 33/60\n",
            "135/135 - 4s - loss: 0.2740 - accuracy: 0.9852 - val_loss: 0.0384 - val_accuracy: 0.9944 - 4s/epoch - 29ms/step\n",
            "Epoch 34/60\n",
            "135/135 - 4s - loss: 0.2057 - accuracy: 0.9889 - val_loss: 0.0628 - val_accuracy: 0.9944 - 4s/epoch - 29ms/step\n",
            "Epoch 35/60\n",
            "135/135 - 4s - loss: 0.1944 - accuracy: 0.9852 - val_loss: 0.1639 - val_accuracy: 0.9861 - 4s/epoch - 29ms/step\n",
            "Epoch 36/60\n",
            "135/135 - 4s - loss: 0.3946 - accuracy: 0.9806 - val_loss: 0.1420 - val_accuracy: 0.9944 - 4s/epoch - 29ms/step\n",
            "Epoch 37/60\n",
            "135/135 - 4s - loss: 0.2552 - accuracy: 0.9852 - val_loss: 0.3659 - val_accuracy: 0.9861 - 4s/epoch - 28ms/step\n",
            "Epoch 38/60\n",
            "135/135 - 4s - loss: 0.3258 - accuracy: 0.9815 - val_loss: 0.2033 - val_accuracy: 0.9944 - 4s/epoch - 29ms/step\n",
            "Epoch 39/60\n",
            "135/135 - 4s - loss: 0.1854 - accuracy: 0.9861 - val_loss: 0.2706 - val_accuracy: 0.9861 - 4s/epoch - 29ms/step\n",
            "Epoch 40/60\n",
            "135/135 - 4s - loss: 0.2880 - accuracy: 0.9861 - val_loss: 0.5569 - val_accuracy: 0.9917 - 4s/epoch - 29ms/step\n",
            "Epoch 41/60\n",
            "135/135 - 4s - loss: 0.1820 - accuracy: 0.9889 - val_loss: 0.4787 - val_accuracy: 0.9861 - 4s/epoch - 28ms/step\n",
            "Epoch 42/60\n",
            "135/135 - 4s - loss: 0.2184 - accuracy: 0.9843 - val_loss: 0.3445 - val_accuracy: 0.9833 - 4s/epoch - 29ms/step\n",
            "Epoch 43/60\n",
            "135/135 - 4s - loss: 0.2263 - accuracy: 0.9898 - val_loss: 0.4922 - val_accuracy: 0.9861 - 4s/epoch - 29ms/step\n",
            "Epoch 44/60\n",
            "135/135 - 4s - loss: 0.4535 - accuracy: 0.9769 - val_loss: 0.5935 - val_accuracy: 0.9833 - 4s/epoch - 29ms/step\n",
            "Epoch 45/60\n",
            "135/135 - 4s - loss: 0.1823 - accuracy: 0.9870 - val_loss: 0.5948 - val_accuracy: 0.9833 - 4s/epoch - 29ms/step\n",
            "Epoch 46/60\n",
            "135/135 - 4s - loss: 0.3331 - accuracy: 0.9833 - val_loss: 0.6919 - val_accuracy: 0.9861 - 4s/epoch - 30ms/step\n",
            "Epoch 47/60\n",
            "135/135 - 4s - loss: 0.3816 - accuracy: 0.9833 - val_loss: 0.1540 - val_accuracy: 0.9917 - 4s/epoch - 33ms/step\n",
            "Epoch 48/60\n",
            "135/135 - 4s - loss: 0.4581 - accuracy: 0.9769 - val_loss: 0.4025 - val_accuracy: 0.9861 - 4s/epoch - 29ms/step\n",
            "Epoch 49/60\n",
            "135/135 - 4s - loss: 0.3899 - accuracy: 0.9824 - val_loss: 0.4653 - val_accuracy: 0.9861 - 4s/epoch - 29ms/step\n",
            "Epoch 50/60\n",
            "135/135 - 4s - loss: 0.3142 - accuracy: 0.9870 - val_loss: 0.6938 - val_accuracy: 0.9861 - 4s/epoch - 29ms/step\n",
            "Epoch 51/60\n",
            "135/135 - 4s - loss: 0.2755 - accuracy: 0.9843 - val_loss: 0.1997 - val_accuracy: 0.9944 - 4s/epoch - 29ms/step\n",
            "Epoch 52/60\n",
            "135/135 - 4s - loss: 0.3810 - accuracy: 0.9880 - val_loss: 0.3023 - val_accuracy: 0.9889 - 4s/epoch - 29ms/step\n",
            "Epoch 53/60\n",
            "135/135 - 4s - loss: 0.2597 - accuracy: 0.9824 - val_loss: 0.3869 - val_accuracy: 0.9889 - 4s/epoch - 29ms/step\n",
            "Epoch 54/60\n",
            "135/135 - 4s - loss: 0.1324 - accuracy: 0.9870 - val_loss: 0.2743 - val_accuracy: 0.9861 - 4s/epoch - 29ms/step\n",
            "Epoch 55/60\n",
            "135/135 - 4s - loss: 0.4372 - accuracy: 0.9778 - val_loss: 0.4527 - val_accuracy: 0.9917 - 4s/epoch - 29ms/step\n",
            "Epoch 56/60\n",
            "135/135 - 4s - loss: 0.2438 - accuracy: 0.9880 - val_loss: 0.2557 - val_accuracy: 0.9889 - 4s/epoch - 29ms/step\n",
            "Epoch 57/60\n",
            "135/135 - 4s - loss: 0.3956 - accuracy: 0.9852 - val_loss: 0.4717 - val_accuracy: 0.9861 - 4s/epoch - 28ms/step\n",
            "Epoch 58/60\n",
            "135/135 - 4s - loss: 0.2454 - accuracy: 0.9898 - val_loss: 0.3489 - val_accuracy: 0.9917 - 4s/epoch - 29ms/step\n",
            "Epoch 59/60\n",
            "135/135 - 4s - loss: 0.3912 - accuracy: 0.9843 - val_loss: 0.3281 - val_accuracy: 0.9889 - 4s/epoch - 29ms/step\n",
            "Epoch 60/60\n",
            "135/135 - 4s - loss: 0.5014 - accuracy: 0.9806 - val_loss: 0.3387 - val_accuracy: 0.9861 - 4s/epoch - 29ms/step\n"
          ]
        },
        {
          "data": {
            "image/png": "[encoded data removed]",
            "text/plain": [
              "<Figure size 432x288 with 1 Axes>"
            ]
          },
          "metadata": {
            "needs_background": "light"
          },
          "output_type": "display_data"
        }
      ],
      "source": [
        "with strategy.scope():\n",
        "    model = build_model(num_classes=NUM_CLASSES)\n",
        "\n",
        "epochs = 60  # @param {type: \"slider\", min:8, max:80}\n",
        "hist = model.fit(ds_train, epochs=epochs, validation_data=ds_test, verbose=2)\n",
        "plot_hist(hist)"
      ]
    },
    {
      "cell_type": "code",
      "execution_count": null,
      "metadata": {
        "colab": {
          "base_uri": "https://localhost:8080/",
          "height": 651
        },
        "id": "fg_qIjn6IU6f",
        "outputId": "1a926a6e-1098-4f23-e4ce-2fdb987024cf"
      },
      "outputs": [
        {
          "name": "stdout",
          "output_type": "stream",
          "text": [
            "Epoch 1/10\n",
            "135/135 - 14s - loss: 0.3660 - accuracy: 0.9843 - val_loss: 0.8666 - val_accuracy: 0.9750 - 14s/epoch - 107ms/step\n",
            "Epoch 2/10\n",
            "135/135 - 4s - loss: 0.5389 - accuracy: 0.9824 - val_loss: 0.9155 - val_accuracy: 0.9722 - 4s/epoch - 31ms/step\n",
            "Epoch 3/10\n",
            "135/135 - 4s - loss: 0.4489 - accuracy: 0.9806 - val_loss: 0.5687 - val_accuracy: 0.9889 - 4s/epoch - 30ms/step\n",
            "Epoch 4/10\n",
            "135/135 - 4s - loss: 0.2712 - accuracy: 0.9861 - val_loss: 0.5080 - val_accuracy: 0.9861 - 4s/epoch - 31ms/step\n",
            "Epoch 5/10\n",
            "135/135 - 4s - loss: 0.3731 - accuracy: 0.9861 - val_loss: 0.5404 - val_accuracy: 0.9917 - 4s/epoch - 31ms/step\n",
            "Epoch 6/10\n",
            "135/135 - 4s - loss: 0.0941 - accuracy: 0.9935 - val_loss: 0.2106 - val_accuracy: 0.9917 - 4s/epoch - 31ms/step\n",
            "Epoch 7/10\n",
            "135/135 - 4s - loss: 0.1593 - accuracy: 0.9926 - val_loss: 0.4538 - val_accuracy: 0.9917 - 4s/epoch - 31ms/step\n",
            "Epoch 8/10\n",
            "135/135 - 4s - loss: 0.3020 - accuracy: 0.9861 - val_loss: 0.2452 - val_accuracy: 0.9944 - 4s/epoch - 31ms/step\n",
            "Epoch 9/10\n",
            "135/135 - 4s - loss: 0.2167 - accuracy: 0.9898 - val_loss: 0.0364 - val_accuracy: 0.9972 - 4s/epoch - 31ms/step\n",
            "Epoch 10/10\n",
            "135/135 - 4s - loss: 0.1566 - accuracy: 0.9898 - val_loss: 0.2716 - val_accuracy: 0.9944 - 4s/epoch - 31ms/step\n"
          ]
        },
        {
          "data": {
            "image/png": "[encoded data removed]",
            "text/plain": [
              "<Figure size 432x288 with 1 Axes>"
            ]
          },
          "metadata": {
            "needs_background": "light"
          },
          "output_type": "display_data"
        }
      ],
      "source": [
        "def unfreeze_model(model):\n",
        "    # We unfreeze the top 20 layers while leaving BatchNorm layers frozen\n",
        "    for layer in model.layers[-20:]:\n",
        "        if not isinstance(layer, layers.BatchNormalization):\n",
        "            layer.trainable = True\n",
        "\n",
        "    optimizer = tf.keras.optimizers.Adam(learning_rate=1e-4)\n",
        "    model.compile(\n",
        "        optimizer=optimizer, loss=\"categorical_crossentropy\", metrics=[\"accuracy\"]\n",
        "    )\n",
        "\n",
        "\n",
        "unfreeze_model(model)\n",
        "\n",
        "epochs = 10  # @param {type: \"slider\", min:8, max:50}\n",
        "hist = model.fit(ds_train, epochs=epochs, validation_data=ds_test, verbose=2)\n",
        "plot_hist(hist)"
      ]
    },
    {
      "cell_type": "code",
      "execution_count": null,
      "metadata": {
        "colab": {
          "base_uri": "https://localhost:8080/"
        },
        "id": "dlwIrZYHIU4M",
        "outputId": "3ba54927-f8d0-49c0-ce43-e1029a67d457"
      },
      "outputs": [
        {
          "name": "stdout",
          "output_type": "stream",
          "text": [
            "45/45 [==============================] - 1s 21ms/step - loss: 0.2716 - accuracy: 0.9944\n"
          ]
        },
        {
          "data": {
            "text/plain": [
              "[0.27162864804267883, 0.9944444298744202]"
            ]
          },
          "execution_count": 17,
          "metadata": {},
          "output_type": "execute_result"
        }
      ],
      "source": [
        "model.evaluate(ds_test)"
      ]
    },
    {
      "cell_type": "code",
      "execution_count": null,
      "metadata": {
        "colab": {
          "base_uri": "https://localhost:8080/"
        },
        "id": "EB7MPxHfEqfQ",
        "outputId": "1511eaa4-54e9-44d0-bca4-9636dffe350b"
      },
      "outputs": [
        {
          "name": "stdout",
          "output_type": "stream",
          "text": [
            "[[0. 1. 0. 0. 0. 0.]\n",
            " [0. 0. 0. 1. 0. 0.]\n",
            " [1. 0. 0. 0. 0. 0.]\n",
            " ...\n",
            " [0. 0. 0. 0. 1. 0.]\n",
            " [0. 0. 0. 0. 1. 0.]\n",
            " [0. 0. 0. 0. 1. 0.]] <class 'numpy.ndarray'> (360, 6)\n",
            "[1 3 0 0 2 0 2 0 5 4 2 2 1 5 0 4 5 2 3 2 2 0 4 0 0 5 2 4 2 2 2 0 2 5 0 2 1\n",
            " 3 3 4 3 3 3 4 1 3 5 3 5 1 4 3 5 5 0 0 0 1 0 2 1 1 2 4 0 4 1 5 1 2 2 5 2 1\n",
            " 1 3 0 5 2 2 5 2 0 4 1 1 2 3 2 1 5 1 2 4 5 5 2 0 4 2 3 0 3 1 1 1 1 4 4 1 5\n",
            " 1 4 4 2 4 5 2 0 4 1 2 3 1 3 4 2 1 5 0 3 0 0 0 2 1 0 0 3 0 1 3 0 5 2 0 4 0\n",
            " 0 5 5 5 3 1 5 0 4 3 0 2 1 5 3 2 4 1 1 5 5 4 5 1 4 2 5 2 0 3 1 2 0 5 3 0 0\n",
            " 0 2 4 3 1 0 3 4 1 0 2 3 0 3 2 3 3 1 2 0 3 1 5 2 1 1 3 0 0 5 1 2 2 1 5 3 0\n",
            " 4 1 3 2 3 4 3 4 3 0 0 1 0 2 4 1 4 4 4 3 5 0 4 2 3 2 2 2 4 2 4 4 1 1 4 3 4\n",
            " 3 3 0 4 2 2 4 3 4 4 1 1 1 4 4 0 3 5 3 2 3 2 5 2 4 4 4 3 2 1 1 5 1 3 1 4 2\n",
            " 4 3 1 0 4 5 0 3 2 2 5 1 2 5 0 2 5 2 0 2 4 4 0 1 3 1 3 4 0 4 2 1 4 2 2 0 5\n",
            " 3 2 1 0 5 1 0 1 3 4 1 5 4 5 0 5 1 5 5 5 0 4 1 0 4 4 4] (360,)\n",
            "[1 3 0 0 2 0 2 0 5 4 2 2 1 5 0 4 5 2 3 2 2 0 4 0 0 5 2 4 2 2 2 0 2 5 0 2 1\n",
            " 3 3 4 3 3 3 4 1 3 5 3 5 1 4 3 5 5 0 0 0 1 0 2 1 1 2 4 0 4 1 5 1 2 2 5 2 1\n",
            " 1 3 0 5 2 2 5 2 0 4 1 1 2 3 2 1 5 5 2 4 5 5 2 0 4 2 3 0 3 1 1 1 1 4 4 1 5\n",
            " 1 4 4 2 4 5 2 0 4 1 2 3 1 3 4 2 1 5 0 3 0 0 0 2 1 0 0 3 0 1 3 0 5 2 0 4 0\n",
            " 0 5 5 5 3 1 5 0 4 3 0 2 1 5 3 2 4 1 1 5 5 4 5 1 4 2 5 2 0 3 1 2 0 5 3 0 0\n",
            " 0 2 4 3 1 0 3 4 1 0 2 3 0 3 2 3 3 1 2 0 3 1 5 2 1 1 3 0 0 5 5 2 2 1 5 3 0\n",
            " 4 1 3 2 3 4 3 4 3 0 0 1 0 2 4 1 4 4 4 3 5 0 4 2 3 2 2 2 4 2 4 4 1 1 4 3 4\n",
            " 3 3 0 4 2 2 4 3 4 4 1 1 1 4 4 0 3 5 3 2 3 2 5 2 4 4 4 3 2 1 1 5 1 3 1 4 2\n",
            " 4 3 1 0 4 5 0 3 2 2 5 1 2 5 0 2 5 2 0 2 4 4 0 1 3 1 3 4 0 4 2 1 4 2 2 0 5\n",
            " 3 2 1 0 5 1 0 1 3 4 1 5 4 5 0 5 1 5 5 5 0 4 1 0 4 4 4] (360,)\n"
          ]
        }
      ],
      "source": [
        "#Test set 정확도\n",
        "y_pred_test=model.predict(x_test)\n",
        "print(y_pred_test, type(y_pred_test), y_pred_test.shape)\n",
        "y_pred=[]\n",
        "for ar in y_pred_test:\n",
        "  y_pred.append(np.argmax(ar))\n",
        "y_pred = np.array(y_pred)\n",
        "print(y_pred, y_pred.shape)\n",
        "print(y_test, y_test.shape)"
      ]
    },
    {
      "cell_type": "code",
      "execution_count": null,
      "metadata": {
        "colab": {
          "base_uri": "https://localhost:8080/"
        },
        "id": "RpZW7G96IUsi",
        "outputId": "306dc463-8d5f-417f-e6bd-891a740574ca"
      },
      "outputs": [
        {
          "name": "stdout",
          "output_type": "stream",
          "text": [
            "accuracy: 0.9944444444444445\n",
            "Precision: 0.9946180555555556\n",
            "Recall: 0.9944444444444445\n",
            "F1-Score: 0.9944329805996474\n"
          ]
        }
      ],
      "source": [
        "from sklearn.metrics import f1_score, accuracy_score, recall_score, precision_score\n",
        "print(\"accuracy:\",accuracy_score(y_test, y_pred))\n",
        "print(\"Precision:\",precision_score(y_test, y_pred, average='weighted'))\n",
        "print(\"Recall:\",recall_score(y_test, y_pred, average='weighted'))\n",
        "print(\"F1-Score:\",f1_score(y_test, y_pred, average='weighted'))"
      ]
    },
    {
      "cell_type": "code",
      "execution_count": null,
      "metadata": {
        "colab": {
          "base_uri": "https://localhost:8080/"
        },
        "id": "EXzxgRCOh8Kz",
        "outputId": "3e7bc1c6-02f7-4a1e-a2ec-6f096407c653"
      },
      "outputs": [
        {
          "name": "stdout",
          "output_type": "stream",
          "text": [
            "[[0. 1. 0. 0. 0. 0.]\n",
            " [1. 0. 0. 0. 0. 0.]\n",
            " [0. 0. 0. 1. 0. 0.]\n",
            " ...\n",
            " [0. 0. 0. 0. 0. 1.]\n",
            " [0. 0. 1. 0. 0. 0.]\n",
            " [0. 0. 0. 1. 0. 0.]] <class 'numpy.ndarray'> (1080, 6)\n",
            "[[0. 1. 0. 0. 0. 0.]\n",
            " [1. 0. 0. 0. 0. 0.]\n",
            " [0. 0. 0. 1. 0. 0.]\n",
            " ...\n",
            " [0. 0. 0. 0. 0. 1.]\n",
            " [0. 0. 1. 0. 0. 0.]\n",
            " [0. 0. 0. 1. 0. 0.]] (1080, 6)\n",
            "[1 0 3 ... 5 2 3] (1080,)\n"
          ]
        }
      ],
      "source": [
        "#Train set 정확도\n",
        "\n",
        "y_pred_train=model.predict(x_train)\n",
        "print(y_pred_train, type(y_pred_train), y_pred_train.shape)\n",
        "y_train_list=[]\n",
        "for ar in y_pred_train:\n",
        "  y_train_list.append(np.argmax(ar))\n",
        "y_train_list = np.array(y_train_list)\n",
        "print(y_pred_train, y_pred_train.shape)\n",
        "print(y_train_list, y_train_list.shape)"
      ]
    },
    {
      "cell_type": "code",
      "execution_count": null,
      "metadata": {
        "colab": {
          "base_uri": "https://localhost:8080/"
        },
        "id": "VUljgSBFiS0L",
        "outputId": "c6ca97e4-8f2e-4637-8857-39a50ab4e4d0"
      },
      "outputs": [
        {
          "name": "stdout",
          "output_type": "stream",
          "text": [
            "accuracy: 0.9990740740740741\n",
            "Precision: 0.9990792759051186\n",
            "Recall: 0.9990740740740741\n",
            "F1-Score: 0.9990741501766273\n"
          ]
        }
      ],
      "source": [
        "print(\"accuracy:\",accuracy_score(y_train, y_train_list))\n",
        "print(\"Precision:\",precision_score(y_train, y_train_list, average='weighted'))\n",
        "print(\"Recall:\",recall_score(y_train, y_train_list, average='weighted'))\n",
        "print(\"F1-Score:\",f1_score(y_train, y_train_list, average='weighted'))"
      ]
    },
    {
      "cell_type": "code",
      "execution_count": null,
      "metadata": {
        "colab": {
          "base_uri": "https://localhost:8080/"
        },
        "id": "xM9cj2PXvGHI",
        "outputId": "2ddac358-bed6-4001-c531-c1834cc30593"
      },
      "outputs": [
        {
          "name": "stdout",
          "output_type": "stream",
          "text": [
            "Ubuntu 18.04.5 LTS \\n \\l\n",
            "\n",
            "processor\t: 0\n",
            "vendor_id\t: GenuineIntel\n",
            "cpu family\t: 6\n",
            "model\t\t: 63\n",
            "model name\t: Intel(R) Xeon(R) CPU @ 2.30GHz\n",
            "stepping\t: 0\n",
            "microcode\t: 0x1\n",
            "cpu MHz\t\t: 2299.998\n",
            "cache size\t: 46080 KB\n",
            "physical id\t: 0\n",
            "siblings\t: 2\n",
            "core id\t\t: 0\n",
            "cpu cores\t: 1\n",
            "apicid\t\t: 0\n",
            "initial apicid\t: 0\n",
            "fpu\t\t: yes\n",
            "fpu_exception\t: yes\n",
            "cpuid level\t: 13\n",
            "wp\t\t: yes\n",
            "flags\t\t: fpu vme de pse tsc msr pae mce cx8 apic sep mtrr pge mca cmov pat pse36 clflush mmx fxsr sse sse2 ss ht syscall nx pdpe1gb rdtscp lm constant_tsc rep_good nopl xtopology nonstop_tsc cpuid tsc_known_freq pni pclmulqdq ssse3 fma cx16 pcid sse4_1 sse4_2 x2apic movbe popcnt aes xsave avx f16c rdrand hypervisor lahf_lm abm invpcid_single ssbd ibrs ibpb stibp fsgsbase tsc_adjust bmi1 avx2 smep bmi2 erms invpcid xsaveopt arat md_clear arch_capabilities\n",
            "bugs\t\t: cpu_meltdown spectre_v1 spectre_v2 spec_store_bypass l1tf mds swapgs\n",
            "bogomips\t: 4599.99\n",
            "clflush size\t: 64\n",
            "cache_alignment\t: 64\n",
            "address sizes\t: 46 bits physical, 48 bits virtual\n",
            "power management:\n",
            "\n",
            "processor\t: 1\n",
            "vendor_id\t: GenuineIntel\n",
            "cpu family\t: 6\n",
            "model\t\t: 63\n",
            "model name\t: Intel(R) Xeon(R) CPU @ 2.30GHz\n",
            "stepping\t: 0\n",
            "microcode\t: 0x1\n",
            "cpu MHz\t\t: 2299.998\n",
            "cache size\t: 46080 KB\n",
            "physical id\t: 0\n",
            "siblings\t: 2\n",
            "core id\t\t: 0\n",
            "cpu cores\t: 1\n",
            "apicid\t\t: 1\n",
            "initial apicid\t: 1\n",
            "fpu\t\t: yes\n",
            "fpu_exception\t: yes\n",
            "cpuid level\t: 13\n",
            "wp\t\t: yes\n",
            "flags\t\t: fpu vme de pse tsc msr pae mce cx8 apic sep mtrr pge mca cmov pat pse36 clflush mmx fxsr sse sse2 ss ht syscall nx pdpe1gb rdtscp lm constant_tsc rep_good nopl xtopology nonstop_tsc cpuid tsc_known_freq pni pclmulqdq ssse3 fma cx16 pcid sse4_1 sse4_2 x2apic movbe popcnt aes xsave avx f16c rdrand hypervisor lahf_lm abm invpcid_single ssbd ibrs ibpb stibp fsgsbase tsc_adjust bmi1 avx2 smep bmi2 erms invpcid xsaveopt arat md_clear arch_capabilities\n",
            "bugs\t\t: cpu_meltdown spectre_v1 spectre_v2 spec_store_bypass l1tf mds swapgs\n",
            "bogomips\t: 4599.99\n",
            "clflush size\t: 64\n",
            "cache_alignment\t: 64\n",
            "address sizes\t: 46 bits physical, 48 bits virtual\n",
            "power management:\n",
            "\n",
            "2\n",
            "1\n",
            "cpu cores\t: 1\n",
            "              total        used        free      shared  buff/cache   available\n",
            "Mem:            12G        4.7G        1.6G         79M        6.3G        9.5G\n",
            "Swap:            0B          0B          0B\n",
            "Tue Jun 14 10:47:50 2022       \n",
            "+-----------------------------------------------------------------------------+\n",
            "| NVIDIA-SMI 460.32.03    Driver Version: 460.32.03    CUDA Version: 11.2     |\n",
            "|-------------------------------+----------------------+----------------------+\n",
            "| GPU  Name        Persistence-M| Bus-Id        Disp.A | Volatile Uncorr. ECC |\n",
            "| Fan  Temp  Perf  Pwr:Usage/Cap|         Memory-Usage | GPU-Util  Compute M. |\n",
            "|                               |                      |               MIG M. |\n",
            "|===============================+======================+======================|\n",
            "|   0  Tesla T4            Off  | 00000000:00:04.0 Off |                    0 |\n",
            "| N/A   75C    P0    42W /  70W |   4948MiB / 15109MiB |      0%      Default |\n",
            "|                               |                      |                  N/A |\n",
            "+-------------------------------+----------------------+----------------------+\n",
            "                                                                               \n",
            "+-----------------------------------------------------------------------------+\n",
            "| Processes:                                                                  |\n",
            "|  GPU   GI   CI        PID   Type   Process name                  GPU Memory |\n",
            "|        ID   ID                                                   Usage      |\n",
            "|=============================================================================|\n",
            "+-----------------------------------------------------------------------------+\n"
          ]
        }
      ],
      "source": [
        "#운영체제 확인\n",
        "!cat /etc/issue\n",
        "\n",
        "#0. CPU 정보 확인\n",
        "!cat /proc/cpuinfo\n",
        "\n",
        "#1. CPU 코어 전체 개수 확인\n",
        "!grep -c processor /proc/cpuinfo\n",
        " \n",
        "#2. 물리 CPU 수 확인\n",
        "!grep \"physical id\" /proc/cpuinfo | sort -u | wc -l\n",
        " \n",
        "# 3.CPU당 물리 코어 수 확인\n",
        "!grep \"cpu cores\" /proc/cpuinfo | tail -1\n",
        "\n",
        "#메모리 확인\n",
        "!free -h\n",
        "\n",
        "#런타임 유형 변경 후 gpu 확인\n",
        "!nvidia-smi"
      ]
    }
  ],
  "metadata": {
    "accelerator": "GPU",
    "colab": {
      "collapsed_sections": [],
      "name": "EfficientNet 9th Result",
      "provenance": []
    },
    "kernelspec": {
      "display_name": "Python 3",
      "name": "python3"
    },
    "language_info": {
      "name": "python"
    }
  },
  "nbformat": 4,
  "nbformat_minor": 0
}
