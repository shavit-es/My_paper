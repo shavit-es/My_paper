{
  "cells": [
    {
      "cell_type": "code",
      "execution_count": 1,
      "metadata": {
        "colab": {
          "base_uri": "https://localhost:8080/"
        },
        "id": "-P2q4WSEARhh",
        "outputId": "297c05ef-24fb-47e8-ec03-03a9601e19ae"
      },
      "outputs": [
        {
          "name": "stdout",
          "output_type": "stream",
          "text": [
            "Looking in indexes: https://pypi.org/simple, https://us-python.pkg.dev/colab-wheels/public/simple/\n",
            "Collecting cloud_tpu_client\n",
            "  Downloading cloud_tpu_client-0.10-py3-none-any.whl (7.4 kB)\n",
            "Collecting google-api-python-client==1.8.0\n",
            "  Downloading google_api_python_client-1.8.0-py3-none-any.whl (57 kB)\n",
            "\u001b[K     |████████████████████████████████| 57 kB 3.2 MB/s \n",
            "\u001b[?25hRequirement already satisfied: oauth2client in /usr/local/lib/python3.7/dist-packages (from cloud_tpu_client) (4.1.3)\n",
            "Requirement already satisfied: six<2dev,>=1.6.1 in /usr/local/lib/python3.7/dist-packages (from google-api-python-client==1.8.0->cloud_tpu_client) (1.15.0)\n",
            "Requirement already satisfied: google-auth-httplib2>=0.0.3 in /usr/local/lib/python3.7/dist-packages (from google-api-python-client==1.8.0->cloud_tpu_client) (0.0.4)\n",
            "Requirement already satisfied: uritemplate<4dev,>=3.0.0 in /usr/local/lib/python3.7/dist-packages (from google-api-python-client==1.8.0->cloud_tpu_client) (3.0.1)\n",
            "Requirement already satisfied: httplib2<1dev,>=0.9.2 in /usr/local/lib/python3.7/dist-packages (from google-api-python-client==1.8.0->cloud_tpu_client) (0.17.4)\n",
            "Requirement already satisfied: google-auth>=1.4.1 in /usr/local/lib/python3.7/dist-packages (from google-api-python-client==1.8.0->cloud_tpu_client) (1.35.0)\n",
            "Requirement already satisfied: google-api-core<2dev,>=1.13.0 in /usr/local/lib/python3.7/dist-packages (from google-api-python-client==1.8.0->cloud_tpu_client) (1.31.6)\n",
            "Requirement already satisfied: packaging>=14.3 in /usr/local/lib/python3.7/dist-packages (from google-api-core<2dev,>=1.13.0->google-api-python-client==1.8.0->cloud_tpu_client) (21.3)\n",
            "Requirement already satisfied: protobuf<4.0.0dev,>=3.12.0 in /usr/local/lib/python3.7/dist-packages (from google-api-core<2dev,>=1.13.0->google-api-python-client==1.8.0->cloud_tpu_client) (3.17.3)\n",
            "Requirement already satisfied: googleapis-common-protos<2.0dev,>=1.6.0 in /usr/local/lib/python3.7/dist-packages (from google-api-core<2dev,>=1.13.0->google-api-python-client==1.8.0->cloud_tpu_client) (1.56.2)\n",
            "Requirement already satisfied: requests<3.0.0dev,>=2.18.0 in /usr/local/lib/python3.7/dist-packages (from google-api-core<2dev,>=1.13.0->google-api-python-client==1.8.0->cloud_tpu_client) (2.23.0)\n",
            "Requirement already satisfied: pytz in /usr/local/lib/python3.7/dist-packages (from google-api-core<2dev,>=1.13.0->google-api-python-client==1.8.0->cloud_tpu_client) (2022.1)\n",
            "Requirement already satisfied: setuptools>=40.3.0 in /usr/local/lib/python3.7/dist-packages (from google-api-core<2dev,>=1.13.0->google-api-python-client==1.8.0->cloud_tpu_client) (57.4.0)\n",
            "Requirement already satisfied: pyasn1-modules>=0.2.1 in /usr/local/lib/python3.7/dist-packages (from google-auth>=1.4.1->google-api-python-client==1.8.0->cloud_tpu_client) (0.2.8)\n",
            "Requirement already satisfied: rsa<5,>=3.1.4 in /usr/local/lib/python3.7/dist-packages (from google-auth>=1.4.1->google-api-python-client==1.8.0->cloud_tpu_client) (4.8)\n",
            "Requirement already satisfied: cachetools<5.0,>=2.0.0 in /usr/local/lib/python3.7/dist-packages (from google-auth>=1.4.1->google-api-python-client==1.8.0->cloud_tpu_client) (4.2.4)\n",
            "Requirement already satisfied: pyparsing!=3.0.5,>=2.0.2 in /usr/local/lib/python3.7/dist-packages (from packaging>=14.3->google-api-core<2dev,>=1.13.0->google-api-python-client==1.8.0->cloud_tpu_client) (3.0.9)\n",
            "Requirement already satisfied: pyasn1<0.5.0,>=0.4.6 in /usr/local/lib/python3.7/dist-packages (from pyasn1-modules>=0.2.1->google-auth>=1.4.1->google-api-python-client==1.8.0->cloud_tpu_client) (0.4.8)\n",
            "Requirement already satisfied: chardet<4,>=3.0.2 in /usr/local/lib/python3.7/dist-packages (from requests<3.0.0dev,>=2.18.0->google-api-core<2dev,>=1.13.0->google-api-python-client==1.8.0->cloud_tpu_client) (3.0.4)\n",
            "Requirement already satisfied: certifi>=2017.4.17 in /usr/local/lib/python3.7/dist-packages (from requests<3.0.0dev,>=2.18.0->google-api-core<2dev,>=1.13.0->google-api-python-client==1.8.0->cloud_tpu_client) (2022.6.15)\n",
            "Requirement already satisfied: idna<3,>=2.5 in /usr/local/lib/python3.7/dist-packages (from requests<3.0.0dev,>=2.18.0->google-api-core<2dev,>=1.13.0->google-api-python-client==1.8.0->cloud_tpu_client) (2.10)\n",
            "Requirement already satisfied: urllib3!=1.25.0,!=1.25.1,<1.26,>=1.21.1 in /usr/local/lib/python3.7/dist-packages (from requests<3.0.0dev,>=2.18.0->google-api-core<2dev,>=1.13.0->google-api-python-client==1.8.0->cloud_tpu_client) (1.24.3)\n",
            "Installing collected packages: google-api-python-client, cloud-tpu-client\n",
            "  Attempting uninstall: google-api-python-client\n",
            "    Found existing installation: google-api-python-client 1.12.11\n",
            "    Uninstalling google-api-python-client-1.12.11:\n",
            "      Successfully uninstalled google-api-python-client-1.12.11\n",
            "\u001b[31mERROR: pip's dependency resolver does not currently take into account all the packages that are installed. This behaviour is the source of the following dependency conflicts.\n",
            "earthengine-api 0.1.315 requires google-api-python-client<2,>=1.12.1, but you have google-api-python-client 1.8.0 which is incompatible.\u001b[0m\n",
            "Successfully installed cloud-tpu-client-0.10 google-api-python-client-1.8.0\n"
          ]
        }
      ],
      "source": [
        "!pip install cloud_tpu_client"
      ]
    },
    {
      "cell_type": "code",
      "execution_count": 2,
      "metadata": {
        "colab": {
          "base_uri": "https://localhost:8080/"
        },
        "id": "LvgMhZQt7W5w",
        "outputId": "99824ec9-e2ce-4de0-aef9-f06bcf6776f8"
      },
      "outputs": [
        {
          "name": "stdout",
          "output_type": "stream",
          "text": [
            "Downloading data from https://storage.googleapis.com/keras-applications/efficientnetb0.h5\n",
            "21839872/21834768 [==============================] - 0s 0us/step\n",
            "21848064/21834768 [==============================] - 0s 0us/step\n"
          ]
        }
      ],
      "source": [
        "from tensorflow.keras.applications import EfficientNetB0\n",
        "model = EfficientNetB0(weights='imagenet')"
      ]
    },
    {
      "cell_type": "code",
      "execution_count": 3,
      "metadata": {
        "id": "0iYRk_PS7W8V"
      },
      "outputs": [],
      "source": [
        "# IMG_SIZE is determined by EfficientNet model choice\n",
        "IMG_SIZE = 224"
      ]
    },
    {
      "cell_type": "code",
      "execution_count": 4,
      "metadata": {
        "colab": {
          "base_uri": "https://localhost:8080/"
        },
        "id": "06Ys3SeT7W-y",
        "outputId": "7b552d1d-fee1-4041-92bc-b6759d33ea17"
      },
      "outputs": [
        {
          "name": "stdout",
          "output_type": "stream",
          "text": [
            "Not connected to a TPU runtime. Using CPU/GPU strategy\n",
            "INFO:tensorflow:Using MirroredStrategy with devices ('/job:localhost/replica:0/task:0/device:GPU:0',)\n"
          ]
        }
      ],
      "source": [
        "from cloud_tpu_client import Client\n",
        "import tensorflow as tf\n",
        "import numpy as np\n",
        "\n",
        "\n",
        "\n",
        "try:\n",
        "    c = Client()\n",
        "    c.configure_tpu_version(tf.__version__, restart_type=\"always\")\n",
        "    tpu = tf.distribute.cluster_resolver.TPUClusterResolver.connect()\n",
        "    print(\"Device:\", tpu.master())\n",
        "    strategy = tf.distribute.TPUStrategy(tpu)\n",
        "\n",
        "except ValueError:\n",
        "    print(\"Not connected to a TPU runtime. Using CPU/GPU strategy\")\n",
        "    strategy = tf.distribute.MirroredStrategy()"
      ]
    },
    {
      "cell_type": "code",
      "execution_count": 5,
      "metadata": {
        "colab": {
          "base_uri": "https://localhost:8080/"
        },
        "id": "54v8xUNRBnT6",
        "outputId": "896a4d4b-f9ff-4693-ebd4-af11b4d2ba51"
      },
      "outputs": [
        {
          "name": "stdout",
          "output_type": "stream",
          "text": [
            "<PrefetchDataset element_spec=(TensorSpec(shape=(224, 224, 3), dtype=tf.uint8, name=None), TensorSpec(shape=(), dtype=tf.int32, name=None))>\n",
            "<PrefetchDataset element_spec=(TensorSpec(shape=(224, 224, 3), dtype=tf.uint8, name=None), TensorSpec(shape=(), dtype=tf.int32, name=None))>\n"
          ]
        }
      ],
      "source": [
        "batch_size = 64\n",
        "SHUFFLE_BUFFER_SIZE = 30\n",
        "\n",
        "x_train, x_test, y_train, y_test = np.load(\"/content/drive/MyDrive/steel_surface_224.npy\", allow_pickle=True)\n",
        "ds_train = tf.data.Dataset.from_tensor_slices((x_train, y_train))\n",
        "ds_train = ds_train.prefetch(batch_size)\n",
        "ds_test = tf.data.Dataset.from_tensor_slices((x_test, y_test))\n",
        "ds_test = ds_test.prefetch(batch_size)\n",
        "print(ds_train)\n",
        "print(ds_test)"
      ]
    },
    {
      "cell_type": "code",
      "execution_count": 6,
      "metadata": {
        "id": "ETtjOBJr7XBF"
      },
      "outputs": [],
      "source": [
        "NUM_CLASSES = 6"
      ]
    },
    {
      "cell_type": "code",
      "execution_count": 7,
      "metadata": {
        "id": "7fDMzZvW7XDY"
      },
      "outputs": [],
      "source": [
        "size = (IMG_SIZE, IMG_SIZE)\n",
        "ds_train = ds_train.map(lambda image, label: (tf.image.resize(image, size), label))\n",
        "ds_test = ds_test.map(lambda image, label: (tf.image.resize(image, size), label))"
      ]
    },
    {
      "cell_type": "code",
      "execution_count": 8,
      "metadata": {
        "colab": {
          "base_uri": "https://localhost:8080/",
          "height": 264
        },
        "id": "KO1NCo6Z7XFp",
        "outputId": "55b3980b-b660-4939-91d6-c6f7350047f7"
      },
      "outputs": [
        {
          "data": {
            "image/png": "[encoded data removed]",
            "text/plain": [
              "<Figure size 432x288 with 9 Axes>"
            ]
          },
          "metadata": {
            "needs_background": "light"
          },
          "output_type": "display_data"
        }
      ],
      "source": [
        "import matplotlib.pyplot as plt\n",
        "\n",
        "labellist=[\"crazing\",\"inclusion\",\"patches\",\"pitted_surface\",\"rolled-in_scale\",\"scratches\"]\n",
        "def format_label(label):\n",
        "  return labellist[(int(str(label)[10]))]\n",
        "\n",
        "\n",
        "for i, (image, label) in enumerate(ds_train.take(9)):\n",
        "    ax = plt.subplot(3, 3, i + 1)\n",
        "    plt.imshow(image.numpy().astype(\"uint8\"))\n",
        "    plt.title(format_label(label))\n",
        "    plt.axis(\"off\")"
      ]
    },
    {
      "cell_type": "code",
      "execution_count": 9,
      "metadata": {
        "id": "p_L0gBYE7XIA"
      },
      "outputs": [],
      "source": [
        "from tensorflow.keras.models import Sequential\n",
        "from tensorflow.keras import layers\n",
        "\n",
        "img_augmentation = Sequential(\n",
        "    [\n",
        "        layers.RandomRotation(factor=0.15),\n",
        "        layers.RandomTranslation(height_factor=0.1, width_factor=0.1),\n",
        "        layers.RandomFlip(),\n",
        "        layers.RandomContrast(factor=0.1),\n",
        "    ],\n",
        "    name=\"img_augmentation\",\n",
        ")"
      ]
    },
    {
      "cell_type": "code",
      "execution_count": 11,
      "metadata": {
        "id": "7MepxW4l7XMW"
      },
      "outputs": [],
      "source": [
        "# One-hot / categorical encoding\n",
        "def input_preprocess(image, label):\n",
        "    label = tf.one_hot(label, NUM_CLASSES)\n",
        "    return image, label\n",
        "\n",
        "\n",
        "ds_train = ds_train.map(\n",
        "    input_preprocess, num_parallel_calls=tf.data.AUTOTUNE\n",
        ")\n",
        "ds_train = ds_train.batch(batch_size=batch_size, drop_remainder=True)\n",
        "ds_train = ds_train.prefetch(tf.data.AUTOTUNE)\n",
        "\n",
        "ds_test = ds_test.map(input_preprocess)\n",
        "ds_test = ds_test.batch(batch_size=batch_size, drop_remainder=True)"
      ]
    },
    {
      "cell_type": "code",
      "execution_count": 12,
      "metadata": {
        "colab": {
          "base_uri": "https://localhost:8080/"
        },
        "id": "Y4me0mAj7XOh",
        "outputId": "d4091261-04ae-4b1e-da52-5abeba391855"
      },
      "outputs": [
        {
          "name": "stdout",
          "output_type": "stream",
          "text": [
            "INFO:tensorflow:Reduce to /job:localhost/replica:0/task:0/device:CPU:0 then broadcast to ('/job:localhost/replica:0/task:0/device:CPU:0',).\n",
            "INFO:tensorflow:Reduce to /job:localhost/replica:0/task:0/device:CPU:0 then broadcast to ('/job:localhost/replica:0/task:0/device:CPU:0',).\n",
            "INFO:tensorflow:Reduce to /job:localhost/replica:0/task:0/device:CPU:0 then broadcast to ('/job:localhost/replica:0/task:0/device:CPU:0',).\n",
            "INFO:tensorflow:Reduce to /job:localhost/replica:0/task:0/device:CPU:0 then broadcast to ('/job:localhost/replica:0/task:0/device:CPU:0',).\n",
            "INFO:tensorflow:Reduce to /job:localhost/replica:0/task:0/device:CPU:0 then broadcast to ('/job:localhost/replica:0/task:0/device:CPU:0',).\n",
            "INFO:tensorflow:Reduce to /job:localhost/replica:0/task:0/device:CPU:0 then broadcast to ('/job:localhost/replica:0/task:0/device:CPU:0',).\n",
            "INFO:tensorflow:Reduce to /job:localhost/replica:0/task:0/device:CPU:0 then broadcast to ('/job:localhost/replica:0/task:0/device:CPU:0',).\n",
            "INFO:tensorflow:Reduce to /job:localhost/replica:0/task:0/device:CPU:0 then broadcast to ('/job:localhost/replica:0/task:0/device:CPU:0',).\n",
            "INFO:tensorflow:Reduce to /job:localhost/replica:0/task:0/device:CPU:0 then broadcast to ('/job:localhost/replica:0/task:0/device:CPU:0',).\n",
            "INFO:tensorflow:Reduce to /job:localhost/replica:0/task:0/device:CPU:0 then broadcast to ('/job:localhost/replica:0/task:0/device:CPU:0',).\n",
            "Model: \"model\"\n",
            "_________________________________________________________________\n",
            " Layer (type)                Output Shape              Param #   \n",
            "=================================================================\n",
            " input_2 (InputLayer)        [(None, 224, 224, 3)]     0         \n",
            "                                                                 \n",
            " img_augmentation (Sequentia  (None, 224, 224, 3)      0         \n",
            " l)                                                              \n",
            "                                                                 \n",
            " efficientnetb0 (Functional)  (None, 6)                4057257   \n",
            "                                                                 \n",
            "=================================================================\n",
            "Total params: 4,057,257\n",
            "Trainable params: 4,015,234\n",
            "Non-trainable params: 42,023\n",
            "_________________________________________________________________\n",
            "Epoch 1/100\n",
            "16/16 - 43s - loss: 2.7791 - accuracy: 0.3926 - val_loss: 1.8909 - val_accuracy: 0.1656 - 43s/epoch - 3s/step\n",
            "Epoch 2/100\n",
            "16/16 - 9s - loss: 1.9625 - accuracy: 0.5635 - val_loss: 2.2396 - val_accuracy: 0.1656 - 9s/epoch - 579ms/step\n",
            "Epoch 3/100\n",
            "16/16 - 9s - loss: 1.2300 - accuracy: 0.6992 - val_loss: 2.3629 - val_accuracy: 0.1344 - 9s/epoch - 575ms/step\n",
            "Epoch 4/100\n",
            "16/16 - 9s - loss: 0.9576 - accuracy: 0.6895 - val_loss: 2.3569 - val_accuracy: 0.1656 - 9s/epoch - 580ms/step\n",
            "Epoch 5/100\n",
            "16/16 - 9s - loss: 0.7143 - accuracy: 0.7627 - val_loss: 2.9487 - val_accuracy: 0.1656 - 9s/epoch - 583ms/step\n",
            "Epoch 6/100\n",
            "16/16 - 9s - loss: 0.6538 - accuracy: 0.8018 - val_loss: 2.8451 - val_accuracy: 0.2281 - 9s/epoch - 576ms/step\n",
            "Epoch 7/100\n",
            "16/16 - 9s - loss: 0.5311 - accuracy: 0.8076 - val_loss: 3.3383 - val_accuracy: 0.1344 - 9s/epoch - 588ms/step\n",
            "Epoch 8/100\n",
            "16/16 - 9s - loss: 0.4905 - accuracy: 0.8496 - val_loss: 3.4544 - val_accuracy: 0.1344 - 9s/epoch - 582ms/step\n",
            "Epoch 9/100\n",
            "16/16 - 9s - loss: 0.4954 - accuracy: 0.8447 - val_loss: 3.5255 - val_accuracy: 0.2281 - 9s/epoch - 583ms/step\n",
            "Epoch 10/100\n",
            "16/16 - 9s - loss: 0.4063 - accuracy: 0.8555 - val_loss: 3.9425 - val_accuracy: 0.1562 - 9s/epoch - 585ms/step\n",
            "Epoch 11/100\n",
            "16/16 - 9s - loss: 0.4419 - accuracy: 0.8467 - val_loss: 10.3490 - val_accuracy: 0.1688 - 9s/epoch - 592ms/step\n",
            "Epoch 12/100\n",
            "16/16 - 10s - loss: 0.4003 - accuracy: 0.8613 - val_loss: 7.1854 - val_accuracy: 0.2094 - 10s/epoch - 594ms/step\n",
            "Epoch 13/100\n",
            "16/16 - 9s - loss: 0.3589 - accuracy: 0.8789 - val_loss: 8.2589 - val_accuracy: 0.2094 - 9s/epoch - 590ms/step\n",
            "Epoch 14/100\n",
            "16/16 - 10s - loss: 0.2822 - accuracy: 0.8965 - val_loss: 5.6396 - val_accuracy: 0.2656 - 10s/epoch - 594ms/step\n",
            "Epoch 15/100\n",
            "16/16 - 10s - loss: 0.2651 - accuracy: 0.9014 - val_loss: 8.7137 - val_accuracy: 0.2313 - 10s/epoch - 596ms/step\n",
            "Epoch 16/100\n",
            "16/16 - 10s - loss: 0.2514 - accuracy: 0.9229 - val_loss: 8.7884 - val_accuracy: 0.2656 - 10s/epoch - 601ms/step\n",
            "Epoch 17/100\n",
            "16/16 - 10s - loss: 0.2446 - accuracy: 0.9072 - val_loss: 13.2618 - val_accuracy: 0.2313 - 10s/epoch - 598ms/step\n",
            "Epoch 18/100\n",
            "16/16 - 10s - loss: 0.2207 - accuracy: 0.9248 - val_loss: 8.2884 - val_accuracy: 0.2656 - 10s/epoch - 597ms/step\n",
            "Epoch 19/100\n",
            "16/16 - 10s - loss: 0.2283 - accuracy: 0.9287 - val_loss: 14.7747 - val_accuracy: 0.2062 - 10s/epoch - 596ms/step\n",
            "Epoch 20/100\n",
            "16/16 - 10s - loss: 0.1936 - accuracy: 0.9346 - val_loss: 11.0463 - val_accuracy: 0.2656 - 10s/epoch - 605ms/step\n",
            "Epoch 21/100\n",
            "16/16 - 10s - loss: 0.1560 - accuracy: 0.9453 - val_loss: 9.6187 - val_accuracy: 0.2750 - 10s/epoch - 604ms/step\n",
            "Epoch 22/100\n",
            "16/16 - 10s - loss: 0.1514 - accuracy: 0.9492 - val_loss: 10.7546 - val_accuracy: 0.2750 - 10s/epoch - 604ms/step\n",
            "Epoch 23/100\n",
            "16/16 - 10s - loss: 0.1576 - accuracy: 0.9531 - val_loss: 7.6890 - val_accuracy: 0.2656 - 10s/epoch - 605ms/step\n",
            "Epoch 24/100\n",
            "16/16 - 10s - loss: 0.1409 - accuracy: 0.9531 - val_loss: 6.7226 - val_accuracy: 0.2812 - 10s/epoch - 604ms/step\n",
            "Epoch 25/100\n",
            "16/16 - 10s - loss: 0.1434 - accuracy: 0.9512 - val_loss: 6.6253 - val_accuracy: 0.2688 - 10s/epoch - 608ms/step\n",
            "Epoch 26/100\n",
            "16/16 - 10s - loss: 0.1889 - accuracy: 0.9385 - val_loss: 7.4478 - val_accuracy: 0.2719 - 10s/epoch - 602ms/step\n",
            "Epoch 27/100\n",
            "16/16 - 10s - loss: 0.2018 - accuracy: 0.9395 - val_loss: 5.0958 - val_accuracy: 0.3219 - 10s/epoch - 620ms/step\n",
            "Epoch 28/100\n",
            "16/16 - 10s - loss: 0.1957 - accuracy: 0.9365 - val_loss: 4.9546 - val_accuracy: 0.3656 - 10s/epoch - 608ms/step\n",
            "Epoch 29/100\n",
            "16/16 - 10s - loss: 0.1534 - accuracy: 0.9512 - val_loss: 4.0878 - val_accuracy: 0.3750 - 10s/epoch - 611ms/step\n",
            "Epoch 30/100\n",
            "16/16 - 10s - loss: 0.1602 - accuracy: 0.9521 - val_loss: 3.1678 - val_accuracy: 0.5875 - 10s/epoch - 603ms/step\n",
            "Epoch 31/100\n",
            "16/16 - 10s - loss: 0.2624 - accuracy: 0.9541 - val_loss: 2.1631 - val_accuracy: 0.7344 - 10s/epoch - 612ms/step\n",
            "Epoch 32/100\n",
            "16/16 - 10s - loss: 0.1257 - accuracy: 0.9590 - val_loss: 1.6721 - val_accuracy: 0.7375 - 10s/epoch - 610ms/step\n",
            "Epoch 33/100\n",
            "16/16 - 10s - loss: 0.1232 - accuracy: 0.9541 - val_loss: 1.1447 - val_accuracy: 0.8250 - 10s/epoch - 609ms/step\n",
            "Epoch 34/100\n",
            "16/16 - 10s - loss: 0.1199 - accuracy: 0.9600 - val_loss: 0.7461 - val_accuracy: 0.8594 - 10s/epoch - 611ms/step\n",
            "Epoch 35/100\n",
            "16/16 - 10s - loss: 0.0948 - accuracy: 0.9648 - val_loss: 0.7994 - val_accuracy: 0.8625 - 10s/epoch - 605ms/step\n",
            "Epoch 36/100\n",
            "16/16 - 10s - loss: 0.1162 - accuracy: 0.9678 - val_loss: 0.5621 - val_accuracy: 0.8906 - 10s/epoch - 611ms/step\n",
            "Epoch 37/100\n",
            "16/16 - 10s - loss: 0.0748 - accuracy: 0.9766 - val_loss: 0.4507 - val_accuracy: 0.9094 - 10s/epoch - 612ms/step\n",
            "Epoch 38/100\n",
            "16/16 - 10s - loss: 0.1220 - accuracy: 0.9600 - val_loss: 0.4458 - val_accuracy: 0.8938 - 10s/epoch - 605ms/step\n",
            "Epoch 39/100\n",
            "16/16 - 10s - loss: 0.0815 - accuracy: 0.9727 - val_loss: 0.3389 - val_accuracy: 0.9375 - 10s/epoch - 606ms/step\n",
            "Epoch 40/100\n",
            "16/16 - 10s - loss: 0.0773 - accuracy: 0.9717 - val_loss: 0.3062 - val_accuracy: 0.9500 - 10s/epoch - 610ms/step\n",
            "Epoch 41/100\n",
            "16/16 - 10s - loss: 0.0956 - accuracy: 0.9658 - val_loss: 0.4267 - val_accuracy: 0.9312 - 10s/epoch - 607ms/step\n",
            "Epoch 42/100\n",
            "16/16 - 10s - loss: 0.1217 - accuracy: 0.9629 - val_loss: 0.7082 - val_accuracy: 0.9000 - 10s/epoch - 604ms/step\n",
            "Epoch 43/100\n",
            "16/16 - 10s - loss: 0.0788 - accuracy: 0.9736 - val_loss: 0.9570 - val_accuracy: 0.8687 - 10s/epoch - 609ms/step\n",
            "Epoch 44/100\n",
            "16/16 - 10s - loss: 0.0939 - accuracy: 0.9639 - val_loss: 0.2809 - val_accuracy: 0.9531 - 10s/epoch - 614ms/step\n",
            "Epoch 45/100\n",
            "16/16 - 10s - loss: 0.0672 - accuracy: 0.9775 - val_loss: 0.1418 - val_accuracy: 0.9750 - 10s/epoch - 608ms/step\n",
            "Epoch 46/100\n",
            "16/16 - 10s - loss: 0.0803 - accuracy: 0.9766 - val_loss: 0.2303 - val_accuracy: 0.9500 - 10s/epoch - 608ms/step\n",
            "Epoch 47/100\n",
            "16/16 - 10s - loss: 0.0669 - accuracy: 0.9834 - val_loss: 0.2174 - val_accuracy: 0.9656 - 10s/epoch - 609ms/step\n",
            "Epoch 48/100\n",
            "16/16 - 10s - loss: 0.0546 - accuracy: 0.9805 - val_loss: 0.3481 - val_accuracy: 0.9000 - 10s/epoch - 603ms/step\n",
            "Epoch 49/100\n",
            "16/16 - 10s - loss: 0.0671 - accuracy: 0.9785 - val_loss: 0.7621 - val_accuracy: 0.8125 - 10s/epoch - 608ms/step\n",
            "Epoch 50/100\n",
            "16/16 - 10s - loss: 0.0540 - accuracy: 0.9795 - val_loss: 0.2435 - val_accuracy: 0.9563 - 10s/epoch - 602ms/step\n",
            "Epoch 51/100\n",
            "16/16 - 10s - loss: 0.0548 - accuracy: 0.9854 - val_loss: 0.6272 - val_accuracy: 0.8813 - 10s/epoch - 605ms/step\n",
            "Epoch 52/100\n",
            "16/16 - 10s - loss: 0.0473 - accuracy: 0.9854 - val_loss: 0.3002 - val_accuracy: 0.9375 - 10s/epoch - 609ms/step\n",
            "Epoch 53/100\n",
            "16/16 - 10s - loss: 0.0583 - accuracy: 0.9795 - val_loss: 0.5374 - val_accuracy: 0.9062 - 10s/epoch - 609ms/step\n",
            "Epoch 54/100\n",
            "16/16 - 10s - loss: 0.0555 - accuracy: 0.9824 - val_loss: 0.2062 - val_accuracy: 0.9656 - 10s/epoch - 598ms/step\n",
            "Epoch 55/100\n",
            "16/16 - 10s - loss: 0.0666 - accuracy: 0.9805 - val_loss: 1.2915 - val_accuracy: 0.7875 - 10s/epoch - 612ms/step\n",
            "Epoch 56/100\n",
            "16/16 - 10s - loss: 0.0589 - accuracy: 0.9756 - val_loss: 0.3438 - val_accuracy: 0.9469 - 10s/epoch - 609ms/step\n",
            "Epoch 57/100\n",
            "16/16 - 10s - loss: 0.0695 - accuracy: 0.9766 - val_loss: 1.0361 - val_accuracy: 0.8188 - 10s/epoch - 598ms/step\n",
            "Epoch 58/100\n",
            "16/16 - 10s - loss: 0.0634 - accuracy: 0.9834 - val_loss: 0.6964 - val_accuracy: 0.8687 - 10s/epoch - 613ms/step\n",
            "Epoch 59/100\n",
            "16/16 - 10s - loss: 0.0840 - accuracy: 0.9727 - val_loss: 0.4789 - val_accuracy: 0.8875 - 10s/epoch - 609ms/step\n",
            "Epoch 60/100\n",
            "16/16 - 10s - loss: 0.0874 - accuracy: 0.9697 - val_loss: 0.7092 - val_accuracy: 0.8656 - 10s/epoch - 607ms/step\n",
            "Epoch 61/100\n",
            "16/16 - 10s - loss: 0.0944 - accuracy: 0.9619 - val_loss: 0.3092 - val_accuracy: 0.9406 - 10s/epoch - 603ms/step\n",
            "Epoch 62/100\n",
            "16/16 - 10s - loss: 0.0462 - accuracy: 0.9824 - val_loss: 0.2206 - val_accuracy: 0.9531 - 10s/epoch - 605ms/step\n",
            "Epoch 63/100\n",
            "16/16 - 10s - loss: 0.0531 - accuracy: 0.9854 - val_loss: 0.2222 - val_accuracy: 0.9625 - 10s/epoch - 607ms/step\n",
            "Epoch 64/100\n",
            "16/16 - 10s - loss: 0.0363 - accuracy: 0.9883 - val_loss: 0.1619 - val_accuracy: 0.9719 - 10s/epoch - 605ms/step\n",
            "Epoch 65/100\n",
            "16/16 - 10s - loss: 0.0595 - accuracy: 0.9854 - val_loss: 0.1719 - val_accuracy: 0.9563 - 10s/epoch - 607ms/step\n",
            "Epoch 66/100\n",
            "16/16 - 10s - loss: 0.0537 - accuracy: 0.9814 - val_loss: 0.5774 - val_accuracy: 0.8687 - 10s/epoch - 610ms/step\n",
            "Epoch 67/100\n",
            "16/16 - 10s - loss: 0.0454 - accuracy: 0.9854 - val_loss: 1.8816 - val_accuracy: 0.8094 - 10s/epoch - 609ms/step\n",
            "Epoch 68/100\n",
            "16/16 - 10s - loss: 0.0301 - accuracy: 0.9941 - val_loss: 0.7052 - val_accuracy: 0.8375 - 10s/epoch - 612ms/step\n",
            "Epoch 69/100\n",
            "16/16 - 10s - loss: 0.0281 - accuracy: 0.9902 - val_loss: 0.6554 - val_accuracy: 0.8281 - 10s/epoch - 615ms/step\n",
            "Epoch 70/100\n",
            "16/16 - 10s - loss: 0.0453 - accuracy: 0.9854 - val_loss: 0.7390 - val_accuracy: 0.8281 - 10s/epoch - 613ms/step\n",
            "Epoch 71/100\n",
            "16/16 - 10s - loss: 0.0486 - accuracy: 0.9844 - val_loss: 0.1394 - val_accuracy: 0.9563 - 10s/epoch - 610ms/step\n",
            "Epoch 72/100\n",
            "16/16 - 10s - loss: 0.0576 - accuracy: 0.9834 - val_loss: 1.9351 - val_accuracy: 0.7875 - 10s/epoch - 613ms/step\n",
            "Epoch 73/100\n",
            "16/16 - 10s - loss: 0.0745 - accuracy: 0.9795 - val_loss: 0.4461 - val_accuracy: 0.8750 - 10s/epoch - 609ms/step\n",
            "Epoch 74/100\n",
            "16/16 - 10s - loss: 0.0464 - accuracy: 0.9863 - val_loss: 0.5354 - val_accuracy: 0.8375 - 10s/epoch - 610ms/step\n",
            "Epoch 75/100\n",
            "16/16 - 10s - loss: 0.0390 - accuracy: 0.9863 - val_loss: 0.8393 - val_accuracy: 0.8156 - 10s/epoch - 602ms/step\n",
            "Epoch 76/100\n",
            "16/16 - 10s - loss: 0.0522 - accuracy: 0.9844 - val_loss: 0.3676 - val_accuracy: 0.9219 - 10s/epoch - 610ms/step\n",
            "Epoch 77/100\n",
            "16/16 - 10s - loss: 0.0486 - accuracy: 0.9834 - val_loss: 0.5316 - val_accuracy: 0.8844 - 10s/epoch - 602ms/step\n",
            "Epoch 78/100\n",
            "16/16 - 10s - loss: 0.0642 - accuracy: 0.9805 - val_loss: 0.9383 - val_accuracy: 0.7875 - 10s/epoch - 613ms/step\n",
            "Epoch 79/100\n",
            "16/16 - 10s - loss: 0.0479 - accuracy: 0.9883 - val_loss: 0.2083 - val_accuracy: 0.9531 - 10s/epoch - 606ms/step\n",
            "Epoch 80/100\n",
            "16/16 - 10s - loss: 0.0326 - accuracy: 0.9912 - val_loss: 0.1625 - val_accuracy: 0.9688 - 10s/epoch - 606ms/step\n",
            "Epoch 81/100\n",
            "16/16 - 10s - loss: 0.0198 - accuracy: 0.9951 - val_loss: 0.4934 - val_accuracy: 0.9469 - 10s/epoch - 606ms/step\n",
            "Epoch 82/100\n",
            "16/16 - 10s - loss: 0.0365 - accuracy: 0.9873 - val_loss: 0.9757 - val_accuracy: 0.8656 - 10s/epoch - 603ms/step\n",
            "Epoch 83/100\n",
            "16/16 - 10s - loss: 0.0245 - accuracy: 0.9902 - val_loss: 0.7571 - val_accuracy: 0.8687 - 10s/epoch - 609ms/step\n",
            "Epoch 84/100\n",
            "16/16 - 10s - loss: 0.0201 - accuracy: 0.9932 - val_loss: 0.2425 - val_accuracy: 0.9469 - 10s/epoch - 612ms/step\n",
            "Epoch 85/100\n",
            "16/16 - 10s - loss: 0.0257 - accuracy: 0.9922 - val_loss: 0.1605 - val_accuracy: 0.9625 - 10s/epoch - 607ms/step\n",
            "Epoch 86/100\n",
            "16/16 - 10s - loss: 0.0334 - accuracy: 0.9922 - val_loss: 0.1941 - val_accuracy: 0.9563 - 10s/epoch - 606ms/step\n",
            "Epoch 87/100\n",
            "16/16 - 10s - loss: 0.0442 - accuracy: 0.9854 - val_loss: 2.3609 - val_accuracy: 0.7094 - 10s/epoch - 607ms/step\n",
            "Epoch 88/100\n",
            "16/16 - 10s - loss: 0.0539 - accuracy: 0.9824 - val_loss: 0.1187 - val_accuracy: 0.9750 - 10s/epoch - 605ms/step\n",
            "Epoch 89/100\n",
            "16/16 - 10s - loss: 0.0529 - accuracy: 0.9805 - val_loss: 0.1139 - val_accuracy: 0.9719 - 10s/epoch - 604ms/step\n",
            "Epoch 90/100\n",
            "16/16 - 10s - loss: 0.0558 - accuracy: 0.9824 - val_loss: 1.2672 - val_accuracy: 0.8125 - 10s/epoch - 607ms/step\n",
            "Epoch 91/100\n",
            "16/16 - 10s - loss: 0.0278 - accuracy: 0.9912 - val_loss: 1.0922 - val_accuracy: 0.8438 - 10s/epoch - 603ms/step\n",
            "Epoch 92/100\n",
            "16/16 - 10s - loss: 0.0433 - accuracy: 0.9873 - val_loss: 1.7063 - val_accuracy: 0.8125 - 10s/epoch - 606ms/step\n",
            "Epoch 93/100\n",
            "16/16 - 10s - loss: 0.0354 - accuracy: 0.9883 - val_loss: 0.8022 - val_accuracy: 0.9062 - 10s/epoch - 603ms/step\n",
            "Epoch 94/100\n",
            "16/16 - 10s - loss: 0.0247 - accuracy: 0.9912 - val_loss: 0.5645 - val_accuracy: 0.8813 - 10s/epoch - 603ms/step\n",
            "Epoch 95/100\n",
            "16/16 - 10s - loss: 0.0303 - accuracy: 0.9893 - val_loss: 1.0283 - val_accuracy: 0.8469 - 10s/epoch - 607ms/step\n",
            "Epoch 96/100\n",
            "16/16 - 10s - loss: 0.0238 - accuracy: 0.9922 - val_loss: 2.2975 - val_accuracy: 0.7188 - 10s/epoch - 612ms/step\n",
            "Epoch 97/100\n",
            "16/16 - 10s - loss: 0.0412 - accuracy: 0.9873 - val_loss: 0.3218 - val_accuracy: 0.9469 - 10s/epoch - 608ms/step\n",
            "Epoch 98/100\n",
            "16/16 - 10s - loss: 0.0533 - accuracy: 0.9834 - val_loss: 0.3562 - val_accuracy: 0.9406 - 10s/epoch - 599ms/step\n",
            "Epoch 99/100\n",
            "16/16 - 10s - loss: 0.0452 - accuracy: 0.9863 - val_loss: 2.7069 - val_accuracy: 0.7219 - 10s/epoch - 612ms/step\n",
            "Epoch 100/100\n",
            "16/16 - 10s - loss: 0.0492 - accuracy: 0.9814 - val_loss: 2.1807 - val_accuracy: 0.6469 - 10s/epoch - 613ms/step\n"
          ]
        }
      ],
      "source": [
        "from tensorflow.keras.applications import EfficientNetB0\n",
        "\n",
        "with strategy.scope():\n",
        "    inputs = layers.Input(shape=(IMG_SIZE, IMG_SIZE, 3))\n",
        "    x = img_augmentation(inputs)\n",
        "    outputs = EfficientNetB0(include_top=True, weights=None, classes=NUM_CLASSES)(x)\n",
        "\n",
        "    model = tf.keras.Model(inputs, outputs)\n",
        "    model.compile(\n",
        "        optimizer=\"adam\", loss=\"categorical_crossentropy\", metrics=[\"accuracy\"]\n",
        "    )\n",
        "\n",
        "model.summary()\n",
        "\n",
        "epochs = 100  # @param {type: \"slider\", min:10, max:100}\n",
        "hist = model.fit(ds_train, epochs=epochs, validation_data=ds_test, verbose=2)"
      ]
    },
    {
      "cell_type": "code",
      "execution_count": 13,
      "metadata": {
        "colab": {
          "base_uri": "https://localhost:8080/",
          "height": 295
        },
        "id": "u4mPhmmq7XQ2",
        "outputId": "2e4f5b2d-72f3-483b-d03d-19d4d74094aa"
      },
      "outputs": [
        {
          "data": {
            "image/png": "[encoded data removed]",
            "text/plain": [
              "<Figure size 432x288 with 1 Axes>"
            ]
          },
          "metadata": {
            "needs_background": "light"
          },
          "output_type": "display_data"
        }
      ],
      "source": [
        "import matplotlib.pyplot as plt\n",
        "\n",
        "\n",
        "def plot_hist(hist):\n",
        "    plt.plot(hist.history[\"accuracy\"])\n",
        "    plt.plot(hist.history[\"val_accuracy\"])\n",
        "    plt.title(\"model accuracy\")\n",
        "    plt.ylabel(\"accuracy\")\n",
        "    plt.xlabel(\"epoch\")\n",
        "    plt.legend([\"train\", \"validation\"], loc=\"upper left\")\n",
        "    plt.show()\n",
        "\n",
        "\n",
        "plot_hist(hist)"
      ]
    },
    {
      "cell_type": "code",
      "execution_count": 14,
      "metadata": {
        "id": "e_GRQrzy7XSx"
      },
      "outputs": [],
      "source": [
        "def build_model(num_classes):\n",
        "    inputs = layers.Input(shape=(IMG_SIZE, IMG_SIZE, 3))\n",
        "    x = img_augmentation(inputs)\n",
        "    model = EfficientNetB0(include_top=False, input_tensor=x, weights=\"imagenet\")\n",
        "\n",
        "    # Freeze the pretrained weights\n",
        "    model.trainable = False\n",
        "\n",
        "    # Rebuild top\n",
        "    x = layers.GlobalAveragePooling2D(name=\"avg_pool\")(model.output)\n",
        "    x = layers.BatchNormalization()(x)\n",
        "\n",
        "    top_dropout_rate = 0.2\n",
        "    x = layers.Dropout(top_dropout_rate, name=\"top_dropout\")(x)\n",
        "    outputs = layers.Dense(NUM_CLASSES, activation=\"softmax\", name=\"pred\")(x)\n",
        "\n",
        "    # Compile\n",
        "    model = tf.keras.Model(inputs, outputs, name=\"EfficientNet\")\n",
        "    optimizer = tf.keras.optimizers.Adam(learning_rate=1e-2)\n",
        "    model.compile(\n",
        "        optimizer=optimizer, loss=\"categorical_crossentropy\", metrics=[\"accuracy\"]\n",
        "    )\n",
        "    return model"
      ]
    },
    {
      "cell_type": "code",
      "execution_count": 15,
      "metadata": {
        "colab": {
          "base_uri": "https://localhost:8080/",
          "height": 1000
        },
        "id": "oHNly0LAIU8d",
        "outputId": "3ef8a5b6-6a09-4190-d06a-4d30eb47ddf4"
      },
      "outputs": [
        {
          "name": "stdout",
          "output_type": "stream",
          "text": [
            "Downloading data from https://storage.googleapis.com/keras-applications/efficientnetb0_notop.h5\n",
            "16711680/16705208 [==============================] - 0s 0us/step\n",
            "16719872/16705208 [==============================] - 0s 0us/step\n",
            "Epoch 1/60\n",
            "16/16 - 13s - loss: 0.4761 - accuracy: 0.8545 - val_loss: 0.5067 - val_accuracy: 0.8750 - 13s/epoch - 803ms/step\n",
            "Epoch 2/60\n",
            "16/16 - 3s - loss: 0.0872 - accuracy: 0.9746 - val_loss: 0.4551 - val_accuracy: 0.8625 - 3s/epoch - 157ms/step\n",
            "Epoch 3/60\n",
            "16/16 - 3s - loss: 0.0261 - accuracy: 0.9893 - val_loss: 0.5339 - val_accuracy: 0.7937 - 3s/epoch - 157ms/step\n",
            "Epoch 4/60\n",
            "16/16 - 3s - loss: 0.0347 - accuracy: 0.9893 - val_loss: 0.3630 - val_accuracy: 0.8719 - 3s/epoch - 157ms/step\n",
            "Epoch 5/60\n",
            "16/16 - 3s - loss: 0.0390 - accuracy: 0.9912 - val_loss: 0.4349 - val_accuracy: 0.8219 - 3s/epoch - 158ms/step\n",
            "Epoch 6/60\n",
            "16/16 - 3s - loss: 0.0404 - accuracy: 0.9873 - val_loss: 0.2521 - val_accuracy: 0.9000 - 3s/epoch - 159ms/step\n",
            "Epoch 7/60\n",
            "16/16 - 3s - loss: 0.0273 - accuracy: 0.9951 - val_loss: 0.0839 - val_accuracy: 0.9812 - 3s/epoch - 160ms/step\n",
            "Epoch 8/60\n",
            "16/16 - 3s - loss: 0.0096 - accuracy: 0.9971 - val_loss: 0.1332 - val_accuracy: 0.9656 - 3s/epoch - 160ms/step\n",
            "Epoch 9/60\n",
            "16/16 - 3s - loss: 0.0250 - accuracy: 0.9922 - val_loss: 0.0810 - val_accuracy: 0.9719 - 3s/epoch - 160ms/step\n",
            "Epoch 10/60\n",
            "16/16 - 3s - loss: 0.0324 - accuracy: 0.9902 - val_loss: 0.0367 - val_accuracy: 0.9906 - 3s/epoch - 160ms/step\n",
            "Epoch 11/60\n",
            "16/16 - 3s - loss: 0.0333 - accuracy: 0.9912 - val_loss: 0.0236 - val_accuracy: 0.9969 - 3s/epoch - 160ms/step\n",
            "Epoch 12/60\n",
            "16/16 - 3s - loss: 0.0584 - accuracy: 0.9893 - val_loss: 0.0435 - val_accuracy: 0.9875 - 3s/epoch - 159ms/step\n",
            "Epoch 13/60\n",
            "16/16 - 3s - loss: 0.0422 - accuracy: 0.9912 - val_loss: 0.1304 - val_accuracy: 0.9312 - 3s/epoch - 159ms/step\n",
            "Epoch 14/60\n",
            "16/16 - 3s - loss: 0.0258 - accuracy: 0.9922 - val_loss: 0.0243 - val_accuracy: 0.9937 - 3s/epoch - 158ms/step\n",
            "Epoch 15/60\n",
            "16/16 - 3s - loss: 0.0386 - accuracy: 0.9922 - val_loss: 0.0166 - val_accuracy: 0.9937 - 3s/epoch - 159ms/step\n",
            "Epoch 16/60\n",
            "16/16 - 3s - loss: 0.0183 - accuracy: 0.9932 - val_loss: 0.0517 - val_accuracy: 0.9875 - 3s/epoch - 158ms/step\n",
            "Epoch 17/60\n",
            "16/16 - 3s - loss: 0.0279 - accuracy: 0.9922 - val_loss: 0.0459 - val_accuracy: 0.9844 - 3s/epoch - 158ms/step\n",
            "Epoch 18/60\n",
            "16/16 - 3s - loss: 0.0197 - accuracy: 0.9951 - val_loss: 0.0735 - val_accuracy: 0.9812 - 3s/epoch - 158ms/step\n",
            "Epoch 19/60\n",
            "16/16 - 3s - loss: 0.0258 - accuracy: 0.9932 - val_loss: 0.0436 - val_accuracy: 0.9906 - 3s/epoch - 157ms/step\n",
            "Epoch 20/60\n",
            "16/16 - 3s - loss: 0.0332 - accuracy: 0.9902 - val_loss: 0.0460 - val_accuracy: 0.9844 - 3s/epoch - 158ms/step\n",
            "Epoch 21/60\n",
            "16/16 - 3s - loss: 0.0133 - accuracy: 0.9971 - val_loss: 0.0200 - val_accuracy: 0.9937 - 3s/epoch - 158ms/step\n",
            "Epoch 22/60\n",
            "16/16 - 3s - loss: 0.0331 - accuracy: 0.9902 - val_loss: 0.0608 - val_accuracy: 0.9875 - 3s/epoch - 158ms/step\n",
            "Epoch 23/60\n",
            "16/16 - 3s - loss: 0.0297 - accuracy: 0.9922 - val_loss: 0.0600 - val_accuracy: 0.9688 - 3s/epoch - 159ms/step\n",
            "Epoch 24/60\n",
            "16/16 - 3s - loss: 0.0404 - accuracy: 0.9922 - val_loss: 0.0295 - val_accuracy: 0.9906 - 3s/epoch - 159ms/step\n",
            "Epoch 25/60\n",
            "16/16 - 3s - loss: 0.0117 - accuracy: 0.9961 - val_loss: 0.0457 - val_accuracy: 0.9844 - 3s/epoch - 159ms/step\n",
            "Epoch 26/60\n",
            "16/16 - 3s - loss: 0.0465 - accuracy: 0.9883 - val_loss: 0.0953 - val_accuracy: 0.9812 - 3s/epoch - 159ms/step\n",
            "Epoch 27/60\n",
            "16/16 - 3s - loss: 0.0284 - accuracy: 0.9961 - val_loss: 0.2612 - val_accuracy: 0.9656 - 3s/epoch - 159ms/step\n",
            "Epoch 28/60\n",
            "16/16 - 3s - loss: 0.0473 - accuracy: 0.9922 - val_loss: 0.2401 - val_accuracy: 0.9656 - 3s/epoch - 158ms/step\n",
            "Epoch 29/60\n",
            "16/16 - 3s - loss: 0.0106 - accuracy: 0.9961 - val_loss: 0.1494 - val_accuracy: 0.9719 - 3s/epoch - 158ms/step\n",
            "Epoch 30/60\n",
            "16/16 - 3s - loss: 0.0686 - accuracy: 0.9863 - val_loss: 0.0842 - val_accuracy: 0.9875 - 3s/epoch - 159ms/step\n",
            "Epoch 31/60\n",
            "16/16 - 3s - loss: 0.0259 - accuracy: 0.9922 - val_loss: 0.0952 - val_accuracy: 0.9875 - 3s/epoch - 158ms/step\n",
            "Epoch 32/60\n",
            "16/16 - 3s - loss: 0.0362 - accuracy: 0.9922 - val_loss: 0.0304 - val_accuracy: 0.9906 - 3s/epoch - 159ms/step\n",
            "Epoch 33/60\n",
            "16/16 - 3s - loss: 0.0476 - accuracy: 0.9863 - val_loss: 0.0687 - val_accuracy: 0.9844 - 3s/epoch - 158ms/step\n",
            "Epoch 34/60\n",
            "16/16 - 3s - loss: 0.0329 - accuracy: 0.9912 - val_loss: 0.0733 - val_accuracy: 0.9875 - 3s/epoch - 159ms/step\n",
            "Epoch 35/60\n",
            "16/16 - 3s - loss: 0.0387 - accuracy: 0.9873 - val_loss: 0.1533 - val_accuracy: 0.9812 - 3s/epoch - 160ms/step\n",
            "Epoch 36/60\n",
            "16/16 - 3s - loss: 0.0285 - accuracy: 0.9932 - val_loss: 0.1290 - val_accuracy: 0.9781 - 3s/epoch - 159ms/step\n",
            "Epoch 37/60\n",
            "16/16 - 3s - loss: 0.0219 - accuracy: 0.9941 - val_loss: 0.1194 - val_accuracy: 0.9875 - 3s/epoch - 159ms/step\n",
            "Epoch 38/60\n",
            "16/16 - 3s - loss: 0.0536 - accuracy: 0.9893 - val_loss: 0.0818 - val_accuracy: 0.9906 - 3s/epoch - 158ms/step\n",
            "Epoch 39/60\n",
            "16/16 - 3s - loss: 0.0583 - accuracy: 0.9902 - val_loss: 0.0929 - val_accuracy: 0.9906 - 3s/epoch - 158ms/step\n",
            "Epoch 40/60\n",
            "16/16 - 3s - loss: 0.0339 - accuracy: 0.9941 - val_loss: 0.1113 - val_accuracy: 0.9875 - 3s/epoch - 159ms/step\n",
            "Epoch 41/60\n",
            "16/16 - 3s - loss: 0.0054 - accuracy: 0.9980 - val_loss: 0.0647 - val_accuracy: 0.9906 - 3s/epoch - 159ms/step\n",
            "Epoch 42/60\n",
            "16/16 - 3s - loss: 0.0532 - accuracy: 0.9922 - val_loss: 0.0860 - val_accuracy: 0.9906 - 3s/epoch - 159ms/step\n",
            "Epoch 43/60\n",
            "16/16 - 3s - loss: 0.0150 - accuracy: 0.9980 - val_loss: 0.0322 - val_accuracy: 0.9969 - 3s/epoch - 159ms/step\n",
            "Epoch 44/60\n",
            "16/16 - 3s - loss: 0.0289 - accuracy: 0.9971 - val_loss: 0.0424 - val_accuracy: 0.9937 - 3s/epoch - 159ms/step\n",
            "Epoch 45/60\n",
            "16/16 - 3s - loss: 0.0045 - accuracy: 0.9990 - val_loss: 0.0603 - val_accuracy: 0.9906 - 3s/epoch - 158ms/step\n",
            "Epoch 46/60\n",
            "16/16 - 3s - loss: 0.0556 - accuracy: 0.9941 - val_loss: 0.0241 - val_accuracy: 0.9937 - 3s/epoch - 158ms/step\n",
            "Epoch 47/60\n",
            "16/16 - 3s - loss: 0.0079 - accuracy: 0.9971 - val_loss: 0.0108 - val_accuracy: 0.9969 - 3s/epoch - 158ms/step\n",
            "Epoch 48/60\n",
            "16/16 - 3s - loss: 0.0096 - accuracy: 0.9980 - val_loss: 0.0116 - val_accuracy: 0.9969 - 3s/epoch - 159ms/step\n",
            "Epoch 49/60\n",
            "16/16 - 3s - loss: 0.0192 - accuracy: 0.9961 - val_loss: 0.1221 - val_accuracy: 0.9906 - 3s/epoch - 159ms/step\n",
            "Epoch 50/60\n",
            "16/16 - 3s - loss: 0.0201 - accuracy: 0.9951 - val_loss: 0.2137 - val_accuracy: 0.9781 - 3s/epoch - 159ms/step\n",
            "Epoch 51/60\n",
            "16/16 - 3s - loss: 0.0494 - accuracy: 0.9932 - val_loss: 0.0717 - val_accuracy: 0.9875 - 3s/epoch - 159ms/step\n",
            "Epoch 52/60\n",
            "16/16 - 3s - loss: 0.0626 - accuracy: 0.9941 - val_loss: 0.0137 - val_accuracy: 0.9937 - 3s/epoch - 159ms/step\n",
            "Epoch 53/60\n",
            "16/16 - 3s - loss: 0.0702 - accuracy: 0.9893 - val_loss: 0.0713 - val_accuracy: 0.9937 - 3s/epoch - 159ms/step\n",
            "Epoch 54/60\n",
            "16/16 - 3s - loss: 0.0479 - accuracy: 0.9932 - val_loss: 0.0702 - val_accuracy: 0.9969 - 3s/epoch - 159ms/step\n",
            "Epoch 55/60\n",
            "16/16 - 3s - loss: 0.0311 - accuracy: 0.9941 - val_loss: 0.1501 - val_accuracy: 0.9875 - 3s/epoch - 159ms/step\n",
            "Epoch 56/60\n",
            "16/16 - 3s - loss: 0.0808 - accuracy: 0.9941 - val_loss: 0.3367 - val_accuracy: 0.9781 - 3s/epoch - 158ms/step\n",
            "Epoch 57/60\n",
            "16/16 - 3s - loss: 0.0616 - accuracy: 0.9951 - val_loss: 0.3821 - val_accuracy: 0.9781 - 3s/epoch - 159ms/step\n",
            "Epoch 58/60\n",
            "16/16 - 3s - loss: 0.0405 - accuracy: 0.9932 - val_loss: 0.1149 - val_accuracy: 0.9937 - 3s/epoch - 159ms/step\n",
            "Epoch 59/60\n",
            "16/16 - 3s - loss: 0.0360 - accuracy: 0.9971 - val_loss: 0.0928 - val_accuracy: 0.9937 - 3s/epoch - 158ms/step\n",
            "Epoch 60/60\n",
            "16/16 - 3s - loss: 0.0168 - accuracy: 0.9980 - val_loss: 0.0878 - val_accuracy: 0.9937 - 3s/epoch - 158ms/step\n"
          ]
        },
        {
          "data": {
            "image/png": "[encoded data removed]",
            "text/plain": [
              "<Figure size 432x288 with 1 Axes>"
            ]
          },
          "metadata": {
            "needs_background": "light"
          },
          "output_type": "display_data"
        }
      ],
      "source": [
        "with strategy.scope():\n",
        "    model = build_model(num_classes=NUM_CLASSES)\n",
        "\n",
        "epochs = 60  # @param {type: \"slider\", min:8, max:80}\n",
        "hist = model.fit(ds_train, epochs=epochs, validation_data=ds_test, verbose=2)\n",
        "plot_hist(hist)"
      ]
    },
    {
      "cell_type": "code",
      "execution_count": 16,
      "metadata": {
        "colab": {
          "base_uri": "https://localhost:8080/",
          "height": 662
        },
        "id": "fg_qIjn6IU6f",
        "outputId": "a3288d3b-53f3-464e-ee11-efa606be448d"
      },
      "outputs": [
        {
          "name": "stdout",
          "output_type": "stream",
          "text": [
            "Epoch 1/10\n",
            "16/16 - 13s - loss: 0.0393 - accuracy: 0.9980 - val_loss: 0.1153 - val_accuracy: 0.9937 - 13s/epoch - 811ms/step\n",
            "Epoch 2/10\n",
            "16/16 - 3s - loss: 0.0198 - accuracy: 0.9941 - val_loss: 0.0953 - val_accuracy: 0.9906 - 3s/epoch - 170ms/step\n",
            "Epoch 3/10\n",
            "16/16 - 3s - loss: 0.0095 - accuracy: 0.9971 - val_loss: 0.1288 - val_accuracy: 0.9906 - 3s/epoch - 169ms/step\n",
            "Epoch 4/10\n",
            "16/16 - 3s - loss: 0.0138 - accuracy: 0.9961 - val_loss: 0.1570 - val_accuracy: 0.9875 - 3s/epoch - 170ms/step\n",
            "Epoch 5/10\n",
            "16/16 - 3s - loss: 0.0366 - accuracy: 0.9951 - val_loss: 0.4538 - val_accuracy: 0.9688 - 3s/epoch - 174ms/step\n",
            "Epoch 6/10\n",
            "16/16 - 3s - loss: 0.0286 - accuracy: 0.9941 - val_loss: 0.2180 - val_accuracy: 0.9875 - 3s/epoch - 171ms/step\n",
            "Epoch 7/10\n",
            "16/16 - 3s - loss: 0.0134 - accuracy: 0.9980 - val_loss: 0.1535 - val_accuracy: 0.9844 - 3s/epoch - 168ms/step\n",
            "Epoch 8/10\n",
            "16/16 - 3s - loss: 0.0297 - accuracy: 0.9941 - val_loss: 0.3188 - val_accuracy: 0.9812 - 3s/epoch - 169ms/step\n",
            "Epoch 9/10\n",
            "16/16 - 3s - loss: 0.0071 - accuracy: 0.9990 - val_loss: 0.2313 - val_accuracy: 0.9875 - 3s/epoch - 170ms/step\n",
            "Epoch 10/10\n",
            "16/16 - 3s - loss: 0.0108 - accuracy: 0.9980 - val_loss: 0.1563 - val_accuracy: 0.9906 - 3s/epoch - 170ms/step\n"
          ]
        },
        {
          "data": {
            "image/png": "[encoded data removed]",
            "text/plain": [
              "<Figure size 432x288 with 1 Axes>"
            ]
          },
          "metadata": {
            "needs_background": "light"
          },
          "output_type": "display_data"
        }
      ],
      "source": [
        "def unfreeze_model(model):\n",
        "    # We unfreeze the top 20 layers while leaving BatchNorm layers frozen\n",
        "    for layer in model.layers[-20:]:\n",
        "        if not isinstance(layer, layers.BatchNormalization):\n",
        "            layer.trainable = True\n",
        "\n",
        "    optimizer = tf.keras.optimizers.Adam(learning_rate=1e-4)\n",
        "    model.compile(\n",
        "        optimizer=optimizer, loss=\"categorical_crossentropy\", metrics=[\"accuracy\"]\n",
        "    )\n",
        "\n",
        "\n",
        "unfreeze_model(model)\n",
        "\n",
        "epochs = 10  # @param {type: \"slider\", min:8, max:50}\n",
        "hist = model.fit(ds_train, epochs=epochs, validation_data=ds_test, verbose=2)\n",
        "plot_hist(hist)"
      ]
    },
    {
      "cell_type": "code",
      "execution_count": 17,
      "metadata": {
        "colab": {
          "base_uri": "https://localhost:8080/"
        },
        "id": "dlwIrZYHIU4M",
        "outputId": "93dbc9aa-91d3-41c7-aa6d-693961f0e30d"
      },
      "outputs": [
        {
          "name": "stdout",
          "output_type": "stream",
          "text": [
            "5/5 [==============================] - 1s 112ms/step - loss: 0.1563 - accuracy: 0.9906\n"
          ]
        },
        {
          "data": {
            "text/plain": [
              "[0.15625102818012238, 0.9906250238418579]"
            ]
          },
          "execution_count": 17,
          "metadata": {},
          "output_type": "execute_result"
        }
      ],
      "source": [
        "model.evaluate(ds_test)"
      ]
    },
    {
      "cell_type": "code",
      "execution_count": 18,
      "metadata": {
        "colab": {
          "base_uri": "https://localhost:8080/"
        },
        "id": "EB7MPxHfEqfQ",
        "outputId": "ff97de22-1050-46bd-eb90-0c6423d7acb5"
      },
      "outputs": [
        {
          "name": "stdout",
          "output_type": "stream",
          "text": [
            "[[6.1525745e-32 1.0000000e+00 7.6297857e-28 1.3540007e-20 4.5311448e-23\n",
            "  4.8222539e-24]\n",
            " [3.9116180e-18 5.7845750e-24 7.2463067e-37 1.0000000e+00 0.0000000e+00\n",
            "  0.0000000e+00]\n",
            " [1.0000000e+00 1.4445284e-37 9.0895309e-14 0.0000000e+00 2.5212777e-24\n",
            "  1.1281972e-37]\n",
            " ...\n",
            " [0.0000000e+00 2.0701276e-25 4.4520866e-17 0.0000000e+00 1.0000000e+00\n",
            "  5.4073584e-35]\n",
            " [0.0000000e+00 7.2348312e-33 7.7612624e-22 0.0000000e+00 1.0000000e+00\n",
            "  0.0000000e+00]\n",
            " [0.0000000e+00 4.1313081e-23 2.2974194e-16 0.0000000e+00 1.0000000e+00\n",
            "  2.7063363e-34]] <class 'numpy.ndarray'> (360, 6)\n",
            "[1 3 0 0 2 0 2 0 5 4 2 2 1 5 0 4 5 2 3 2 2 0 4 0 0 5 2 4 2 2 2 0 2 5 0 2 1\n",
            " 3 3 4 3 3 3 4 1 3 5 3 5 1 4 3 5 5 0 0 0 1 0 2 1 1 2 4 0 4 1 5 1 2 2 5 2 1\n",
            " 1 3 0 5 2 2 5 2 0 4 1 1 2 3 2 1 5 1 2 4 5 5 2 0 4 2 3 0 3 1 1 1 1 4 4 1 5\n",
            " 1 4 4 2 4 5 2 0 4 1 2 3 1 3 4 2 1 5 0 3 0 0 0 2 1 0 0 3 0 1 3 0 5 2 0 4 0\n",
            " 0 5 5 5 1 1 5 0 4 3 0 2 1 5 3 2 4 1 1 5 5 4 5 1 4 2 5 2 0 3 1 2 0 5 3 0 0\n",
            " 0 2 4 3 1 0 3 4 1 0 2 3 0 3 2 3 3 1 2 0 3 1 5 2 1 1 3 0 0 5 1 2 2 1 5 3 0\n",
            " 4 1 3 2 3 4 3 4 3 0 0 1 0 2 4 1 4 4 4 3 5 0 4 2 3 2 2 2 4 2 4 4 1 1 4 3 4\n",
            " 3 3 0 4 2 2 4 3 4 4 1 1 1 4 4 0 3 5 3 2 3 2 5 2 4 4 4 3 2 1 1 5 1 3 1 4 2\n",
            " 4 3 1 0 4 5 0 3 2 2 5 1 2 5 0 2 5 2 0 2 4 4 0 1 3 1 3 4 0 4 2 1 4 2 2 0 5\n",
            " 3 2 1 0 5 1 0 1 3 4 1 5 4 5 0 1 1 5 5 5 0 4 1 0 4 4 4] (360,)\n",
            "[1 3 0 0 2 0 2 0 5 4 2 2 1 5 0 4 5 2 3 2 2 0 4 0 0 5 2 4 2 2 2 0 2 5 0 2 1\n",
            " 3 3 4 3 3 3 4 1 3 5 3 5 1 4 3 5 5 0 0 0 1 0 2 1 1 2 4 0 4 1 5 1 2 2 5 2 1\n",
            " 1 3 0 5 2 2 5 2 0 4 1 1 2 3 2 1 5 5 2 4 5 5 2 0 4 2 3 0 3 1 1 1 1 4 4 1 5\n",
            " 1 4 4 2 4 5 2 0 4 1 2 3 1 3 4 2 1 5 0 3 0 0 0 2 1 0 0 3 0 1 3 0 5 2 0 4 0\n",
            " 0 5 5 5 3 1 5 0 4 3 0 2 1 5 3 2 4 1 1 5 5 4 5 1 4 2 5 2 0 3 1 2 0 5 3 0 0\n",
            " 0 2 4 3 1 0 3 4 1 0 2 3 0 3 2 3 3 1 2 0 3 1 5 2 1 1 3 0 0 5 5 2 2 1 5 3 0\n",
            " 4 1 3 2 3 4 3 4 3 0 0 1 0 2 4 1 4 4 4 3 5 0 4 2 3 2 2 2 4 2 4 4 1 1 4 3 4\n",
            " 3 3 0 4 2 2 4 3 4 4 1 1 1 4 4 0 3 5 3 2 3 2 5 2 4 4 4 3 2 1 1 5 1 3 1 4 2\n",
            " 4 3 1 0 4 5 0 3 2 2 5 1 2 5 0 2 5 2 0 2 4 4 0 1 3 1 3 4 0 4 2 1 4 2 2 0 5\n",
            " 3 2 1 0 5 1 0 1 3 4 1 5 4 5 0 5 1 5 5 5 0 4 1 0 4 4 4] (360,)\n"
          ]
        }
      ],
      "source": [
        "#Test set 정확도\n",
        "y_pred_test=model.predict(x_test)\n",
        "print(y_pred_test, type(y_pred_test), y_pred_test.shape)\n",
        "y_pred=[]\n",
        "for ar in y_pred_test:\n",
        "  y_pred.append(np.argmax(ar))\n",
        "y_pred = np.array(y_pred)\n",
        "print(y_pred, y_pred.shape)\n",
        "print(y_test, y_test.shape)"
      ]
    },
    {
      "cell_type": "code",
      "execution_count": 19,
      "metadata": {
        "colab": {
          "base_uri": "https://localhost:8080/"
        },
        "id": "RpZW7G96IUsi",
        "outputId": "4dbba14d-b380-48b9-eed1-19080cf1c450"
      },
      "outputs": [
        {
          "name": "stdout",
          "output_type": "stream",
          "text": [
            "accuracy: 0.9888888888888889\n",
            "Precision: 0.9895622895622895\n",
            "Recall: 0.9888888888888889\n",
            "F1-Score: 0.9889232571037477\n"
          ]
        }
      ],
      "source": [
        "from sklearn.metrics import f1_score, accuracy_score, recall_score, precision_score\n",
        "print(\"accuracy:\",accuracy_score(y_test, y_pred))\n",
        "print(\"Precision:\",precision_score(y_test, y_pred, average='weighted'))\n",
        "print(\"Recall:\",recall_score(y_test, y_pred, average='weighted'))\n",
        "print(\"F1-Score:\",f1_score(y_test, y_pred, average='weighted'))"
      ]
    },
    {
      "cell_type": "code",
      "execution_count": 20,
      "metadata": {
        "colab": {
          "base_uri": "https://localhost:8080/"
        },
        "id": "EXzxgRCOh8Kz",
        "outputId": "a81f48d0-17f1-4a5c-c83f-2ec98b1ea962"
      },
      "outputs": [
        {
          "name": "stdout",
          "output_type": "stream",
          "text": [
            "[[1.4646636e-31 1.0000000e+00 4.4095192e-28 1.6302309e-19 2.7157819e-24\n",
            "  1.7028791e-18]\n",
            " [1.0000000e+00 5.4279370e-37 9.7512193e-17 0.0000000e+00 8.5015856e-27\n",
            "  0.0000000e+00]\n",
            " [1.1304400e-25 3.8259675e-24 3.1275307e-37 1.0000000e+00 6.9988323e-38\n",
            "  0.0000000e+00]\n",
            " ...\n",
            " [2.4221924e-32 1.2875023e-31 2.5160695e-32 6.7390696e-28 3.2736939e-26\n",
            "  1.0000000e+00]\n",
            " [1.8541876e-23 1.8172333e-33 1.0000000e+00 8.4352478e-31 2.0587725e-24\n",
            "  0.0000000e+00]\n",
            " [2.4371212e-19 6.8060065e-21 1.3484692e-36 1.0000000e+00 5.9644321e-27\n",
            "  2.3304180e-35]] <class 'numpy.ndarray'> (1080, 6)\n",
            "[[1.4646636e-31 1.0000000e+00 4.4095192e-28 1.6302309e-19 2.7157819e-24\n",
            "  1.7028791e-18]\n",
            " [1.0000000e+00 5.4279370e-37 9.7512193e-17 0.0000000e+00 8.5015856e-27\n",
            "  0.0000000e+00]\n",
            " [1.1304400e-25 3.8259675e-24 3.1275307e-37 1.0000000e+00 6.9988323e-38\n",
            "  0.0000000e+00]\n",
            " ...\n",
            " [2.4221924e-32 1.2875023e-31 2.5160695e-32 6.7390696e-28 3.2736939e-26\n",
            "  1.0000000e+00]\n",
            " [1.8541876e-23 1.8172333e-33 1.0000000e+00 8.4352478e-31 2.0587725e-24\n",
            "  0.0000000e+00]\n",
            " [2.4371212e-19 6.8060065e-21 1.3484692e-36 1.0000000e+00 5.9644321e-27\n",
            "  2.3304180e-35]] (1080, 6)\n",
            "[1 0 3 ... 5 2 3] (1080,)\n"
          ]
        }
      ],
      "source": [
        "#Train set 정확도\n",
        "\n",
        "y_pred_train=model.predict(x_train)\n",
        "print(y_pred_train, type(y_pred_train), y_pred_train.shape)\n",
        "y_train_list=[]\n",
        "for ar in y_pred_train:\n",
        "  y_train_list.append(np.argmax(ar))\n",
        "y_train_list = np.array(y_train_list)\n",
        "print(y_pred_train, y_pred_train.shape)\n",
        "print(y_train_list, y_train_list.shape)"
      ]
    },
    {
      "cell_type": "code",
      "execution_count": 21,
      "metadata": {
        "colab": {
          "base_uri": "https://localhost:8080/"
        },
        "id": "VUljgSBFiS0L",
        "outputId": "6044def7-2d81-4889-b8e1-1acdee110f4a"
      },
      "outputs": [
        {
          "name": "stdout",
          "output_type": "stream",
          "text": [
            "accuracy: 0.9962962962962963\n",
            "Precision: 0.9963776963776965\n",
            "Recall: 0.9962962962962963\n",
            "F1-Score: 0.9963069422850747\n"
          ]
        }
      ],
      "source": [
        "print(\"accuracy:\",accuracy_score(y_train, y_train_list))\n",
        "print(\"Precision:\",precision_score(y_train, y_train_list, average='weighted'))\n",
        "print(\"Recall:\",recall_score(y_train, y_train_list, average='weighted'))\n",
        "print(\"F1-Score:\",f1_score(y_train, y_train_list, average='weighted'))"
      ]
    },
    {
      "cell_type": "code",
      "execution_count": 22,
      "metadata": {
        "colab": {
          "base_uri": "https://localhost:8080/"
        },
        "id": "xM9cj2PXvGHI",
        "outputId": "f8252237-928c-4855-f3a2-35794708ef9e"
      },
      "outputs": [
        {
          "name": "stdout",
          "output_type": "stream",
          "text": [
            "Ubuntu 18.04.5 LTS \\n \\l\n",
            "\n",
            "processor\t: 0\n",
            "vendor_id\t: GenuineIntel\n",
            "cpu family\t: 6\n",
            "model\t\t: 63\n",
            "model name\t: Intel(R) Xeon(R) CPU @ 2.30GHz\n",
            "stepping\t: 0\n",
            "microcode\t: 0x1\n",
            "cpu MHz\t\t: 2299.998\n",
            "cache size\t: 46080 KB\n",
            "physical id\t: 0\n",
            "siblings\t: 2\n",
            "core id\t\t: 0\n",
            "cpu cores\t: 1\n",
            "apicid\t\t: 0\n",
            "initial apicid\t: 0\n",
            "fpu\t\t: yes\n",
            "fpu_exception\t: yes\n",
            "cpuid level\t: 13\n",
            "wp\t\t: yes\n",
            "flags\t\t: fpu vme de pse tsc msr pae mce cx8 apic sep mtrr pge mca cmov pat pse36 clflush mmx fxsr sse sse2 ss ht syscall nx pdpe1gb rdtscp lm constant_tsc rep_good nopl xtopology nonstop_tsc cpuid tsc_known_freq pni pclmulqdq ssse3 fma cx16 pcid sse4_1 sse4_2 x2apic movbe popcnt aes xsave avx f16c rdrand hypervisor lahf_lm abm invpcid_single ssbd ibrs ibpb stibp fsgsbase tsc_adjust bmi1 avx2 smep bmi2 erms invpcid xsaveopt arat md_clear arch_capabilities\n",
            "bugs\t\t: cpu_meltdown spectre_v1 spectre_v2 spec_store_bypass l1tf mds swapgs\n",
            "bogomips\t: 4599.99\n",
            "clflush size\t: 64\n",
            "cache_alignment\t: 64\n",
            "address sizes\t: 46 bits physical, 48 bits virtual\n",
            "power management:\n",
            "\n",
            "processor\t: 1\n",
            "vendor_id\t: GenuineIntel\n",
            "cpu family\t: 6\n",
            "model\t\t: 63\n",
            "model name\t: Intel(R) Xeon(R) CPU @ 2.30GHz\n",
            "stepping\t: 0\n",
            "microcode\t: 0x1\n",
            "cpu MHz\t\t: 2299.998\n",
            "cache size\t: 46080 KB\n",
            "physical id\t: 0\n",
            "siblings\t: 2\n",
            "core id\t\t: 0\n",
            "cpu cores\t: 1\n",
            "apicid\t\t: 1\n",
            "initial apicid\t: 1\n",
            "fpu\t\t: yes\n",
            "fpu_exception\t: yes\n",
            "cpuid level\t: 13\n",
            "wp\t\t: yes\n",
            "flags\t\t: fpu vme de pse tsc msr pae mce cx8 apic sep mtrr pge mca cmov pat pse36 clflush mmx fxsr sse sse2 ss ht syscall nx pdpe1gb rdtscp lm constant_tsc rep_good nopl xtopology nonstop_tsc cpuid tsc_known_freq pni pclmulqdq ssse3 fma cx16 pcid sse4_1 sse4_2 x2apic movbe popcnt aes xsave avx f16c rdrand hypervisor lahf_lm abm invpcid_single ssbd ibrs ibpb stibp fsgsbase tsc_adjust bmi1 avx2 smep bmi2 erms invpcid xsaveopt arat md_clear arch_capabilities\n",
            "bugs\t\t: cpu_meltdown spectre_v1 spectre_v2 spec_store_bypass l1tf mds swapgs\n",
            "bogomips\t: 4599.99\n",
            "clflush size\t: 64\n",
            "cache_alignment\t: 64\n",
            "address sizes\t: 46 bits physical, 48 bits virtual\n",
            "power management:\n",
            "\n",
            "2\n",
            "1\n",
            "cpu cores\t: 1\n",
            "              total        used        free      shared  buff/cache   available\n",
            "Mem:            12G        4.7G        1.2G        527M        6.8G        9.0G\n",
            "Swap:            0B          0B          0B\n",
            "Wed Jun 22 13:32:39 2022       \n",
            "+-----------------------------------------------------------------------------+\n",
            "| NVIDIA-SMI 460.32.03    Driver Version: 460.32.03    CUDA Version: 11.2     |\n",
            "|-------------------------------+----------------------+----------------------+\n",
            "| GPU  Name        Persistence-M| Bus-Id        Disp.A | Volatile Uncorr. ECC |\n",
            "| Fan  Temp  Perf  Pwr:Usage/Cap|         Memory-Usage | GPU-Util  Compute M. |\n",
            "|                               |                      |               MIG M. |\n",
            "|===============================+======================+======================|\n",
            "|   0  Tesla T4            Off  | 00000000:00:04.0 Off |                    0 |\n",
            "| N/A   75C    P0    42W /  70W |   9044MiB / 15109MiB |      0%      Default |\n",
            "|                               |                      |                  N/A |\n",
            "+-------------------------------+----------------------+----------------------+\n",
            "                                                                               \n",
            "+-----------------------------------------------------------------------------+\n",
            "| Processes:                                                                  |\n",
            "|  GPU   GI   CI        PID   Type   Process name                  GPU Memory |\n",
            "|        ID   ID                                                   Usage      |\n",
            "|=============================================================================|\n",
            "+-----------------------------------------------------------------------------+\n"
          ]
        }
      ],
      "source": [
        "#운영체제 확인\n",
        "!cat /etc/issue\n",
        "\n",
        "#0. CPU 정보 확인\n",
        "!cat /proc/cpuinfo\n",
        "\n",
        "#1. CPU 코어 전체 개수 확인\n",
        "!grep -c processor /proc/cpuinfo\n",
        " \n",
        "#2. 물리 CPU 수 확인\n",
        "!grep \"physical id\" /proc/cpuinfo | sort -u | wc -l\n",
        " \n",
        "# 3.CPU당 물리 코어 수 확인\n",
        "!grep \"cpu cores\" /proc/cpuinfo | tail -1\n",
        "\n",
        "#메모리 확인\n",
        "!free -h\n",
        "\n",
        "#런타임 유형 변경 후 gpu 확인\n",
        "!nvidia-smi"
      ]
    }
  ],
  "metadata": {
    "accelerator": "GPU",
    "colab": {
      "collapsed_sections": [],
      "name": "EfficientNet_Model_8",
      "provenance": []
    },
    "kernelspec": {
      "display_name": "Python 3",
      "name": "python3"
    },
    "language_info": {
      "name": "python"
    }
  },
  "nbformat": 4,
  "nbformat_minor": 0
}
