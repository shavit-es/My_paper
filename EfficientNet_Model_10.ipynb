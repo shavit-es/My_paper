{
  "cells": [
    {
      "cell_type": "code",
      "execution_count": 1,
      "metadata": {
        "colab": {
          "base_uri": "https://localhost:8080/"
        },
        "id": "-P2q4WSEARhh",
        "outputId": "4da1adf1-d226-487f-9629-40bb9f575b8d"
      },
      "outputs": [
        {
          "name": "stdout",
          "output_type": "stream",
          "text": [
            "Looking in indexes: https://pypi.org/simple, https://us-python.pkg.dev/colab-wheels/public/simple/\n",
            "Collecting cloud_tpu_client\n",
            "  Downloading cloud_tpu_client-0.10-py3-none-any.whl (7.4 kB)\n",
            "Collecting google-api-python-client==1.8.0\n",
            "  Downloading google_api_python_client-1.8.0-py3-none-any.whl (57 kB)\n",
            "\u001b[K     |████████████████████████████████| 57 kB 6.6 MB/s \n",
            "\u001b[?25hRequirement already satisfied: oauth2client in /usr/local/lib/python3.7/dist-packages (from cloud_tpu_client) (4.1.3)\n",
            "Requirement already satisfied: six<2dev,>=1.6.1 in /usr/local/lib/python3.7/dist-packages (from google-api-python-client==1.8.0->cloud_tpu_client) (1.15.0)\n",
            "Requirement already satisfied: google-api-core<2dev,>=1.13.0 in /usr/local/lib/python3.7/dist-packages (from google-api-python-client==1.8.0->cloud_tpu_client) (1.31.6)\n",
            "Requirement already satisfied: google-auth>=1.4.1 in /usr/local/lib/python3.7/dist-packages (from google-api-python-client==1.8.0->cloud_tpu_client) (1.35.0)\n",
            "Requirement already satisfied: httplib2<1dev,>=0.9.2 in /usr/local/lib/python3.7/dist-packages (from google-api-python-client==1.8.0->cloud_tpu_client) (0.17.4)\n",
            "Requirement already satisfied: google-auth-httplib2>=0.0.3 in /usr/local/lib/python3.7/dist-packages (from google-api-python-client==1.8.0->cloud_tpu_client) (0.0.4)\n",
            "Requirement already satisfied: uritemplate<4dev,>=3.0.0 in /usr/local/lib/python3.7/dist-packages (from google-api-python-client==1.8.0->cloud_tpu_client) (3.0.1)\n",
            "Requirement already satisfied: packaging>=14.3 in /usr/local/lib/python3.7/dist-packages (from google-api-core<2dev,>=1.13.0->google-api-python-client==1.8.0->cloud_tpu_client) (21.3)\n",
            "Requirement already satisfied: requests<3.0.0dev,>=2.18.0 in /usr/local/lib/python3.7/dist-packages (from google-api-core<2dev,>=1.13.0->google-api-python-client==1.8.0->cloud_tpu_client) (2.23.0)\n",
            "Requirement already satisfied: pytz in /usr/local/lib/python3.7/dist-packages (from google-api-core<2dev,>=1.13.0->google-api-python-client==1.8.0->cloud_tpu_client) (2022.1)\n",
            "Requirement already satisfied: protobuf<4.0.0dev,>=3.12.0 in /usr/local/lib/python3.7/dist-packages (from google-api-core<2dev,>=1.13.0->google-api-python-client==1.8.0->cloud_tpu_client) (3.17.3)\n",
            "Requirement already satisfied: googleapis-common-protos<2.0dev,>=1.6.0 in /usr/local/lib/python3.7/dist-packages (from google-api-core<2dev,>=1.13.0->google-api-python-client==1.8.0->cloud_tpu_client) (1.56.2)\n",
            "Requirement already satisfied: setuptools>=40.3.0 in /usr/local/lib/python3.7/dist-packages (from google-api-core<2dev,>=1.13.0->google-api-python-client==1.8.0->cloud_tpu_client) (57.4.0)\n",
            "Requirement already satisfied: cachetools<5.0,>=2.0.0 in /usr/local/lib/python3.7/dist-packages (from google-auth>=1.4.1->google-api-python-client==1.8.0->cloud_tpu_client) (4.2.4)\n",
            "Requirement already satisfied: rsa<5,>=3.1.4 in /usr/local/lib/python3.7/dist-packages (from google-auth>=1.4.1->google-api-python-client==1.8.0->cloud_tpu_client) (4.8)\n",
            "Requirement already satisfied: pyasn1-modules>=0.2.1 in /usr/local/lib/python3.7/dist-packages (from google-auth>=1.4.1->google-api-python-client==1.8.0->cloud_tpu_client) (0.2.8)\n",
            "Requirement already satisfied: pyparsing!=3.0.5,>=2.0.2 in /usr/local/lib/python3.7/dist-packages (from packaging>=14.3->google-api-core<2dev,>=1.13.0->google-api-python-client==1.8.0->cloud_tpu_client) (3.0.9)\n",
            "Requirement already satisfied: pyasn1<0.5.0,>=0.4.6 in /usr/local/lib/python3.7/dist-packages (from pyasn1-modules>=0.2.1->google-auth>=1.4.1->google-api-python-client==1.8.0->cloud_tpu_client) (0.4.8)\n",
            "Requirement already satisfied: chardet<4,>=3.0.2 in /usr/local/lib/python3.7/dist-packages (from requests<3.0.0dev,>=2.18.0->google-api-core<2dev,>=1.13.0->google-api-python-client==1.8.0->cloud_tpu_client) (3.0.4)\n",
            "Requirement already satisfied: idna<3,>=2.5 in /usr/local/lib/python3.7/dist-packages (from requests<3.0.0dev,>=2.18.0->google-api-core<2dev,>=1.13.0->google-api-python-client==1.8.0->cloud_tpu_client) (2.10)\n",
            "Requirement already satisfied: urllib3!=1.25.0,!=1.25.1,<1.26,>=1.21.1 in /usr/local/lib/python3.7/dist-packages (from requests<3.0.0dev,>=2.18.0->google-api-core<2dev,>=1.13.0->google-api-python-client==1.8.0->cloud_tpu_client) (1.24.3)\n",
            "Requirement already satisfied: certifi>=2017.4.17 in /usr/local/lib/python3.7/dist-packages (from requests<3.0.0dev,>=2.18.0->google-api-core<2dev,>=1.13.0->google-api-python-client==1.8.0->cloud_tpu_client) (2022.5.18.1)\n",
            "Installing collected packages: google-api-python-client, cloud-tpu-client\n",
            "  Attempting uninstall: google-api-python-client\n",
            "    Found existing installation: google-api-python-client 1.12.11\n",
            "    Uninstalling google-api-python-client-1.12.11:\n",
            "      Successfully uninstalled google-api-python-client-1.12.11\n",
            "\u001b[31mERROR: pip's dependency resolver does not currently take into account all the packages that are installed. This behaviour is the source of the following dependency conflicts.\n",
            "earthengine-api 0.1.312 requires google-api-python-client<2,>=1.12.1, but you have google-api-python-client 1.8.0 which is incompatible.\u001b[0m\n",
            "Successfully installed cloud-tpu-client-0.10 google-api-python-client-1.8.0\n"
          ]
        }
      ],
      "source": [
        "!pip install cloud_tpu_client"
      ]
    },
    {
      "cell_type": "code",
      "execution_count": null,
      "metadata": {
        "id": "LvgMhZQt7W5w"
      },
      "outputs": [],
      "source": [
        "from tensorflow.keras.applications import EfficientNetB0\n",
        "model = EfficientNetB0(weights='imagenet')"
      ]
    },
    {
      "cell_type": "code",
      "execution_count": null,
      "metadata": {
        "id": "0iYRk_PS7W8V"
      },
      "outputs": [],
      "source": [
        "# IMG_SIZE is determined by EfficientNet model choice\n",
        "IMG_SIZE = 224"
      ]
    },
    {
      "cell_type": "code",
      "execution_count": null,
      "metadata": {
        "id": "06Ys3SeT7W-y"
      },
      "outputs": [],
      "source": [
        "from cloud_tpu_client import Client\n",
        "import tensorflow as tf\n",
        "import numpy as np\n",
        "\n",
        "\n",
        "\n",
        "try:\n",
        "    c = Client()\n",
        "    c.configure_tpu_version(tf.__version__, restart_type=\"always\")\n",
        "    tpu = tf.distribute.cluster_resolver.TPUClusterResolver.connect()\n",
        "    print(\"Device:\", tpu.master())\n",
        "    strategy = tf.distribute.TPUStrategy(tpu)\n",
        "\n",
        "except ValueError:\n",
        "    print(\"Not connected to a TPU runtime. Using CPU/GPU strategy\")\n",
        "    strategy = tf.distribute.MirroredStrategy()"
      ]
    },
    {
      "cell_type": "code",
      "execution_count": null,
      "metadata": {
        "id": "54v8xUNRBnT6"
      },
      "outputs": [],
      "source": [
        "batch_size = 128\n",
        "SHUFFLE_BUFFER_SIZE = 128\n",
        "\n",
        "x_train, x_test, y_train, y_test = np.load(\"/content/drive/MyDrive/steel_surface_224.npy\", allow_pickle=True)\n",
        "ds_train = tf.data.Dataset.from_tensor_slices((x_train, y_train))\n",
        "ds_train = ds_train.prefetch(batch_size)\n",
        "ds_test = tf.data.Dataset.from_tensor_slices((x_test, y_test))\n",
        "ds_test = ds_test.prefetch(batch_size)\n",
        "print(ds_train)\n",
        "print(ds_test)"
      ]
    },
    {
      "cell_type": "code",
      "execution_count": null,
      "metadata": {
        "id": "ETtjOBJr7XBF"
      },
      "outputs": [],
      "source": [
        "NUM_CLASSES = 6"
      ]
    },
    {
      "cell_type": "code",
      "execution_count": null,
      "metadata": {
        "id": "7fDMzZvW7XDY"
      },
      "outputs": [],
      "source": [
        "size = (IMG_SIZE, IMG_SIZE)\n",
        "ds_train = ds_train.map(lambda image, label: (tf.image.resize(image, size), label))\n",
        "ds_test = ds_test.map(lambda image, label: (tf.image.resize(image, size), label))"
      ]
    },
    {
      "cell_type": "code",
      "execution_count": null,
      "metadata": {
        "id": "KO1NCo6Z7XFp"
      },
      "outputs": [],
      "source": [
        "import matplotlib.pyplot as plt\n",
        "\n",
        "labellist=[\"crazing\",\"inclusion\",\"patches\",\"pitted_surface\",\"rolled-in_scale\",\"scratches\"]\n",
        "def format_label(label):\n",
        "  return labellist[(int(str(label)[10]))]\n",
        "\n",
        "\n",
        "for i, (image, label) in enumerate(ds_train.take(9)):\n",
        "    ax = plt.subplot(3, 3, i + 1)\n",
        "    plt.imshow(image.numpy().astype(\"uint8\"))\n",
        "    plt.title(format_label(label))\n",
        "    plt.axis(\"off\")"
      ]
    },
    {
      "cell_type": "code",
      "execution_count": null,
      "metadata": {
        "id": "p_L0gBYE7XIA"
      },
      "outputs": [],
      "source": [
        "from tensorflow.keras.models import Sequential\n",
        "from tensorflow.keras import layers\n",
        "\n",
        "img_augmentation = Sequential(\n",
        "    [\n",
        "        layers.RandomRotation(factor=0.15),\n",
        "        layers.RandomTranslation(height_factor=0.1, width_factor=0.1),\n",
        "        layers.RandomFlip(),\n",
        "        layers.RandomContrast(factor=0.1),\n",
        "    ],\n",
        "    name=\"img_augmentation\",\n",
        ")"
      ]
    },
    {
      "cell_type": "code",
      "execution_count": null,
      "metadata": {
        "id": "7MepxW4l7XMW"
      },
      "outputs": [],
      "source": [
        "# One-hot / categorical encoding\n",
        "def input_preprocess(image, label):\n",
        "    label = tf.one_hot(label, NUM_CLASSES)\n",
        "    return image, label\n",
        "\n",
        "\n",
        "ds_train = ds_train.map(\n",
        "    input_preprocess, num_parallel_calls=tf.data.AUTOTUNE\n",
        ")\n",
        "ds_train = ds_train.batch(batch_size=batch_size, drop_remainder=True)\n",
        "ds_train = ds_train.prefetch(tf.data.AUTOTUNE)\n",
        "\n",
        "ds_test = ds_test.map(input_preprocess)\n",
        "ds_test = ds_test.batch(batch_size=batch_size, drop_remainder=True)"
      ]
    },
    {
      "cell_type": "code",
      "execution_count": 12,
      "metadata": {
        "colab": {
          "base_uri": "https://localhost:8080/"
        },
        "id": "Y4me0mAj7XOh",
        "outputId": "2da94a34-c4a6-4bdf-f308-c70b691d7c8e"
      },
      "outputs": [
        {
          "name": "stdout",
          "output_type": "stream",
          "text": [
            "INFO:tensorflow:Reduce to /job:localhost/replica:0/task:0/device:CPU:0 then broadcast to ('/job:localhost/replica:0/task:0/device:CPU:0',).\n",
            "INFO:tensorflow:Reduce to /job:localhost/replica:0/task:0/device:CPU:0 then broadcast to ('/job:localhost/replica:0/task:0/device:CPU:0',).\n",
            "INFO:tensorflow:Reduce to /job:localhost/replica:0/task:0/device:CPU:0 then broadcast to ('/job:localhost/replica:0/task:0/device:CPU:0',).\n",
            "INFO:tensorflow:Reduce to /job:localhost/replica:0/task:0/device:CPU:0 then broadcast to ('/job:localhost/replica:0/task:0/device:CPU:0',).\n",
            "INFO:tensorflow:Reduce to /job:localhost/replica:0/task:0/device:CPU:0 then broadcast to ('/job:localhost/replica:0/task:0/device:CPU:0',).\n",
            "INFO:tensorflow:Reduce to /job:localhost/replica:0/task:0/device:CPU:0 then broadcast to ('/job:localhost/replica:0/task:0/device:CPU:0',).\n",
            "INFO:tensorflow:Reduce to /job:localhost/replica:0/task:0/device:CPU:0 then broadcast to ('/job:localhost/replica:0/task:0/device:CPU:0',).\n",
            "INFO:tensorflow:Reduce to /job:localhost/replica:0/task:0/device:CPU:0 then broadcast to ('/job:localhost/replica:0/task:0/device:CPU:0',).\n",
            "INFO:tensorflow:Reduce to /job:localhost/replica:0/task:0/device:CPU:0 then broadcast to ('/job:localhost/replica:0/task:0/device:CPU:0',).\n",
            "INFO:tensorflow:Reduce to /job:localhost/replica:0/task:0/device:CPU:0 then broadcast to ('/job:localhost/replica:0/task:0/device:CPU:0',).\n",
            "Model: \"model\"\n",
            "_________________________________________________________________\n",
            " Layer (type)                Output Shape              Param #   \n",
            "=================================================================\n",
            " input_2 (InputLayer)        [(None, 224, 224, 3)]     0         \n",
            "                                                                 \n",
            " img_augmentation (Sequentia  (None, 224, 224, 3)      0         \n",
            " l)                                                              \n",
            "                                                                 \n",
            " efficientnetb0 (Functional)  (None, 6)                4057257   \n",
            "                                                                 \n",
            "=================================================================\n",
            "Total params: 4,057,257\n",
            "Trainable params: 4,015,234\n",
            "Non-trainable params: 42,023\n",
            "_________________________________________________________________\n",
            "Epoch 1/100\n",
            "8/8 - 37s - loss: 2.1874 - accuracy: 0.3936 - val_loss: 1.8200 - val_accuracy: 0.1523 - 37s/epoch - 5s/step\n",
            "Epoch 2/100\n",
            "8/8 - 9s - loss: 1.2778 - accuracy: 0.5977 - val_loss: 2.0111 - val_accuracy: 0.1406 - 9s/epoch - 1s/step\n",
            "Epoch 3/100\n",
            "8/8 - 9s - loss: 1.3326 - accuracy: 0.6592 - val_loss: 2.1220 - val_accuracy: 0.1445 - 9s/epoch - 1s/step\n",
            "Epoch 4/100\n",
            "8/8 - 9s - loss: 0.7760 - accuracy: 0.7627 - val_loss: 2.1510 - val_accuracy: 0.1523 - 9s/epoch - 1s/step\n",
            "Epoch 5/100\n",
            "8/8 - 9s - loss: 0.5669 - accuracy: 0.7832 - val_loss: 2.1934 - val_accuracy: 0.1523 - 9s/epoch - 1s/step\n",
            "Epoch 6/100\n",
            "8/8 - 10s - loss: 0.4321 - accuracy: 0.8477 - val_loss: 2.3102 - val_accuracy: 0.1523 - 10s/epoch - 1s/step\n",
            "Epoch 7/100\n",
            "8/8 - 10s - loss: 0.3891 - accuracy: 0.8750 - val_loss: 2.7199 - val_accuracy: 0.1445 - 10s/epoch - 1s/step\n",
            "Epoch 8/100\n",
            "8/8 - 10s - loss: 0.5010 - accuracy: 0.8652 - val_loss: 2.9924 - val_accuracy: 0.1523 - 10s/epoch - 1s/step\n",
            "Epoch 9/100\n",
            "8/8 - 9s - loss: 0.3676 - accuracy: 0.8896 - val_loss: 2.9115 - val_accuracy: 0.1523 - 9s/epoch - 1s/step\n",
            "Epoch 10/100\n",
            "8/8 - 9s - loss: 0.3060 - accuracy: 0.8887 - val_loss: 3.3300 - val_accuracy: 0.1523 - 9s/epoch - 1s/step\n",
            "Epoch 11/100\n",
            "8/8 - 10s - loss: 0.2493 - accuracy: 0.9141 - val_loss: 3.4628 - val_accuracy: 0.1523 - 10s/epoch - 1s/step\n",
            "Epoch 12/100\n",
            "8/8 - 9s - loss: 0.2363 - accuracy: 0.9180 - val_loss: 3.7408 - val_accuracy: 0.1523 - 9s/epoch - 1s/step\n",
            "Epoch 13/100\n",
            "8/8 - 10s - loss: 0.2191 - accuracy: 0.9219 - val_loss: 3.9245 - val_accuracy: 0.1523 - 10s/epoch - 1s/step\n",
            "Epoch 14/100\n",
            "8/8 - 10s - loss: 0.2187 - accuracy: 0.9268 - val_loss: 4.1814 - val_accuracy: 0.1523 - 10s/epoch - 1s/step\n",
            "Epoch 15/100\n",
            "8/8 - 10s - loss: 0.2604 - accuracy: 0.9248 - val_loss: 4.0529 - val_accuracy: 0.1523 - 10s/epoch - 1s/step\n",
            "Epoch 16/100\n",
            "8/8 - 10s - loss: 0.1842 - accuracy: 0.9355 - val_loss: 4.5275 - val_accuracy: 0.1523 - 10s/epoch - 1s/step\n",
            "Epoch 17/100\n",
            "8/8 - 10s - loss: 0.1668 - accuracy: 0.9424 - val_loss: 4.5040 - val_accuracy: 0.1523 - 10s/epoch - 1s/step\n",
            "Epoch 18/100\n",
            "8/8 - 10s - loss: 0.1729 - accuracy: 0.9365 - val_loss: 4.0480 - val_accuracy: 0.1523 - 10s/epoch - 1s/step\n",
            "Epoch 19/100\n",
            "8/8 - 10s - loss: 0.1502 - accuracy: 0.9551 - val_loss: 4.4082 - val_accuracy: 0.1523 - 10s/epoch - 1s/step\n",
            "Epoch 20/100\n",
            "8/8 - 10s - loss: 0.1585 - accuracy: 0.9502 - val_loss: 4.8471 - val_accuracy: 0.1523 - 10s/epoch - 1s/step\n",
            "Epoch 21/100\n",
            "8/8 - 9s - loss: 0.1406 - accuracy: 0.9492 - val_loss: 4.4282 - val_accuracy: 0.1523 - 9s/epoch - 1s/step\n",
            "Epoch 22/100\n",
            "8/8 - 10s - loss: 0.1664 - accuracy: 0.9414 - val_loss: 5.8259 - val_accuracy: 0.1719 - 10s/epoch - 1s/step\n",
            "Epoch 23/100\n",
            "8/8 - 10s - loss: 0.1400 - accuracy: 0.9570 - val_loss: 5.4720 - val_accuracy: 0.1719 - 10s/epoch - 1s/step\n",
            "Epoch 24/100\n",
            "8/8 - 10s - loss: 0.1524 - accuracy: 0.9395 - val_loss: 7.9192 - val_accuracy: 0.1719 - 10s/epoch - 1s/step\n",
            "Epoch 25/100\n",
            "8/8 - 10s - loss: 0.1443 - accuracy: 0.9629 - val_loss: 6.1628 - val_accuracy: 0.1719 - 10s/epoch - 1s/step\n",
            "Epoch 26/100\n",
            "8/8 - 10s - loss: 0.1258 - accuracy: 0.9619 - val_loss: 5.8609 - val_accuracy: 0.1719 - 10s/epoch - 1s/step\n",
            "Epoch 27/100\n",
            "8/8 - 10s - loss: 0.1573 - accuracy: 0.9502 - val_loss: 5.9954 - val_accuracy: 0.1719 - 10s/epoch - 1s/step\n",
            "Epoch 28/100\n",
            "8/8 - 10s - loss: 0.1103 - accuracy: 0.9609 - val_loss: 8.9762 - val_accuracy: 0.1719 - 10s/epoch - 1s/step\n",
            "Epoch 29/100\n",
            "8/8 - 10s - loss: 0.1129 - accuracy: 0.9629 - val_loss: 10.7521 - val_accuracy: 0.1719 - 10s/epoch - 1s/step\n",
            "Epoch 30/100\n",
            "8/8 - 10s - loss: 0.1350 - accuracy: 0.9531 - val_loss: 11.5756 - val_accuracy: 0.1719 - 10s/epoch - 1s/step\n",
            "Epoch 31/100\n",
            "8/8 - 10s - loss: 0.1202 - accuracy: 0.9629 - val_loss: 8.6618 - val_accuracy: 0.1719 - 10s/epoch - 1s/step\n",
            "Epoch 32/100\n",
            "8/8 - 10s - loss: 0.0974 - accuracy: 0.9688 - val_loss: 11.0130 - val_accuracy: 0.1719 - 10s/epoch - 1s/step\n",
            "Epoch 33/100\n",
            "8/8 - 10s - loss: 0.1124 - accuracy: 0.9668 - val_loss: 10.4002 - val_accuracy: 0.1719 - 10s/epoch - 1s/step\n",
            "Epoch 34/100\n",
            "8/8 - 10s - loss: 0.1228 - accuracy: 0.9639 - val_loss: 10.6804 - val_accuracy: 0.1719 - 10s/epoch - 1s/step\n",
            "Epoch 35/100\n",
            "8/8 - 10s - loss: 0.1086 - accuracy: 0.9648 - val_loss: 11.0051 - val_accuracy: 0.1719 - 10s/epoch - 1s/step\n",
            "Epoch 36/100\n",
            "8/8 - 10s - loss: 0.1387 - accuracy: 0.9502 - val_loss: 10.4109 - val_accuracy: 0.1719 - 10s/epoch - 1s/step\n",
            "Epoch 37/100\n",
            "8/8 - 10s - loss: 0.0784 - accuracy: 0.9697 - val_loss: 12.9244 - val_accuracy: 0.1719 - 10s/epoch - 1s/step\n",
            "Epoch 38/100\n",
            "8/8 - 10s - loss: 0.0718 - accuracy: 0.9775 - val_loss: 12.3022 - val_accuracy: 0.1719 - 10s/epoch - 1s/step\n",
            "Epoch 39/100\n",
            "8/8 - 10s - loss: 0.0869 - accuracy: 0.9668 - val_loss: 12.3370 - val_accuracy: 0.1719 - 10s/epoch - 1s/step\n",
            "Epoch 40/100\n",
            "8/8 - 10s - loss: 0.0641 - accuracy: 0.9824 - val_loss: 10.0392 - val_accuracy: 0.1719 - 10s/epoch - 1s/step\n",
            "Epoch 41/100\n",
            "8/8 - 10s - loss: 0.0630 - accuracy: 0.9844 - val_loss: 13.4072 - val_accuracy: 0.1719 - 10s/epoch - 1s/step\n",
            "Epoch 42/100\n",
            "8/8 - 10s - loss: 0.0709 - accuracy: 0.9795 - val_loss: 12.9629 - val_accuracy: 0.1719 - 10s/epoch - 1s/step\n",
            "Epoch 43/100\n",
            "8/8 - 10s - loss: 0.0729 - accuracy: 0.9775 - val_loss: 13.7262 - val_accuracy: 0.1719 - 10s/epoch - 1s/step\n",
            "Epoch 44/100\n",
            "8/8 - 10s - loss: 0.0723 - accuracy: 0.9785 - val_loss: 9.8747 - val_accuracy: 0.1719 - 10s/epoch - 1s/step\n",
            "Epoch 45/100\n",
            "8/8 - 10s - loss: 0.0539 - accuracy: 0.9805 - val_loss: 10.2627 - val_accuracy: 0.1719 - 10s/epoch - 1s/step\n",
            "Epoch 46/100\n",
            "8/8 - 10s - loss: 0.0749 - accuracy: 0.9775 - val_loss: 9.6773 - val_accuracy: 0.1758 - 10s/epoch - 1s/step\n",
            "Epoch 47/100\n",
            "8/8 - 10s - loss: 0.0599 - accuracy: 0.9795 - val_loss: 9.5827 - val_accuracy: 0.1836 - 10s/epoch - 1s/step\n",
            "Epoch 48/100\n",
            "8/8 - 10s - loss: 0.0789 - accuracy: 0.9746 - val_loss: 9.2260 - val_accuracy: 0.1758 - 10s/epoch - 1s/step\n",
            "Epoch 49/100\n",
            "8/8 - 10s - loss: 0.0531 - accuracy: 0.9814 - val_loss: 8.4290 - val_accuracy: 0.1797 - 10s/epoch - 1s/step\n",
            "Epoch 50/100\n",
            "8/8 - 10s - loss: 0.0533 - accuracy: 0.9824 - val_loss: 7.9340 - val_accuracy: 0.2031 - 10s/epoch - 1s/step\n",
            "Epoch 51/100\n",
            "8/8 - 10s - loss: 0.0682 - accuracy: 0.9775 - val_loss: 10.0433 - val_accuracy: 0.1914 - 10s/epoch - 1s/step\n",
            "Epoch 52/100\n",
            "8/8 - 10s - loss: 0.0661 - accuracy: 0.9824 - val_loss: 9.3137 - val_accuracy: 0.2539 - 10s/epoch - 1s/step\n",
            "Epoch 53/100\n",
            "8/8 - 10s - loss: 0.0533 - accuracy: 0.9824 - val_loss: 9.3266 - val_accuracy: 0.2578 - 10s/epoch - 1s/step\n",
            "Epoch 54/100\n",
            "8/8 - 10s - loss: 0.0440 - accuracy: 0.9844 - val_loss: 7.4975 - val_accuracy: 0.2969 - 10s/epoch - 1s/step\n",
            "Epoch 55/100\n",
            "8/8 - 10s - loss: 0.0351 - accuracy: 0.9883 - val_loss: 6.5726 - val_accuracy: 0.3789 - 10s/epoch - 1s/step\n",
            "Epoch 56/100\n",
            "8/8 - 10s - loss: 0.0274 - accuracy: 0.9922 - val_loss: 7.1997 - val_accuracy: 0.3008 - 10s/epoch - 1s/step\n",
            "Epoch 57/100\n",
            "8/8 - 10s - loss: 0.0480 - accuracy: 0.9863 - val_loss: 6.2747 - val_accuracy: 0.3359 - 10s/epoch - 1s/step\n",
            "Epoch 58/100\n",
            "8/8 - 10s - loss: 0.0386 - accuracy: 0.9873 - val_loss: 4.7714 - val_accuracy: 0.4336 - 10s/epoch - 1s/step\n",
            "Epoch 59/100\n",
            "8/8 - 10s - loss: 0.0413 - accuracy: 0.9854 - val_loss: 3.8931 - val_accuracy: 0.4414 - 10s/epoch - 1s/step\n",
            "Epoch 60/100\n",
            "8/8 - 10s - loss: 0.0367 - accuracy: 0.9883 - val_loss: 4.3014 - val_accuracy: 0.4414 - 10s/epoch - 1s/step\n",
            "Epoch 61/100\n",
            "8/8 - 10s - loss: 0.0206 - accuracy: 0.9951 - val_loss: 3.1682 - val_accuracy: 0.5156 - 10s/epoch - 1s/step\n",
            "Epoch 62/100\n",
            "8/8 - 10s - loss: 0.0200 - accuracy: 0.9941 - val_loss: 2.3746 - val_accuracy: 0.5820 - 10s/epoch - 1s/step\n",
            "Epoch 63/100\n",
            "8/8 - 10s - loss: 0.0289 - accuracy: 0.9854 - val_loss: 1.0751 - val_accuracy: 0.7773 - 10s/epoch - 1s/step\n",
            "Epoch 64/100\n",
            "8/8 - 10s - loss: 0.0318 - accuracy: 0.9893 - val_loss: 1.7360 - val_accuracy: 0.7031 - 10s/epoch - 1s/step\n",
            "Epoch 65/100\n",
            "8/8 - 10s - loss: 0.0332 - accuracy: 0.9902 - val_loss: 1.9911 - val_accuracy: 0.6836 - 10s/epoch - 1s/step\n",
            "Epoch 66/100\n",
            "8/8 - 10s - loss: 0.0494 - accuracy: 0.9805 - val_loss: 1.2038 - val_accuracy: 0.7734 - 10s/epoch - 1s/step\n",
            "Epoch 67/100\n",
            "8/8 - 10s - loss: 0.0308 - accuracy: 0.9922 - val_loss: 1.1562 - val_accuracy: 0.8203 - 10s/epoch - 1s/step\n",
            "Epoch 68/100\n",
            "8/8 - 10s - loss: 0.0380 - accuracy: 0.9893 - val_loss: 1.2026 - val_accuracy: 0.7695 - 10s/epoch - 1s/step\n",
            "Epoch 69/100\n",
            "8/8 - 10s - loss: 0.0484 - accuracy: 0.9873 - val_loss: 0.6325 - val_accuracy: 0.9062 - 10s/epoch - 1s/step\n",
            "Epoch 70/100\n",
            "8/8 - 10s - loss: 0.0312 - accuracy: 0.9893 - val_loss: 0.6219 - val_accuracy: 0.8867 - 10s/epoch - 1s/step\n",
            "Epoch 71/100\n",
            "8/8 - 10s - loss: 0.0289 - accuracy: 0.9922 - val_loss: 0.4427 - val_accuracy: 0.9375 - 10s/epoch - 1s/step\n",
            "Epoch 72/100\n",
            "8/8 - 10s - loss: 0.0355 - accuracy: 0.9912 - val_loss: 0.4219 - val_accuracy: 0.9453 - 10s/epoch - 1s/step\n",
            "Epoch 73/100\n",
            "8/8 - 10s - loss: 0.0221 - accuracy: 0.9941 - val_loss: 0.4125 - val_accuracy: 0.9102 - 10s/epoch - 1s/step\n",
            "Epoch 74/100\n",
            "8/8 - 10s - loss: 0.0284 - accuracy: 0.9932 - val_loss: 0.2135 - val_accuracy: 0.9492 - 10s/epoch - 1s/step\n",
            "Epoch 75/100\n",
            "8/8 - 10s - loss: 0.0223 - accuracy: 0.9932 - val_loss: 0.2029 - val_accuracy: 0.9531 - 10s/epoch - 1s/step\n",
            "Epoch 76/100\n",
            "8/8 - 10s - loss: 0.0385 - accuracy: 0.9883 - val_loss: 0.2796 - val_accuracy: 0.9453 - 10s/epoch - 1s/step\n",
            "Epoch 77/100\n",
            "8/8 - 10s - loss: 0.0664 - accuracy: 0.9805 - val_loss: 0.2650 - val_accuracy: 0.9570 - 10s/epoch - 1s/step\n",
            "Epoch 78/100\n",
            "8/8 - 10s - loss: 0.0531 - accuracy: 0.9824 - val_loss: 2.2745 - val_accuracy: 0.7969 - 10s/epoch - 1s/step\n",
            "Epoch 79/100\n",
            "8/8 - 10s - loss: 0.0629 - accuracy: 0.9795 - val_loss: 3.3110 - val_accuracy: 0.7500 - 10s/epoch - 1s/step\n",
            "Epoch 80/100\n",
            "8/8 - 10s - loss: 0.0623 - accuracy: 0.9834 - val_loss: 2.6168 - val_accuracy: 0.7891 - 10s/epoch - 1s/step\n",
            "Epoch 81/100\n",
            "8/8 - 10s - loss: 0.0336 - accuracy: 0.9883 - val_loss: 1.0208 - val_accuracy: 0.8594 - 10s/epoch - 1s/step\n",
            "Epoch 82/100\n",
            "8/8 - 10s - loss: 0.0297 - accuracy: 0.9893 - val_loss: 0.2633 - val_accuracy: 0.9453 - 10s/epoch - 1s/step\n",
            "Epoch 83/100\n",
            "8/8 - 10s - loss: 0.0298 - accuracy: 0.9893 - val_loss: 0.2090 - val_accuracy: 0.9492 - 10s/epoch - 1s/step\n",
            "Epoch 84/100\n",
            "8/8 - 10s - loss: 0.0275 - accuracy: 0.9883 - val_loss: 0.1692 - val_accuracy: 0.9570 - 10s/epoch - 1s/step\n",
            "Epoch 85/100\n",
            "8/8 - 10s - loss: 0.0401 - accuracy: 0.9883 - val_loss: 0.1710 - val_accuracy: 0.9727 - 10s/epoch - 1s/step\n",
            "Epoch 86/100\n",
            "8/8 - 10s - loss: 0.0183 - accuracy: 0.9941 - val_loss: 0.0904 - val_accuracy: 0.9805 - 10s/epoch - 1s/step\n",
            "Epoch 87/100\n",
            "8/8 - 10s - loss: 0.0303 - accuracy: 0.9941 - val_loss: 0.1033 - val_accuracy: 0.9766 - 10s/epoch - 1s/step\n",
            "Epoch 88/100\n",
            "8/8 - 10s - loss: 0.0202 - accuracy: 0.9922 - val_loss: 0.3159 - val_accuracy: 0.9180 - 10s/epoch - 1s/step\n",
            "Epoch 89/100\n",
            "8/8 - 10s - loss: 0.0228 - accuracy: 0.9932 - val_loss: 1.2030 - val_accuracy: 0.7617 - 10s/epoch - 1s/step\n",
            "Epoch 90/100\n",
            "8/8 - 10s - loss: 0.0262 - accuracy: 0.9951 - val_loss: 0.0811 - val_accuracy: 0.9883 - 10s/epoch - 1s/step\n",
            "Epoch 91/100\n",
            "8/8 - 10s - loss: 0.0212 - accuracy: 0.9941 - val_loss: 0.0893 - val_accuracy: 0.9844 - 10s/epoch - 1s/step\n",
            "Epoch 92/100\n",
            "8/8 - 10s - loss: 0.0310 - accuracy: 0.9873 - val_loss: 0.3201 - val_accuracy: 0.9180 - 10s/epoch - 1s/step\n",
            "Epoch 93/100\n",
            "8/8 - 10s - loss: 0.0411 - accuracy: 0.9873 - val_loss: 0.2015 - val_accuracy: 0.9414 - 10s/epoch - 1s/step\n",
            "Epoch 94/100\n",
            "8/8 - 10s - loss: 0.0277 - accuracy: 0.9893 - val_loss: 0.0913 - val_accuracy: 0.9727 - 10s/epoch - 1s/step\n",
            "Epoch 95/100\n",
            "8/8 - 10s - loss: 0.0271 - accuracy: 0.9922 - val_loss: 0.0747 - val_accuracy: 0.9844 - 10s/epoch - 1s/step\n",
            "Epoch 96/100\n",
            "8/8 - 10s - loss: 0.0328 - accuracy: 0.9893 - val_loss: 0.0937 - val_accuracy: 0.9766 - 10s/epoch - 1s/step\n",
            "Epoch 97/100\n",
            "8/8 - 10s - loss: 0.0464 - accuracy: 0.9844 - val_loss: 0.1592 - val_accuracy: 0.9648 - 10s/epoch - 1s/step\n",
            "Epoch 98/100\n",
            "8/8 - 10s - loss: 0.0461 - accuracy: 0.9863 - val_loss: 0.9613 - val_accuracy: 0.8555 - 10s/epoch - 1s/step\n",
            "Epoch 99/100\n",
            "8/8 - 10s - loss: 0.0426 - accuracy: 0.9805 - val_loss: 0.2809 - val_accuracy: 0.9453 - 10s/epoch - 1s/step\n",
            "Epoch 100/100\n",
            "8/8 - 10s - loss: 0.0508 - accuracy: 0.9844 - val_loss: 0.2230 - val_accuracy: 0.9609 - 10s/epoch - 1s/step\n"
          ]
        }
      ],
      "source": [
        "from tensorflow.keras.applications import EfficientNetB0\n",
        "\n",
        "with strategy.scope():\n",
        "    inputs = layers.Input(shape=(IMG_SIZE, IMG_SIZE, 3))\n",
        "    x = img_augmentation(inputs)\n",
        "    outputs = EfficientNetB0(include_top=True, weights=None, classes=NUM_CLASSES)(x)\n",
        "\n",
        "    model = tf.keras.Model(inputs, outputs)\n",
        "    model.compile(\n",
        "        optimizer=\"adam\", loss=\"categorical_crossentropy\", metrics=[\"accuracy\"]\n",
        "    )\n",
        "\n",
        "model.summary()\n",
        "\n",
        "epochs = 100  # @param {type: \"slider\", min:10, max:100}\n",
        "hist = model.fit(ds_train, epochs=epochs, validation_data=ds_test, verbose=2)"
      ]
    },
    {
      "cell_type": "code",
      "execution_count": 13,
      "metadata": {
        "colab": {
          "base_uri": "https://localhost:8080/",
          "height": 295
        },
        "id": "u4mPhmmq7XQ2",
        "outputId": "b08025fb-8857-413e-d360-356a49309cbb"
      },
      "outputs": [
        {
          "data": {
            "image/png": "[encoded data removed]",
            "text/plain": [
              "<Figure size 432x288 with 1 Axes>"
            ]
          },
          "metadata": {
            "needs_background": "light"
          },
          "output_type": "display_data"
        }
      ],
      "source": [
        "import matplotlib.pyplot as plt\n",
        "\n",
        "\n",
        "def plot_hist(hist):\n",
        "    plt.plot(hist.history[\"accuracy\"])\n",
        "    plt.plot(hist.history[\"val_accuracy\"])\n",
        "    plt.title(\"model accuracy\")\n",
        "    plt.ylabel(\"accuracy\")\n",
        "    plt.xlabel(\"epoch\")\n",
        "    plt.legend([\"train\", \"validation\"], loc=\"upper left\")\n",
        "    plt.show()\n",
        "\n",
        "\n",
        "plot_hist(hist)"
      ]
    },
    {
      "cell_type": "code",
      "execution_count": 14,
      "metadata": {
        "id": "e_GRQrzy7XSx"
      },
      "outputs": [],
      "source": [
        "def build_model(num_classes):\n",
        "    inputs = layers.Input(shape=(IMG_SIZE, IMG_SIZE, 3))\n",
        "    x = img_augmentation(inputs)\n",
        "    model = EfficientNetB0(include_top=False, input_tensor=x, weights=\"imagenet\")\n",
        "\n",
        "    # Freeze the pretrained weights\n",
        "    model.trainable = False\n",
        "\n",
        "    # Rebuild top\n",
        "    x = layers.GlobalAveragePooling2D(name=\"avg_pool\")(model.output)\n",
        "    x = layers.BatchNormalization()(x)\n",
        "\n",
        "    top_dropout_rate = 0.2\n",
        "    x = layers.Dropout(top_dropout_rate, name=\"top_dropout\")(x)\n",
        "    outputs = layers.Dense(NUM_CLASSES, activation=\"softmax\", name=\"pred\")(x)\n",
        "\n",
        "    # Compile\n",
        "    model = tf.keras.Model(inputs, outputs, name=\"EfficientNet\")\n",
        "    optimizer = tf.keras.optimizers.Adam(learning_rate=1e-2)\n",
        "    model.compile(\n",
        "        optimizer=optimizer, loss=\"categorical_crossentropy\", metrics=[\"accuracy\"]\n",
        "    )\n",
        "    return model"
      ]
    },
    {
      "cell_type": "code",
      "execution_count": 15,
      "metadata": {
        "colab": {
          "base_uri": "https://localhost:8080/",
          "height": 1000
        },
        "id": "oHNly0LAIU8d",
        "outputId": "ead0a5f0-bc6b-46f4-9f55-2e9f6be42757"
      },
      "outputs": [
        {
          "name": "stdout",
          "output_type": "stream",
          "text": [
            "Downloading data from https://storage.googleapis.com/keras-applications/efficientnetb0_notop.h5\n",
            "16711680/16705208 [==============================] - 0s 0us/step\n",
            "16719872/16705208 [==============================] - 0s 0us/step\n",
            "Epoch 1/60\n",
            "8/8 - 15s - loss: 0.6439 - accuracy: 0.7900 - val_loss: 0.5947 - val_accuracy: 0.8398 - 15s/epoch - 2s/step\n",
            "Epoch 2/60\n",
            "8/8 - 3s - loss: 0.0715 - accuracy: 0.9707 - val_loss: 0.4843 - val_accuracy: 0.7656 - 3s/epoch - 388ms/step\n",
            "Epoch 3/60\n",
            "8/8 - 3s - loss: 0.0697 - accuracy: 0.9834 - val_loss: 0.5255 - val_accuracy: 0.7578 - 3s/epoch - 356ms/step\n",
            "Epoch 4/60\n",
            "8/8 - 3s - loss: 0.0199 - accuracy: 0.9932 - val_loss: 0.4074 - val_accuracy: 0.8086 - 3s/epoch - 344ms/step\n",
            "Epoch 5/60\n",
            "8/8 - 3s - loss: 0.0346 - accuracy: 0.9922 - val_loss: 0.3729 - val_accuracy: 0.8125 - 3s/epoch - 317ms/step\n",
            "Epoch 6/60\n",
            "8/8 - 3s - loss: 0.0077 - accuracy: 0.9980 - val_loss: 0.3973 - val_accuracy: 0.7773 - 3s/epoch - 314ms/step\n",
            "Epoch 7/60\n",
            "8/8 - 3s - loss: 0.0207 - accuracy: 0.9932 - val_loss: 0.2553 - val_accuracy: 0.9180 - 3s/epoch - 315ms/step\n",
            "Epoch 8/60\n",
            "8/8 - 3s - loss: 0.0281 - accuracy: 0.9951 - val_loss: 0.2176 - val_accuracy: 0.9609 - 3s/epoch - 317ms/step\n",
            "Epoch 9/60\n",
            "8/8 - 3s - loss: 0.0326 - accuracy: 0.9912 - val_loss: 0.1817 - val_accuracy: 0.9531 - 3s/epoch - 317ms/step\n",
            "Epoch 10/60\n",
            "8/8 - 3s - loss: 0.0278 - accuracy: 0.9902 - val_loss: 0.1460 - val_accuracy: 0.9727 - 3s/epoch - 315ms/step\n",
            "Epoch 11/60\n",
            "8/8 - 2s - loss: 0.0311 - accuracy: 0.9932 - val_loss: 0.1904 - val_accuracy: 0.9414 - 2s/epoch - 312ms/step\n",
            "Epoch 12/60\n",
            "8/8 - 3s - loss: 0.0175 - accuracy: 0.9941 - val_loss: 0.2574 - val_accuracy: 0.8984 - 3s/epoch - 316ms/step\n",
            "Epoch 13/60\n",
            "8/8 - 3s - loss: 0.0332 - accuracy: 0.9922 - val_loss: 0.2010 - val_accuracy: 0.9180 - 3s/epoch - 315ms/step\n",
            "Epoch 14/60\n",
            "8/8 - 3s - loss: 0.0283 - accuracy: 0.9902 - val_loss: 0.2177 - val_accuracy: 0.9258 - 3s/epoch - 317ms/step\n",
            "Epoch 15/60\n",
            "8/8 - 3s - loss: 0.0127 - accuracy: 0.9971 - val_loss: 0.4432 - val_accuracy: 0.7930 - 3s/epoch - 318ms/step\n",
            "Epoch 16/60\n",
            "8/8 - 3s - loss: 0.0224 - accuracy: 0.9902 - val_loss: 0.1849 - val_accuracy: 0.9102 - 3s/epoch - 315ms/step\n",
            "Epoch 17/60\n",
            "8/8 - 3s - loss: 0.0232 - accuracy: 0.9912 - val_loss: 0.1088 - val_accuracy: 0.9766 - 3s/epoch - 314ms/step\n",
            "Epoch 18/60\n",
            "8/8 - 3s - loss: 0.0159 - accuracy: 0.9961 - val_loss: 0.1604 - val_accuracy: 0.9336 - 3s/epoch - 315ms/step\n",
            "Epoch 19/60\n",
            "8/8 - 2s - loss: 0.0157 - accuracy: 0.9922 - val_loss: 0.0472 - val_accuracy: 0.9922 - 2s/epoch - 311ms/step\n",
            "Epoch 20/60\n",
            "8/8 - 3s - loss: 0.0118 - accuracy: 0.9971 - val_loss: 0.0437 - val_accuracy: 0.9922 - 3s/epoch - 313ms/step\n",
            "Epoch 21/60\n",
            "8/8 - 3s - loss: 0.0101 - accuracy: 0.9990 - val_loss: 0.0640 - val_accuracy: 0.9844 - 3s/epoch - 313ms/step\n",
            "Epoch 22/60\n",
            "8/8 - 3s - loss: 0.0112 - accuracy: 0.9961 - val_loss: 0.0576 - val_accuracy: 0.9883 - 3s/epoch - 316ms/step\n",
            "Epoch 23/60\n",
            "8/8 - 3s - loss: 0.0247 - accuracy: 0.9941 - val_loss: 0.0539 - val_accuracy: 0.9922 - 3s/epoch - 333ms/step\n",
            "Epoch 24/60\n",
            "8/8 - 3s - loss: 0.0083 - accuracy: 0.9971 - val_loss: 0.0763 - val_accuracy: 0.9766 - 3s/epoch - 315ms/step\n",
            "Epoch 25/60\n",
            "8/8 - 3s - loss: 0.0054 - accuracy: 0.9980 - val_loss: 0.0239 - val_accuracy: 0.9961 - 3s/epoch - 317ms/step\n",
            "Epoch 26/60\n",
            "8/8 - 3s - loss: 0.0128 - accuracy: 0.9971 - val_loss: 0.0497 - val_accuracy: 0.9883 - 3s/epoch - 317ms/step\n",
            "Epoch 27/60\n",
            "8/8 - 3s - loss: 0.0042 - accuracy: 0.9980 - val_loss: 0.0437 - val_accuracy: 0.9883 - 3s/epoch - 317ms/step\n",
            "Epoch 28/60\n",
            "8/8 - 3s - loss: 0.0153 - accuracy: 0.9961 - val_loss: 0.0181 - val_accuracy: 0.9961 - 3s/epoch - 316ms/step\n",
            "Epoch 29/60\n",
            "8/8 - 3s - loss: 0.0036 - accuracy: 0.9980 - val_loss: 0.0198 - val_accuracy: 0.9961 - 3s/epoch - 315ms/step\n",
            "Epoch 30/60\n",
            "8/8 - 3s - loss: 0.0076 - accuracy: 0.9961 - val_loss: 0.0445 - val_accuracy: 0.9922 - 3s/epoch - 319ms/step\n",
            "Epoch 31/60\n",
            "8/8 - 3s - loss: 0.0099 - accuracy: 0.9980 - val_loss: 0.0711 - val_accuracy: 0.9922 - 3s/epoch - 318ms/step\n",
            "Epoch 32/60\n",
            "8/8 - 3s - loss: 0.0118 - accuracy: 0.9980 - val_loss: 0.0560 - val_accuracy: 0.9844 - 3s/epoch - 318ms/step\n",
            "Epoch 33/60\n",
            "8/8 - 3s - loss: 0.0079 - accuracy: 0.9961 - val_loss: 0.0426 - val_accuracy: 0.9922 - 3s/epoch - 316ms/step\n",
            "Epoch 34/60\n",
            "8/8 - 3s - loss: 0.0172 - accuracy: 0.9951 - val_loss: 0.0180 - val_accuracy: 0.9961 - 3s/epoch - 319ms/step\n",
            "Epoch 35/60\n",
            "8/8 - 3s - loss: 0.0038 - accuracy: 0.9980 - val_loss: 0.0107 - val_accuracy: 1.0000 - 3s/epoch - 319ms/step\n",
            "Epoch 36/60\n",
            "8/8 - 3s - loss: 0.0344 - accuracy: 0.9951 - val_loss: 0.0104 - val_accuracy: 0.9961 - 3s/epoch - 317ms/step\n",
            "Epoch 37/60\n",
            "8/8 - 3s - loss: 0.0022 - accuracy: 1.0000 - val_loss: 0.0084 - val_accuracy: 1.0000 - 3s/epoch - 319ms/step\n",
            "Epoch 38/60\n",
            "8/8 - 3s - loss: 0.0147 - accuracy: 0.9971 - val_loss: 0.0128 - val_accuracy: 0.9922 - 3s/epoch - 321ms/step\n",
            "Epoch 39/60\n",
            "8/8 - 3s - loss: 0.0203 - accuracy: 0.9941 - val_loss: 0.0575 - val_accuracy: 0.9844 - 3s/epoch - 314ms/step\n",
            "Epoch 40/60\n",
            "8/8 - 3s - loss: 0.0050 - accuracy: 0.9971 - val_loss: 0.0114 - val_accuracy: 0.9961 - 3s/epoch - 318ms/step\n",
            "Epoch 41/60\n",
            "8/8 - 3s - loss: 0.0101 - accuracy: 0.9951 - val_loss: 0.0114 - val_accuracy: 0.9961 - 3s/epoch - 335ms/step\n",
            "Epoch 42/60\n",
            "8/8 - 3s - loss: 0.0183 - accuracy: 0.9951 - val_loss: 0.0172 - val_accuracy: 0.9922 - 3s/epoch - 318ms/step\n",
            "Epoch 43/60\n",
            "8/8 - 3s - loss: 0.0289 - accuracy: 0.9922 - val_loss: 0.0053 - val_accuracy: 1.0000 - 3s/epoch - 316ms/step\n",
            "Epoch 44/60\n",
            "8/8 - 3s - loss: 0.0336 - accuracy: 0.9951 - val_loss: 0.0362 - val_accuracy: 0.9844 - 3s/epoch - 334ms/step\n",
            "Epoch 45/60\n",
            "8/8 - 3s - loss: 0.0131 - accuracy: 0.9961 - val_loss: 0.0181 - val_accuracy: 1.0000 - 3s/epoch - 322ms/step\n",
            "Epoch 46/60\n",
            "8/8 - 3s - loss: 0.0184 - accuracy: 0.9941 - val_loss: 0.0068 - val_accuracy: 0.9961 - 3s/epoch - 317ms/step\n",
            "Epoch 47/60\n",
            "8/8 - 3s - loss: 0.0155 - accuracy: 0.9941 - val_loss: 0.0123 - val_accuracy: 0.9961 - 3s/epoch - 317ms/step\n",
            "Epoch 48/60\n",
            "8/8 - 3s - loss: 0.0168 - accuracy: 0.9951 - val_loss: 0.0077 - val_accuracy: 0.9961 - 3s/epoch - 316ms/step\n",
            "Epoch 49/60\n",
            "8/8 - 3s - loss: 0.0227 - accuracy: 0.9941 - val_loss: 0.0149 - val_accuracy: 0.9961 - 3s/epoch - 319ms/step\n",
            "Epoch 50/60\n",
            "8/8 - 3s - loss: 0.0068 - accuracy: 0.9990 - val_loss: 0.0199 - val_accuracy: 0.9961 - 3s/epoch - 318ms/step\n",
            "Epoch 51/60\n",
            "8/8 - 3s - loss: 0.0137 - accuracy: 0.9932 - val_loss: 0.0481 - val_accuracy: 0.9883 - 3s/epoch - 318ms/step\n",
            "Epoch 52/60\n",
            "8/8 - 3s - loss: 0.0035 - accuracy: 0.9980 - val_loss: 0.0500 - val_accuracy: 0.9883 - 3s/epoch - 319ms/step\n",
            "Epoch 53/60\n",
            "8/8 - 3s - loss: 0.0341 - accuracy: 0.9932 - val_loss: 0.0338 - val_accuracy: 0.9961 - 3s/epoch - 317ms/step\n",
            "Epoch 54/60\n",
            "8/8 - 3s - loss: 0.0360 - accuracy: 0.9941 - val_loss: 0.0363 - val_accuracy: 0.9883 - 3s/epoch - 319ms/step\n",
            "Epoch 55/60\n",
            "8/8 - 3s - loss: 0.0121 - accuracy: 0.9951 - val_loss: 0.0618 - val_accuracy: 0.9922 - 3s/epoch - 317ms/step\n",
            "Epoch 56/60\n",
            "8/8 - 3s - loss: 0.0181 - accuracy: 0.9971 - val_loss: 0.0507 - val_accuracy: 0.9922 - 3s/epoch - 316ms/step\n",
            "Epoch 57/60\n",
            "8/8 - 3s - loss: 0.0038 - accuracy: 0.9980 - val_loss: 0.0456 - val_accuracy: 0.9922 - 3s/epoch - 318ms/step\n",
            "Epoch 58/60\n",
            "8/8 - 3s - loss: 0.0011 - accuracy: 0.9990 - val_loss: 0.0424 - val_accuracy: 0.9922 - 3s/epoch - 320ms/step\n",
            "Epoch 59/60\n",
            "8/8 - 3s - loss: 0.0074 - accuracy: 0.9980 - val_loss: 0.0365 - val_accuracy: 0.9961 - 3s/epoch - 319ms/step\n",
            "Epoch 60/60\n",
            "8/8 - 3s - loss: 0.0188 - accuracy: 0.9951 - val_loss: 0.0088 - val_accuracy: 0.9961 - 3s/epoch - 317ms/step\n"
          ]
        },
        {
          "data": {
            "image/png": "[encoded data removed]",
            "text/plain": [
              "<Figure size 432x288 with 1 Axes>"
            ]
          },
          "metadata": {
            "needs_background": "light"
          },
          "output_type": "display_data"
        }
      ],
      "source": [
        "with strategy.scope():\n",
        "    model = build_model(num_classes=NUM_CLASSES)\n",
        "\n",
        "epochs = 60  # @param {type: \"slider\", min:8, max:80}\n",
        "hist = model.fit(ds_train, epochs=epochs, validation_data=ds_test, verbose=2)\n",
        "plot_hist(hist)"
      ]
    },
    {
      "cell_type": "code",
      "execution_count": null,
      "metadata": {
        "id": "fg_qIjn6IU6f"
      },
      "outputs": [],
      "source": [
        "def unfreeze_model(model):\n",
        "    # We unfreeze the top 20 layers while leaving BatchNorm layers frozen\n",
        "    for layer in model.layers[-20:]:\n",
        "        if not isinstance(layer, layers.BatchNormalization):\n",
        "            layer.trainable = True\n",
        "\n",
        "    optimizer = tf.keras.optimizers.Adam(learning_rate=1e-4)\n",
        "    model.compile(\n",
        "        optimizer=optimizer, loss=\"categorical_crossentropy\", metrics=[\"accuracy\"]\n",
        "    )\n",
        "\n",
        "\n",
        "unfreeze_model(model)\n",
        "\n",
        "epochs = 10  # @param {type: \"slider\", min:8, max:50}\n",
        "hist = model.fit(ds_train, epochs=epochs, validation_data=ds_test, verbose=2)\n",
        "plot_hist(hist)"
      ]
    },
    {
      "cell_type": "code",
      "execution_count": null,
      "metadata": {
        "id": "dlwIrZYHIU4M"
      },
      "outputs": [],
      "source": [
        "model.evaluate(ds_test)"
      ]
    },
    {
      "cell_type": "code",
      "execution_count": null,
      "metadata": {
        "id": "EB7MPxHfEqfQ"
      },
      "outputs": [],
      "source": [
        "#Test set 정확도\n",
        "y_pred_test=model.predict(x_test)\n",
        "print(y_pred_test, type(y_pred_test), y_pred_test.shape)\n",
        "y_pred=[]\n",
        "for ar in y_pred_test:\n",
        "  y_pred.append(np.argmax(ar))\n",
        "y_pred = np.array(y_pred)\n",
        "print(y_pred, y_pred.shape)\n",
        "print(y_test, y_test.shape)"
      ]
    },
    {
      "cell_type": "code",
      "execution_count": 19,
      "metadata": {
        "colab": {
          "base_uri": "https://localhost:8080/"
        },
        "id": "RpZW7G96IUsi",
        "outputId": "2880c3a6-621b-4c47-a6d1-f65d5e4fb60e"
      },
      "outputs": [
        {
          "name": "stdout",
          "output_type": "stream",
          "text": [
            "accuracy: 0.9972222222222222\n",
            "Precision: 0.9972663139329806\n",
            "Recall: 0.9972222222222222\n",
            "F1-Score: 0.9972195819581958\n"
          ]
        }
      ],
      "source": [
        "from sklearn.metrics import f1_score, accuracy_score, recall_score, precision_score\n",
        "print(\"accuracy:\",accuracy_score(y_test, y_pred))\n",
        "print(\"Precision:\",precision_score(y_test, y_pred, average='weighted'))\n",
        "print(\"Recall:\",recall_score(y_test, y_pred, average='weighted'))\n",
        "print(\"F1-Score:\",f1_score(y_test, y_pred, average='weighted'))"
      ]
    },
    {
      "cell_type": "code",
      "execution_count": null,
      "metadata": {
        "id": "EXzxgRCOh8Kz"
      },
      "outputs": [],
      "source": [
        "#Train set 정확도\n",
        "\n",
        "y_pred_train=model.predict(x_train)\n",
        "print(y_pred_train, type(y_pred_train), y_pred_train.shape)\n",
        "y_train_list=[]\n",
        "for ar in y_pred_train:\n",
        "  y_train_list.append(np.argmax(ar))\n",
        "y_train_list = np.array(y_train_list)\n",
        "print(y_pred_train, y_pred_train.shape)\n",
        "print(y_train_list, y_train_list.shape)"
      ]
    },
    {
      "cell_type": "code",
      "execution_count": 21,
      "metadata": {
        "colab": {
          "base_uri": "https://localhost:8080/"
        },
        "id": "VUljgSBFiS0L",
        "outputId": "8d0911bd-b07c-4f75-b554-dee5335bdc82"
      },
      "outputs": [
        {
          "name": "stdout",
          "output_type": "stream",
          "text": [
            "accuracy: 1.0\n",
            "Precision: 1.0\n",
            "Recall: 1.0\n",
            "F1-Score: 1.0\n"
          ]
        }
      ],
      "source": [
        "print(\"accuracy:\",accuracy_score(y_train, y_train_list))\n",
        "print(\"Precision:\",precision_score(y_train, y_train_list, average='weighted'))\n",
        "print(\"Recall:\",recall_score(y_train, y_train_list, average='weighted'))\n",
        "print(\"F1-Score:\",f1_score(y_train, y_train_list, average='weighted'))"
      ]
    },
    {
      "cell_type": "code",
      "execution_count": 22,
      "metadata": {
        "colab": {
          "base_uri": "https://localhost:8080/"
        },
        "id": "xM9cj2PXvGHI",
        "outputId": "10e6aa7f-58e5-4d2c-ad4a-06e66f7c6c0d"
      },
      "outputs": [
        {
          "name": "stdout",
          "output_type": "stream",
          "text": [
            "Ubuntu 18.04.5 LTS \\n \\l\n",
            "\n",
            "processor\t: 0\n",
            "vendor_id\t: GenuineIntel\n",
            "cpu family\t: 6\n",
            "model\t\t: 79\n",
            "model name\t: Intel(R) Xeon(R) CPU @ 2.20GHz\n",
            "stepping\t: 0\n",
            "microcode\t: 0x1\n",
            "cpu MHz\t\t: 2199.998\n",
            "cache size\t: 56320 KB\n",
            "physical id\t: 0\n",
            "siblings\t: 2\n",
            "core id\t\t: 0\n",
            "cpu cores\t: 1\n",
            "apicid\t\t: 0\n",
            "initial apicid\t: 0\n",
            "fpu\t\t: yes\n",
            "fpu_exception\t: yes\n",
            "cpuid level\t: 13\n",
            "wp\t\t: yes\n",
            "flags\t\t: fpu vme de pse tsc msr pae mce cx8 apic sep mtrr pge mca cmov pat pse36 clflush mmx fxsr sse sse2 ss ht syscall nx pdpe1gb rdtscp lm constant_tsc rep_good nopl xtopology nonstop_tsc cpuid tsc_known_freq pni pclmulqdq ssse3 fma cx16 pcid sse4_1 sse4_2 x2apic movbe popcnt aes xsave avx f16c rdrand hypervisor lahf_lm abm 3dnowprefetch invpcid_single ssbd ibrs ibpb stibp fsgsbase tsc_adjust bmi1 hle avx2 smep bmi2 erms invpcid rtm rdseed adx smap xsaveopt arat md_clear arch_capabilities\n",
            "bugs\t\t: cpu_meltdown spectre_v1 spectre_v2 spec_store_bypass l1tf mds swapgs taa\n",
            "bogomips\t: 4399.99\n",
            "clflush size\t: 64\n",
            "cache_alignment\t: 64\n",
            "address sizes\t: 46 bits physical, 48 bits virtual\n",
            "power management:\n",
            "\n",
            "processor\t: 1\n",
            "vendor_id\t: GenuineIntel\n",
            "cpu family\t: 6\n",
            "model\t\t: 79\n",
            "model name\t: Intel(R) Xeon(R) CPU @ 2.20GHz\n",
            "stepping\t: 0\n",
            "microcode\t: 0x1\n",
            "cpu MHz\t\t: 2199.998\n",
            "cache size\t: 56320 KB\n",
            "physical id\t: 0\n",
            "siblings\t: 2\n",
            "core id\t\t: 0\n",
            "cpu cores\t: 1\n",
            "apicid\t\t: 1\n",
            "initial apicid\t: 1\n",
            "fpu\t\t: yes\n",
            "fpu_exception\t: yes\n",
            "cpuid level\t: 13\n",
            "wp\t\t: yes\n",
            "flags\t\t: fpu vme de pse tsc msr pae mce cx8 apic sep mtrr pge mca cmov pat pse36 clflush mmx fxsr sse sse2 ss ht syscall nx pdpe1gb rdtscp lm constant_tsc rep_good nopl xtopology nonstop_tsc cpuid tsc_known_freq pni pclmulqdq ssse3 fma cx16 pcid sse4_1 sse4_2 x2apic movbe popcnt aes xsave avx f16c rdrand hypervisor lahf_lm abm 3dnowprefetch invpcid_single ssbd ibrs ibpb stibp fsgsbase tsc_adjust bmi1 hle avx2 smep bmi2 erms invpcid rtm rdseed adx smap xsaveopt arat md_clear arch_capabilities\n",
            "bugs\t\t: cpu_meltdown spectre_v1 spectre_v2 spec_store_bypass l1tf mds swapgs taa\n",
            "bogomips\t: 4399.99\n",
            "clflush size\t: 64\n",
            "cache_alignment\t: 64\n",
            "address sizes\t: 46 bits physical, 48 bits virtual\n",
            "power management:\n",
            "\n",
            "2\n",
            "1\n",
            "cpu cores\t: 1\n",
            "              total        used        free      shared  buff/cache   available\n",
            "Mem:            12G        4.9G        550M        1.0G        7.3G        8.3G\n",
            "Swap:            0B          0B          0B\n",
            "Wed Jun 15 05:13:03 2022       \n",
            "+-----------------------------------------------------------------------------+\n",
            "| NVIDIA-SMI 460.32.03    Driver Version: 460.32.03    CUDA Version: 11.2     |\n",
            "|-------------------------------+----------------------+----------------------+\n",
            "| GPU  Name        Persistence-M| Bus-Id        Disp.A | Volatile Uncorr. ECC |\n",
            "| Fan  Temp  Perf  Pwr:Usage/Cap|         Memory-Usage | GPU-Util  Compute M. |\n",
            "|                               |                      |               MIG M. |\n",
            "|===============================+======================+======================|\n",
            "|   0  Tesla T4            Off  | 00000000:00:04.0 Off |                    0 |\n",
            "| N/A   71C    P0    43W /  70W |  14588MiB / 15109MiB |      0%      Default |\n",
            "|                               |                      |                  N/A |\n",
            "+-------------------------------+----------------------+----------------------+\n",
            "                                                                               \n",
            "+-----------------------------------------------------------------------------+\n",
            "| Processes:                                                                  |\n",
            "|  GPU   GI   CI        PID   Type   Process name                  GPU Memory |\n",
            "|        ID   ID                                                   Usage      |\n",
            "|=============================================================================|\n",
            "+-----------------------------------------------------------------------------+\n"
          ]
        }
      ],
      "source": [
        "#운영체제 확인\n",
        "!cat /etc/issue\n",
        "\n",
        "#0. CPU 정보 확인\n",
        "!cat /proc/cpuinfo\n",
        "\n",
        "#1. CPU 코어 전체 개수 확인\n",
        "!grep -c processor /proc/cpuinfo\n",
        " \n",
        "#2. 물리 CPU 수 확인\n",
        "!grep \"physical id\" /proc/cpuinfo | sort -u | wc -l\n",
        " \n",
        "# 3.CPU당 물리 코어 수 확인\n",
        "!grep \"cpu cores\" /proc/cpuinfo | tail -1\n",
        "\n",
        "#메모리 확인\n",
        "!free -h\n",
        "\n",
        "#런타임 유형 변경 후 gpu 확인\n",
        "!nvidia-smi"
      ]
    }
  ],
  "metadata": {
    "accelerator": "GPU",
    "colab": {
      "collapsed_sections": [],
      "name": "EfficientNet 9th Result",
      "provenance": []
    },
    "kernelspec": {
      "display_name": "Python 3",
      "name": "python3"
    },
    "language_info": {
      "name": "python"
    }
  },
  "nbformat": 4,
  "nbformat_minor": 0
}
