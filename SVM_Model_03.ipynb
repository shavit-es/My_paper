{
  "nbformat": 4,
  "nbformat_minor": 0,
  "metadata": {
    "colab": {
      "name": "SVM_c=10 rbf (1).ipynb",
      "provenance": [],
      "collapsed_sections": []
    },
    "kernelspec": {
      "name": "python3",
      "display_name": "Python 3"
    },
    "language_info": {
      "name": "python"
    },
    "accelerator": "GPU"
  },
  "cells": [
    {
      "cell_type": "code",
      "execution_count": 1,
      "metadata": {
        "id": "vYjUKCCo0Z8b",
        "colab": {
          "base_uri": "https://localhost:8080/"
        },
        "outputId": "5297b56b-e90e-425e-9189-e1a08c9d6f8b"
      },
      "outputs": [
        {
          "output_type": "stream",
          "name": "stdout",
          "text": [
            "Looking in indexes: https://pypi.org/simple, https://us-python.pkg.dev/colab-wheels/public/simple/\n",
            "Collecting thundersvm\n",
            "  Downloading thundersvm-0.3.12-py3-none-any.whl (507 kB)\n",
            "\u001b[K     |████████████████████████████████| 507 kB 5.1 MB/s \n",
            "\u001b[?25hRequirement already satisfied: scikit-learn in /usr/local/lib/python3.7/dist-packages (from thundersvm) (1.0.2)\n",
            "Requirement already satisfied: numpy in /usr/local/lib/python3.7/dist-packages (from thundersvm) (1.21.6)\n",
            "Requirement already satisfied: scipy in /usr/local/lib/python3.7/dist-packages (from thundersvm) (1.4.1)\n",
            "Requirement already satisfied: joblib>=0.11 in /usr/local/lib/python3.7/dist-packages (from scikit-learn->thundersvm) (1.1.0)\n",
            "Requirement already satisfied: threadpoolctl>=2.0.0 in /usr/local/lib/python3.7/dist-packages (from scikit-learn->thundersvm) (3.1.0)\n",
            "Installing collected packages: thundersvm\n",
            "Successfully installed thundersvm-0.3.12\n",
            "Looking in indexes: https://pypi.org/simple, https://us-python.pkg.dev/colab-wheels/public/simple/\n",
            "Collecting thundersvm-cpu\n",
            "  Downloading thundersvm_cpu-0.3.3-py3-none-any.whl (227 kB)\n",
            "\u001b[K     |████████████████████████████████| 227 kB 4.4 MB/s \n",
            "\u001b[?25hRequirement already satisfied: numpy in /usr/local/lib/python3.7/dist-packages (from thundersvm-cpu) (1.21.6)\n",
            "Requirement already satisfied: scikit-learn in /usr/local/lib/python3.7/dist-packages (from thundersvm-cpu) (1.0.2)\n",
            "Requirement already satisfied: scipy in /usr/local/lib/python3.7/dist-packages (from thundersvm-cpu) (1.4.1)\n",
            "Requirement already satisfied: threadpoolctl>=2.0.0 in /usr/local/lib/python3.7/dist-packages (from scikit-learn->thundersvm-cpu) (3.1.0)\n",
            "Requirement already satisfied: joblib>=0.11 in /usr/local/lib/python3.7/dist-packages (from scikit-learn->thundersvm-cpu) (1.1.0)\n",
            "Installing collected packages: thundersvm-cpu\n",
            "Successfully installed thundersvm-cpu-0.3.3\n"
          ]
        }
      ],
      "source": [
        "!pip install thundersvm\n",
        "!pip install thundersvm-cpu"
      ]
    },
    {
      "cell_type": "code",
      "source": [
        "from google.colab import drive\n",
        "drive.mount('/content/drive')"
      ],
      "metadata": {
        "colab": {
          "base_uri": "https://localhost:8080/"
        },
        "id": "hGFnH3dK2pae",
        "outputId": "4f7d31bc-478c-4386-e55a-a305231e5815"
      },
      "execution_count": 2,
      "outputs": [
        {
          "output_type": "stream",
          "name": "stdout",
          "text": [
            "Mounted at /content/drive\n"
          ]
        }
      ]
    },
    {
      "cell_type": "code",
      "source": [
        "import pandas as pd\n",
        "import os\n",
        "from skimage.transform import resize\n",
        "from skimage.io import imread\n",
        "import numpy as np\n",
        "import matplotlib.pyplot as plt"
      ],
      "metadata": {
        "id": "Q5K4GHt_0cVq"
      },
      "execution_count": 3,
      "outputs": []
    },
    {
      "cell_type": "code",
      "source": [
        "Categories=['crazing','inclusion','patches','pitted_surface','rolled-in_scale','scratches']\n",
        "flat_data_arr=[] #input array\n",
        "target_arr=[] #output array\n",
        "datadir='/content/drive/MyDrive/images/' \n",
        "#path which contains all the categories of images\n",
        "for i in Categories:\n",
        "    \n",
        "    print(f'loading... category : {i}')\n",
        "    path=os.path.join(datadir,i)\n",
        "    for img in os.listdir(path):\n",
        "        img_array=imread(os.path.join(path,img))\n",
        "        img_resized=resize(img_array,(150,150,3))\n",
        "        flat_data_arr.append(img_resized.flatten())\n",
        "        target_arr.append(Categories.index(i))\n",
        "    print(f'loaded category:{i} successfully')\n",
        "flat_data=np.array(flat_data_arr)\n",
        "target=np.array(target_arr)\n",
        "df=pd.DataFrame(flat_data) #dataframe\n",
        "df['Target']=target\n",
        "x=df.iloc[:,:-1] #input data \n",
        "y=df.iloc[:,-1] #output data"
      ],
      "metadata": {
        "id": "HdK0AP8v0cTN",
        "colab": {
          "base_uri": "https://localhost:8080/"
        },
        "outputId": "c6a23890-a150-49c7-b93e-9db412fdcf36"
      },
      "execution_count": 4,
      "outputs": [
        {
          "output_type": "stream",
          "name": "stdout",
          "text": [
            "loading... category : crazing\n",
            "loaded category:crazing successfully\n",
            "loading... category : inclusion\n",
            "loaded category:inclusion successfully\n",
            "loading... category : patches\n",
            "loaded category:patches successfully\n",
            "loading... category : pitted_surface\n",
            "loaded category:pitted_surface successfully\n",
            "loading... category : rolled-in_scale\n",
            "loaded category:rolled-in_scale successfully\n",
            "loading... category : scratches\n",
            "loaded category:scratches successfully\n"
          ]
        }
      ]
    },
    {
      "cell_type": "code",
      "source": [
        "from sklearn.datasets import make_classification\n",
        "from sklearn.model_selection import train_test_split\n",
        "from thundersvm import SVC\n",
        "\n",
        "x_train, x_test, y_train, y_test = train_test_split(x, y, test_size=.2, random_state=43)\n"
      ],
      "metadata": {
        "id": "eIpN0ITY0cQj"
      },
      "execution_count": 5,
      "outputs": []
    },
    {
      "cell_type": "code",
      "source": [
        "model1 = SVC(C=10, kernel='rbf')\n",
        "model1.fit(x_train,y_train)\n",
        "accuracy_score1 = model1.score(x_test, y_test)\n",
        "print('model1 Accuracy: {}'.format(accuracy_score1))\n",
        "\n",
        "y_pred1=model1.predict(x_test)\n",
        "print(\"The predicted Data is :\")\n",
        "map(int,y_pred1)\n",
        "print(y_pred1)\n",
        "print(\"The actual data is:\")\n",
        "print(np.array(y_test))"
      ],
      "metadata": {
        "id": "dZQbCh2E0cKb",
        "colab": {
          "base_uri": "https://localhost:8080/"
        },
        "outputId": "4f7c3d46-9dbe-49c4-e6c4-d63d4adaca5d"
      },
      "execution_count": 6,
      "outputs": [
        {
          "output_type": "stream",
          "name": "stdout",
          "text": [
            "model1 Accuracy: 0.6111111111111112\n",
            "The predicted Data is :\n",
            "[0. 4. 0. 4. 4. 5. 0. 4. 0. 3. 0. 5. 1. 3. 4. 0. 0. 3. 0. 3. 5. 1. 4. 1.\n",
            " 0. 2. 3. 5. 1. 0. 0. 1. 5. 0. 3. 5. 0. 4. 0. 1. 3. 4. 3. 3. 5. 4. 0. 1.\n",
            " 4. 4. 0. 2. 0. 4. 2. 4. 3. 5. 2. 0. 2. 4. 2. 5. 0. 1. 0. 5. 4. 1. 4. 4.\n",
            " 4. 2. 4. 3. 4. 2. 2. 3. 4. 0. 2. 4. 5. 2. 0. 4. 5. 4. 5. 3. 0. 3. 2. 4.\n",
            " 0. 2. 3. 5. 5. 0. 3. 1. 1. 1. 3. 3. 0. 4. 2. 2. 1. 5. 0. 1. 0. 0. 1. 2.\n",
            " 5. 5. 0. 4. 0. 4. 3. 4. 1. 3. 2. 2. 2. 4. 0. 2. 4. 5. 1. 4. 2. 5. 4. 0.\n",
            " 0. 0. 1. 2. 4. 4. 4. 5. 2. 0. 5. 1. 2. 2. 2. 0. 3. 1. 4. 3. 2. 1. 0. 4.\n",
            " 1. 1. 5. 3. 1. 4. 1. 3. 5. 1. 2. 1. 4. 1. 5. 4. 5. 3. 3. 1. 5. 2. 3. 4.\n",
            " 0. 0. 4. 2. 4. 1. 5. 5. 0. 5. 1. 4. 2. 4. 0. 4. 3. 2. 5. 0. 2. 2. 5. 0.\n",
            " 2. 1. 3. 5. 5. 3. 1. 3. 5. 3. 4. 0. 1. 0. 4. 0. 0. 1. 2. 2. 4. 2. 3. 4.\n",
            " 3. 1. 0. 0. 4. 0. 4. 4. 5. 4. 4. 3. 3. 2. 4. 5. 5. 2. 4. 1. 4. 4. 0. 0.\n",
            " 2. 0. 0. 4. 5. 3. 4. 4. 4. 4. 4. 3. 5. 2. 0. 2. 1. 5. 5. 4. 4. 3. 0. 2.\n",
            " 0. 0. 0. 4. 1. 0. 1. 1. 4. 2. 4. 3. 3. 3. 0. 5. 3. 2. 4. 3. 4. 0. 5. 4.\n",
            " 1. 3. 4. 1. 5. 1. 0. 3. 0. 3. 1. 4. 0. 4. 4. 4. 3. 0. 0. 4. 4. 1. 5. 0.\n",
            " 0. 3. 0. 2. 3. 0. 0. 2. 0. 2. 4. 0. 5. 0. 0. 2. 0. 0. 1. 4. 0. 1. 1. 2.]\n",
            "The actual data is:\n",
            "[0 1 3 1 5 3 5 5 5 3 0 5 5 3 2 0 0 2 0 1 5 1 1 5 3 2 3 5 4 5 3 1 5 3 3 5 0\n",
            " 1 0 1 1 4 1 3 5 5 0 5 4 4 5 2 3 1 2 1 3 5 2 0 2 4 2 3 0 5 0 4 4 5 4 4 4 2\n",
            " 4 3 4 2 2 3 4 3 2 4 5 2 4 0 4 0 5 3 3 3 2 5 0 2 2 5 5 3 1 4 1 1 2 3 5 4 2\n",
            " 2 0 5 0 3 0 0 1 2 1 5 2 5 0 5 3 1 5 3 2 2 2 1 0 2 4 5 5 4 2 5 2 0 5 4 1 2\n",
            " 1 1 0 1 2 0 5 4 2 2 2 0 3 4 4 3 2 1 4 4 1 1 5 3 1 4 4 3 1 1 2 1 4 1 5 1 4\n",
            " 0 3 5 5 2 3 4 0 3 4 2 4 1 5 3 5 5 1 4 2 4 5 4 3 2 5 4 2 2 5 3 2 5 3 1 5 3\n",
            " 1 3 3 3 1 2 3 3 1 3 0 2 2 2 4 2 3 4 3 4 5 3 4 0 4 4 3 4 4 3 3 2 3 0 5 2 4\n",
            " 1 5 4 3 2 2 0 0 4 3 3 2 4 1 0 4 3 1 2 0 2 5 5 3 4 4 3 4 2 0 1 3 1 5 3 1 5\n",
            " 4 2 0 3 3 3 4 5 0 2 3 3 4 5 1 1 1 3 4 4 2 3 5 1 3 3 5 5 3 0 1 4 3 2 5 1 0\n",
            " 1 4 0 0 2 3 2 3 5 0 2 0 2 0 3 5 0 0 2 0 0 4 5 0 1 1 2]\n"
          ]
        }
      ]
    },
    {
      "cell_type": "code",
      "source": [
        "from sklearn.metrics import f1_score, accuracy_score, recall_score, precision_score\n",
        "print(\"accuracy:\",accuracy_score(y_test, y_pred1))\n",
        "print(\"Precision:\",precision_score(y_test, y_pred1, average='weighted'))\n",
        "print(\"Recall:\",recall_score(y_test, y_pred1, average='weighted'))\n",
        "print(\"F1-Score:\",f1_score(y_test, y_pred1, average='weighted'))"
      ],
      "metadata": {
        "colab": {
          "base_uri": "https://localhost:8080/"
        },
        "id": "7m6UZod41hS6",
        "outputId": "952e0949-faf5-4f13-8321-a7dd1096c629"
      },
      "execution_count": 7,
      "outputs": [
        {
          "output_type": "stream",
          "name": "stdout",
          "text": [
            "accuracy: 0.6111111111111112\n",
            "Precision: 0.6527552098682761\n",
            "Recall: 0.6111111111111112\n",
            "F1-Score: 0.616497377903398\n"
          ]
        }
      ]
    },
    {
      "cell_type": "code",
      "source": [
        "model2 = SVC(C=100, kernel='rbf')\n",
        "model2.fit(x_train,y_train)\n",
        "\n",
        "accuracy_score2 = model2.score(x_test, y_test)\n",
        "print('model2 Accuracy: {}'.format(accuracy_score2))\n",
        "\n",
        "y_pred2=model2.predict(x_test)\n",
        "print(\"The predicted Data is :\")\n",
        "map(int,y_pred2)\n",
        "print(y_pred2)\n",
        "print(\"The actual data is:\")\n",
        "print(np.array(y_test))"
      ],
      "metadata": {
        "id": "lqyco2HY0b9l"
      },
      "execution_count": null,
      "outputs": []
    },
    {
      "cell_type": "code",
      "source": [
        "print(\"accuracy:\",accuracy_score(y_test, y_pred2))\n",
        "print(\"Precision:\",precision_score(y_test, y_pred2, average='weighted'))\n",
        "print(\"Recall:\",recall_score(y_test, y_pred2, average='weighted'))\n",
        "print(\"F1-Score:\",f1_score(y_test, y_pred2, average='weighted'))"
      ],
      "metadata": {
        "id": "YLfzWJ4B1h5M"
      },
      "execution_count": null,
      "outputs": []
    }
  ]
}