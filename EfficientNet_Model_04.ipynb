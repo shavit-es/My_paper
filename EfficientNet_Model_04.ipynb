{
  "cells": [
    {
      "cell_type": "code",
      "execution_count": 1,
      "metadata": {
        "colab": {
          "base_uri": "https://localhost:8080/"
        },
        "id": "-P2q4WSEARhh",
        "outputId": "fda23bc6-a243-4c9d-fbb6-4b6d7bf30334"
      },
      "outputs": [
        {
          "name": "stdout",
          "output_type": "stream",
          "text": [
            "Looking in indexes: https://pypi.org/simple, https://us-python.pkg.dev/colab-wheels/public/simple/\n",
            "Collecting cloud_tpu_client\n",
            "  Downloading cloud_tpu_client-0.10-py3-none-any.whl (7.4 kB)\n",
            "Collecting google-api-python-client==1.8.0\n",
            "  Downloading google_api_python_client-1.8.0-py3-none-any.whl (57 kB)\n",
            "\u001b[K     |████████████████████████████████| 57 kB 3.3 MB/s \n",
            "\u001b[?25hRequirement already satisfied: oauth2client in /usr/local/lib/python3.7/dist-packages (from cloud_tpu_client) (4.1.3)\n",
            "Requirement already satisfied: google-api-core<2dev,>=1.13.0 in /usr/local/lib/python3.7/dist-packages (from google-api-python-client==1.8.0->cloud_tpu_client) (1.31.6)\n",
            "Requirement already satisfied: google-auth-httplib2>=0.0.3 in /usr/local/lib/python3.7/dist-packages (from google-api-python-client==1.8.0->cloud_tpu_client) (0.0.4)\n",
            "Requirement already satisfied: uritemplate<4dev,>=3.0.0 in /usr/local/lib/python3.7/dist-packages (from google-api-python-client==1.8.0->cloud_tpu_client) (3.0.1)\n",
            "Requirement already satisfied: google-auth>=1.4.1 in /usr/local/lib/python3.7/dist-packages (from google-api-python-client==1.8.0->cloud_tpu_client) (1.35.0)\n",
            "Requirement already satisfied: httplib2<1dev,>=0.9.2 in /usr/local/lib/python3.7/dist-packages (from google-api-python-client==1.8.0->cloud_tpu_client) (0.17.4)\n",
            "Requirement already satisfied: six<2dev,>=1.6.1 in /usr/local/lib/python3.7/dist-packages (from google-api-python-client==1.8.0->cloud_tpu_client) (1.15.0)\n",
            "Requirement already satisfied: googleapis-common-protos<2.0dev,>=1.6.0 in /usr/local/lib/python3.7/dist-packages (from google-api-core<2dev,>=1.13.0->google-api-python-client==1.8.0->cloud_tpu_client) (1.56.2)\n",
            "Requirement already satisfied: setuptools>=40.3.0 in /usr/local/lib/python3.7/dist-packages (from google-api-core<2dev,>=1.13.0->google-api-python-client==1.8.0->cloud_tpu_client) (57.4.0)\n",
            "Requirement already satisfied: protobuf<4.0.0dev,>=3.12.0 in /usr/local/lib/python3.7/dist-packages (from google-api-core<2dev,>=1.13.0->google-api-python-client==1.8.0->cloud_tpu_client) (3.17.3)\n",
            "Requirement already satisfied: requests<3.0.0dev,>=2.18.0 in /usr/local/lib/python3.7/dist-packages (from google-api-core<2dev,>=1.13.0->google-api-python-client==1.8.0->cloud_tpu_client) (2.23.0)\n",
            "Requirement already satisfied: packaging>=14.3 in /usr/local/lib/python3.7/dist-packages (from google-api-core<2dev,>=1.13.0->google-api-python-client==1.8.0->cloud_tpu_client) (21.3)\n",
            "Requirement already satisfied: pytz in /usr/local/lib/python3.7/dist-packages (from google-api-core<2dev,>=1.13.0->google-api-python-client==1.8.0->cloud_tpu_client) (2022.1)\n",
            "Requirement already satisfied: rsa<5,>=3.1.4 in /usr/local/lib/python3.7/dist-packages (from google-auth>=1.4.1->google-api-python-client==1.8.0->cloud_tpu_client) (4.8)\n",
            "Requirement already satisfied: pyasn1-modules>=0.2.1 in /usr/local/lib/python3.7/dist-packages (from google-auth>=1.4.1->google-api-python-client==1.8.0->cloud_tpu_client) (0.2.8)\n",
            "Requirement already satisfied: cachetools<5.0,>=2.0.0 in /usr/local/lib/python3.7/dist-packages (from google-auth>=1.4.1->google-api-python-client==1.8.0->cloud_tpu_client) (4.2.4)\n",
            "Requirement already satisfied: pyparsing!=3.0.5,>=2.0.2 in /usr/local/lib/python3.7/dist-packages (from packaging>=14.3->google-api-core<2dev,>=1.13.0->google-api-python-client==1.8.0->cloud_tpu_client) (3.0.9)\n",
            "Requirement already satisfied: pyasn1<0.5.0,>=0.4.6 in /usr/local/lib/python3.7/dist-packages (from pyasn1-modules>=0.2.1->google-auth>=1.4.1->google-api-python-client==1.8.0->cloud_tpu_client) (0.4.8)\n",
            "Requirement already satisfied: chardet<4,>=3.0.2 in /usr/local/lib/python3.7/dist-packages (from requests<3.0.0dev,>=2.18.0->google-api-core<2dev,>=1.13.0->google-api-python-client==1.8.0->cloud_tpu_client) (3.0.4)\n",
            "Requirement already satisfied: urllib3!=1.25.0,!=1.25.1,<1.26,>=1.21.1 in /usr/local/lib/python3.7/dist-packages (from requests<3.0.0dev,>=2.18.0->google-api-core<2dev,>=1.13.0->google-api-python-client==1.8.0->cloud_tpu_client) (1.24.3)\n",
            "Requirement already satisfied: certifi>=2017.4.17 in /usr/local/lib/python3.7/dist-packages (from requests<3.0.0dev,>=2.18.0->google-api-core<2dev,>=1.13.0->google-api-python-client==1.8.0->cloud_tpu_client) (2022.5.18.1)\n",
            "Requirement already satisfied: idna<3,>=2.5 in /usr/local/lib/python3.7/dist-packages (from requests<3.0.0dev,>=2.18.0->google-api-core<2dev,>=1.13.0->google-api-python-client==1.8.0->cloud_tpu_client) (2.10)\n",
            "Installing collected packages: google-api-python-client, cloud-tpu-client\n",
            "  Attempting uninstall: google-api-python-client\n",
            "    Found existing installation: google-api-python-client 1.12.11\n",
            "    Uninstalling google-api-python-client-1.12.11:\n",
            "      Successfully uninstalled google-api-python-client-1.12.11\n",
            "\u001b[31mERROR: pip's dependency resolver does not currently take into account all the packages that are installed. This behaviour is the source of the following dependency conflicts.\n",
            "earthengine-api 0.1.311 requires google-api-python-client<2,>=1.12.1, but you have google-api-python-client 1.8.0 which is incompatible.\u001b[0m\n",
            "Successfully installed cloud-tpu-client-0.10 google-api-python-client-1.8.0\n"
          ]
        }
      ],
      "source": [
        "!pip install cloud_tpu_client"
      ]
    },
    {
      "cell_type": "code",
      "execution_count": 2,
      "metadata": {
        "colab": {
          "base_uri": "https://localhost:8080/"
        },
        "id": "LvgMhZQt7W5w",
        "outputId": "a383d91b-4a48-47d4-f3a6-bd8aaac1e03d"
      },
      "outputs": [
        {
          "name": "stdout",
          "output_type": "stream",
          "text": [
            "Downloading data from https://storage.googleapis.com/keras-applications/efficientnetb0.h5\n",
            "21839872/21834768 [==============================] - 0s 0us/step\n",
            "21848064/21834768 [==============================] - 0s 0us/step\n"
          ]
        }
      ],
      "source": [
        "from tensorflow.keras.applications import EfficientNetB0\n",
        "model = EfficientNetB0(weights='imagenet')"
      ]
    },
    {
      "cell_type": "code",
      "execution_count": 3,
      "metadata": {
        "id": "0iYRk_PS7W8V"
      },
      "outputs": [],
      "source": [
        "# IMG_SIZE is determined by EfficientNet model choice\n",
        "IMG_SIZE = 224"
      ]
    },
    {
      "cell_type": "code",
      "execution_count": 4,
      "metadata": {
        "colab": {
          "base_uri": "https://localhost:8080/"
        },
        "id": "06Ys3SeT7W-y",
        "outputId": "912b0f2f-4ba8-435f-bcc3-e8542f3b2539"
      },
      "outputs": [
        {
          "name": "stdout",
          "output_type": "stream",
          "text": [
            "Not connected to a TPU runtime. Using CPU/GPU strategy\n",
            "INFO:tensorflow:Using MirroredStrategy with devices ('/job:localhost/replica:0/task:0/device:GPU:0',)\n"
          ]
        }
      ],
      "source": [
        "from cloud_tpu_client import Client\n",
        "import tensorflow as tf\n",
        "import numpy as np\n",
        "\n",
        "\n",
        "\n",
        "try:\n",
        "    c = Client()\n",
        "    c.configure_tpu_version(tf.__version__, restart_type=\"always\")\n",
        "    tpu = tf.distribute.cluster_resolver.TPUClusterResolver.connect()\n",
        "    print(\"Device:\", tpu.master())\n",
        "    strategy = tf.distribute.TPUStrategy(tpu)\n",
        "\n",
        "except ValueError:\n",
        "    print(\"Not connected to a TPU runtime. Using CPU/GPU strategy\")\n",
        "    strategy = tf.distribute.MirroredStrategy()"
      ]
    },
    {
      "cell_type": "code",
      "execution_count": 5,
      "metadata": {
        "colab": {
          "base_uri": "https://localhost:8080/"
        },
        "id": "54v8xUNRBnT6",
        "outputId": "5af3d2f6-e1ef-48d3-a8b6-d2e233bcc8b3"
      },
      "outputs": [
        {
          "name": "stdout",
          "output_type": "stream",
          "text": [
            "<PrefetchDataset element_spec=(TensorSpec(shape=(224, 224, 3), dtype=tf.uint8, name=None), TensorSpec(shape=(), dtype=tf.int32, name=None))>\n",
            "<PrefetchDataset element_spec=(TensorSpec(shape=(224, 224, 3), dtype=tf.uint8, name=None), TensorSpec(shape=(), dtype=tf.int32, name=None))>\n"
          ]
        }
      ],
      "source": [
        "batch_size = 16\n",
        "SHUFFLE_BUFFER_SIZE = 128\n",
        "\n",
        "x_train, x_test, y_train, y_test = np.load(\"/content/drive/MyDrive/steel_surface_224.npy\", allow_pickle=True)\n",
        "ds_train = tf.data.Dataset.from_tensor_slices((x_train, y_train))\n",
        "ds_train = ds_train.prefetch(batch_size)\n",
        "ds_test = tf.data.Dataset.from_tensor_slices((x_test, y_test))\n",
        "ds_test = ds_test.prefetch(batch_size)\n",
        "print(ds_train)\n",
        "print(ds_test)"
      ]
    },
    {
      "cell_type": "code",
      "execution_count": 6,
      "metadata": {
        "id": "ETtjOBJr7XBF"
      },
      "outputs": [],
      "source": [
        "NUM_CLASSES = 6"
      ]
    },
    {
      "cell_type": "code",
      "execution_count": 7,
      "metadata": {
        "id": "7fDMzZvW7XDY"
      },
      "outputs": [],
      "source": [
        "size = (IMG_SIZE, IMG_SIZE)\n",
        "ds_train = ds_train.map(lambda image, label: (tf.image.resize(image, size), label))\n",
        "ds_test = ds_test.map(lambda image, label: (tf.image.resize(image, size), label))"
      ]
    },
    {
      "cell_type": "code",
      "execution_count": 8,
      "metadata": {
        "colab": {
          "base_uri": "https://localhost:8080/",
          "height": 264
        },
        "id": "KO1NCo6Z7XFp",
        "outputId": "c4dd515c-d500-4594-cfea-013c903054d2"
      },
      "outputs": [
        {
          "data": {
            "image/png": "[encoded data removed]",
            "text/plain": [
              "<Figure size 432x288 with 9 Axes>"
            ]
          },
          "metadata": {
            "needs_background": "light"
          },
          "output_type": "display_data"
        }
      ],
      "source": [
        "import matplotlib.pyplot as plt\n",
        "\n",
        "labellist=[\"crazing\",\"inclusion\",\"patches\",\"pitted_surface\",\"rolled-in_scale\",\"scratches\"]\n",
        "def format_label(label):\n",
        "  return labellist[(int(str(label)[10]))]\n",
        "\n",
        "\n",
        "for i, (image, label) in enumerate(ds_train.take(9)):\n",
        "    ax = plt.subplot(3, 3, i + 1)\n",
        "    plt.imshow(image.numpy().astype(\"uint8\"))\n",
        "    plt.title(format_label(label))\n",
        "    plt.axis(\"off\")"
      ]
    },
    {
      "cell_type": "code",
      "execution_count": 9,
      "metadata": {
        "id": "p_L0gBYE7XIA"
      },
      "outputs": [],
      "source": [
        "from tensorflow.keras.models import Sequential\n",
        "from tensorflow.keras import layers\n",
        "\n",
        "img_augmentation = Sequential(\n",
        "    [\n",
        "        layers.RandomRotation(factor=0.15),\n",
        "        layers.RandomTranslation(height_factor=0.1, width_factor=0.1),\n",
        "        layers.RandomFlip(),\n",
        "        layers.RandomContrast(factor=0.1),\n",
        "    ],\n",
        "    name=\"img_augmentation\",\n",
        ")"
      ]
    },
    {
      "cell_type": "code",
      "execution_count": 11,
      "metadata": {
        "id": "7MepxW4l7XMW"
      },
      "outputs": [],
      "source": [
        "# One-hot / categorical encoding\n",
        "def input_preprocess(image, label):\n",
        "    label = tf.one_hot(label, NUM_CLASSES)\n",
        "    return image, label\n",
        "\n",
        "\n",
        "ds_train = ds_train.map(\n",
        "    input_preprocess, num_parallel_calls=tf.data.AUTOTUNE\n",
        ")\n",
        "ds_train = ds_train.batch(batch_size=batch_size, drop_remainder=True)\n",
        "ds_train = ds_train.prefetch(tf.data.AUTOTUNE)\n",
        "\n",
        "ds_test = ds_test.map(input_preprocess)\n",
        "ds_test = ds_test.batch(batch_size=batch_size, drop_remainder=True)"
      ]
    },
    {
      "cell_type": "code",
      "execution_count": 12,
      "metadata": {
        "colab": {
          "base_uri": "https://localhost:8080/"
        },
        "id": "Y4me0mAj7XOh",
        "outputId": "1754afe0-6bb2-4d9c-e896-7c26867c00c2"
      },
      "outputs": [
        {
          "name": "stdout",
          "output_type": "stream",
          "text": [
            "INFO:tensorflow:Reduce to /job:localhost/replica:0/task:0/device:CPU:0 then broadcast to ('/job:localhost/replica:0/task:0/device:CPU:0',).\n",
            "INFO:tensorflow:Reduce to /job:localhost/replica:0/task:0/device:CPU:0 then broadcast to ('/job:localhost/replica:0/task:0/device:CPU:0',).\n",
            "INFO:tensorflow:Reduce to /job:localhost/replica:0/task:0/device:CPU:0 then broadcast to ('/job:localhost/replica:0/task:0/device:CPU:0',).\n",
            "INFO:tensorflow:Reduce to /job:localhost/replica:0/task:0/device:CPU:0 then broadcast to ('/job:localhost/replica:0/task:0/device:CPU:0',).\n",
            "INFO:tensorflow:Reduce to /job:localhost/replica:0/task:0/device:CPU:0 then broadcast to ('/job:localhost/replica:0/task:0/device:CPU:0',).\n",
            "INFO:tensorflow:Reduce to /job:localhost/replica:0/task:0/device:CPU:0 then broadcast to ('/job:localhost/replica:0/task:0/device:CPU:0',).\n",
            "INFO:tensorflow:Reduce to /job:localhost/replica:0/task:0/device:CPU:0 then broadcast to ('/job:localhost/replica:0/task:0/device:CPU:0',).\n",
            "INFO:tensorflow:Reduce to /job:localhost/replica:0/task:0/device:CPU:0 then broadcast to ('/job:localhost/replica:0/task:0/device:CPU:0',).\n",
            "INFO:tensorflow:Reduce to /job:localhost/replica:0/task:0/device:CPU:0 then broadcast to ('/job:localhost/replica:0/task:0/device:CPU:0',).\n",
            "INFO:tensorflow:Reduce to /job:localhost/replica:0/task:0/device:CPU:0 then broadcast to ('/job:localhost/replica:0/task:0/device:CPU:0',).\n",
            "Model: \"model\"\n",
            "_________________________________________________________________\n",
            " Layer (type)                Output Shape              Param #   \n",
            "=================================================================\n",
            " input_2 (InputLayer)        [(None, 224, 224, 3)]     0         \n",
            "                                                                 \n",
            " img_augmentation (Sequentia  (None, 224, 224, 3)      0         \n",
            " l)                                                              \n",
            "                                                                 \n",
            " efficientnetb0 (Functional)  (None, 6)                4057257   \n",
            "                                                                 \n",
            "=================================================================\n",
            "Total params: 4,057,257\n",
            "Trainable params: 4,015,234\n",
            "Non-trainable params: 42,023\n",
            "_________________________________________________________________\n",
            "Epoch 1/100\n",
            "67/67 - 45s - loss: 2.5955 - accuracy: 0.4356 - val_loss: 3.1604 - val_accuracy: 0.1648 - 45s/epoch - 672ms/step\n",
            "Epoch 2/100\n",
            "67/67 - 11s - loss: 1.6054 - accuracy: 0.5821 - val_loss: 3.8279 - val_accuracy: 0.1420 - 11s/epoch - 161ms/step\n",
            "Epoch 3/100\n",
            "67/67 - 11s - loss: 0.9663 - accuracy: 0.7099 - val_loss: 3.5108 - val_accuracy: 0.1534 - 11s/epoch - 162ms/step\n",
            "Epoch 4/100\n",
            "67/67 - 11s - loss: 0.8791 - accuracy: 0.7491 - val_loss: 16.2735 - val_accuracy: 0.1733 - 11s/epoch - 161ms/step\n",
            "Epoch 5/100\n",
            "67/67 - 11s - loss: 0.6827 - accuracy: 0.7789 - val_loss: 12.6903 - val_accuracy: 0.1733 - 11s/epoch - 162ms/step\n",
            "Epoch 6/100\n",
            "67/67 - 11s - loss: 0.6375 - accuracy: 0.7845 - val_loss: 7.3993 - val_accuracy: 0.1733 - 11s/epoch - 163ms/step\n",
            "Epoch 7/100\n",
            "67/67 - 11s - loss: 0.6816 - accuracy: 0.8032 - val_loss: 2.8278 - val_accuracy: 0.3892 - 11s/epoch - 166ms/step\n",
            "Epoch 8/100\n",
            "67/67 - 11s - loss: 0.5594 - accuracy: 0.8349 - val_loss: 0.9752 - val_accuracy: 0.6222 - 11s/epoch - 164ms/step\n",
            "Epoch 9/100\n",
            "67/67 - 11s - loss: 0.5202 - accuracy: 0.8349 - val_loss: 0.4686 - val_accuracy: 0.8409 - 11s/epoch - 164ms/step\n",
            "Epoch 10/100\n",
            "67/67 - 11s - loss: 0.4355 - accuracy: 0.8815 - val_loss: 0.3219 - val_accuracy: 0.8778 - 11s/epoch - 165ms/step\n",
            "Epoch 11/100\n",
            "67/67 - 11s - loss: 0.4201 - accuracy: 0.8619 - val_loss: 1.1367 - val_accuracy: 0.7528 - 11s/epoch - 170ms/step\n",
            "Epoch 12/100\n",
            "67/67 - 11s - loss: 0.5688 - accuracy: 0.8377 - val_loss: 1.0649 - val_accuracy: 0.8494 - 11s/epoch - 167ms/step\n",
            "Epoch 13/100\n",
            "67/67 - 11s - loss: 0.3735 - accuracy: 0.8825 - val_loss: 0.3515 - val_accuracy: 0.9347 - 11s/epoch - 167ms/step\n",
            "Epoch 14/100\n",
            "67/67 - 11s - loss: 0.2842 - accuracy: 0.9132 - val_loss: 0.7128 - val_accuracy: 0.9006 - 11s/epoch - 166ms/step\n",
            "Epoch 15/100\n",
            "67/67 - 11s - loss: 0.2670 - accuracy: 0.9142 - val_loss: 0.7229 - val_accuracy: 0.8068 - 11s/epoch - 167ms/step\n",
            "Epoch 16/100\n",
            "67/67 - 11s - loss: 0.2774 - accuracy: 0.9160 - val_loss: 1.3268 - val_accuracy: 0.7472 - 11s/epoch - 168ms/step\n",
            "Epoch 17/100\n",
            "67/67 - 11s - loss: 0.3152 - accuracy: 0.8983 - val_loss: 0.1793 - val_accuracy: 0.9545 - 11s/epoch - 170ms/step\n",
            "Epoch 18/100\n",
            "67/67 - 11s - loss: 0.3176 - accuracy: 0.9049 - val_loss: 0.4096 - val_accuracy: 0.8551 - 11s/epoch - 166ms/step\n",
            "Epoch 19/100\n",
            "67/67 - 11s - loss: 0.2513 - accuracy: 0.9226 - val_loss: 0.4623 - val_accuracy: 0.8239 - 11s/epoch - 168ms/step\n",
            "Epoch 20/100\n",
            "67/67 - 11s - loss: 0.1890 - accuracy: 0.9319 - val_loss: 0.8857 - val_accuracy: 0.8580 - 11s/epoch - 168ms/step\n",
            "Epoch 21/100\n",
            "67/67 - 11s - loss: 0.2354 - accuracy: 0.9291 - val_loss: 0.8260 - val_accuracy: 0.8438 - 11s/epoch - 169ms/step\n",
            "Epoch 22/100\n",
            "67/67 - 11s - loss: 0.2990 - accuracy: 0.8993 - val_loss: 2.3298 - val_accuracy: 0.8438 - 11s/epoch - 169ms/step\n",
            "Epoch 23/100\n",
            "67/67 - 11s - loss: 0.3437 - accuracy: 0.9123 - val_loss: 0.1535 - val_accuracy: 0.9602 - 11s/epoch - 169ms/step\n",
            "Epoch 24/100\n",
            "67/67 - 11s - loss: 0.2139 - accuracy: 0.9356 - val_loss: 0.3788 - val_accuracy: 0.8949 - 11s/epoch - 170ms/step\n",
            "Epoch 25/100\n",
            "67/67 - 11s - loss: 0.1920 - accuracy: 0.9366 - val_loss: 1.6399 - val_accuracy: 0.7131 - 11s/epoch - 170ms/step\n",
            "Epoch 26/100\n",
            "67/67 - 11s - loss: 0.2196 - accuracy: 0.9384 - val_loss: 0.5070 - val_accuracy: 0.8494 - 11s/epoch - 170ms/step\n",
            "Epoch 27/100\n",
            "67/67 - 11s - loss: 0.1350 - accuracy: 0.9627 - val_loss: 1.2526 - val_accuracy: 0.7926 - 11s/epoch - 170ms/step\n",
            "Epoch 28/100\n",
            "67/67 - 11s - loss: 0.1648 - accuracy: 0.9515 - val_loss: 0.1579 - val_accuracy: 0.9631 - 11s/epoch - 170ms/step\n",
            "Epoch 29/100\n",
            "67/67 - 11s - loss: 0.1557 - accuracy: 0.9468 - val_loss: 0.5228 - val_accuracy: 0.9119 - 11s/epoch - 171ms/step\n",
            "Epoch 30/100\n",
            "67/67 - 11s - loss: 0.0774 - accuracy: 0.9711 - val_loss: 1.1741 - val_accuracy: 0.8381 - 11s/epoch - 170ms/step\n",
            "Epoch 31/100\n",
            "67/67 - 11s - loss: 0.1479 - accuracy: 0.9487 - val_loss: 1.5363 - val_accuracy: 0.8125 - 11s/epoch - 171ms/step\n",
            "Epoch 32/100\n",
            "67/67 - 11s - loss: 0.1377 - accuracy: 0.9515 - val_loss: 0.3683 - val_accuracy: 0.8722 - 11s/epoch - 170ms/step\n",
            "Epoch 33/100\n",
            "67/67 - 11s - loss: 0.1484 - accuracy: 0.9627 - val_loss: 0.1166 - val_accuracy: 0.9631 - 11s/epoch - 170ms/step\n",
            "Epoch 34/100\n",
            "67/67 - 11s - loss: 0.1171 - accuracy: 0.9664 - val_loss: 0.1265 - val_accuracy: 0.9659 - 11s/epoch - 171ms/step\n",
            "Epoch 35/100\n",
            "67/67 - 11s - loss: 0.1266 - accuracy: 0.9701 - val_loss: 2.9675 - val_accuracy: 0.8182 - 11s/epoch - 169ms/step\n",
            "Epoch 36/100\n",
            "67/67 - 11s - loss: 0.1717 - accuracy: 0.9394 - val_loss: 0.3465 - val_accuracy: 0.9318 - 11s/epoch - 171ms/step\n",
            "Epoch 37/100\n",
            "67/67 - 11s - loss: 0.2417 - accuracy: 0.9515 - val_loss: 1.0239 - val_accuracy: 0.7841 - 11s/epoch - 171ms/step\n",
            "Epoch 38/100\n",
            "67/67 - 11s - loss: 0.2060 - accuracy: 0.9403 - val_loss: 0.9804 - val_accuracy: 0.7528 - 11s/epoch - 171ms/step\n",
            "Epoch 39/100\n",
            "67/67 - 11s - loss: 0.2386 - accuracy: 0.9422 - val_loss: 1.9206 - val_accuracy: 0.6364 - 11s/epoch - 171ms/step\n",
            "Epoch 40/100\n",
            "67/67 - 11s - loss: 0.1498 - accuracy: 0.9580 - val_loss: 0.3906 - val_accuracy: 0.8693 - 11s/epoch - 171ms/step\n",
            "Epoch 41/100\n",
            "67/67 - 12s - loss: 0.1405 - accuracy: 0.9571 - val_loss: 0.4646 - val_accuracy: 0.8580 - 12s/epoch - 173ms/step\n",
            "Epoch 42/100\n",
            "67/67 - 11s - loss: 0.1440 - accuracy: 0.9646 - val_loss: 0.3033 - val_accuracy: 0.9034 - 11s/epoch - 170ms/step\n",
            "Epoch 43/100\n",
            "67/67 - 11s - loss: 0.1859 - accuracy: 0.9403 - val_loss: 1.2715 - val_accuracy: 0.8295 - 11s/epoch - 171ms/step\n",
            "Epoch 44/100\n",
            "67/67 - 11s - loss: 0.1369 - accuracy: 0.9608 - val_loss: 1.1048 - val_accuracy: 0.8835 - 11s/epoch - 171ms/step\n",
            "Epoch 45/100\n",
            "67/67 - 11s - loss: 0.1657 - accuracy: 0.9366 - val_loss: 0.1639 - val_accuracy: 0.9574 - 11s/epoch - 171ms/step\n",
            "Epoch 46/100\n",
            "67/67 - 11s - loss: 0.0825 - accuracy: 0.9729 - val_loss: 0.5295 - val_accuracy: 0.9062 - 11s/epoch - 171ms/step\n",
            "Epoch 47/100\n",
            "67/67 - 11s - loss: 0.1064 - accuracy: 0.9701 - val_loss: 0.1357 - val_accuracy: 0.9659 - 11s/epoch - 171ms/step\n",
            "Epoch 48/100\n",
            "67/67 - 11s - loss: 0.0625 - accuracy: 0.9785 - val_loss: 0.1837 - val_accuracy: 0.9602 - 11s/epoch - 170ms/step\n",
            "Epoch 49/100\n",
            "67/67 - 11s - loss: 0.0887 - accuracy: 0.9701 - val_loss: 0.2122 - val_accuracy: 0.9460 - 11s/epoch - 171ms/step\n",
            "Epoch 50/100\n",
            "67/67 - 11s - loss: 0.1061 - accuracy: 0.9655 - val_loss: 1.2231 - val_accuracy: 0.8722 - 11s/epoch - 171ms/step\n",
            "Epoch 51/100\n",
            "67/67 - 12s - loss: 0.0830 - accuracy: 0.9757 - val_loss: 0.4763 - val_accuracy: 0.9062 - 12s/epoch - 178ms/step\n",
            "Epoch 52/100\n",
            "67/67 - 11s - loss: 0.0712 - accuracy: 0.9767 - val_loss: 0.1856 - val_accuracy: 0.9574 - 11s/epoch - 170ms/step\n",
            "Epoch 53/100\n",
            "67/67 - 11s - loss: 0.1232 - accuracy: 0.9674 - val_loss: 0.1478 - val_accuracy: 0.9744 - 11s/epoch - 170ms/step\n",
            "Epoch 54/100\n",
            "67/67 - 11s - loss: 0.0588 - accuracy: 0.9804 - val_loss: 0.1336 - val_accuracy: 0.9688 - 11s/epoch - 170ms/step\n",
            "Epoch 55/100\n",
            "67/67 - 11s - loss: 0.1118 - accuracy: 0.9701 - val_loss: 0.3835 - val_accuracy: 0.9233 - 11s/epoch - 171ms/step\n",
            "Epoch 56/100\n",
            "67/67 - 11s - loss: 0.1022 - accuracy: 0.9646 - val_loss: 0.2506 - val_accuracy: 0.9545 - 11s/epoch - 171ms/step\n",
            "Epoch 57/100\n",
            "67/67 - 11s - loss: 0.0505 - accuracy: 0.9832 - val_loss: 0.3118 - val_accuracy: 0.9261 - 11s/epoch - 171ms/step\n",
            "Epoch 58/100\n",
            "67/67 - 11s - loss: 0.0665 - accuracy: 0.9757 - val_loss: 0.2039 - val_accuracy: 0.9574 - 11s/epoch - 170ms/step\n",
            "Epoch 59/100\n",
            "67/67 - 11s - loss: 0.0726 - accuracy: 0.9739 - val_loss: 0.4882 - val_accuracy: 0.8750 - 11s/epoch - 170ms/step\n",
            "Epoch 60/100\n",
            "67/67 - 11s - loss: 0.0559 - accuracy: 0.9767 - val_loss: 0.2487 - val_accuracy: 0.9631 - 11s/epoch - 170ms/step\n",
            "Epoch 61/100\n",
            "67/67 - 12s - loss: 0.0519 - accuracy: 0.9823 - val_loss: 0.4148 - val_accuracy: 0.9119 - 12s/epoch - 172ms/step\n",
            "Epoch 62/100\n",
            "67/67 - 11s - loss: 0.0424 - accuracy: 0.9888 - val_loss: 0.2674 - val_accuracy: 0.9290 - 11s/epoch - 171ms/step\n",
            "Epoch 63/100\n",
            "67/67 - 11s - loss: 0.0853 - accuracy: 0.9683 - val_loss: 0.5956 - val_accuracy: 0.9006 - 11s/epoch - 170ms/step\n",
            "Epoch 64/100\n",
            "67/67 - 12s - loss: 0.0792 - accuracy: 0.9720 - val_loss: 0.1747 - val_accuracy: 0.9631 - 12s/epoch - 172ms/step\n",
            "Epoch 65/100\n",
            "67/67 - 11s - loss: 0.0537 - accuracy: 0.9832 - val_loss: 0.2230 - val_accuracy: 0.9545 - 11s/epoch - 170ms/step\n",
            "Epoch 66/100\n",
            "67/67 - 11s - loss: 0.0446 - accuracy: 0.9860 - val_loss: 0.6586 - val_accuracy: 0.9148 - 11s/epoch - 171ms/step\n",
            "Epoch 67/100\n",
            "67/67 - 11s - loss: 0.0481 - accuracy: 0.9841 - val_loss: 0.5017 - val_accuracy: 0.8920 - 11s/epoch - 170ms/step\n",
            "Epoch 68/100\n",
            "67/67 - 11s - loss: 0.1560 - accuracy: 0.9627 - val_loss: 0.5294 - val_accuracy: 0.9602 - 11s/epoch - 170ms/step\n",
            "Epoch 69/100\n",
            "67/67 - 11s - loss: 0.1130 - accuracy: 0.9562 - val_loss: 0.3062 - val_accuracy: 0.9517 - 11s/epoch - 170ms/step\n",
            "Epoch 70/100\n",
            "67/67 - 11s - loss: 0.0867 - accuracy: 0.9683 - val_loss: 0.4580 - val_accuracy: 0.9489 - 11s/epoch - 171ms/step\n",
            "Epoch 71/100\n",
            "67/67 - 11s - loss: 0.0851 - accuracy: 0.9804 - val_loss: 1.9988 - val_accuracy: 0.8750 - 11s/epoch - 170ms/step\n",
            "Epoch 72/100\n",
            "67/67 - 11s - loss: 0.1180 - accuracy: 0.9618 - val_loss: 1.1294 - val_accuracy: 0.9006 - 11s/epoch - 171ms/step\n",
            "Epoch 73/100\n",
            "67/67 - 11s - loss: 0.1006 - accuracy: 0.9664 - val_loss: 0.2119 - val_accuracy: 0.9545 - 11s/epoch - 171ms/step\n",
            "Epoch 74/100\n",
            "67/67 - 11s - loss: 0.0718 - accuracy: 0.9720 - val_loss: 0.1384 - val_accuracy: 0.9659 - 11s/epoch - 171ms/step\n",
            "Epoch 75/100\n",
            "67/67 - 11s - loss: 0.0365 - accuracy: 0.9879 - val_loss: 0.1301 - val_accuracy: 0.9631 - 11s/epoch - 170ms/step\n",
            "Epoch 76/100\n",
            "67/67 - 11s - loss: 0.0420 - accuracy: 0.9841 - val_loss: 0.1088 - val_accuracy: 0.9744 - 11s/epoch - 171ms/step\n",
            "Epoch 77/100\n",
            "67/67 - 11s - loss: 0.0366 - accuracy: 0.9841 - val_loss: 0.2261 - val_accuracy: 0.9403 - 11s/epoch - 170ms/step\n",
            "Epoch 78/100\n",
            "67/67 - 11s - loss: 0.0425 - accuracy: 0.9869 - val_loss: 0.2337 - val_accuracy: 0.9205 - 11s/epoch - 170ms/step\n",
            "Epoch 79/100\n",
            "67/67 - 11s - loss: 0.0398 - accuracy: 0.9851 - val_loss: 0.1833 - val_accuracy: 0.9517 - 11s/epoch - 170ms/step\n",
            "Epoch 80/100\n",
            "67/67 - 11s - loss: 0.0459 - accuracy: 0.9851 - val_loss: 0.0787 - val_accuracy: 0.9773 - 11s/epoch - 171ms/step\n",
            "Epoch 81/100\n",
            "67/67 - 11s - loss: 0.0700 - accuracy: 0.9757 - val_loss: 0.0875 - val_accuracy: 0.9716 - 11s/epoch - 171ms/step\n",
            "Epoch 82/100\n",
            "67/67 - 12s - loss: 0.0359 - accuracy: 0.9879 - val_loss: 0.1363 - val_accuracy: 0.9631 - 12s/epoch - 172ms/step\n",
            "Epoch 83/100\n",
            "67/67 - 12s - loss: 0.0411 - accuracy: 0.9888 - val_loss: 0.0896 - val_accuracy: 0.9744 - 12s/epoch - 173ms/step\n",
            "Epoch 84/100\n",
            "67/67 - 12s - loss: 0.0320 - accuracy: 0.9907 - val_loss: 0.7439 - val_accuracy: 0.8920 - 12s/epoch - 172ms/step\n",
            "Epoch 85/100\n",
            "67/67 - 11s - loss: 0.0641 - accuracy: 0.9795 - val_loss: 0.5731 - val_accuracy: 0.8835 - 11s/epoch - 171ms/step\n",
            "Epoch 86/100\n",
            "67/67 - 12s - loss: 0.0215 - accuracy: 0.9935 - val_loss: 0.1837 - val_accuracy: 0.9631 - 12s/epoch - 175ms/step\n",
            "Epoch 87/100\n",
            "67/67 - 11s - loss: 0.0263 - accuracy: 0.9897 - val_loss: 0.1350 - val_accuracy: 0.9631 - 11s/epoch - 169ms/step\n",
            "Epoch 88/100\n",
            "67/67 - 11s - loss: 0.0559 - accuracy: 0.9869 - val_loss: 0.4387 - val_accuracy: 0.9460 - 11s/epoch - 169ms/step\n",
            "Epoch 89/100\n",
            "67/67 - 11s - loss: 0.0684 - accuracy: 0.9813 - val_loss: 0.1754 - val_accuracy: 0.9744 - 11s/epoch - 171ms/step\n",
            "Epoch 90/100\n",
            "67/67 - 11s - loss: 0.0553 - accuracy: 0.9813 - val_loss: 0.4096 - val_accuracy: 0.9062 - 11s/epoch - 171ms/step\n",
            "Epoch 91/100\n",
            "67/67 - 11s - loss: 0.0763 - accuracy: 0.9795 - val_loss: 0.3645 - val_accuracy: 0.9176 - 11s/epoch - 171ms/step\n",
            "Epoch 92/100\n",
            "67/67 - 11s - loss: 0.1914 - accuracy: 0.9515 - val_loss: 0.1913 - val_accuracy: 0.9432 - 11s/epoch - 171ms/step\n",
            "Epoch 93/100\n",
            "67/67 - 11s - loss: 0.0372 - accuracy: 0.9907 - val_loss: 0.0225 - val_accuracy: 0.9886 - 11s/epoch - 171ms/step\n",
            "Epoch 94/100\n",
            "67/67 - 11s - loss: 0.0353 - accuracy: 0.9897 - val_loss: 0.0964 - val_accuracy: 0.9801 - 11s/epoch - 171ms/step\n",
            "Epoch 95/100\n",
            "67/67 - 11s - loss: 0.0291 - accuracy: 0.9897 - val_loss: 0.0571 - val_accuracy: 0.9830 - 11s/epoch - 170ms/step\n",
            "Epoch 96/100\n",
            "67/67 - 11s - loss: 0.0570 - accuracy: 0.9841 - val_loss: 5.6446 - val_accuracy: 0.8210 - 11s/epoch - 171ms/step\n",
            "Epoch 97/100\n",
            "67/67 - 11s - loss: 0.0314 - accuracy: 0.9888 - val_loss: 0.1251 - val_accuracy: 0.9744 - 11s/epoch - 171ms/step\n",
            "Epoch 98/100\n",
            "67/67 - 11s - loss: 0.0509 - accuracy: 0.9841 - val_loss: 0.1055 - val_accuracy: 0.9631 - 11s/epoch - 171ms/step\n",
            "Epoch 99/100\n",
            "67/67 - 11s - loss: 0.0628 - accuracy: 0.9860 - val_loss: 0.1359 - val_accuracy: 0.9659 - 11s/epoch - 170ms/step\n",
            "Epoch 100/100\n",
            "67/67 - 11s - loss: 0.1717 - accuracy: 0.9711 - val_loss: 0.5260 - val_accuracy: 0.9347 - 11s/epoch - 171ms/step\n"
          ]
        }
      ],
      "source": [
        "from tensorflow.keras.applications import EfficientNetB0\n",
        "\n",
        "with strategy.scope():\n",
        "    inputs = layers.Input(shape=(IMG_SIZE, IMG_SIZE, 3))\n",
        "    x = img_augmentation(inputs)\n",
        "    outputs = EfficientNetB0(include_top=True, weights=None, classes=NUM_CLASSES)(x)\n",
        "\n",
        "    model = tf.keras.Model(inputs, outputs)\n",
        "    model.compile(\n",
        "        optimizer=\"adam\", loss=\"categorical_crossentropy\", metrics=[\"accuracy\"]\n",
        "    )\n",
        "\n",
        "model.summary()\n",
        "\n",
        "epochs = 100  # @param {type: \"slider\", min:10, max:100}\n",
        "hist = model.fit(ds_train, epochs=epochs, validation_data=ds_test, verbose=2)"
      ]
    },
    {
      "cell_type": "code",
      "execution_count": 13,
      "metadata": {
        "colab": {
          "base_uri": "https://localhost:8080/",
          "height": 295
        },
        "id": "u4mPhmmq7XQ2",
        "outputId": "9004a1b8-b40e-4932-97d5-dd4ebf29acf0"
      },
      "outputs": [
        {
          "data": {
            "image/png": "[encoded data removed]",
            "text/plain": [
              "<Figure size 432x288 with 1 Axes>"
            ]
          },
          "metadata": {
            "needs_background": "light"
          },
          "output_type": "display_data"
        }
      ],
      "source": [
        "import matplotlib.pyplot as plt\n",
        "\n",
        "\n",
        "def plot_hist(hist):\n",
        "    plt.plot(hist.history[\"accuracy\"])\n",
        "    plt.plot(hist.history[\"val_accuracy\"])\n",
        "    plt.title(\"model accuracy\")\n",
        "    plt.ylabel(\"accuracy\")\n",
        "    plt.xlabel(\"epoch\")\n",
        "    plt.legend([\"train\", \"validation\"], loc=\"upper left\")\n",
        "    plt.show()\n",
        "\n",
        "\n",
        "plot_hist(hist)"
      ]
    },
    {
      "cell_type": "code",
      "execution_count": 14,
      "metadata": {
        "id": "e_GRQrzy7XSx"
      },
      "outputs": [],
      "source": [
        "def build_model(num_classes):\n",
        "    inputs = layers.Input(shape=(IMG_SIZE, IMG_SIZE, 3))\n",
        "    x = img_augmentation(inputs)\n",
        "    model = EfficientNetB0(include_top=False, input_tensor=x, weights=\"imagenet\")\n",
        "\n",
        "    # Freeze the pretrained weights\n",
        "    model.trainable = False\n",
        "\n",
        "    # Rebuild top\n",
        "    x = layers.GlobalAveragePooling2D(name=\"avg_pool\")(model.output)\n",
        "    x = layers.BatchNormalization()(x)\n",
        "\n",
        "    top_dropout_rate = 0.2\n",
        "    x = layers.Dropout(top_dropout_rate, name=\"top_dropout\")(x)\n",
        "    outputs = layers.Dense(NUM_CLASSES, activation=\"softmax\", name=\"pred\")(x)\n",
        "\n",
        "    # Compile\n",
        "    model = tf.keras.Model(inputs, outputs, name=\"EfficientNet\")\n",
        "    optimizer = tf.keras.optimizers.Adam(learning_rate=1e-2)\n",
        "    model.compile(\n",
        "        optimizer=optimizer, loss=\"categorical_crossentropy\", metrics=[\"accuracy\"]\n",
        "    )\n",
        "    return model"
      ]
    },
    {
      "cell_type": "code",
      "execution_count": 15,
      "metadata": {
        "colab": {
          "base_uri": "https://localhost:8080/",
          "height": 1000
        },
        "id": "oHNly0LAIU8d",
        "outputId": "417aebc7-ce3c-4247-95e6-d5b48d07f163"
      },
      "outputs": [
        {
          "name": "stdout",
          "output_type": "stream",
          "text": [
            "Downloading data from https://storage.googleapis.com/keras-applications/efficientnetb0_notop.h5\n",
            "16711680/16705208 [==============================] - 0s 0us/step\n",
            "16719872/16705208 [==============================] - 0s 0us/step\n",
            "Epoch 1/60\n",
            "67/67 - 14s - loss: 0.3929 - accuracy: 0.9142 - val_loss: 0.4026 - val_accuracy: 0.8523 - 14s/epoch - 203ms/step\n",
            "Epoch 2/60\n",
            "67/67 - 3s - loss: 0.1779 - accuracy: 0.9683 - val_loss: 0.0851 - val_accuracy: 0.9744 - 3s/epoch - 50ms/step\n",
            "Epoch 3/60\n",
            "67/67 - 3s - loss: 0.0967 - accuracy: 0.9739 - val_loss: 0.0810 - val_accuracy: 0.9659 - 3s/epoch - 50ms/step\n",
            "Epoch 4/60\n",
            "67/67 - 3s - loss: 0.2300 - accuracy: 0.9674 - val_loss: 0.0943 - val_accuracy: 0.9773 - 3s/epoch - 49ms/step\n",
            "Epoch 5/60\n",
            "67/67 - 3s - loss: 0.2212 - accuracy: 0.9739 - val_loss: 0.0582 - val_accuracy: 0.9886 - 3s/epoch - 49ms/step\n",
            "Epoch 6/60\n",
            "67/67 - 3s - loss: 0.2074 - accuracy: 0.9701 - val_loss: 0.4931 - val_accuracy: 0.9062 - 3s/epoch - 50ms/step\n",
            "Epoch 7/60\n",
            "67/67 - 3s - loss: 0.1916 - accuracy: 0.9785 - val_loss: 0.1160 - val_accuracy: 0.9830 - 3s/epoch - 50ms/step\n",
            "Epoch 8/60\n",
            "67/67 - 3s - loss: 0.1323 - accuracy: 0.9804 - val_loss: 0.0496 - val_accuracy: 0.9886 - 3s/epoch - 50ms/step\n",
            "Epoch 9/60\n",
            "67/67 - 3s - loss: 0.1126 - accuracy: 0.9869 - val_loss: 0.0523 - val_accuracy: 0.9915 - 3s/epoch - 51ms/step\n",
            "Epoch 10/60\n",
            "67/67 - 3s - loss: 0.1634 - accuracy: 0.9860 - val_loss: 0.0343 - val_accuracy: 0.9915 - 3s/epoch - 49ms/step\n",
            "Epoch 11/60\n",
            "67/67 - 3s - loss: 0.1052 - accuracy: 0.9860 - val_loss: 0.0220 - val_accuracy: 0.9972 - 3s/epoch - 50ms/step\n",
            "Epoch 12/60\n",
            "67/67 - 3s - loss: 0.0655 - accuracy: 0.9879 - val_loss: 0.0146 - val_accuracy: 0.9972 - 3s/epoch - 50ms/step\n",
            "Epoch 13/60\n",
            "67/67 - 3s - loss: 0.0838 - accuracy: 0.9869 - val_loss: 0.0021 - val_accuracy: 1.0000 - 3s/epoch - 49ms/step\n",
            "Epoch 14/60\n",
            "67/67 - 3s - loss: 0.1037 - accuracy: 0.9879 - val_loss: 0.0338 - val_accuracy: 0.9972 - 3s/epoch - 50ms/step\n",
            "Epoch 15/60\n",
            "67/67 - 3s - loss: 0.0858 - accuracy: 0.9879 - val_loss: 0.1381 - val_accuracy: 0.9886 - 3s/epoch - 49ms/step\n",
            "Epoch 16/60\n",
            "67/67 - 3s - loss: 0.0818 - accuracy: 0.9897 - val_loss: 0.0262 - val_accuracy: 0.9943 - 3s/epoch - 49ms/step\n",
            "Epoch 17/60\n",
            "67/67 - 3s - loss: 0.1516 - accuracy: 0.9813 - val_loss: 0.0242 - val_accuracy: 0.9915 - 3s/epoch - 50ms/step\n",
            "Epoch 18/60\n",
            "67/67 - 3s - loss: 0.0990 - accuracy: 0.9897 - val_loss: 0.0044 - val_accuracy: 0.9972 - 3s/epoch - 49ms/step\n",
            "Epoch 19/60\n",
            "67/67 - 3s - loss: 0.1685 - accuracy: 0.9823 - val_loss: 0.0750 - val_accuracy: 0.9915 - 3s/epoch - 49ms/step\n",
            "Epoch 20/60\n",
            "67/67 - 3s - loss: 0.1433 - accuracy: 0.9851 - val_loss: 0.1788 - val_accuracy: 0.9886 - 3s/epoch - 50ms/step\n",
            "Epoch 21/60\n",
            "67/67 - 3s - loss: 0.0732 - accuracy: 0.9879 - val_loss: 0.0552 - val_accuracy: 0.9943 - 3s/epoch - 49ms/step\n",
            "Epoch 22/60\n",
            "67/67 - 3s - loss: 0.1559 - accuracy: 0.9841 - val_loss: 0.1660 - val_accuracy: 0.9801 - 3s/epoch - 49ms/step\n",
            "Epoch 23/60\n",
            "67/67 - 3s - loss: 0.2157 - accuracy: 0.9841 - val_loss: 0.0162 - val_accuracy: 0.9972 - 3s/epoch - 50ms/step\n",
            "Epoch 24/60\n",
            "67/67 - 4s - loss: 0.1202 - accuracy: 0.9869 - val_loss: 0.0872 - val_accuracy: 0.9915 - 4s/epoch - 57ms/step\n",
            "Epoch 25/60\n",
            "67/67 - 3s - loss: 0.0803 - accuracy: 0.9897 - val_loss: 0.1453 - val_accuracy: 0.9915 - 3s/epoch - 49ms/step\n",
            "Epoch 26/60\n",
            "67/67 - 3s - loss: 0.1408 - accuracy: 0.9841 - val_loss: 0.0148 - val_accuracy: 0.9972 - 3s/epoch - 49ms/step\n",
            "Epoch 27/60\n",
            "67/67 - 3s - loss: 0.2616 - accuracy: 0.9841 - val_loss: 0.0888 - val_accuracy: 0.9915 - 3s/epoch - 49ms/step\n",
            "Epoch 28/60\n",
            "67/67 - 3s - loss: 0.1356 - accuracy: 0.9869 - val_loss: 0.1387 - val_accuracy: 0.9943 - 3s/epoch - 49ms/step\n",
            "Epoch 29/60\n",
            "67/67 - 3s - loss: 0.1801 - accuracy: 0.9869 - val_loss: 0.3964 - val_accuracy: 0.9801 - 3s/epoch - 49ms/step\n",
            "Epoch 30/60\n",
            "67/67 - 3s - loss: 0.2746 - accuracy: 0.9804 - val_loss: 0.1184 - val_accuracy: 0.9915 - 3s/epoch - 49ms/step\n",
            "Epoch 31/60\n",
            "67/67 - 3s - loss: 0.1146 - accuracy: 0.9935 - val_loss: 0.2889 - val_accuracy: 0.9915 - 3s/epoch - 49ms/step\n",
            "Epoch 32/60\n",
            "67/67 - 3s - loss: 0.0384 - accuracy: 0.9972 - val_loss: 0.1406 - val_accuracy: 0.9886 - 3s/epoch - 49ms/step\n",
            "Epoch 33/60\n",
            "67/67 - 3s - loss: 0.0677 - accuracy: 0.9916 - val_loss: 0.1429 - val_accuracy: 0.9943 - 3s/epoch - 49ms/step\n",
            "Epoch 34/60\n",
            "67/67 - 3s - loss: 0.1273 - accuracy: 0.9907 - val_loss: 0.0811 - val_accuracy: 0.9943 - 3s/epoch - 49ms/step\n",
            "Epoch 35/60\n",
            "67/67 - 3s - loss: 0.0749 - accuracy: 0.9953 - val_loss: 0.0712 - val_accuracy: 0.9915 - 3s/epoch - 49ms/step\n",
            "Epoch 36/60\n",
            "67/67 - 3s - loss: 0.2250 - accuracy: 0.9823 - val_loss: 0.2180 - val_accuracy: 0.9886 - 3s/epoch - 49ms/step\n",
            "Epoch 37/60\n",
            "67/67 - 3s - loss: 0.0294 - accuracy: 0.9981 - val_loss: 0.1797 - val_accuracy: 0.9886 - 3s/epoch - 50ms/step\n",
            "Epoch 38/60\n",
            "67/67 - 3s - loss: 0.0253 - accuracy: 0.9944 - val_loss: 0.3489 - val_accuracy: 0.9858 - 3s/epoch - 49ms/step\n",
            "Epoch 39/60\n",
            "67/67 - 3s - loss: 0.2599 - accuracy: 0.9804 - val_loss: 0.0692 - val_accuracy: 0.9972 - 3s/epoch - 49ms/step\n",
            "Epoch 40/60\n",
            "67/67 - 3s - loss: 0.0398 - accuracy: 0.9935 - val_loss: 0.4162 - val_accuracy: 0.9858 - 3s/epoch - 49ms/step\n",
            "Epoch 41/60\n",
            "67/67 - 3s - loss: 0.1251 - accuracy: 0.9888 - val_loss: 0.3179 - val_accuracy: 0.9915 - 3s/epoch - 50ms/step\n",
            "Epoch 42/60\n",
            "67/67 - 3s - loss: 0.0976 - accuracy: 0.9907 - val_loss: 0.0647 - val_accuracy: 0.9886 - 3s/epoch - 49ms/step\n",
            "Epoch 43/60\n",
            "67/67 - 3s - loss: 0.0481 - accuracy: 0.9953 - val_loss: 0.1289 - val_accuracy: 0.9915 - 3s/epoch - 49ms/step\n",
            "Epoch 44/60\n",
            "67/67 - 3s - loss: 0.1034 - accuracy: 0.9897 - val_loss: 0.1359 - val_accuracy: 0.9943 - 3s/epoch - 49ms/step\n",
            "Epoch 45/60\n",
            "67/67 - 3s - loss: 0.2244 - accuracy: 0.9851 - val_loss: 0.0859 - val_accuracy: 0.9886 - 3s/epoch - 49ms/step\n",
            "Epoch 46/60\n",
            "67/67 - 3s - loss: 0.2240 - accuracy: 0.9851 - val_loss: 0.1973 - val_accuracy: 0.9858 - 3s/epoch - 50ms/step\n",
            "Epoch 47/60\n",
            "67/67 - 3s - loss: 0.1275 - accuracy: 0.9907 - val_loss: 0.1330 - val_accuracy: 0.9943 - 3s/epoch - 49ms/step\n",
            "Epoch 48/60\n",
            "67/67 - 3s - loss: 0.1588 - accuracy: 0.9907 - val_loss: 0.0054 - val_accuracy: 0.9972 - 3s/epoch - 49ms/step\n",
            "Epoch 49/60\n",
            "67/67 - 3s - loss: 0.2678 - accuracy: 0.9860 - val_loss: 0.1418 - val_accuracy: 0.9915 - 3s/epoch - 49ms/step\n",
            "Epoch 50/60\n",
            "67/67 - 3s - loss: 0.1466 - accuracy: 0.9907 - val_loss: 0.1435 - val_accuracy: 0.9915 - 3s/epoch - 49ms/step\n",
            "Epoch 51/60\n",
            "67/67 - 3s - loss: 0.0963 - accuracy: 0.9916 - val_loss: 0.1996 - val_accuracy: 0.9915 - 3s/epoch - 49ms/step\n",
            "Epoch 52/60\n",
            "67/67 - 3s - loss: 0.2285 - accuracy: 0.9869 - val_loss: 0.0506 - val_accuracy: 0.9943 - 3s/epoch - 49ms/step\n",
            "Epoch 53/60\n",
            "67/67 - 3s - loss: 0.1021 - accuracy: 0.9935 - val_loss: 0.0029 - val_accuracy: 0.9972 - 3s/epoch - 49ms/step\n",
            "Epoch 54/60\n",
            "67/67 - 3s - loss: 0.2341 - accuracy: 0.9897 - val_loss: 0.0079 - val_accuracy: 0.9972 - 3s/epoch - 49ms/step\n",
            "Epoch 55/60\n",
            "67/67 - 3s - loss: 0.1081 - accuracy: 0.9935 - val_loss: 0.0641 - val_accuracy: 0.9972 - 3s/epoch - 49ms/step\n",
            "Epoch 56/60\n",
            "67/67 - 3s - loss: 0.1675 - accuracy: 0.9916 - val_loss: 0.0788 - val_accuracy: 0.9943 - 3s/epoch - 49ms/step\n",
            "Epoch 57/60\n",
            "67/67 - 3s - loss: 0.0916 - accuracy: 0.9916 - val_loss: 0.0595 - val_accuracy: 0.9943 - 3s/epoch - 49ms/step\n",
            "Epoch 58/60\n",
            "67/67 - 3s - loss: 0.0584 - accuracy: 0.9907 - val_loss: 0.1107 - val_accuracy: 0.9915 - 3s/epoch - 49ms/step\n",
            "Epoch 59/60\n",
            "67/67 - 3s - loss: 0.1939 - accuracy: 0.9888 - val_loss: 0.1924 - val_accuracy: 0.9886 - 3s/epoch - 49ms/step\n",
            "Epoch 60/60\n",
            "67/67 - 3s - loss: 9.6924e-04 - accuracy: 0.9991 - val_loss: 0.1143 - val_accuracy: 0.9886 - 3s/epoch - 49ms/step\n"
          ]
        },
        {
          "data": {
            "image/png": "[encoded data removed]",
            "text/plain": [
              "<Figure size 432x288 with 1 Axes>"
            ]
          },
          "metadata": {
            "needs_background": "light"
          },
          "output_type": "display_data"
        }
      ],
      "source": [
        "with strategy.scope():\n",
        "    model = build_model(num_classes=NUM_CLASSES)\n",
        "\n",
        "epochs = 60  # @param {type: \"slider\", min:8, max:80}\n",
        "hist = model.fit(ds_train, epochs=epochs, validation_data=ds_test, verbose=2)\n",
        "plot_hist(hist)"
      ]
    },
    {
      "cell_type": "code",
      "execution_count": 16,
      "metadata": {
        "colab": {
          "base_uri": "https://localhost:8080/",
          "height": 651
        },
        "id": "fg_qIjn6IU6f",
        "outputId": "d1d66407-5279-48ca-afca-e3e2c1132a37"
      },
      "outputs": [
        {
          "name": "stdout",
          "output_type": "stream",
          "text": [
            "Epoch 1/10\n",
            "67/67 - 13s - loss: 0.1536 - accuracy: 0.9907 - val_loss: 0.1382 - val_accuracy: 0.9858 - 13s/epoch - 191ms/step\n",
            "Epoch 2/10\n",
            "67/67 - 4s - loss: 0.1539 - accuracy: 0.9916 - val_loss: 0.1455 - val_accuracy: 0.9943 - 4s/epoch - 53ms/step\n",
            "Epoch 3/10\n",
            "67/67 - 4s - loss: 0.1885 - accuracy: 0.9888 - val_loss: 0.9048 - val_accuracy: 0.9744 - 4s/epoch - 53ms/step\n",
            "Epoch 4/10\n",
            "67/67 - 4s - loss: 0.1583 - accuracy: 0.9888 - val_loss: 0.7990 - val_accuracy: 0.9801 - 4s/epoch - 53ms/step\n",
            "Epoch 5/10\n",
            "67/67 - 4s - loss: 0.0531 - accuracy: 0.9972 - val_loss: 0.2452 - val_accuracy: 0.9801 - 4s/epoch - 54ms/step\n",
            "Epoch 6/10\n",
            "67/67 - 4s - loss: 0.2183 - accuracy: 0.9869 - val_loss: 0.2427 - val_accuracy: 0.9915 - 4s/epoch - 53ms/step\n",
            "Epoch 7/10\n",
            "67/67 - 4s - loss: 0.0431 - accuracy: 0.9972 - val_loss: 0.3026 - val_accuracy: 0.9886 - 4s/epoch - 54ms/step\n",
            "Epoch 8/10\n",
            "67/67 - 4s - loss: 0.0756 - accuracy: 0.9944 - val_loss: 0.3857 - val_accuracy: 0.9858 - 4s/epoch - 54ms/step\n",
            "Epoch 9/10\n",
            "67/67 - 4s - loss: 0.1540 - accuracy: 0.9907 - val_loss: 0.2318 - val_accuracy: 0.9830 - 4s/epoch - 54ms/step\n",
            "Epoch 10/10\n",
            "67/67 - 4s - loss: 0.0645 - accuracy: 0.9935 - val_loss: 0.0612 - val_accuracy: 0.9972 - 4s/epoch - 54ms/step\n"
          ]
        },
        {
          "data": {
            "image/png": "[encoded data removed]",
            "text/plain": [
              "<Figure size 432x288 with 1 Axes>"
            ]
          },
          "metadata": {
            "needs_background": "light"
          },
          "output_type": "display_data"
        }
      ],
      "source": [
        "def unfreeze_model(model):\n",
        "    # We unfreeze the top 20 layers while leaving BatchNorm layers frozen\n",
        "    for layer in model.layers[-20:]:\n",
        "        if not isinstance(layer, layers.BatchNormalization):\n",
        "            layer.trainable = True\n",
        "\n",
        "    optimizer = tf.keras.optimizers.Adam(learning_rate=1e-4)\n",
        "    model.compile(\n",
        "        optimizer=optimizer, loss=\"categorical_crossentropy\", metrics=[\"accuracy\"]\n",
        "    )\n",
        "\n",
        "\n",
        "unfreeze_model(model)\n",
        "\n",
        "epochs = 10  # @param {type: \"slider\", min:8, max:50}\n",
        "hist = model.fit(ds_train, epochs=epochs, validation_data=ds_test, verbose=2)\n",
        "plot_hist(hist)"
      ]
    },
    {
      "cell_type": "code",
      "execution_count": null,
      "metadata": {
        "id": "dlwIrZYHIU4M"
      },
      "outputs": [],
      "source": [
        "model.evaluate(ds_test)"
      ]
    },
    {
      "cell_type": "code",
      "execution_count": 18,
      "metadata": {
        "colab": {
          "base_uri": "https://localhost:8080/"
        },
        "id": "EB7MPxHfEqfQ",
        "outputId": "25758c55-afb3-4c0b-9a8e-753cc3ad8237"
      },
      "outputs": [
        {
          "name": "stdout",
          "output_type": "stream",
          "text": [
            "[[0. 1. 0. 0. 0. 0.]\n",
            " [0. 0. 0. 1. 0. 0.]\n",
            " [1. 0. 0. 0. 0. 0.]\n",
            " ...\n",
            " [0. 0. 0. 0. 1. 0.]\n",
            " [0. 0. 0. 0. 1. 0.]\n",
            " [0. 0. 0. 0. 1. 0.]] <class 'numpy.ndarray'> (360, 6)\n",
            "[1 3 0 0 2 0 2 0 5 4 2 2 1 5 0 4 5 2 3 2 2 0 4 0 0 5 2 4 2 2 2 0 2 5 0 2 1\n",
            " 3 3 4 3 3 3 4 1 3 5 3 5 1 4 3 5 5 0 0 0 1 0 2 1 1 2 4 0 4 1 5 1 2 2 5 2 1\n",
            " 1 3 0 5 2 2 5 2 0 4 1 1 2 3 2 1 5 1 2 4 5 5 2 0 4 2 3 0 3 1 1 1 1 4 4 1 5\n",
            " 1 4 4 2 4 5 2 0 4 1 2 3 1 3 4 2 1 5 0 3 0 0 0 2 1 0 0 3 0 1 3 0 5 2 0 4 0\n",
            " 0 5 5 5 3 1 5 0 4 3 0 2 1 5 3 2 4 1 1 5 5 4 5 1 4 2 5 2 0 3 1 2 0 5 3 0 0\n",
            " 0 2 4 3 1 0 3 4 1 0 2 3 0 3 2 3 3 1 2 0 3 1 5 2 1 1 3 0 0 5 5 2 2 1 5 3 0\n",
            " 4 1 3 2 3 4 3 4 3 0 0 1 0 2 4 1 4 4 4 3 5 0 4 2 3 2 2 2 4 2 4 4 1 1 4 3 4\n",
            " 3 3 0 4 2 2 4 3 4 4 1 1 1 4 4 0 3 5 3 2 3 2 5 2 4 4 4 3 2 1 1 5 1 3 1 4 2\n",
            " 4 3 1 0 4 5 0 3 2 2 5 1 2 5 0 2 5 2 0 2 4 4 0 1 3 1 3 4 0 4 2 1 4 2 2 0 5\n",
            " 3 2 1 0 5 1 0 1 3 4 1 5 4 5 0 5 1 5 5 5 0 4 1 0 4 4 4] (360,)\n",
            "[1 3 0 0 2 0 2 0 5 4 2 2 1 5 0 4 5 2 3 2 2 0 4 0 0 5 2 4 2 2 2 0 2 5 0 2 1\n",
            " 3 3 4 3 3 3 4 1 3 5 3 5 1 4 3 5 5 0 0 0 1 0 2 1 1 2 4 0 4 1 5 1 2 2 5 2 1\n",
            " 1 3 0 5 2 2 5 2 0 4 1 1 2 3 2 1 5 5 2 4 5 5 2 0 4 2 3 0 3 1 1 1 1 4 4 1 5\n",
            " 1 4 4 2 4 5 2 0 4 1 2 3 1 3 4 2 1 5 0 3 0 0 0 2 1 0 0 3 0 1 3 0 5 2 0 4 0\n",
            " 0 5 5 5 3 1 5 0 4 3 0 2 1 5 3 2 4 1 1 5 5 4 5 1 4 2 5 2 0 3 1 2 0 5 3 0 0\n",
            " 0 2 4 3 1 0 3 4 1 0 2 3 0 3 2 3 3 1 2 0 3 1 5 2 1 1 3 0 0 5 5 2 2 1 5 3 0\n",
            " 4 1 3 2 3 4 3 4 3 0 0 1 0 2 4 1 4 4 4 3 5 0 4 2 3 2 2 2 4 2 4 4 1 1 4 3 4\n",
            " 3 3 0 4 2 2 4 3 4 4 1 1 1 4 4 0 3 5 3 2 3 2 5 2 4 4 4 3 2 1 1 5 1 3 1 4 2\n",
            " 4 3 1 0 4 5 0 3 2 2 5 1 2 5 0 2 5 2 0 2 4 4 0 1 3 1 3 4 0 4 2 1 4 2 2 0 5\n",
            " 3 2 1 0 5 1 0 1 3 4 1 5 4 5 0 5 1 5 5 5 0 4 1 0 4 4 4] (360,)\n"
          ]
        }
      ],
      "source": [
        "#Test set 정확도\n",
        "y_pred_test=model.predict(x_test)\n",
        "print(y_pred_test, type(y_pred_test), y_pred_test.shape)\n",
        "y_pred=[]\n",
        "for ar in y_pred_test:\n",
        "  y_pred.append(np.argmax(ar))\n",
        "y_pred = np.array(y_pred)\n",
        "print(y_pred, y_pred.shape)\n",
        "print(y_test, y_test.shape)"
      ]
    },
    {
      "cell_type": "code",
      "execution_count": 20,
      "metadata": {
        "colab": {
          "base_uri": "https://localhost:8080/"
        },
        "id": "RpZW7G96IUsi",
        "outputId": "aaf05564-681e-4e43-a1c3-b1c5c1f6b185"
      },
      "outputs": [
        {
          "name": "stdout",
          "output_type": "stream",
          "text": [
            "accuracy: 0.9972222222222222\n",
            "Precision: 0.9972663139329806\n",
            "Recall: 0.9972222222222222\n",
            "Precision: 0.9972663139329806\n"
          ]
        }
      ],
      "source": [
        "from sklearn.metrics import f1_score, accuracy_score, recall_score, precision_score\n",
        "print(\"accuracy:\",accuracy_score(y_test, y_pred))\n",
        "print(\"Precision:\",precision_score(y_test, y_pred, average='weighted'))\n",
        "print(\"Recall:\",recall_score(y_test, y_pred, average='weighted'))\n",
        "print(\"Precision:\",precision_score(y_test, y_pred, average='weighted'))"
      ]
    },
    {
      "cell_type": "code",
      "execution_count": 23,
      "metadata": {
        "colab": {
          "base_uri": "https://localhost:8080/"
        },
        "id": "EXzxgRCOh8Kz",
        "outputId": "f8b6cdb2-4afd-43b9-c437-0f895982b1dd"
      },
      "outputs": [
        {
          "name": "stdout",
          "output_type": "stream",
          "text": [
            "[[0. 1. 0. 0. 0. 0.]\n",
            " [1. 0. 0. 0. 0. 0.]\n",
            " [0. 0. 0. 1. 0. 0.]\n",
            " ...\n",
            " [0. 0. 0. 0. 0. 1.]\n",
            " [0. 0. 1. 0. 0. 0.]\n",
            " [0. 0. 0. 1. 0. 0.]] <class 'numpy.ndarray'> (1080, 6)\n",
            "[[0. 1. 0. 0. 0. 0.]\n",
            " [1. 0. 0. 0. 0. 0.]\n",
            " [0. 0. 0. 1. 0. 0.]\n",
            " ...\n",
            " [0. 0. 0. 0. 0. 1.]\n",
            " [0. 0. 1. 0. 0. 0.]\n",
            " [0. 0. 0. 1. 0. 0.]] (1080, 6)\n",
            "[1 0 3 ... 5 2 3] (1080,)\n"
          ]
        }
      ],
      "source": [
        "#Train set 정확도\n",
        "\n",
        "y_pred_train=model.predict(x_train)\n",
        "print(y_pred_train, type(y_pred_train), y_pred_train.shape)\n",
        "y_train_list=[]\n",
        "for ar in y_pred_train:\n",
        "  y_train_list.append(np.argmax(ar))\n",
        "y_train_list = np.array(y_train_list)\n",
        "print(y_pred_train, y_pred_train.shape)\n",
        "print(y_train_list, y_train_list.shape)"
      ]
    },
    {
      "cell_type": "code",
      "execution_count": 25,
      "metadata": {
        "colab": {
          "base_uri": "https://localhost:8080/"
        },
        "id": "VUljgSBFiS0L",
        "outputId": "3b540dc9-0c24-4f0c-ff42-9f1a129fe972"
      },
      "outputs": [
        {
          "name": "stdout",
          "output_type": "stream",
          "text": [
            "accuracy: 0.9981481481481481\n",
            "Precision: 0.9981585227497286\n",
            "Recall: 0.9981481481481481\n",
            "Precision: 0.9981585227497286\n"
          ]
        }
      ],
      "source": [
        "print(\"accuracy:\",accuracy_score(y_train, y_train_list))\n",
        "print(\"Precision:\",precision_score(y_train, y_train_list, average='weighted'))\n",
        "print(\"Recall:\",recall_score(y_train, y_train_list, average='weighted'))\n",
        "print(\"Precision:\",precision_score(y_train, y_train_list, average='weighted'))"
      ]
    },
    {
      "cell_type": "code",
      "execution_count": 26,
      "metadata": {
        "colab": {
          "base_uri": "https://localhost:8080/"
        },
        "id": "xM9cj2PXvGHI",
        "outputId": "32408871-368d-4a3d-f4b3-1bbcafbb12a4"
      },
      "outputs": [
        {
          "name": "stdout",
          "output_type": "stream",
          "text": [
            "Ubuntu 18.04.5 LTS \\n \\l\n",
            "\n",
            "processor\t: 0\n",
            "vendor_id\t: GenuineIntel\n",
            "cpu family\t: 6\n",
            "model\t\t: 63\n",
            "model name\t: Intel(R) Xeon(R) CPU @ 2.30GHz\n",
            "stepping\t: 0\n",
            "microcode\t: 0x1\n",
            "cpu MHz\t\t: 2299.998\n",
            "cache size\t: 46080 KB\n",
            "physical id\t: 0\n",
            "siblings\t: 2\n",
            "core id\t\t: 0\n",
            "cpu cores\t: 1\n",
            "apicid\t\t: 0\n",
            "initial apicid\t: 0\n",
            "fpu\t\t: yes\n",
            "fpu_exception\t: yes\n",
            "cpuid level\t: 13\n",
            "wp\t\t: yes\n",
            "flags\t\t: fpu vme de pse tsc msr pae mce cx8 apic sep mtrr pge mca cmov pat pse36 clflush mmx fxsr sse sse2 ss ht syscall nx pdpe1gb rdtscp lm constant_tsc rep_good nopl xtopology nonstop_tsc cpuid tsc_known_freq pni pclmulqdq ssse3 fma cx16 pcid sse4_1 sse4_2 x2apic movbe popcnt aes xsave avx f16c rdrand hypervisor lahf_lm abm invpcid_single ssbd ibrs ibpb stibp fsgsbase tsc_adjust bmi1 avx2 smep bmi2 erms invpcid xsaveopt arat md_clear arch_capabilities\n",
            "bugs\t\t: cpu_meltdown spectre_v1 spectre_v2 spec_store_bypass l1tf mds swapgs\n",
            "bogomips\t: 4599.99\n",
            "clflush size\t: 64\n",
            "cache_alignment\t: 64\n",
            "address sizes\t: 46 bits physical, 48 bits virtual\n",
            "power management:\n",
            "\n",
            "processor\t: 1\n",
            "vendor_id\t: GenuineIntel\n",
            "cpu family\t: 6\n",
            "model\t\t: 63\n",
            "model name\t: Intel(R) Xeon(R) CPU @ 2.30GHz\n",
            "stepping\t: 0\n",
            "microcode\t: 0x1\n",
            "cpu MHz\t\t: 2299.998\n",
            "cache size\t: 46080 KB\n",
            "physical id\t: 0\n",
            "siblings\t: 2\n",
            "core id\t\t: 0\n",
            "cpu cores\t: 1\n",
            "apicid\t\t: 1\n",
            "initial apicid\t: 1\n",
            "fpu\t\t: yes\n",
            "fpu_exception\t: yes\n",
            "cpuid level\t: 13\n",
            "wp\t\t: yes\n",
            "flags\t\t: fpu vme de pse tsc msr pae mce cx8 apic sep mtrr pge mca cmov pat pse36 clflush mmx fxsr sse sse2 ss ht syscall nx pdpe1gb rdtscp lm constant_tsc rep_good nopl xtopology nonstop_tsc cpuid tsc_known_freq pni pclmulqdq ssse3 fma cx16 pcid sse4_1 sse4_2 x2apic movbe popcnt aes xsave avx f16c rdrand hypervisor lahf_lm abm invpcid_single ssbd ibrs ibpb stibp fsgsbase tsc_adjust bmi1 avx2 smep bmi2 erms invpcid xsaveopt arat md_clear arch_capabilities\n",
            "bugs\t\t: cpu_meltdown spectre_v1 spectre_v2 spec_store_bypass l1tf mds swapgs\n",
            "bogomips\t: 4599.99\n",
            "clflush size\t: 64\n",
            "cache_alignment\t: 64\n",
            "address sizes\t: 46 bits physical, 48 bits virtual\n",
            "power management:\n",
            "\n",
            "2\n",
            "1\n",
            "cpu cores\t: 1\n",
            "              total        used        free      shared  buff/cache   available\n",
            "Mem:            12G        5.0G        1.3G        143M        6.4G        9.3G\n",
            "Swap:            0B          0B          0B\n",
            "Mon Jun 13 06:24:46 2022       \n",
            "+-----------------------------------------------------------------------------+\n",
            "| NVIDIA-SMI 460.32.03    Driver Version: 460.32.03    CUDA Version: 11.2     |\n",
            "|-------------------------------+----------------------+----------------------+\n",
            "| GPU  Name        Persistence-M| Bus-Id        Disp.A | Volatile Uncorr. ECC |\n",
            "| Fan  Temp  Perf  Pwr:Usage/Cap|         Memory-Usage | GPU-Util  Compute M. |\n",
            "|                               |                      |               MIG M. |\n",
            "|===============================+======================+======================|\n",
            "|   0  Tesla T4            Off  | 00000000:00:04.0 Off |                    0 |\n",
            "| N/A   77C    P0    34W /  70W |   4948MiB / 15109MiB |      0%      Default |\n",
            "|                               |                      |                  N/A |\n",
            "+-------------------------------+----------------------+----------------------+\n",
            "                                                                               \n",
            "+-----------------------------------------------------------------------------+\n",
            "| Processes:                                                                  |\n",
            "|  GPU   GI   CI        PID   Type   Process name                  GPU Memory |\n",
            "|        ID   ID                                                   Usage      |\n",
            "|=============================================================================|\n",
            "+-----------------------------------------------------------------------------+\n"
          ]
        }
      ],
      "source": [
        "#운영체제 확인\n",
        "!cat /etc/issue\n",
        "\n",
        "#0. CPU 정보 확인\n",
        "!cat /proc/cpuinfo\n",
        "\n",
        "#1. CPU 코어 전체 개수 확인\n",
        "!grep -c processor /proc/cpuinfo\n",
        " \n",
        "#2. 물리 CPU 수 확인\n",
        "!grep \"physical id\" /proc/cpuinfo | sort -u | wc -l\n",
        " \n",
        "# 3.CPU당 물리 코어 수 확인\n",
        "!grep \"cpu cores\" /proc/cpuinfo | tail -1\n",
        "\n",
        "#메모리 확인\n",
        "!free -h\n",
        "\n",
        "#런타임 유형 변경 후 gpu 확인\n",
        "!nvidia-smi"
      ]
    }
  ],
  "metadata": {
    "accelerator": "GPU",
    "colab": {
      "collapsed_sections": [],
      "name": "EfficientNet 1st Result",
      "provenance": []
    },
    "kernelspec": {
      "display_name": "Python 3",
      "name": "python3"
    },
    "language_info": {
      "name": "python"
    }
  },
  "nbformat": 4,
  "nbformat_minor": 0
}
