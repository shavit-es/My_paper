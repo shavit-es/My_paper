{
  "cells": [
    {
      "cell_type": "code",
      "execution_count": 23,
      "metadata": {
        "colab": {
          "base_uri": "https://localhost:8080/"
        },
        "id": "-P2q4WSEARhh",
        "outputId": "06302550-49f9-4e50-b9af-5d5992338f3a"
      },
      "outputs": [
        {
          "name": "stdout",
          "output_type": "stream",
          "text": [
            "Looking in indexes: https://pypi.org/simple, https://us-python.pkg.dev/colab-wheels/public/simple/\n",
            "Requirement already satisfied: cloud_tpu_client in /usr/local/lib/python3.7/dist-packages (0.10)\n",
            "Requirement already satisfied: oauth2client in /usr/local/lib/python3.7/dist-packages (from cloud_tpu_client) (4.1.3)\n",
            "Requirement already satisfied: google-api-python-client==1.8.0 in /usr/local/lib/python3.7/dist-packages (from cloud_tpu_client) (1.8.0)\n",
            "Requirement already satisfied: google-auth-httplib2>=0.0.3 in /usr/local/lib/python3.7/dist-packages (from google-api-python-client==1.8.0->cloud_tpu_client) (0.0.4)\n",
            "Requirement already satisfied: google-auth>=1.4.1 in /usr/local/lib/python3.7/dist-packages (from google-api-python-client==1.8.0->cloud_tpu_client) (1.35.0)\n",
            "Requirement already satisfied: httplib2<1dev,>=0.9.2 in /usr/local/lib/python3.7/dist-packages (from google-api-python-client==1.8.0->cloud_tpu_client) (0.17.4)\n",
            "Requirement already satisfied: six<2dev,>=1.6.1 in /usr/local/lib/python3.7/dist-packages (from google-api-python-client==1.8.0->cloud_tpu_client) (1.15.0)\n",
            "Requirement already satisfied: google-api-core<2dev,>=1.13.0 in /usr/local/lib/python3.7/dist-packages (from google-api-python-client==1.8.0->cloud_tpu_client) (1.31.6)\n",
            "Requirement already satisfied: uritemplate<4dev,>=3.0.0 in /usr/local/lib/python3.7/dist-packages (from google-api-python-client==1.8.0->cloud_tpu_client) (3.0.1)\n",
            "Requirement already satisfied: packaging>=14.3 in /usr/local/lib/python3.7/dist-packages (from google-api-core<2dev,>=1.13.0->google-api-python-client==1.8.0->cloud_tpu_client) (21.3)\n",
            "Requirement already satisfied: googleapis-common-protos<2.0dev,>=1.6.0 in /usr/local/lib/python3.7/dist-packages (from google-api-core<2dev,>=1.13.0->google-api-python-client==1.8.0->cloud_tpu_client) (1.56.2)\n",
            "Requirement already satisfied: setuptools>=40.3.0 in /usr/local/lib/python3.7/dist-packages (from google-api-core<2dev,>=1.13.0->google-api-python-client==1.8.0->cloud_tpu_client) (57.4.0)\n",
            "Requirement already satisfied: pytz in /usr/local/lib/python3.7/dist-packages (from google-api-core<2dev,>=1.13.0->google-api-python-client==1.8.0->cloud_tpu_client) (2022.1)\n",
            "Requirement already satisfied: protobuf<4.0.0dev,>=3.12.0 in /usr/local/lib/python3.7/dist-packages (from google-api-core<2dev,>=1.13.0->google-api-python-client==1.8.0->cloud_tpu_client) (3.17.3)\n",
            "Requirement already satisfied: requests<3.0.0dev,>=2.18.0 in /usr/local/lib/python3.7/dist-packages (from google-api-core<2dev,>=1.13.0->google-api-python-client==1.8.0->cloud_tpu_client) (2.23.0)\n",
            "Requirement already satisfied: cachetools<5.0,>=2.0.0 in /usr/local/lib/python3.7/dist-packages (from google-auth>=1.4.1->google-api-python-client==1.8.0->cloud_tpu_client) (4.2.4)\n",
            "Requirement already satisfied: pyasn1-modules>=0.2.1 in /usr/local/lib/python3.7/dist-packages (from google-auth>=1.4.1->google-api-python-client==1.8.0->cloud_tpu_client) (0.2.8)\n",
            "Requirement already satisfied: rsa<5,>=3.1.4 in /usr/local/lib/python3.7/dist-packages (from google-auth>=1.4.1->google-api-python-client==1.8.0->cloud_tpu_client) (4.8)\n",
            "Requirement already satisfied: pyparsing!=3.0.5,>=2.0.2 in /usr/local/lib/python3.7/dist-packages (from packaging>=14.3->google-api-core<2dev,>=1.13.0->google-api-python-client==1.8.0->cloud_tpu_client) (3.0.9)\n",
            "Requirement already satisfied: pyasn1<0.5.0,>=0.4.6 in /usr/local/lib/python3.7/dist-packages (from pyasn1-modules>=0.2.1->google-auth>=1.4.1->google-api-python-client==1.8.0->cloud_tpu_client) (0.4.8)\n",
            "Requirement already satisfied: certifi>=2017.4.17 in /usr/local/lib/python3.7/dist-packages (from requests<3.0.0dev,>=2.18.0->google-api-core<2dev,>=1.13.0->google-api-python-client==1.8.0->cloud_tpu_client) (2022.5.18.1)\n",
            "Requirement already satisfied: chardet<4,>=3.0.2 in /usr/local/lib/python3.7/dist-packages (from requests<3.0.0dev,>=2.18.0->google-api-core<2dev,>=1.13.0->google-api-python-client==1.8.0->cloud_tpu_client) (3.0.4)\n",
            "Requirement already satisfied: idna<3,>=2.5 in /usr/local/lib/python3.7/dist-packages (from requests<3.0.0dev,>=2.18.0->google-api-core<2dev,>=1.13.0->google-api-python-client==1.8.0->cloud_tpu_client) (2.10)\n",
            "Requirement already satisfied: urllib3!=1.25.0,!=1.25.1,<1.26,>=1.21.1 in /usr/local/lib/python3.7/dist-packages (from requests<3.0.0dev,>=2.18.0->google-api-core<2dev,>=1.13.0->google-api-python-client==1.8.0->cloud_tpu_client) (1.24.3)\n"
          ]
        }
      ],
      "source": [
        "!pip install cloud_tpu_client"
      ]
    },
    {
      "cell_type": "code",
      "execution_count": 24,
      "metadata": {
        "id": "LvgMhZQt7W5w"
      },
      "outputs": [],
      "source": [
        "from tensorflow.keras.applications import EfficientNetB0\n",
        "model = EfficientNetB0(weights='imagenet')"
      ]
    },
    {
      "cell_type": "code",
      "execution_count": 25,
      "metadata": {
        "id": "0iYRk_PS7W8V"
      },
      "outputs": [],
      "source": [
        "# IMG_SIZE is determined by EfficientNet model choice\n",
        "IMG_SIZE = 224"
      ]
    },
    {
      "cell_type": "code",
      "execution_count": 26,
      "metadata": {
        "colab": {
          "base_uri": "https://localhost:8080/"
        },
        "id": "06Ys3SeT7W-y",
        "outputId": "a03a44f7-ad2c-4253-d253-2a12989c6971"
      },
      "outputs": [
        {
          "name": "stdout",
          "output_type": "stream",
          "text": [
            "Not connected to a TPU runtime. Using CPU/GPU strategy\n",
            "INFO:tensorflow:Using MirroredStrategy with devices ('/job:localhost/replica:0/task:0/device:GPU:0',)\n"
          ]
        }
      ],
      "source": [
        "from cloud_tpu_client import Client\n",
        "import tensorflow as tf\n",
        "import numpy as np\n",
        "\n",
        "\n",
        "\n",
        "try:\n",
        "    c = Client()\n",
        "    c.configure_tpu_version(tf.__version__, restart_type=\"always\")\n",
        "    tpu = tf.distribute.cluster_resolver.TPUClusterResolver.connect()\n",
        "    print(\"Device:\", tpu.master())\n",
        "    strategy = tf.distribute.TPUStrategy(tpu)\n",
        "\n",
        "except ValueError:\n",
        "    print(\"Not connected to a TPU runtime. Using CPU/GPU strategy\")\n",
        "    strategy = tf.distribute.MirroredStrategy()"
      ]
    },
    {
      "cell_type": "code",
      "execution_count": 27,
      "metadata": {
        "colab": {
          "base_uri": "https://localhost:8080/"
        },
        "id": "54v8xUNRBnT6",
        "outputId": "7be2f493-2e18-4524-aa94-a4d1752a5dee"
      },
      "outputs": [
        {
          "name": "stdout",
          "output_type": "stream",
          "text": [
            "<PrefetchDataset element_spec=(TensorSpec(shape=(224, 224, 3), dtype=tf.uint8, name=None), TensorSpec(shape=(), dtype=tf.int32, name=None))>\n",
            "<PrefetchDataset element_spec=(TensorSpec(shape=(224, 224, 3), dtype=tf.uint8, name=None), TensorSpec(shape=(), dtype=tf.int32, name=None))>\n"
          ]
        }
      ],
      "source": [
        "batch_size = 16\n",
        "SHUFFLE_BUFFER_SIZE = 30\n",
        "\n",
        "x_train, x_test, y_train, y_test = np.load(\"/content/drive/MyDrive/steel_surface_224.npy\", allow_pickle=True)\n",
        "ds_train = tf.data.Dataset.from_tensor_slices((x_train, y_train))\n",
        "ds_train = ds_train.prefetch(batch_size)\n",
        "ds_test = tf.data.Dataset.from_tensor_slices((x_test, y_test))\n",
        "ds_test = ds_test.prefetch(batch_size)\n",
        "print(ds_train)\n",
        "print(ds_test)"
      ]
    },
    {
      "cell_type": "code",
      "execution_count": 28,
      "metadata": {
        "id": "ETtjOBJr7XBF"
      },
      "outputs": [],
      "source": [
        "NUM_CLASSES = 6"
      ]
    },
    {
      "cell_type": "code",
      "execution_count": 29,
      "metadata": {
        "id": "7fDMzZvW7XDY"
      },
      "outputs": [],
      "source": [
        "size = (IMG_SIZE, IMG_SIZE)\n",
        "ds_train = ds_train.map(lambda image, label: (tf.image.resize(image, size), label))\n",
        "ds_test = ds_test.map(lambda image, label: (tf.image.resize(image, size), label))"
      ]
    },
    {
      "cell_type": "code",
      "execution_count": 30,
      "metadata": {
        "colab": {
          "base_uri": "https://localhost:8080/",
          "height": 264
        },
        "id": "KO1NCo6Z7XFp",
        "outputId": "8e1579f1-cc34-4133-bd40-310e8ddfdb9b"
      },
      "outputs": [
        {
          "data": {
            "image/png": "[encoded data removed]",
            "text/plain": [
              "<Figure size 432x288 with 9 Axes>"
            ]
          },
          "metadata": {
            "needs_background": "light"
          },
          "output_type": "display_data"
        }
      ],
      "source": [
        "import matplotlib.pyplot as plt\n",
        "\n",
        "labellist=[\"crazing\",\"inclusion\",\"patches\",\"pitted_surface\",\"rolled-in_scale\",\"scratches\"]\n",
        "def format_label(label):\n",
        "  return labellist[(int(str(label)[10]))]\n",
        "\n",
        "\n",
        "for i, (image, label) in enumerate(ds_train.take(9)):\n",
        "    ax = plt.subplot(3, 3, i + 1)\n",
        "    plt.imshow(image.numpy().astype(\"uint8\"))\n",
        "    plt.title(format_label(label))\n",
        "    plt.axis(\"off\")"
      ]
    },
    {
      "cell_type": "code",
      "execution_count": 31,
      "metadata": {
        "id": "p_L0gBYE7XIA"
      },
      "outputs": [],
      "source": [
        "from tensorflow.keras.models import Sequential\n",
        "from tensorflow.keras import layers\n",
        "\n",
        "img_augmentation = Sequential(\n",
        "    [\n",
        "        layers.RandomRotation(factor=0.15),\n",
        "        layers.RandomTranslation(height_factor=0.1, width_factor=0.1),\n",
        "        layers.RandomFlip(),\n",
        "        layers.RandomContrast(factor=0.1),\n",
        "    ],\n",
        "    name=\"img_augmentation\",\n",
        ")"
      ]
    },
    {
      "cell_type": "code",
      "execution_count": 33,
      "metadata": {
        "id": "7MepxW4l7XMW"
      },
      "outputs": [],
      "source": [
        "# One-hot / categorical encoding\n",
        "def input_preprocess(image, label):\n",
        "    label = tf.one_hot(label, NUM_CLASSES)\n",
        "    return image, label\n",
        "\n",
        "\n",
        "ds_train = ds_train.map(\n",
        "    input_preprocess, num_parallel_calls=tf.data.AUTOTUNE\n",
        ")\n",
        "ds_train = ds_train.batch(batch_size=batch_size, drop_remainder=True)\n",
        "ds_train = ds_train.prefetch(tf.data.AUTOTUNE)\n",
        "\n",
        "ds_test = ds_test.map(input_preprocess)\n",
        "ds_test = ds_test.batch(batch_size=batch_size, drop_remainder=True)"
      ]
    },
    {
      "cell_type": "code",
      "execution_count": 34,
      "metadata": {
        "colab": {
          "base_uri": "https://localhost:8080/"
        },
        "id": "Y4me0mAj7XOh",
        "outputId": "7de26dc9-dcbe-4134-de7a-a60ba594fb98"
      },
      "outputs": [
        {
          "name": "stdout",
          "output_type": "stream",
          "text": [
            "Model: \"model_1\"\n",
            "_________________________________________________________________\n",
            " Layer (type)                Output Shape              Param #   \n",
            "=================================================================\n",
            " input_6 (InputLayer)        [(None, 224, 224, 3)]     0         \n",
            "                                                                 \n",
            " img_augmentation (Sequentia  (None, 224, 224, 3)      0         \n",
            " l)                                                              \n",
            "                                                                 \n",
            " efficientnetb0 (Functional)  (None, 6)                4057257   \n",
            "                                                                 \n",
            "=================================================================\n",
            "Total params: 4,057,257\n",
            "Trainable params: 4,015,234\n",
            "Non-trainable params: 42,023\n",
            "_________________________________________________________________\n",
            "Epoch 1/100\n",
            "67/67 - 34s - loss: 3.2017 - accuracy: 0.3731 - val_loss: 2.2571 - val_accuracy: 0.1648 - 34s/epoch - 509ms/step\n",
            "Epoch 2/100\n",
            "67/67 - 12s - loss: 1.7013 - accuracy: 0.5243 - val_loss: 3.7163 - val_accuracy: 0.1733 - 12s/epoch - 175ms/step\n",
            "Epoch 3/100\n",
            "67/67 - 12s - loss: 1.1888 - accuracy: 0.6269 - val_loss: 5.3569 - val_accuracy: 0.1733 - 12s/epoch - 174ms/step\n",
            "Epoch 4/100\n",
            "67/67 - 12s - loss: 1.0549 - accuracy: 0.6996 - val_loss: 7.1121 - val_accuracy: 0.1733 - 12s/epoch - 173ms/step\n",
            "Epoch 5/100\n",
            "67/67 - 11s - loss: 0.7329 - accuracy: 0.7733 - val_loss: 8.6696 - val_accuracy: 0.1733 - 11s/epoch - 171ms/step\n",
            "Epoch 6/100\n",
            "67/67 - 11s - loss: 0.7533 - accuracy: 0.8013 - val_loss: 9.2102 - val_accuracy: 0.2188 - 11s/epoch - 171ms/step\n",
            "Epoch 7/100\n",
            "67/67 - 12s - loss: 0.6045 - accuracy: 0.8162 - val_loss: 3.0452 - val_accuracy: 0.3438 - 12s/epoch - 175ms/step\n",
            "Epoch 8/100\n",
            "67/67 - 12s - loss: 0.5329 - accuracy: 0.8293 - val_loss: 1.3358 - val_accuracy: 0.5227 - 12s/epoch - 174ms/step\n",
            "Epoch 9/100\n",
            "67/67 - 12s - loss: 0.4359 - accuracy: 0.8554 - val_loss: 0.6448 - val_accuracy: 0.8125 - 12s/epoch - 172ms/step\n",
            "Epoch 10/100\n",
            "67/67 - 12s - loss: 0.4966 - accuracy: 0.8629 - val_loss: 17.4691 - val_accuracy: 0.3438 - 12s/epoch - 173ms/step\n",
            "Epoch 11/100\n",
            "67/67 - 12s - loss: 0.4478 - accuracy: 0.8797 - val_loss: 0.2259 - val_accuracy: 0.9119 - 12s/epoch - 172ms/step\n",
            "Epoch 12/100\n",
            "67/67 - 12s - loss: 0.3136 - accuracy: 0.8909 - val_loss: 0.2905 - val_accuracy: 0.9062 - 12s/epoch - 176ms/step\n",
            "Epoch 13/100\n",
            "67/67 - 12s - loss: 0.3550 - accuracy: 0.8862 - val_loss: 20.5290 - val_accuracy: 0.5142 - 12s/epoch - 173ms/step\n",
            "Epoch 14/100\n",
            "67/67 - 11s - loss: 0.4600 - accuracy: 0.8675 - val_loss: 0.9117 - val_accuracy: 0.7614 - 11s/epoch - 171ms/step\n",
            "Epoch 15/100\n",
            "67/67 - 12s - loss: 0.3849 - accuracy: 0.8955 - val_loss: 2.9689 - val_accuracy: 0.4631 - 12s/epoch - 173ms/step\n",
            "Epoch 16/100\n",
            "67/67 - 11s - loss: 0.3470 - accuracy: 0.9039 - val_loss: 0.3276 - val_accuracy: 0.9091 - 11s/epoch - 171ms/step\n",
            "Epoch 17/100\n",
            "67/67 - 12s - loss: 0.3259 - accuracy: 0.9170 - val_loss: 3.0925 - val_accuracy: 0.8097 - 12s/epoch - 174ms/step\n",
            "Epoch 18/100\n",
            "67/67 - 11s - loss: 0.2973 - accuracy: 0.9104 - val_loss: 0.1529 - val_accuracy: 0.9545 - 11s/epoch - 171ms/step\n",
            "Epoch 19/100\n",
            "67/67 - 12s - loss: 0.2230 - accuracy: 0.9272 - val_loss: 0.1879 - val_accuracy: 0.9290 - 12s/epoch - 174ms/step\n",
            "Epoch 20/100\n",
            "67/67 - 12s - loss: 0.2123 - accuracy: 0.9272 - val_loss: 0.1732 - val_accuracy: 0.9631 - 12s/epoch - 173ms/step\n",
            "Epoch 21/100\n",
            "67/67 - 12s - loss: 0.1759 - accuracy: 0.9422 - val_loss: 0.3089 - val_accuracy: 0.8864 - 12s/epoch - 173ms/step\n",
            "Epoch 22/100\n",
            "67/67 - 12s - loss: 0.2058 - accuracy: 0.9291 - val_loss: 1.5192 - val_accuracy: 0.9176 - 12s/epoch - 175ms/step\n",
            "Epoch 23/100\n",
            "67/67 - 11s - loss: 0.2152 - accuracy: 0.9356 - val_loss: 0.1508 - val_accuracy: 0.9574 - 11s/epoch - 171ms/step\n",
            "Epoch 24/100\n",
            "67/67 - 12s - loss: 0.1444 - accuracy: 0.9599 - val_loss: 0.1567 - val_accuracy: 0.9489 - 12s/epoch - 172ms/step\n",
            "Epoch 25/100\n",
            "67/67 - 12s - loss: 0.1256 - accuracy: 0.9562 - val_loss: 0.4285 - val_accuracy: 0.8750 - 12s/epoch - 174ms/step\n",
            "Epoch 26/100\n",
            "67/67 - 12s - loss: 0.1798 - accuracy: 0.9534 - val_loss: 0.7060 - val_accuracy: 0.8580 - 12s/epoch - 173ms/step\n",
            "Epoch 27/100\n",
            "67/67 - 12s - loss: 0.2654 - accuracy: 0.9291 - val_loss: 0.2063 - val_accuracy: 0.9432 - 12s/epoch - 173ms/step\n",
            "Epoch 28/100\n",
            "67/67 - 12s - loss: 0.1880 - accuracy: 0.9506 - val_loss: 0.2473 - val_accuracy: 0.9176 - 12s/epoch - 172ms/step\n",
            "Epoch 29/100\n",
            "67/67 - 11s - loss: 0.1609 - accuracy: 0.9599 - val_loss: 0.1513 - val_accuracy: 0.9574 - 11s/epoch - 170ms/step\n",
            "Epoch 30/100\n",
            "67/67 - 12s - loss: 0.1696 - accuracy: 0.9450 - val_loss: 0.5092 - val_accuracy: 0.8381 - 12s/epoch - 173ms/step\n",
            "Epoch 31/100\n",
            "67/67 - 12s - loss: 0.1385 - accuracy: 0.9608 - val_loss: 0.3171 - val_accuracy: 0.9205 - 12s/epoch - 173ms/step\n",
            "Epoch 32/100\n",
            "67/67 - 12s - loss: 0.1889 - accuracy: 0.9515 - val_loss: 30.0916 - val_accuracy: 0.7443 - 12s/epoch - 172ms/step\n",
            "Epoch 33/100\n",
            "67/67 - 12s - loss: 0.1881 - accuracy: 0.9403 - val_loss: 0.0736 - val_accuracy: 0.9744 - 12s/epoch - 173ms/step\n",
            "Epoch 34/100\n",
            "67/67 - 12s - loss: 0.1233 - accuracy: 0.9674 - val_loss: 0.1302 - val_accuracy: 0.9631 - 12s/epoch - 172ms/step\n",
            "Epoch 35/100\n",
            "67/67 - 12s - loss: 0.1306 - accuracy: 0.9646 - val_loss: 3.3988 - val_accuracy: 0.5824 - 12s/epoch - 172ms/step\n",
            "Epoch 36/100\n",
            "67/67 - 12s - loss: 0.1516 - accuracy: 0.9506 - val_loss: 0.3475 - val_accuracy: 0.9432 - 12s/epoch - 173ms/step\n",
            "Epoch 37/100\n",
            "67/67 - 12s - loss: 0.1522 - accuracy: 0.9608 - val_loss: 0.1606 - val_accuracy: 0.9545 - 12s/epoch - 172ms/step\n",
            "Epoch 38/100\n",
            "67/67 - 12s - loss: 0.1529 - accuracy: 0.9571 - val_loss: 0.2059 - val_accuracy: 0.9347 - 12s/epoch - 173ms/step\n",
            "Epoch 39/100\n",
            "67/67 - 12s - loss: 0.0917 - accuracy: 0.9748 - val_loss: 0.3742 - val_accuracy: 0.8807 - 12s/epoch - 172ms/step\n",
            "Epoch 40/100\n",
            "67/67 - 12s - loss: 0.1160 - accuracy: 0.9599 - val_loss: 1.4745 - val_accuracy: 0.7983 - 12s/epoch - 172ms/step\n",
            "Epoch 41/100\n",
            "67/67 - 12s - loss: 0.1348 - accuracy: 0.9571 - val_loss: 0.1812 - val_accuracy: 0.9631 - 12s/epoch - 172ms/step\n",
            "Epoch 42/100\n",
            "67/67 - 12s - loss: 0.0735 - accuracy: 0.9748 - val_loss: 0.1615 - val_accuracy: 0.9631 - 12s/epoch - 172ms/step\n",
            "Epoch 43/100\n",
            "67/67 - 12s - loss: 0.0693 - accuracy: 0.9841 - val_loss: 0.1641 - val_accuracy: 0.9574 - 12s/epoch - 176ms/step\n",
            "Epoch 44/100\n",
            "67/67 - 12s - loss: 0.0680 - accuracy: 0.9813 - val_loss: 0.5233 - val_accuracy: 0.8807 - 12s/epoch - 174ms/step\n",
            "Epoch 45/100\n",
            "67/67 - 12s - loss: 0.0845 - accuracy: 0.9729 - val_loss: 0.3406 - val_accuracy: 0.9375 - 12s/epoch - 174ms/step\n",
            "Epoch 46/100\n",
            "67/67 - 12s - loss: 0.0999 - accuracy: 0.9711 - val_loss: 0.2659 - val_accuracy: 0.9347 - 12s/epoch - 173ms/step\n",
            "Epoch 47/100\n",
            "67/67 - 11s - loss: 0.1770 - accuracy: 0.9646 - val_loss: 0.2359 - val_accuracy: 0.9233 - 11s/epoch - 171ms/step\n",
            "Epoch 48/100\n",
            "67/67 - 12s - loss: 0.0727 - accuracy: 0.9729 - val_loss: 0.8168 - val_accuracy: 0.7983 - 12s/epoch - 172ms/step\n",
            "Epoch 49/100\n",
            "67/67 - 12s - loss: 0.1011 - accuracy: 0.9729 - val_loss: 0.4649 - val_accuracy: 0.8920 - 12s/epoch - 172ms/step\n",
            "Epoch 50/100\n",
            "67/67 - 12s - loss: 0.1574 - accuracy: 0.9496 - val_loss: 0.1786 - val_accuracy: 0.9432 - 12s/epoch - 172ms/step\n",
            "Epoch 51/100\n",
            "67/67 - 12s - loss: 0.0895 - accuracy: 0.9711 - val_loss: 0.6032 - val_accuracy: 0.8267 - 12s/epoch - 172ms/step\n",
            "Epoch 52/100\n",
            "67/67 - 12s - loss: 0.1516 - accuracy: 0.9636 - val_loss: 0.2182 - val_accuracy: 0.9290 - 12s/epoch - 172ms/step\n",
            "Epoch 53/100\n",
            "67/67 - 12s - loss: 0.1050 - accuracy: 0.9729 - val_loss: 0.2624 - val_accuracy: 0.9176 - 12s/epoch - 174ms/step\n",
            "Epoch 54/100\n",
            "67/67 - 12s - loss: 0.1180 - accuracy: 0.9636 - val_loss: 0.1003 - val_accuracy: 0.9773 - 12s/epoch - 174ms/step\n",
            "Epoch 55/100\n",
            "67/67 - 12s - loss: 0.0828 - accuracy: 0.9683 - val_loss: 0.1795 - val_accuracy: 0.9403 - 12s/epoch - 173ms/step\n",
            "Epoch 56/100\n",
            "67/67 - 12s - loss: 0.1031 - accuracy: 0.9618 - val_loss: 0.2998 - val_accuracy: 0.9290 - 12s/epoch - 173ms/step\n",
            "Epoch 57/100\n",
            "67/67 - 12s - loss: 0.1107 - accuracy: 0.9636 - val_loss: 0.1542 - val_accuracy: 0.9574 - 12s/epoch - 172ms/step\n",
            "Epoch 58/100\n",
            "67/67 - 12s - loss: 0.0714 - accuracy: 0.9832 - val_loss: 0.1182 - val_accuracy: 0.9716 - 12s/epoch - 173ms/step\n",
            "Epoch 59/100\n",
            "67/67 - 12s - loss: 0.0583 - accuracy: 0.9841 - val_loss: 0.0719 - val_accuracy: 0.9801 - 12s/epoch - 173ms/step\n",
            "Epoch 60/100\n",
            "67/67 - 12s - loss: 0.0809 - accuracy: 0.9767 - val_loss: 1.4480 - val_accuracy: 0.6591 - 12s/epoch - 172ms/step\n",
            "Epoch 61/100\n",
            "67/67 - 12s - loss: 0.0488 - accuracy: 0.9813 - val_loss: 0.1446 - val_accuracy: 0.9631 - 12s/epoch - 173ms/step\n",
            "Epoch 62/100\n",
            "67/67 - 12s - loss: 0.0467 - accuracy: 0.9841 - val_loss: 0.1535 - val_accuracy: 0.9688 - 12s/epoch - 172ms/step\n",
            "Epoch 63/100\n",
            "67/67 - 12s - loss: 0.1227 - accuracy: 0.9813 - val_loss: 0.0866 - val_accuracy: 0.9773 - 12s/epoch - 173ms/step\n",
            "Epoch 64/100\n",
            "67/67 - 11s - loss: 0.0504 - accuracy: 0.9841 - val_loss: 0.2346 - val_accuracy: 0.9403 - 11s/epoch - 171ms/step\n",
            "Epoch 65/100\n",
            "67/67 - 12s - loss: 0.1047 - accuracy: 0.9720 - val_loss: 0.2273 - val_accuracy: 0.9375 - 12s/epoch - 172ms/step\n",
            "Epoch 66/100\n",
            "67/67 - 12s - loss: 0.1177 - accuracy: 0.9627 - val_loss: 0.6852 - val_accuracy: 0.8438 - 12s/epoch - 172ms/step\n",
            "Epoch 67/100\n",
            "67/67 - 11s - loss: 0.0742 - accuracy: 0.9739 - val_loss: 20.8009 - val_accuracy: 0.2841 - 11s/epoch - 171ms/step\n",
            "Epoch 68/100\n",
            "67/67 - 11s - loss: 0.1028 - accuracy: 0.9655 - val_loss: 1.0130 - val_accuracy: 0.7898 - 11s/epoch - 171ms/step\n",
            "Epoch 69/100\n",
            "67/67 - 11s - loss: 0.1222 - accuracy: 0.9646 - val_loss: 0.1078 - val_accuracy: 0.9659 - 11s/epoch - 170ms/step\n",
            "Epoch 70/100\n",
            "67/67 - 11s - loss: 0.0449 - accuracy: 0.9832 - val_loss: 0.3575 - val_accuracy: 0.9091 - 11s/epoch - 172ms/step\n",
            "Epoch 71/100\n",
            "67/67 - 11s - loss: 0.0357 - accuracy: 0.9860 - val_loss: 0.1376 - val_accuracy: 0.9716 - 11s/epoch - 170ms/step\n",
            "Epoch 72/100\n",
            "67/67 - 11s - loss: 0.1006 - accuracy: 0.9739 - val_loss: 0.4205 - val_accuracy: 0.8722 - 11s/epoch - 171ms/step\n",
            "Epoch 73/100\n",
            "67/67 - 11s - loss: 0.0833 - accuracy: 0.9767 - val_loss: 0.2842 - val_accuracy: 0.9659 - 11s/epoch - 170ms/step\n",
            "Epoch 74/100\n",
            "67/67 - 11s - loss: 0.0306 - accuracy: 0.9935 - val_loss: 0.1086 - val_accuracy: 0.9688 - 11s/epoch - 171ms/step\n",
            "Epoch 75/100\n",
            "67/67 - 11s - loss: 0.0681 - accuracy: 0.9795 - val_loss: 1.4417 - val_accuracy: 0.7983 - 11s/epoch - 171ms/step\n",
            "Epoch 76/100\n",
            "67/67 - 11s - loss: 0.1490 - accuracy: 0.9543 - val_loss: 1.2619 - val_accuracy: 0.8864 - 11s/epoch - 172ms/step\n",
            "Epoch 77/100\n",
            "67/67 - 11s - loss: 0.0783 - accuracy: 0.9748 - val_loss: 1.5351 - val_accuracy: 0.8636 - 11s/epoch - 171ms/step\n",
            "Epoch 78/100\n",
            "67/67 - 11s - loss: 0.1127 - accuracy: 0.9627 - val_loss: 0.5036 - val_accuracy: 0.8977 - 11s/epoch - 170ms/step\n",
            "Epoch 79/100\n",
            "67/67 - 11s - loss: 0.0506 - accuracy: 0.9823 - val_loss: 0.2483 - val_accuracy: 0.9318 - 11s/epoch - 171ms/step\n",
            "Epoch 80/100\n",
            "67/67 - 11s - loss: 0.1076 - accuracy: 0.9646 - val_loss: 0.1928 - val_accuracy: 0.9688 - 11s/epoch - 171ms/step\n",
            "Epoch 81/100\n",
            "67/67 - 12s - loss: 0.0582 - accuracy: 0.9832 - val_loss: 5.5660 - val_accuracy: 0.6619 - 12s/epoch - 173ms/step\n",
            "Epoch 82/100\n",
            "67/67 - 11s - loss: 0.0634 - accuracy: 0.9841 - val_loss: 0.6685 - val_accuracy: 0.9403 - 11s/epoch - 171ms/step\n",
            "Epoch 83/100\n",
            "67/67 - 12s - loss: 0.0893 - accuracy: 0.9711 - val_loss: 0.1701 - val_accuracy: 0.9631 - 12s/epoch - 173ms/step\n",
            "Epoch 84/100\n",
            "67/67 - 12s - loss: 0.0681 - accuracy: 0.9785 - val_loss: 0.1421 - val_accuracy: 0.9716 - 12s/epoch - 172ms/step\n",
            "Epoch 85/100\n",
            "67/67 - 12s - loss: 0.0473 - accuracy: 0.9916 - val_loss: 0.0555 - val_accuracy: 0.9858 - 12s/epoch - 172ms/step\n",
            "Epoch 86/100\n",
            "67/67 - 12s - loss: 0.0691 - accuracy: 0.9739 - val_loss: 0.4136 - val_accuracy: 0.9261 - 12s/epoch - 175ms/step\n",
            "Epoch 87/100\n",
            "67/67 - 12s - loss: 0.0408 - accuracy: 0.9907 - val_loss: 0.1591 - val_accuracy: 0.9517 - 12s/epoch - 173ms/step\n",
            "Epoch 88/100\n",
            "67/67 - 12s - loss: 0.0394 - accuracy: 0.9869 - val_loss: 0.4904 - val_accuracy: 0.9318 - 12s/epoch - 173ms/step\n",
            "Epoch 89/100\n",
            "67/67 - 11s - loss: 0.0647 - accuracy: 0.9804 - val_loss: 0.1956 - val_accuracy: 0.9602 - 11s/epoch - 170ms/step\n",
            "Epoch 90/100\n",
            "67/67 - 11s - loss: 0.0595 - accuracy: 0.9804 - val_loss: 0.0410 - val_accuracy: 0.9858 - 11s/epoch - 172ms/step\n",
            "Epoch 91/100\n",
            "67/67 - 11s - loss: 0.0179 - accuracy: 0.9953 - val_loss: 0.0522 - val_accuracy: 0.9744 - 11s/epoch - 172ms/step\n",
            "Epoch 92/100\n",
            "67/67 - 11s - loss: 0.0128 - accuracy: 0.9944 - val_loss: 0.0789 - val_accuracy: 0.9773 - 11s/epoch - 170ms/step\n",
            "Epoch 93/100\n",
            "67/67 - 12s - loss: 0.0522 - accuracy: 0.9823 - val_loss: 0.2636 - val_accuracy: 0.9233 - 12s/epoch - 172ms/step\n",
            "Epoch 94/100\n",
            "67/67 - 11s - loss: 0.0629 - accuracy: 0.9795 - val_loss: 0.1338 - val_accuracy: 0.9489 - 11s/epoch - 170ms/step\n",
            "Epoch 95/100\n",
            "67/67 - 12s - loss: 0.0948 - accuracy: 0.9674 - val_loss: 0.1490 - val_accuracy: 0.9631 - 12s/epoch - 172ms/step\n",
            "Epoch 96/100\n",
            "67/67 - 11s - loss: 0.0560 - accuracy: 0.9832 - val_loss: 0.1271 - val_accuracy: 0.9716 - 11s/epoch - 171ms/step\n",
            "Epoch 97/100\n",
            "67/67 - 12s - loss: 0.0420 - accuracy: 0.9851 - val_loss: 0.1216 - val_accuracy: 0.9688 - 12s/epoch - 172ms/step\n",
            "Epoch 98/100\n",
            "67/67 - 12s - loss: 0.0459 - accuracy: 0.9869 - val_loss: 0.0655 - val_accuracy: 0.9886 - 12s/epoch - 172ms/step\n",
            "Epoch 99/100\n",
            "67/67 - 12s - loss: 0.0715 - accuracy: 0.9767 - val_loss: 0.1709 - val_accuracy: 0.9545 - 12s/epoch - 172ms/step\n",
            "Epoch 100/100\n",
            "67/67 - 12s - loss: 0.0667 - accuracy: 0.9813 - val_loss: 0.3993 - val_accuracy: 0.9574 - 12s/epoch - 172ms/step\n"
          ]
        }
      ],
      "source": [
        "from tensorflow.keras.applications import EfficientNetB0\n",
        "\n",
        "with strategy.scope():\n",
        "    inputs = layers.Input(shape=(IMG_SIZE, IMG_SIZE, 3))\n",
        "    x = img_augmentation(inputs)\n",
        "    outputs = EfficientNetB0(include_top=True, weights=None, classes=NUM_CLASSES)(x)\n",
        "\n",
        "    model = tf.keras.Model(inputs, outputs)\n",
        "    model.compile(\n",
        "        optimizer=\"adam\", loss=\"categorical_crossentropy\", metrics=[\"accuracy\"]\n",
        "    )\n",
        "\n",
        "model.summary()\n",
        "\n",
        "epochs = 100  # @param {type: \"slider\", min:10, max:100}\n",
        "hist = model.fit(ds_train, epochs=epochs, validation_data=ds_test, verbose=2)"
      ]
    },
    {
      "cell_type": "code",
      "execution_count": 35,
      "metadata": {
        "colab": {
          "base_uri": "https://localhost:8080/",
          "height": 295
        },
        "id": "u4mPhmmq7XQ2",
        "outputId": "c7597218-2a6a-4b75-b2dc-58c733943834"
      },
      "outputs": [
        {
          "data": {
            "image/png": "[encoded data removed]",
            "text/plain": [
              "<Figure size 432x288 with 1 Axes>"
            ]
          },
          "metadata": {
            "needs_background": "light"
          },
          "output_type": "display_data"
        }
      ],
      "source": [
        "import matplotlib.pyplot as plt\n",
        "\n",
        "\n",
        "def plot_hist(hist):\n",
        "    plt.plot(hist.history[\"accuracy\"])\n",
        "    plt.plot(hist.history[\"val_accuracy\"])\n",
        "    plt.title(\"model accuracy\")\n",
        "    plt.ylabel(\"accuracy\")\n",
        "    plt.xlabel(\"epoch\")\n",
        "    plt.legend([\"train\", \"validation\"], loc=\"upper left\")\n",
        "    plt.show()\n",
        "\n",
        "\n",
        "plot_hist(hist)"
      ]
    },
    {
      "cell_type": "code",
      "execution_count": 36,
      "metadata": {
        "id": "e_GRQrzy7XSx"
      },
      "outputs": [],
      "source": [
        "def build_model(num_classes):\n",
        "    inputs = layers.Input(shape=(IMG_SIZE, IMG_SIZE, 3))\n",
        "    x = img_augmentation(inputs)\n",
        "    model = EfficientNetB0(include_top=False, input_tensor=x, weights=\"imagenet\")\n",
        "\n",
        "    # Freeze the pretrained weights\n",
        "    model.trainable = False\n",
        "\n",
        "    # Rebuild top\n",
        "    x = layers.GlobalAveragePooling2D(name=\"avg_pool\")(model.output)\n",
        "    x = layers.BatchNormalization()(x)\n",
        "\n",
        "    top_dropout_rate = 0.2\n",
        "    x = layers.Dropout(top_dropout_rate, name=\"top_dropout\")(x)\n",
        "    outputs = layers.Dense(NUM_CLASSES, activation=\"softmax\", name=\"pred\")(x)\n",
        "\n",
        "    # Compile\n",
        "    model = tf.keras.Model(inputs, outputs, name=\"EfficientNet\")\n",
        "    optimizer = tf.keras.optimizers.Adam(learning_rate=1e-2)\n",
        "    model.compile(\n",
        "        optimizer=optimizer, loss=\"categorical_crossentropy\", metrics=[\"accuracy\"]\n",
        "    )\n",
        "    return model"
      ]
    },
    {
      "cell_type": "code",
      "execution_count": 37,
      "metadata": {
        "colab": {
          "base_uri": "https://localhost:8080/",
          "height": 1000
        },
        "id": "oHNly0LAIU8d",
        "outputId": "82b9d150-2343-4262-b0dc-0efaaf962561"
      },
      "outputs": [
        {
          "name": "stdout",
          "output_type": "stream",
          "text": [
            "Epoch 1/60\n",
            "67/67 - 13s - loss: 0.4032 - accuracy: 0.9039 - val_loss: 0.2420 - val_accuracy: 0.9290 - 13s/epoch - 199ms/step\n",
            "Epoch 2/60\n",
            "67/67 - 3s - loss: 0.1905 - accuracy: 0.9608 - val_loss: 0.0856 - val_accuracy: 0.9716 - 3s/epoch - 49ms/step\n",
            "Epoch 3/60\n",
            "67/67 - 3s - loss: 0.1814 - accuracy: 0.9701 - val_loss: 0.3130 - val_accuracy: 0.8835 - 3s/epoch - 50ms/step\n",
            "Epoch 4/60\n",
            "67/67 - 3s - loss: 0.1773 - accuracy: 0.9683 - val_loss: 0.7564 - val_accuracy: 0.8466 - 3s/epoch - 50ms/step\n",
            "Epoch 5/60\n",
            "67/67 - 3s - loss: 0.0782 - accuracy: 0.9897 - val_loss: 0.1652 - val_accuracy: 0.9574 - 3s/epoch - 50ms/step\n",
            "Epoch 6/60\n",
            "67/67 - 3s - loss: 0.0860 - accuracy: 0.9841 - val_loss: 0.0234 - val_accuracy: 0.9943 - 3s/epoch - 50ms/step\n",
            "Epoch 7/60\n",
            "67/67 - 3s - loss: 0.1033 - accuracy: 0.9785 - val_loss: 0.0949 - val_accuracy: 0.9858 - 3s/epoch - 50ms/step\n",
            "Epoch 8/60\n",
            "67/67 - 3s - loss: 0.2074 - accuracy: 0.9804 - val_loss: 0.1708 - val_accuracy: 0.9830 - 3s/epoch - 51ms/step\n",
            "Epoch 9/60\n",
            "67/67 - 3s - loss: 0.0323 - accuracy: 0.9925 - val_loss: 0.0932 - val_accuracy: 0.9858 - 3s/epoch - 50ms/step\n",
            "Epoch 10/60\n",
            "67/67 - 3s - loss: 0.0180 - accuracy: 0.9916 - val_loss: 0.2109 - val_accuracy: 0.9858 - 3s/epoch - 51ms/step\n",
            "Epoch 11/60\n",
            "67/67 - 3s - loss: 0.0594 - accuracy: 0.9869 - val_loss: 0.0893 - val_accuracy: 0.9886 - 3s/epoch - 51ms/step\n",
            "Epoch 12/60\n",
            "67/67 - 3s - loss: 0.1306 - accuracy: 0.9869 - val_loss: 0.0481 - val_accuracy: 0.9915 - 3s/epoch - 50ms/step\n",
            "Epoch 13/60\n",
            "67/67 - 3s - loss: 0.1140 - accuracy: 0.9841 - val_loss: 0.0686 - val_accuracy: 0.9915 - 3s/epoch - 50ms/step\n",
            "Epoch 14/60\n",
            "67/67 - 3s - loss: 0.1124 - accuracy: 0.9851 - val_loss: 0.1281 - val_accuracy: 0.9858 - 3s/epoch - 50ms/step\n",
            "Epoch 15/60\n",
            "67/67 - 3s - loss: 0.1395 - accuracy: 0.9832 - val_loss: 0.0742 - val_accuracy: 0.9858 - 3s/epoch - 51ms/step\n",
            "Epoch 16/60\n",
            "67/67 - 3s - loss: 0.1346 - accuracy: 0.9907 - val_loss: 3.4452e-04 - val_accuracy: 1.0000 - 3s/epoch - 50ms/step\n",
            "Epoch 17/60\n",
            "67/67 - 3s - loss: 0.0377 - accuracy: 0.9935 - val_loss: 0.0045 - val_accuracy: 0.9972 - 3s/epoch - 50ms/step\n",
            "Epoch 18/60\n",
            "67/67 - 3s - loss: 0.1596 - accuracy: 0.9841 - val_loss: 0.0016 - val_accuracy: 1.0000 - 3s/epoch - 50ms/step\n",
            "Epoch 19/60\n",
            "67/67 - 3s - loss: 0.1874 - accuracy: 0.9841 - val_loss: 0.0998 - val_accuracy: 0.9915 - 3s/epoch - 50ms/step\n",
            "Epoch 20/60\n",
            "67/67 - 3s - loss: 0.1049 - accuracy: 0.9879 - val_loss: 0.0080 - val_accuracy: 0.9972 - 3s/epoch - 49ms/step\n",
            "Epoch 21/60\n",
            "67/67 - 4s - loss: 0.0977 - accuracy: 0.9916 - val_loss: 2.1044e-04 - val_accuracy: 1.0000 - 4s/epoch - 56ms/step\n",
            "Epoch 22/60\n",
            "67/67 - 3s - loss: 0.0779 - accuracy: 0.9907 - val_loss: 1.8848e-05 - val_accuracy: 1.0000 - 3s/epoch - 49ms/step\n",
            "Epoch 23/60\n",
            "67/67 - 3s - loss: 0.1089 - accuracy: 0.9925 - val_loss: 0.0016 - val_accuracy: 1.0000 - 3s/epoch - 49ms/step\n",
            "Epoch 24/60\n",
            "67/67 - 3s - loss: 0.1071 - accuracy: 0.9860 - val_loss: 0.1027 - val_accuracy: 0.9943 - 3s/epoch - 49ms/step\n",
            "Epoch 25/60\n",
            "67/67 - 3s - loss: 0.1584 - accuracy: 0.9823 - val_loss: 0.2510 - val_accuracy: 0.9830 - 3s/epoch - 50ms/step\n",
            "Epoch 26/60\n",
            "67/67 - 3s - loss: 0.1947 - accuracy: 0.9851 - val_loss: 0.0261 - val_accuracy: 0.9943 - 3s/epoch - 50ms/step\n",
            "Epoch 27/60\n",
            "67/67 - 3s - loss: 0.1304 - accuracy: 0.9860 - val_loss: 0.0820 - val_accuracy: 0.9886 - 3s/epoch - 49ms/step\n",
            "Epoch 28/60\n",
            "67/67 - 3s - loss: 0.1560 - accuracy: 0.9888 - val_loss: 7.6685e-04 - val_accuracy: 1.0000 - 3s/epoch - 50ms/step\n",
            "Epoch 29/60\n",
            "67/67 - 3s - loss: 0.2092 - accuracy: 0.9813 - val_loss: 0.0512 - val_accuracy: 0.9886 - 3s/epoch - 50ms/step\n",
            "Epoch 30/60\n",
            "67/67 - 3s - loss: 0.0462 - accuracy: 0.9925 - val_loss: 0.0576 - val_accuracy: 0.9943 - 3s/epoch - 50ms/step\n",
            "Epoch 31/60\n",
            "67/67 - 3s - loss: 0.2107 - accuracy: 0.9813 - val_loss: 0.0219 - val_accuracy: 0.9972 - 3s/epoch - 50ms/step\n",
            "Epoch 32/60\n",
            "67/67 - 3s - loss: 0.2498 - accuracy: 0.9823 - val_loss: 0.0215 - val_accuracy: 0.9972 - 3s/epoch - 50ms/step\n",
            "Epoch 33/60\n",
            "67/67 - 3s - loss: 0.0611 - accuracy: 0.9888 - val_loss: 0.0982 - val_accuracy: 0.9915 - 3s/epoch - 50ms/step\n",
            "Epoch 34/60\n",
            "67/67 - 3s - loss: 0.0545 - accuracy: 0.9916 - val_loss: 0.0374 - val_accuracy: 0.9943 - 3s/epoch - 51ms/step\n",
            "Epoch 35/60\n",
            "67/67 - 3s - loss: 0.0289 - accuracy: 0.9953 - val_loss: 0.0768 - val_accuracy: 0.9915 - 3s/epoch - 51ms/step\n",
            "Epoch 36/60\n",
            "67/67 - 3s - loss: 0.1305 - accuracy: 0.9907 - val_loss: 0.0677 - val_accuracy: 0.9943 - 3s/epoch - 51ms/step\n",
            "Epoch 37/60\n",
            "67/67 - 3s - loss: 0.1230 - accuracy: 0.9869 - val_loss: 0.1704 - val_accuracy: 0.9915 - 3s/epoch - 50ms/step\n",
            "Epoch 38/60\n",
            "67/67 - 3s - loss: 0.1260 - accuracy: 0.9851 - val_loss: 0.0648 - val_accuracy: 0.9915 - 3s/epoch - 50ms/step\n",
            "Epoch 39/60\n",
            "67/67 - 3s - loss: 0.2782 - accuracy: 0.9879 - val_loss: 0.0105 - val_accuracy: 0.9972 - 3s/epoch - 50ms/step\n",
            "Epoch 40/60\n",
            "67/67 - 3s - loss: 0.0210 - accuracy: 0.9953 - val_loss: 0.0077 - val_accuracy: 0.9972 - 3s/epoch - 49ms/step\n",
            "Epoch 41/60\n",
            "67/67 - 3s - loss: 0.1359 - accuracy: 0.9888 - val_loss: 0.0699 - val_accuracy: 0.9915 - 3s/epoch - 50ms/step\n",
            "Epoch 42/60\n",
            "67/67 - 3s - loss: 0.0533 - accuracy: 0.9953 - val_loss: 0.0452 - val_accuracy: 0.9915 - 3s/epoch - 50ms/step\n",
            "Epoch 43/60\n",
            "67/67 - 3s - loss: 0.0543 - accuracy: 0.9935 - val_loss: 0.0103 - val_accuracy: 0.9943 - 3s/epoch - 50ms/step\n",
            "Epoch 44/60\n",
            "67/67 - 3s - loss: 0.2193 - accuracy: 0.9869 - val_loss: 0.1088 - val_accuracy: 0.9915 - 3s/epoch - 50ms/step\n",
            "Epoch 45/60\n",
            "67/67 - 3s - loss: 0.1372 - accuracy: 0.9935 - val_loss: 0.2475 - val_accuracy: 0.9858 - 3s/epoch - 50ms/step\n",
            "Epoch 46/60\n",
            "67/67 - 3s - loss: 0.0491 - accuracy: 0.9944 - val_loss: 0.1677 - val_accuracy: 0.9886 - 3s/epoch - 50ms/step\n",
            "Epoch 47/60\n",
            "67/67 - 3s - loss: 0.1552 - accuracy: 0.9869 - val_loss: 0.4305 - val_accuracy: 0.9830 - 3s/epoch - 50ms/step\n",
            "Epoch 48/60\n",
            "67/67 - 3s - loss: 0.2055 - accuracy: 0.9860 - val_loss: 0.2461 - val_accuracy: 0.9943 - 3s/epoch - 50ms/step\n",
            "Epoch 49/60\n",
            "67/67 - 3s - loss: 0.0545 - accuracy: 0.9916 - val_loss: 0.1453 - val_accuracy: 0.9915 - 3s/epoch - 50ms/step\n",
            "Epoch 50/60\n",
            "67/67 - 3s - loss: 0.0978 - accuracy: 0.9897 - val_loss: 0.1828 - val_accuracy: 0.9915 - 3s/epoch - 50ms/step\n",
            "Epoch 51/60\n",
            "67/67 - 3s - loss: 0.1402 - accuracy: 0.9879 - val_loss: 0.1624 - val_accuracy: 0.9886 - 3s/epoch - 50ms/step\n",
            "Epoch 52/60\n",
            "67/67 - 3s - loss: 0.2632 - accuracy: 0.9851 - val_loss: 0.1881 - val_accuracy: 0.9915 - 3s/epoch - 50ms/step\n",
            "Epoch 53/60\n",
            "67/67 - 3s - loss: 0.0464 - accuracy: 0.9953 - val_loss: 0.1987 - val_accuracy: 0.9886 - 3s/epoch - 50ms/step\n",
            "Epoch 54/60\n",
            "67/67 - 3s - loss: 0.1293 - accuracy: 0.9907 - val_loss: 0.2902 - val_accuracy: 0.9858 - 3s/epoch - 50ms/step\n",
            "Epoch 55/60\n",
            "67/67 - 3s - loss: 0.1024 - accuracy: 0.9944 - val_loss: 0.6276 - val_accuracy: 0.9830 - 3s/epoch - 51ms/step\n",
            "Epoch 56/60\n",
            "67/67 - 3s - loss: 0.0936 - accuracy: 0.9907 - val_loss: 0.1910 - val_accuracy: 0.9886 - 3s/epoch - 49ms/step\n",
            "Epoch 57/60\n",
            "67/67 - 3s - loss: 0.1237 - accuracy: 0.9916 - val_loss: 0.1527 - val_accuracy: 0.9972 - 3s/epoch - 50ms/step\n",
            "Epoch 58/60\n",
            "67/67 - 3s - loss: 0.0734 - accuracy: 0.9916 - val_loss: 0.0827 - val_accuracy: 0.9915 - 3s/epoch - 50ms/step\n",
            "Epoch 59/60\n",
            "67/67 - 3s - loss: 0.0430 - accuracy: 0.9963 - val_loss: 0.0887 - val_accuracy: 0.9886 - 3s/epoch - 50ms/step\n",
            "Epoch 60/60\n",
            "67/67 - 3s - loss: 0.0733 - accuracy: 0.9953 - val_loss: 0.1004 - val_accuracy: 0.9915 - 3s/epoch - 50ms/step\n"
          ]
        },
        {
          "data": {
            "image/png": "[encoded data removed]",
            "text/plain": [
              "<Figure size 432x288 with 1 Axes>"
            ]
          },
          "metadata": {
            "needs_background": "light"
          },
          "output_type": "display_data"
        }
      ],
      "source": [
        "with strategy.scope():\n",
        "    model = build_model(num_classes=NUM_CLASSES)\n",
        "\n",
        "epochs = 60  # @param {type: \"slider\", min:8, max:80}\n",
        "hist = model.fit(ds_train, epochs=epochs, validation_data=ds_test, verbose=2)\n",
        "plot_hist(hist)"
      ]
    },
    {
      "cell_type": "code",
      "execution_count": 38,
      "metadata": {
        "colab": {
          "base_uri": "https://localhost:8080/",
          "height": 662
        },
        "id": "fg_qIjn6IU6f",
        "outputId": "97b9f622-973a-41cd-d531-938e332bcebb"
      },
      "outputs": [
        {
          "name": "stdout",
          "output_type": "stream",
          "text": [
            "Epoch 1/10\n",
            "67/67 - 14s - loss: 0.1288 - accuracy: 0.9897 - val_loss: 0.0491 - val_accuracy: 0.9943 - 14s/epoch - 213ms/step\n",
            "Epoch 2/10\n",
            "67/67 - 4s - loss: 0.0641 - accuracy: 0.9925 - val_loss: 2.0393 - val_accuracy: 0.9261 - 4s/epoch - 53ms/step\n",
            "Epoch 3/10\n",
            "67/67 - 4s - loss: 0.4227 - accuracy: 0.9860 - val_loss: 0.8419 - val_accuracy: 0.9602 - 4s/epoch - 53ms/step\n",
            "Epoch 4/10\n",
            "67/67 - 4s - loss: 0.0549 - accuracy: 0.9916 - val_loss: 0.0891 - val_accuracy: 0.9915 - 4s/epoch - 53ms/step\n",
            "Epoch 5/10\n",
            "67/67 - 4s - loss: 0.1995 - accuracy: 0.9879 - val_loss: 0.1467 - val_accuracy: 0.9915 - 4s/epoch - 54ms/step\n",
            "Epoch 6/10\n",
            "67/67 - 4s - loss: 0.0627 - accuracy: 0.9963 - val_loss: 0.1577 - val_accuracy: 0.9943 - 4s/epoch - 54ms/step\n",
            "Epoch 7/10\n",
            "67/67 - 4s - loss: 0.0889 - accuracy: 0.9953 - val_loss: 0.0610 - val_accuracy: 0.9972 - 4s/epoch - 54ms/step\n",
            "Epoch 8/10\n",
            "67/67 - 4s - loss: 0.2501 - accuracy: 0.9869 - val_loss: 0.1656 - val_accuracy: 0.9972 - 4s/epoch - 54ms/step\n",
            "Epoch 9/10\n",
            "67/67 - 4s - loss: 0.2537 - accuracy: 0.9897 - val_loss: 0.0995 - val_accuracy: 0.9972 - 4s/epoch - 54ms/step\n",
            "Epoch 10/10\n",
            "67/67 - 4s - loss: 0.1402 - accuracy: 0.9953 - val_loss: 0.5208 - val_accuracy: 0.9801 - 4s/epoch - 54ms/step\n"
          ]
        },
        {
          "data": {
            "image/png": "[encoded data removed]",
            "text/plain": [
              "<Figure size 432x288 with 1 Axes>"
            ]
          },
          "metadata": {
            "needs_background": "light"
          },
          "output_type": "display_data"
        }
      ],
      "source": [
        "def unfreeze_model(model):\n",
        "    # We unfreeze the top 20 layers while leaving BatchNorm layers frozen\n",
        "    for layer in model.layers[-20:]:\n",
        "        if not isinstance(layer, layers.BatchNormalization):\n",
        "            layer.trainable = True\n",
        "\n",
        "    optimizer = tf.keras.optimizers.Adam(learning_rate=1e-4)\n",
        "    model.compile(\n",
        "        optimizer=optimizer, loss=\"categorical_crossentropy\", metrics=[\"accuracy\"]\n",
        "    )\n",
        "\n",
        "\n",
        "unfreeze_model(model)\n",
        "\n",
        "epochs = 10  # @param {type: \"slider\", min:8, max:50}\n",
        "hist = model.fit(ds_train, epochs=epochs, validation_data=ds_test, verbose=2)\n",
        "plot_hist(hist)"
      ]
    },
    {
      "cell_type": "code",
      "execution_count": 39,
      "metadata": {
        "colab": {
          "base_uri": "https://localhost:8080/"
        },
        "id": "dlwIrZYHIU4M",
        "outputId": "652ee17f-2341-42f4-9960-dde9099dea9c"
      },
      "outputs": [
        {
          "name": "stdout",
          "output_type": "stream",
          "text": [
            "22/22 [==============================] - 1s 36ms/step - loss: 0.5208 - accuracy: 0.9801\n"
          ]
        },
        {
          "data": {
            "text/plain": [
              "[0.5208029747009277, 0.9801136255264282]"
            ]
          },
          "execution_count": 39,
          "metadata": {},
          "output_type": "execute_result"
        }
      ],
      "source": [
        "model.evaluate(ds_test)"
      ]
    },
    {
      "cell_type": "code",
      "execution_count": 40,
      "metadata": {
        "colab": {
          "base_uri": "https://localhost:8080/"
        },
        "id": "EB7MPxHfEqfQ",
        "outputId": "f5facb3f-6bf2-4228-f4f8-25deab964688"
      },
      "outputs": [
        {
          "name": "stdout",
          "output_type": "stream",
          "text": [
            "[[0. 1. 0. 0. 0. 0.]\n",
            " [0. 0. 0. 1. 0. 0.]\n",
            " [1. 0. 0. 0. 0. 0.]\n",
            " ...\n",
            " [0. 0. 0. 0. 1. 0.]\n",
            " [0. 0. 0. 0. 1. 0.]\n",
            " [0. 0. 0. 0. 1. 0.]] <class 'numpy.ndarray'> (360, 6)\n",
            "[1 3 0 0 2 0 2 0 5 4 2 2 1 5 0 4 5 2 3 2 2 0 4 0 0 5 2 4 2 2 2 0 2 5 0 2 1\n",
            " 3 3 4 3 3 3 4 1 3 5 3 5 1 4 3 5 5 0 0 0 1 0 2 1 1 2 4 0 4 1 5 1 2 2 5 2 1\n",
            " 1 3 0 5 2 2 5 2 0 4 1 1 2 3 2 1 5 1 2 4 5 5 2 0 4 2 3 0 3 1 1 1 1 4 4 1 5\n",
            " 1 4 4 2 4 5 2 0 4 1 2 3 1 3 4 2 1 5 0 3 0 0 0 2 1 0 0 3 0 1 3 0 5 2 0 4 0\n",
            " 0 5 5 5 1 1 5 0 4 3 0 2 1 5 3 2 4 1 1 5 5 4 5 1 4 2 5 2 0 3 1 2 0 5 3 0 0\n",
            " 0 2 4 3 1 0 3 4 1 0 2 3 0 3 2 3 3 1 2 0 3 1 5 2 1 1 3 0 0 1 1 2 2 1 1 3 0\n",
            " 4 1 3 2 3 4 3 4 3 0 0 1 0 2 4 1 4 4 4 3 5 0 4 2 3 2 2 2 4 2 4 4 1 1 4 3 4\n",
            " 3 3 0 4 2 2 4 3 4 4 1 1 1 4 4 0 3 5 3 2 3 2 5 2 4 4 4 3 2 1 1 5 1 3 1 4 2\n",
            " 4 3 1 0 4 5 0 3 2 2 1 1 2 5 0 2 5 2 0 2 4 4 0 1 3 1 3 4 0 4 2 1 4 2 2 0 5\n",
            " 3 2 1 0 5 1 0 1 3 4 1 5 4 5 0 1 1 5 5 5 0 4 1 0 4 4 4] (360,)\n",
            "[1 3 0 0 2 0 2 0 5 4 2 2 1 5 0 4 5 2 3 2 2 0 4 0 0 5 2 4 2 2 2 0 2 5 0 2 1\n",
            " 3 3 4 3 3 3 4 1 3 5 3 5 1 4 3 5 5 0 0 0 1 0 2 1 1 2 4 0 4 1 5 1 2 2 5 2 1\n",
            " 1 3 0 5 2 2 5 2 0 4 1 1 2 3 2 1 5 5 2 4 5 5 2 0 4 2 3 0 3 1 1 1 1 4 4 1 5\n",
            " 1 4 4 2 4 5 2 0 4 1 2 3 1 3 4 2 1 5 0 3 0 0 0 2 1 0 0 3 0 1 3 0 5 2 0 4 0\n",
            " 0 5 5 5 3 1 5 0 4 3 0 2 1 5 3 2 4 1 1 5 5 4 5 1 4 2 5 2 0 3 1 2 0 5 3 0 0\n",
            " 0 2 4 3 1 0 3 4 1 0 2 3 0 3 2 3 3 1 2 0 3 1 5 2 1 1 3 0 0 5 5 2 2 1 5 3 0\n",
            " 4 1 3 2 3 4 3 4 3 0 0 1 0 2 4 1 4 4 4 3 5 0 4 2 3 2 2 2 4 2 4 4 1 1 4 3 4\n",
            " 3 3 0 4 2 2 4 3 4 4 1 1 1 4 4 0 3 5 3 2 3 2 5 2 4 4 4 3 2 1 1 5 1 3 1 4 2\n",
            " 4 3 1 0 4 5 0 3 2 2 5 1 2 5 0 2 5 2 0 2 4 4 0 1 3 1 3 4 0 4 2 1 4 2 2 0 5\n",
            " 3 2 1 0 5 1 0 1 3 4 1 5 4 5 0 5 1 5 5 5 0 4 1 0 4 4 4] (360,)\n"
          ]
        }
      ],
      "source": [
        "#Test set 정확도\n",
        "y_pred_test=model.predict(x_test)\n",
        "print(y_pred_test, type(y_pred_test), y_pred_test.shape)\n",
        "y_pred=[]\n",
        "for ar in y_pred_test:\n",
        "  y_pred.append(np.argmax(ar))\n",
        "y_pred = np.array(y_pred)\n",
        "print(y_pred, y_pred.shape)\n",
        "print(y_test, y_test.shape)"
      ]
    },
    {
      "cell_type": "code",
      "execution_count": 41,
      "metadata": {
        "colab": {
          "base_uri": "https://localhost:8080/"
        },
        "id": "RpZW7G96IUsi",
        "outputId": "f6b88057-f8a1-4d5b-a6a7-09227ae596ab"
      },
      "outputs": [
        {
          "name": "stdout",
          "output_type": "stream",
          "text": [
            "accuracy: 0.9805555555555555\n",
            "Precision: 0.9825281803542674\n",
            "Recall: 0.9805555555555555\n",
            "F1-Score: 0.9805412500099085\n"
          ]
        }
      ],
      "source": [
        "from sklearn.metrics import f1_score, accuracy_score, recall_score, precision_score\n",
        "print(\"accuracy:\",accuracy_score(y_test, y_pred))\n",
        "print(\"Precision:\",precision_score(y_test, y_pred, average='weighted'))\n",
        "print(\"Recall:\",recall_score(y_test, y_pred, average='weighted'))\n",
        "print(\"F1-Score:\",f1_score(y_test, y_pred, average='weighted'))"
      ]
    },
    {
      "cell_type": "code",
      "execution_count": 42,
      "metadata": {
        "colab": {
          "base_uri": "https://localhost:8080/"
        },
        "id": "EXzxgRCOh8Kz",
        "outputId": "b40e738e-70f0-467d-8a3b-b13d9f5d1411"
      },
      "outputs": [
        {
          "name": "stdout",
          "output_type": "stream",
          "text": [
            "[[0.000000e+00 1.000000e+00 0.000000e+00 9.678125e-35 0.000000e+00\n",
            "  0.000000e+00]\n",
            " [1.000000e+00 0.000000e+00 0.000000e+00 0.000000e+00 0.000000e+00\n",
            "  0.000000e+00]\n",
            " [0.000000e+00 0.000000e+00 0.000000e+00 1.000000e+00 0.000000e+00\n",
            "  0.000000e+00]\n",
            " ...\n",
            " [0.000000e+00 0.000000e+00 0.000000e+00 0.000000e+00 0.000000e+00\n",
            "  1.000000e+00]\n",
            " [0.000000e+00 0.000000e+00 1.000000e+00 0.000000e+00 0.000000e+00\n",
            "  0.000000e+00]\n",
            " [0.000000e+00 0.000000e+00 0.000000e+00 1.000000e+00 0.000000e+00\n",
            "  0.000000e+00]] <class 'numpy.ndarray'> (1080, 6)\n",
            "[[0.000000e+00 1.000000e+00 0.000000e+00 9.678125e-35 0.000000e+00\n",
            "  0.000000e+00]\n",
            " [1.000000e+00 0.000000e+00 0.000000e+00 0.000000e+00 0.000000e+00\n",
            "  0.000000e+00]\n",
            " [0.000000e+00 0.000000e+00 0.000000e+00 1.000000e+00 0.000000e+00\n",
            "  0.000000e+00]\n",
            " ...\n",
            " [0.000000e+00 0.000000e+00 0.000000e+00 0.000000e+00 0.000000e+00\n",
            "  1.000000e+00]\n",
            " [0.000000e+00 0.000000e+00 1.000000e+00 0.000000e+00 0.000000e+00\n",
            "  0.000000e+00]\n",
            " [0.000000e+00 0.000000e+00 0.000000e+00 1.000000e+00 0.000000e+00\n",
            "  0.000000e+00]] (1080, 6)\n",
            "[1 0 3 ... 5 2 3] (1080,)\n"
          ]
        }
      ],
      "source": [
        "#Train set 정확도\n",
        "\n",
        "y_pred_train=model.predict(x_train)\n",
        "print(y_pred_train, type(y_pred_train), y_pred_train.shape)\n",
        "y_train_list=[]\n",
        "for ar in y_pred_train:\n",
        "  y_train_list.append(np.argmax(ar))\n",
        "y_train_list = np.array(y_train_list)\n",
        "print(y_pred_train, y_pred_train.shape)\n",
        "print(y_train_list, y_train_list.shape)"
      ]
    },
    {
      "cell_type": "code",
      "execution_count": 43,
      "metadata": {
        "colab": {
          "base_uri": "https://localhost:8080/"
        },
        "id": "VUljgSBFiS0L",
        "outputId": "16d9621c-7bd1-4878-9862-8987d44c5cd4"
      },
      "outputs": [
        {
          "name": "stdout",
          "output_type": "stream",
          "text": [
            "accuracy: 0.987037037037037\n",
            "Precision: 0.9876505166749321\n",
            "Recall: 0.987037037037037\n",
            "F1-Score: 0.9870114243996186\n"
          ]
        }
      ],
      "source": [
        "print(\"accuracy:\",accuracy_score(y_train, y_train_list))\n",
        "print(\"Precision:\",precision_score(y_train, y_train_list, average='weighted'))\n",
        "print(\"Recall:\",recall_score(y_train, y_train_list, average='weighted'))\n",
        "print(\"F1-Score:\",f1_score(y_train, y_train_list, average='weighted'))"
      ]
    },
    {
      "cell_type": "code",
      "execution_count": 44,
      "metadata": {
        "colab": {
          "base_uri": "https://localhost:8080/"
        },
        "id": "xM9cj2PXvGHI",
        "outputId": "ee3947ec-eaad-4704-e1f8-cbfdf7bdbb7d"
      },
      "outputs": [
        {
          "name": "stdout",
          "output_type": "stream",
          "text": [
            "Ubuntu 18.04.5 LTS \\n \\l\n",
            "\n",
            "processor\t: 0\n",
            "vendor_id\t: GenuineIntel\n",
            "cpu family\t: 6\n",
            "model\t\t: 63\n",
            "model name\t: Intel(R) Xeon(R) CPU @ 2.30GHz\n",
            "stepping\t: 0\n",
            "microcode\t: 0x1\n",
            "cpu MHz\t\t: 2299.998\n",
            "cache size\t: 46080 KB\n",
            "physical id\t: 0\n",
            "siblings\t: 2\n",
            "core id\t\t: 0\n",
            "cpu cores\t: 1\n",
            "apicid\t\t: 0\n",
            "initial apicid\t: 0\n",
            "fpu\t\t: yes\n",
            "fpu_exception\t: yes\n",
            "cpuid level\t: 13\n",
            "wp\t\t: yes\n",
            "flags\t\t: fpu vme de pse tsc msr pae mce cx8 apic sep mtrr pge mca cmov pat pse36 clflush mmx fxsr sse sse2 ss ht syscall nx pdpe1gb rdtscp lm constant_tsc rep_good nopl xtopology nonstop_tsc cpuid tsc_known_freq pni pclmulqdq ssse3 fma cx16 pcid sse4_1 sse4_2 x2apic movbe popcnt aes xsave avx f16c rdrand hypervisor lahf_lm abm invpcid_single ssbd ibrs ibpb stibp fsgsbase tsc_adjust bmi1 avx2 smep bmi2 erms invpcid xsaveopt arat md_clear arch_capabilities\n",
            "bugs\t\t: cpu_meltdown spectre_v1 spectre_v2 spec_store_bypass l1tf mds swapgs\n",
            "bogomips\t: 4599.99\n",
            "clflush size\t: 64\n",
            "cache_alignment\t: 64\n",
            "address sizes\t: 46 bits physical, 48 bits virtual\n",
            "power management:\n",
            "\n",
            "processor\t: 1\n",
            "vendor_id\t: GenuineIntel\n",
            "cpu family\t: 6\n",
            "model\t\t: 63\n",
            "model name\t: Intel(R) Xeon(R) CPU @ 2.30GHz\n",
            "stepping\t: 0\n",
            "microcode\t: 0x1\n",
            "cpu MHz\t\t: 2299.998\n",
            "cache size\t: 46080 KB\n",
            "physical id\t: 0\n",
            "siblings\t: 2\n",
            "core id\t\t: 0\n",
            "cpu cores\t: 1\n",
            "apicid\t\t: 1\n",
            "initial apicid\t: 1\n",
            "fpu\t\t: yes\n",
            "fpu_exception\t: yes\n",
            "cpuid level\t: 13\n",
            "wp\t\t: yes\n",
            "flags\t\t: fpu vme de pse tsc msr pae mce cx8 apic sep mtrr pge mca cmov pat pse36 clflush mmx fxsr sse sse2 ss ht syscall nx pdpe1gb rdtscp lm constant_tsc rep_good nopl xtopology nonstop_tsc cpuid tsc_known_freq pni pclmulqdq ssse3 fma cx16 pcid sse4_1 sse4_2 x2apic movbe popcnt aes xsave avx f16c rdrand hypervisor lahf_lm abm invpcid_single ssbd ibrs ibpb stibp fsgsbase tsc_adjust bmi1 avx2 smep bmi2 erms invpcid xsaveopt arat md_clear arch_capabilities\n",
            "bugs\t\t: cpu_meltdown spectre_v1 spectre_v2 spec_store_bypass l1tf mds swapgs\n",
            "bogomips\t: 4599.99\n",
            "clflush size\t: 64\n",
            "cache_alignment\t: 64\n",
            "address sizes\t: 46 bits physical, 48 bits virtual\n",
            "power management:\n",
            "\n",
            "2\n",
            "1\n",
            "cpu cores\t: 1\n",
            "              total        used        free      shared  buff/cache   available\n",
            "Mem:            12G        5.2G        744M        527M        6.8G        9.1G\n",
            "Swap:            0B          0B          0B\n",
            "Tue Jun 14 05:21:30 2022       \n",
            "+-----------------------------------------------------------------------------+\n",
            "| NVIDIA-SMI 460.32.03    Driver Version: 460.32.03    CUDA Version: 11.2     |\n",
            "|-------------------------------+----------------------+----------------------+\n",
            "| GPU  Name        Persistence-M| Bus-Id        Disp.A | Volatile Uncorr. ECC |\n",
            "| Fan  Temp  Perf  Pwr:Usage/Cap|         Memory-Usage | GPU-Util  Compute M. |\n",
            "|                               |                      |               MIG M. |\n",
            "|===============================+======================+======================|\n",
            "|   0  Tesla T4            Off  | 00000000:00:04.0 Off |                    0 |\n",
            "| N/A   75C    P0    40W /  70W |   9044MiB / 15109MiB |      0%      Default |\n",
            "|                               |                      |                  N/A |\n",
            "+-------------------------------+----------------------+----------------------+\n",
            "                                                                               \n",
            "+-----------------------------------------------------------------------------+\n",
            "| Processes:                                                                  |\n",
            "|  GPU   GI   CI        PID   Type   Process name                  GPU Memory |\n",
            "|        ID   ID                                                   Usage      |\n",
            "|=============================================================================|\n",
            "+-----------------------------------------------------------------------------+\n"
          ]
        }
      ],
      "source": [
        "#운영체제 확인\n",
        "!cat /etc/issue\n",
        "\n",
        "#0. CPU 정보 확인\n",
        "!cat /proc/cpuinfo\n",
        "\n",
        "#1. CPU 코어 전체 개수 확인\n",
        "!grep -c processor /proc/cpuinfo\n",
        " \n",
        "#2. 물리 CPU 수 확인\n",
        "!grep \"physical id\" /proc/cpuinfo | sort -u | wc -l\n",
        " \n",
        "# 3.CPU당 물리 코어 수 확인\n",
        "!grep \"cpu cores\" /proc/cpuinfo | tail -1\n",
        "\n",
        "#메모리 확인\n",
        "!free -h\n",
        "\n",
        "#런타임 유형 변경 후 gpu 확인\n",
        "!nvidia-smi"
      ]
    }
  ],
  "metadata": {
    "accelerator": "GPU",
    "colab": {
      "collapsed_sections": [],
      "name": "EfficientNet 7th Result",
      "provenance": []
    },
    "kernelspec": {
      "display_name": "Python 3",
      "name": "python3"
    },
    "language_info": {
      "name": "python"
    }
  },
  "nbformat": 4,
  "nbformat_minor": 0
}
