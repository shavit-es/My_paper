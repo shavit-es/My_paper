{
  "nbformat": 4,
  "nbformat_minor": 0,
  "metadata": {
    "colab": {
      "name": "SVM_c=500_rbf_(1).ipynb",
      "provenance": [],
      "collapsed_sections": []
    },
    "kernelspec": {
      "name": "python3",
      "display_name": "Python 3"
    },
    "language_info": {
      "name": "python"
    },
    "accelerator": "GPU"
  },
  "cells": [
    {
      "cell_type": "code",
      "execution_count": 1,
      "metadata": {
        "id": "vYjUKCCo0Z8b",
        "colab": {
          "base_uri": "https://localhost:8080/"
        },
        "outputId": "12d6e73c-6d41-4a76-ff4e-ebf8e77aa6f2"
      },
      "outputs": [
        {
          "output_type": "stream",
          "name": "stdout",
          "text": [
            "Looking in indexes: https://pypi.org/simple, https://us-python.pkg.dev/colab-wheels/public/simple/\n",
            "Requirement already satisfied: thundersvm in /usr/local/lib/python3.7/dist-packages (0.3.12)\n",
            "Requirement already satisfied: numpy in /usr/local/lib/python3.7/dist-packages (from thundersvm) (1.21.6)\n",
            "Requirement already satisfied: scipy in /usr/local/lib/python3.7/dist-packages (from thundersvm) (1.4.1)\n",
            "Requirement already satisfied: scikit-learn in /usr/local/lib/python3.7/dist-packages (from thundersvm) (1.0.2)\n",
            "Requirement already satisfied: joblib>=0.11 in /usr/local/lib/python3.7/dist-packages (from scikit-learn->thundersvm) (1.1.0)\n",
            "Requirement already satisfied: threadpoolctl>=2.0.0 in /usr/local/lib/python3.7/dist-packages (from scikit-learn->thundersvm) (3.1.0)\n",
            "Looking in indexes: https://pypi.org/simple, https://us-python.pkg.dev/colab-wheels/public/simple/\n",
            "Requirement already satisfied: thundersvm-cpu in /usr/local/lib/python3.7/dist-packages (0.3.3)\n",
            "Requirement already satisfied: scipy in /usr/local/lib/python3.7/dist-packages (from thundersvm-cpu) (1.4.1)\n",
            "Requirement already satisfied: numpy in /usr/local/lib/python3.7/dist-packages (from thundersvm-cpu) (1.21.6)\n",
            "Requirement already satisfied: scikit-learn in /usr/local/lib/python3.7/dist-packages (from thundersvm-cpu) (1.0.2)\n",
            "Requirement already satisfied: joblib>=0.11 in /usr/local/lib/python3.7/dist-packages (from scikit-learn->thundersvm-cpu) (1.1.0)\n",
            "Requirement already satisfied: threadpoolctl>=2.0.0 in /usr/local/lib/python3.7/dist-packages (from scikit-learn->thundersvm-cpu) (3.1.0)\n"
          ]
        }
      ],
      "source": [
        "!pip install thundersvm\n",
        "!pip install thundersvm-cpu"
      ]
    },
    {
      "cell_type": "code",
      "source": [
        "from google.colab import drive\n",
        "drive.mount('/content/drive')"
      ],
      "metadata": {
        "id": "hGFnH3dK2pae",
        "colab": {
          "base_uri": "https://localhost:8080/"
        },
        "outputId": "c4f02955-ac4d-442a-f4bb-c76d8840e8f2"
      },
      "execution_count": 2,
      "outputs": [
        {
          "output_type": "stream",
          "name": "stdout",
          "text": [
            "Drive already mounted at /content/drive; to attempt to forcibly remount, call drive.mount(\"/content/drive\", force_remount=True).\n"
          ]
        }
      ]
    },
    {
      "cell_type": "code",
      "source": [
        "import pandas as pd\n",
        "import os\n",
        "from skimage.transform import resize\n",
        "from skimage.io import imread\n",
        "import numpy as np\n",
        "import matplotlib.pyplot as plt"
      ],
      "metadata": {
        "id": "Q5K4GHt_0cVq"
      },
      "execution_count": 3,
      "outputs": []
    },
    {
      "cell_type": "code",
      "source": [
        "Categories=['crazing','inclusion','patches','pitted_surface','rolled-in_scale','scratches']\n",
        "flat_data_arr=[] #input array\n",
        "target_arr=[] #output array\n",
        "datadir='/content/drive/MyDrive/images/' \n",
        "#path which contains all the categories of images\n",
        "for i in Categories:\n",
        "    \n",
        "    print(f'loading... category : {i}')\n",
        "    path=os.path.join(datadir,i)\n",
        "    for img in os.listdir(path):\n",
        "        img_array=imread(os.path.join(path,img))\n",
        "        img_resized=resize(img_array,(150,150,3))\n",
        "        flat_data_arr.append(img_resized.flatten())\n",
        "        target_arr.append(Categories.index(i))\n",
        "    print(f'loaded category:{i} successfully')\n",
        "flat_data=np.array(flat_data_arr)\n",
        "target=np.array(target_arr)\n",
        "df=pd.DataFrame(flat_data) #dataframe\n",
        "df['Target']=target\n",
        "x=df.iloc[:,:-1] #input data \n",
        "y=df.iloc[:,-1] #output data"
      ],
      "metadata": {
        "id": "HdK0AP8v0cTN",
        "colab": {
          "base_uri": "https://localhost:8080/"
        },
        "outputId": "08abb4c3-a35b-4961-9db7-e0b188bae31b"
      },
      "execution_count": 4,
      "outputs": [
        {
          "output_type": "stream",
          "name": "stdout",
          "text": [
            "loading... category : crazing\n",
            "loaded category:crazing successfully\n",
            "loading... category : inclusion\n",
            "loaded category:inclusion successfully\n",
            "loading... category : patches\n",
            "loaded category:patches successfully\n",
            "loading... category : pitted_surface\n",
            "loaded category:pitted_surface successfully\n",
            "loading... category : rolled-in_scale\n",
            "loaded category:rolled-in_scale successfully\n",
            "loading... category : scratches\n",
            "loaded category:scratches successfully\n"
          ]
        }
      ]
    },
    {
      "cell_type": "code",
      "source": [
        "from sklearn.datasets import make_classification\n",
        "from sklearn.model_selection import train_test_split\n",
        "from thundersvm import SVC\n",
        "\n",
        "x_train, x_test, y_train, y_test = train_test_split(x, y, test_size=.2, random_state=43)\n"
      ],
      "metadata": {
        "id": "eIpN0ITY0cQj"
      },
      "execution_count": 5,
      "outputs": []
    },
    {
      "cell_type": "code",
      "source": [
        "model2 = SVC(C=500, kernel='rbf')\n",
        "model2.fit(x_train,y_train)\n",
        "\n",
        "accuracy_score2 = model2.score(x_test, y_test)\n",
        "print('model2 Accuracy: {}'.format(accuracy_score2))\n",
        "\n",
        "y_pred2=model2.predict(x_test)\n",
        "print(\"The predicted Data is :\")\n",
        "map(int,y_pred2)\n",
        "print(y_pred2)\n",
        "print(\"The actual data is:\")\n",
        "print(np.array(y_test))"
      ],
      "metadata": {
        "id": "lqyco2HY0b9l",
        "colab": {
          "base_uri": "https://localhost:8080/"
        },
        "outputId": "c135d6ca-1c82-47a3-c676-aa2f011e623a"
      },
      "execution_count": 6,
      "outputs": [
        {
          "output_type": "stream",
          "name": "stdout",
          "text": [
            "model2 Accuracy: 0.6777777777777778\n",
            "The predicted Data is :\n",
            "[2. 1. 3. 1. 4. 3. 5. 0. 3. 3. 0. 5. 5. 3. 2. 0. 4. 2. 0. 1. 4. 1. 1. 5.\n",
            " 3. 0. 3. 4. 4. 0. 3. 4. 5. 3. 3. 1. 4. 4. 0. 4. 3. 1. 1. 3. 0. 5. 5. 5.\n",
            " 5. 4. 5. 2. 3. 4. 2. 1. 3. 5. 2. 3. 2. 4. 2. 3. 3. 5. 0. 4. 1. 3. 4. 4.\n",
            " 1. 0. 1. 3. 1. 2. 2. 3. 4. 3. 2. 4. 1. 2. 4. 4. 4. 0. 5. 1. 3. 3. 2. 1.\n",
            " 4. 0. 2. 1. 1. 3. 1. 5. 1. 1. 2. 3. 5. 1. 2. 2. 5. 5. 4. 3. 3. 0. 1. 2.\n",
            " 1. 5. 2. 5. 0. 5. 3. 1. 4. 3. 2. 2. 2. 4. 4. 2. 1. 5. 1. 4. 2. 1. 2. 5.\n",
            " 5. 4. 1. 2. 1. 3. 0. 1. 2. 3. 5. 1. 2. 2. 0. 0. 1. 4. 4. 3. 2. 1. 4. 4.\n",
            " 1. 1. 5. 1. 1. 4. 1. 3. 1. 1. 2. 1. 1. 1. 5. 1. 4. 0. 3. 4. 4. 0. 3. 4.\n",
            " 4. 5. 1. 2. 4. 4. 4. 5. 5. 1. 1. 4. 2. 4. 1. 1. 3. 2. 5. 1. 2. 0. 3. 3.\n",
            " 2. 1. 1. 1. 5. 3. 1. 3. 3. 3. 4. 2. 3. 3. 1. 3. 0. 0. 2. 3. 4. 2. 3. 1.\n",
            " 3. 1. 1. 1. 4. 0. 4. 4. 3. 4. 1. 3. 3. 2. 3. 0. 5. 0. 4. 3. 5. 4. 3. 0.\n",
            " 2. 3. 1. 1. 1. 3. 3. 1. 3. 0. 4. 3. 1. 2. 0. 2. 0. 4. 3. 4. 4. 1. 4. 2.\n",
            " 0. 4. 3. 3. 4. 3. 1. 5. 4. 2. 4. 1. 3. 3. 4. 1. 0. 2. 3. 3. 1. 4. 1. 1.\n",
            " 1. 3. 4. 4. 2. 3. 5. 1. 3. 3. 5. 5. 5. 1. 4. 4. 3. 2. 5. 1. 4. 1. 1. 4.\n",
            " 0. 2. 3. 2. 3. 1. 0. 2. 0. 2. 4. 3. 4. 3. 0. 2. 0. 1. 1. 1. 3. 1. 1. 2.]\n",
            "The actual data is:\n",
            "[0 1 3 1 5 3 5 5 5 3 0 5 5 3 2 0 0 2 0 1 5 1 1 5 3 2 3 5 4 5 3 1 5 3 3 5 0\n",
            " 1 0 1 1 4 1 3 5 5 0 5 4 4 5 2 3 1 2 1 3 5 2 0 2 4 2 3 0 5 0 4 4 5 4 4 4 2\n",
            " 4 3 4 2 2 3 4 3 2 4 5 2 4 0 4 0 5 3 3 3 2 5 0 2 2 5 5 3 1 4 1 1 2 3 5 4 2\n",
            " 2 0 5 0 3 0 0 1 2 1 5 2 5 0 5 3 1 5 3 2 2 2 1 0 2 4 5 5 4 2 5 2 0 5 4 1 2\n",
            " 1 1 0 1 2 0 5 4 2 2 2 0 3 4 4 3 2 1 4 4 1 1 5 3 1 4 4 3 1 1 2 1 4 1 5 1 4\n",
            " 0 3 5 5 2 3 4 0 3 4 2 4 1 5 3 5 5 1 4 2 4 5 4 3 2 5 4 2 2 5 3 2 5 3 1 5 3\n",
            " 1 3 3 3 1 2 3 3 1 3 0 2 2 2 4 2 3 4 3 4 5 3 4 0 4 4 3 4 4 3 3 2 3 0 5 2 4\n",
            " 1 5 4 3 2 2 0 0 4 3 3 2 4 1 0 4 3 1 2 0 2 5 5 3 4 4 3 4 2 0 1 3 1 5 3 1 5\n",
            " 4 2 0 3 3 3 4 5 0 2 3 3 4 5 1 1 1 3 4 4 2 3 5 1 3 3 5 5 3 0 1 4 3 2 5 1 0\n",
            " 1 4 0 0 2 3 2 3 5 0 2 0 2 0 3 5 0 0 2 0 0 4 5 0 1 1 2]\n"
          ]
        }
      ]
    },
    {
      "cell_type": "code",
      "source": [
        "from sklearn.metrics import f1_score, accuracy_score, recall_score, precision_score\n",
        "print(\"accuracy:\",accuracy_score(y_test, y_pred2))\n",
        "print(\"Precision:\",precision_score(y_test, y_pred2, average='weighted'))\n",
        "print(\"Recall:\",recall_score(y_test, y_pred2, average='weighted'))\n",
        "print(\"F1-Score:\",f1_score(y_test, y_pred2, average='weighted'))"
      ],
      "metadata": {
        "id": "YLfzWJ4B1h5M",
        "colab": {
          "base_uri": "https://localhost:8080/"
        },
        "outputId": "cb8b1ef6-d191-4b2b-afd5-a06b07615014"
      },
      "execution_count": 8,
      "outputs": [
        {
          "output_type": "stream",
          "name": "stdout",
          "text": [
            "accuracy: 0.6777777777777778\n",
            "Precision: 0.713319249556817\n",
            "Recall: 0.6777777777777778\n",
            "F1-Score: 0.6812694031242732\n"
          ]
        }
      ]
    }
  ]
}