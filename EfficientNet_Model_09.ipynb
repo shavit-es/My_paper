{
  "cells": [
    {
      "cell_type": "code",
      "execution_count": 3,
      "metadata": {
        "colab": {
          "base_uri": "https://localhost:8080/"
        },
        "id": "-P2q4WSEARhh",
        "outputId": "5188448e-e902-42ae-98c8-ad971cda03c7"
      },
      "outputs": [
        {
          "name": "stdout",
          "output_type": "stream",
          "text": [
            "Looking in indexes: https://pypi.org/simple, https://us-python.pkg.dev/colab-wheels/public/simple/\n",
            "Requirement already satisfied: cloud_tpu_client in /usr/local/lib/python3.7/dist-packages (0.10)\n",
            "Requirement already satisfied: google-api-python-client==1.8.0 in /usr/local/lib/python3.7/dist-packages (from cloud_tpu_client) (1.8.0)\n",
            "Requirement already satisfied: oauth2client in /usr/local/lib/python3.7/dist-packages (from cloud_tpu_client) (4.1.3)\n",
            "Requirement already satisfied: google-api-core<2dev,>=1.13.0 in /usr/local/lib/python3.7/dist-packages (from google-api-python-client==1.8.0->cloud_tpu_client) (1.31.6)\n",
            "Requirement already satisfied: httplib2<1dev,>=0.9.2 in /usr/local/lib/python3.7/dist-packages (from google-api-python-client==1.8.0->cloud_tpu_client) (0.17.4)\n",
            "Requirement already satisfied: google-auth>=1.4.1 in /usr/local/lib/python3.7/dist-packages (from google-api-python-client==1.8.0->cloud_tpu_client) (1.35.0)\n",
            "Requirement already satisfied: google-auth-httplib2>=0.0.3 in /usr/local/lib/python3.7/dist-packages (from google-api-python-client==1.8.0->cloud_tpu_client) (0.0.4)\n",
            "Requirement already satisfied: uritemplate<4dev,>=3.0.0 in /usr/local/lib/python3.7/dist-packages (from google-api-python-client==1.8.0->cloud_tpu_client) (3.0.1)\n",
            "Requirement already satisfied: six<2dev,>=1.6.1 in /usr/local/lib/python3.7/dist-packages (from google-api-python-client==1.8.0->cloud_tpu_client) (1.15.0)\n",
            "Requirement already satisfied: setuptools>=40.3.0 in /usr/local/lib/python3.7/dist-packages (from google-api-core<2dev,>=1.13.0->google-api-python-client==1.8.0->cloud_tpu_client) (57.4.0)\n",
            "Requirement already satisfied: requests<3.0.0dev,>=2.18.0 in /usr/local/lib/python3.7/dist-packages (from google-api-core<2dev,>=1.13.0->google-api-python-client==1.8.0->cloud_tpu_client) (2.23.0)\n",
            "Requirement already satisfied: packaging>=14.3 in /usr/local/lib/python3.7/dist-packages (from google-api-core<2dev,>=1.13.0->google-api-python-client==1.8.0->cloud_tpu_client) (21.3)\n",
            "Requirement already satisfied: googleapis-common-protos<2.0dev,>=1.6.0 in /usr/local/lib/python3.7/dist-packages (from google-api-core<2dev,>=1.13.0->google-api-python-client==1.8.0->cloud_tpu_client) (1.56.2)\n",
            "Requirement already satisfied: pytz in /usr/local/lib/python3.7/dist-packages (from google-api-core<2dev,>=1.13.0->google-api-python-client==1.8.0->cloud_tpu_client) (2022.1)\n",
            "Requirement already satisfied: protobuf<4.0.0dev,>=3.12.0 in /usr/local/lib/python3.7/dist-packages (from google-api-core<2dev,>=1.13.0->google-api-python-client==1.8.0->cloud_tpu_client) (3.17.3)\n",
            "Requirement already satisfied: cachetools<5.0,>=2.0.0 in /usr/local/lib/python3.7/dist-packages (from google-auth>=1.4.1->google-api-python-client==1.8.0->cloud_tpu_client) (4.2.4)\n",
            "Requirement already satisfied: rsa<5,>=3.1.4 in /usr/local/lib/python3.7/dist-packages (from google-auth>=1.4.1->google-api-python-client==1.8.0->cloud_tpu_client) (4.8)\n",
            "Requirement already satisfied: pyasn1-modules>=0.2.1 in /usr/local/lib/python3.7/dist-packages (from google-auth>=1.4.1->google-api-python-client==1.8.0->cloud_tpu_client) (0.2.8)\n",
            "Requirement already satisfied: pyparsing!=3.0.5,>=2.0.2 in /usr/local/lib/python3.7/dist-packages (from packaging>=14.3->google-api-core<2dev,>=1.13.0->google-api-python-client==1.8.0->cloud_tpu_client) (3.0.9)\n",
            "Requirement already satisfied: pyasn1<0.5.0,>=0.4.6 in /usr/local/lib/python3.7/dist-packages (from pyasn1-modules>=0.2.1->google-auth>=1.4.1->google-api-python-client==1.8.0->cloud_tpu_client) (0.4.8)\n",
            "Requirement already satisfied: chardet<4,>=3.0.2 in /usr/local/lib/python3.7/dist-packages (from requests<3.0.0dev,>=2.18.0->google-api-core<2dev,>=1.13.0->google-api-python-client==1.8.0->cloud_tpu_client) (3.0.4)\n",
            "Requirement already satisfied: urllib3!=1.25.0,!=1.25.1,<1.26,>=1.21.1 in /usr/local/lib/python3.7/dist-packages (from requests<3.0.0dev,>=2.18.0->google-api-core<2dev,>=1.13.0->google-api-python-client==1.8.0->cloud_tpu_client) (1.24.3)\n",
            "Requirement already satisfied: certifi>=2017.4.17 in /usr/local/lib/python3.7/dist-packages (from requests<3.0.0dev,>=2.18.0->google-api-core<2dev,>=1.13.0->google-api-python-client==1.8.0->cloud_tpu_client) (2022.6.15)\n",
            "Requirement already satisfied: idna<3,>=2.5 in /usr/local/lib/python3.7/dist-packages (from requests<3.0.0dev,>=2.18.0->google-api-core<2dev,>=1.13.0->google-api-python-client==1.8.0->cloud_tpu_client) (2.10)\n"
          ]
        }
      ],
      "source": [
        "!pip install cloud_tpu_client"
      ]
    },
    {
      "cell_type": "code",
      "execution_count": 4,
      "metadata": {
        "colab": {
          "base_uri": "https://localhost:8080/"
        },
        "id": "xJbOdynPihHA",
        "outputId": "32248401-0786-4565-b9f3-1aa4895b431b"
      },
      "outputs": [
        {
          "name": "stdout",
          "output_type": "stream",
          "text": [
            "Mounted at /content/drive\n"
          ]
        }
      ],
      "source": [
        "from google.colab import drive\n",
        "drive.mount('/content/drive')"
      ]
    },
    {
      "cell_type": "code",
      "execution_count": 5,
      "metadata": {
        "colab": {
          "base_uri": "https://localhost:8080/"
        },
        "id": "LvgMhZQt7W5w",
        "outputId": "86efac8d-3fce-4c51-b199-e0043038ccae"
      },
      "outputs": [
        {
          "name": "stdout",
          "output_type": "stream",
          "text": [
            "Downloading data from https://storage.googleapis.com/keras-applications/efficientnetb0.h5\n",
            "21839872/21834768 [==============================] - 0s 0us/step\n",
            "21848064/21834768 [==============================] - 0s 0us/step\n"
          ]
        }
      ],
      "source": [
        "from tensorflow.keras.applications import EfficientNetB0\n",
        "model = EfficientNetB0(weights='imagenet')"
      ]
    },
    {
      "cell_type": "code",
      "execution_count": 6,
      "metadata": {
        "id": "0iYRk_PS7W8V"
      },
      "outputs": [],
      "source": [
        "# IMG_SIZE is determined by EfficientNet model choice\n",
        "IMG_SIZE = 224"
      ]
    },
    {
      "cell_type": "code",
      "execution_count": 7,
      "metadata": {
        "colab": {
          "base_uri": "https://localhost:8080/"
        },
        "id": "06Ys3SeT7W-y",
        "outputId": "61894954-2d2b-4675-909f-42ef814e0d79"
      },
      "outputs": [
        {
          "name": "stdout",
          "output_type": "stream",
          "text": [
            "Not connected to a TPU runtime. Using CPU/GPU strategy\n",
            "INFO:tensorflow:Using MirroredStrategy with devices ('/job:localhost/replica:0/task:0/device:GPU:0',)\n"
          ]
        }
      ],
      "source": [
        "from cloud_tpu_client import Client\n",
        "import tensorflow as tf\n",
        "import numpy as np\n",
        "\n",
        "\n",
        "\n",
        "try:\n",
        "    c = Client()\n",
        "    c.configure_tpu_version(tf.__version__, restart_type=\"always\")\n",
        "    tpu = tf.distribute.cluster_resolver.TPUClusterResolver.connect()\n",
        "    print(\"Device:\", tpu.master())\n",
        "    strategy = tf.distribute.TPUStrategy(tpu)\n",
        "\n",
        "except ValueError:\n",
        "    print(\"Not connected to a TPU runtime. Using CPU/GPU strategy\")\n",
        "    strategy = tf.distribute.MirroredStrategy()"
      ]
    },
    {
      "cell_type": "code",
      "execution_count": 8,
      "metadata": {
        "colab": {
          "base_uri": "https://localhost:8080/"
        },
        "id": "54v8xUNRBnT6",
        "outputId": "ce83b5ae-90c6-48ef-e5d3-dbd025be04ed"
      },
      "outputs": [
        {
          "name": "stdout",
          "output_type": "stream",
          "text": [
            "<PrefetchDataset element_spec=(TensorSpec(shape=(224, 224, 3), dtype=tf.uint8, name=None), TensorSpec(shape=(), dtype=tf.int32, name=None))>\n",
            "<PrefetchDataset element_spec=(TensorSpec(shape=(224, 224, 3), dtype=tf.uint8, name=None), TensorSpec(shape=(), dtype=tf.int32, name=None))>\n"
          ]
        }
      ],
      "source": [
        "batch_size = 64\n",
        "SHUFFLE_BUFFER_SIZE = 128\n",
        "\n",
        "x_train, x_test, y_train, y_test = np.load(\"/content/drive/MyDrive/steel_surface_224.npy\", allow_pickle=True)\n",
        "ds_train = tf.data.Dataset.from_tensor_slices((x_train, y_train))\n",
        "ds_train = ds_train.prefetch(batch_size)\n",
        "ds_test = tf.data.Dataset.from_tensor_slices((x_test, y_test))\n",
        "ds_test = ds_test.prefetch(batch_size)\n",
        "print(ds_train)\n",
        "print(ds_test)"
      ]
    },
    {
      "cell_type": "code",
      "execution_count": 9,
      "metadata": {
        "id": "ETtjOBJr7XBF"
      },
      "outputs": [],
      "source": [
        "NUM_CLASSES = 6"
      ]
    },
    {
      "cell_type": "code",
      "execution_count": 10,
      "metadata": {
        "id": "7fDMzZvW7XDY"
      },
      "outputs": [],
      "source": [
        "size = (IMG_SIZE, IMG_SIZE)\n",
        "ds_train = ds_train.map(lambda image, label: (tf.image.resize(image, size), label))\n",
        "ds_test = ds_test.map(lambda image, label: (tf.image.resize(image, size), label))"
      ]
    },
    {
      "cell_type": "code",
      "execution_count": 11,
      "metadata": {
        "colab": {
          "base_uri": "https://localhost:8080/",
          "height": 264
        },
        "id": "KO1NCo6Z7XFp",
        "outputId": "ca3dc7f9-3b94-4d80-e7fe-e83eb7692c66"
      },
      "outputs": [
        {
          "data": {
            "image/png": "[encoded data removed]",
            "text/plain": [
              "<Figure size 432x288 with 9 Axes>"
            ]
          },
          "metadata": {
            "needs_background": "light"
          },
          "output_type": "display_data"
        }
      ],
      "source": [
        "import matplotlib.pyplot as plt\n",
        "\n",
        "labellist=[\"crazing\",\"inclusion\",\"patches\",\"pitted_surface\",\"rolled-in_scale\",\"scratches\"]\n",
        "def format_label(label):\n",
        "  return labellist[(int(str(label)[10]))]\n",
        "\n",
        "\n",
        "for i, (image, label) in enumerate(ds_train.take(9)):\n",
        "    ax = plt.subplot(3, 3, i + 1)\n",
        "    plt.imshow(image.numpy().astype(\"uint8\"))\n",
        "    plt.title(format_label(label))\n",
        "    plt.axis(\"off\")"
      ]
    },
    {
      "cell_type": "code",
      "execution_count": 12,
      "metadata": {
        "id": "p_L0gBYE7XIA"
      },
      "outputs": [],
      "source": [
        "from tensorflow.keras.models import Sequential\n",
        "from tensorflow.keras import layers\n",
        "\n",
        "img_augmentation = Sequential(\n",
        "    [\n",
        "        layers.RandomRotation(factor=0.15),\n",
        "        layers.RandomTranslation(height_factor=0.1, width_factor=0.1),\n",
        "        layers.RandomFlip(),\n",
        "        layers.RandomContrast(factor=0.1),\n",
        "    ],\n",
        "    name=\"img_augmentation\",\n",
        ")"
      ]
    },
    {
      "cell_type": "code",
      "execution_count": 14,
      "metadata": {
        "id": "7MepxW4l7XMW"
      },
      "outputs": [],
      "source": [
        "# One-hot / categorical encoding\n",
        "def input_preprocess(image, label):\n",
        "    label = tf.one_hot(label, NUM_CLASSES)\n",
        "    return image, label\n",
        "\n",
        "\n",
        "ds_train = ds_train.map(\n",
        "    input_preprocess, num_parallel_calls=tf.data.AUTOTUNE\n",
        ")\n",
        "ds_train = ds_train.batch(batch_size=batch_size, drop_remainder=True)\n",
        "ds_train = ds_train.prefetch(tf.data.AUTOTUNE)\n",
        "\n",
        "ds_test = ds_test.map(input_preprocess)\n",
        "ds_test = ds_test.batch(batch_size=batch_size, drop_remainder=True)"
      ]
    },
    {
      "cell_type": "code",
      "execution_count": 15,
      "metadata": {
        "colab": {
          "base_uri": "https://localhost:8080/"
        },
        "id": "Y4me0mAj7XOh",
        "outputId": "0bebdbd1-151a-43fb-9fd1-47464fde28a0"
      },
      "outputs": [
        {
          "name": "stdout",
          "output_type": "stream",
          "text": [
            "INFO:tensorflow:Reduce to /job:localhost/replica:0/task:0/device:CPU:0 then broadcast to ('/job:localhost/replica:0/task:0/device:CPU:0',).\n",
            "INFO:tensorflow:Reduce to /job:localhost/replica:0/task:0/device:CPU:0 then broadcast to ('/job:localhost/replica:0/task:0/device:CPU:0',).\n",
            "INFO:tensorflow:Reduce to /job:localhost/replica:0/task:0/device:CPU:0 then broadcast to ('/job:localhost/replica:0/task:0/device:CPU:0',).\n",
            "INFO:tensorflow:Reduce to /job:localhost/replica:0/task:0/device:CPU:0 then broadcast to ('/job:localhost/replica:0/task:0/device:CPU:0',).\n",
            "INFO:tensorflow:Reduce to /job:localhost/replica:0/task:0/device:CPU:0 then broadcast to ('/job:localhost/replica:0/task:0/device:CPU:0',).\n",
            "INFO:tensorflow:Reduce to /job:localhost/replica:0/task:0/device:CPU:0 then broadcast to ('/job:localhost/replica:0/task:0/device:CPU:0',).\n",
            "INFO:tensorflow:Reduce to /job:localhost/replica:0/task:0/device:CPU:0 then broadcast to ('/job:localhost/replica:0/task:0/device:CPU:0',).\n",
            "INFO:tensorflow:Reduce to /job:localhost/replica:0/task:0/device:CPU:0 then broadcast to ('/job:localhost/replica:0/task:0/device:CPU:0',).\n",
            "INFO:tensorflow:Reduce to /job:localhost/replica:0/task:0/device:CPU:0 then broadcast to ('/job:localhost/replica:0/task:0/device:CPU:0',).\n",
            "INFO:tensorflow:Reduce to /job:localhost/replica:0/task:0/device:CPU:0 then broadcast to ('/job:localhost/replica:0/task:0/device:CPU:0',).\n",
            "Model: \"model\"\n",
            "_________________________________________________________________\n",
            " Layer (type)                Output Shape              Param #   \n",
            "=================================================================\n",
            " input_2 (InputLayer)        [(None, 224, 224, 3)]     0         \n",
            "                                                                 \n",
            " img_augmentation (Sequentia  (None, 224, 224, 3)      0         \n",
            " l)                                                              \n",
            "                                                                 \n",
            " efficientnetb0 (Functional)  (None, 6)                4057257   \n",
            "                                                                 \n",
            "=================================================================\n",
            "Total params: 4,057,257\n",
            "Trainable params: 4,015,234\n",
            "Non-trainable params: 42,023\n",
            "_________________________________________________________________\n",
            "Epoch 1/100\n",
            "16/16 - 43s - loss: 2.3847 - accuracy: 0.3984 - val_loss: 2.0285 - val_accuracy: 0.1344 - 43s/epoch - 3s/step\n",
            "Epoch 2/100\n",
            "16/16 - 10s - loss: 1.0747 - accuracy: 0.6348 - val_loss: 2.7814 - val_accuracy: 0.1656 - 10s/epoch - 595ms/step\n",
            "Epoch 3/100\n",
            "16/16 - 9s - loss: 0.7033 - accuracy: 0.7568 - val_loss: 3.5749 - val_accuracy: 0.1562 - 9s/epoch - 590ms/step\n",
            "Epoch 4/100\n",
            "16/16 - 10s - loss: 0.6003 - accuracy: 0.7998 - val_loss: 3.6195 - val_accuracy: 0.1562 - 10s/epoch - 601ms/step\n",
            "Epoch 5/100\n",
            "16/16 - 10s - loss: 0.4870 - accuracy: 0.8242 - val_loss: 4.1759 - val_accuracy: 0.1562 - 10s/epoch - 610ms/step\n",
            "Epoch 6/100\n",
            "16/16 - 10s - loss: 0.4689 - accuracy: 0.8428 - val_loss: 4.2446 - val_accuracy: 0.1562 - 10s/epoch - 609ms/step\n",
            "Epoch 7/100\n",
            "16/16 - 10s - loss: 0.4991 - accuracy: 0.8369 - val_loss: 4.5792 - val_accuracy: 0.1562 - 10s/epoch - 606ms/step\n",
            "Epoch 8/100\n",
            "16/16 - 10s - loss: 0.4265 - accuracy: 0.8506 - val_loss: 4.7167 - val_accuracy: 0.1562 - 10s/epoch - 607ms/step\n",
            "Epoch 9/100\n",
            "16/16 - 10s - loss: 0.3579 - accuracy: 0.8740 - val_loss: 4.6415 - val_accuracy: 0.1562 - 10s/epoch - 611ms/step\n",
            "Epoch 10/100\n",
            "16/16 - 10s - loss: 0.3012 - accuracy: 0.9053 - val_loss: 6.8880 - val_accuracy: 0.1688 - 10s/epoch - 598ms/step\n",
            "Epoch 11/100\n",
            "16/16 - 10s - loss: 0.2777 - accuracy: 0.9092 - val_loss: 7.4419 - val_accuracy: 0.1688 - 10s/epoch - 609ms/step\n",
            "Epoch 12/100\n",
            "16/16 - 10s - loss: 0.2500 - accuracy: 0.9229 - val_loss: 8.5400 - val_accuracy: 0.1688 - 10s/epoch - 610ms/step\n",
            "Epoch 13/100\n",
            "16/16 - 10s - loss: 0.2117 - accuracy: 0.9307 - val_loss: 7.0978 - val_accuracy: 0.1688 - 10s/epoch - 603ms/step\n",
            "Epoch 14/100\n",
            "16/16 - 10s - loss: 0.2230 - accuracy: 0.9229 - val_loss: 9.1274 - val_accuracy: 0.1688 - 10s/epoch - 611ms/step\n",
            "Epoch 15/100\n",
            "16/16 - 10s - loss: 0.2794 - accuracy: 0.9111 - val_loss: 8.9161 - val_accuracy: 0.1688 - 10s/epoch - 612ms/step\n",
            "Epoch 16/100\n",
            "16/16 - 10s - loss: 0.1926 - accuracy: 0.9287 - val_loss: 9.0669 - val_accuracy: 0.1688 - 10s/epoch - 604ms/step\n",
            "Epoch 17/100\n",
            "16/16 - 10s - loss: 0.2015 - accuracy: 0.9375 - val_loss: 9.6323 - val_accuracy: 0.1688 - 10s/epoch - 608ms/step\n",
            "Epoch 18/100\n",
            "16/16 - 10s - loss: 0.1787 - accuracy: 0.9424 - val_loss: 10.8951 - val_accuracy: 0.1688 - 10s/epoch - 597ms/step\n",
            "Epoch 19/100\n",
            "16/16 - 10s - loss: 0.1408 - accuracy: 0.9521 - val_loss: 10.1313 - val_accuracy: 0.1688 - 10s/epoch - 610ms/step\n",
            "Epoch 20/100\n",
            "16/16 - 10s - loss: 0.1468 - accuracy: 0.9512 - val_loss: 9.1518 - val_accuracy: 0.1750 - 10s/epoch - 605ms/step\n",
            "Epoch 21/100\n",
            "16/16 - 10s - loss: 0.1540 - accuracy: 0.9512 - val_loss: 10.3899 - val_accuracy: 0.1688 - 10s/epoch - 613ms/step\n",
            "Epoch 22/100\n",
            "16/16 - 10s - loss: 0.1134 - accuracy: 0.9648 - val_loss: 10.0165 - val_accuracy: 0.1750 - 10s/epoch - 604ms/step\n",
            "Epoch 23/100\n",
            "16/16 - 10s - loss: 0.1144 - accuracy: 0.9561 - val_loss: 8.6753 - val_accuracy: 0.2031 - 10s/epoch - 614ms/step\n",
            "Epoch 24/100\n",
            "16/16 - 10s - loss: 0.1469 - accuracy: 0.9531 - val_loss: 7.5696 - val_accuracy: 0.2562 - 10s/epoch - 603ms/step\n",
            "Epoch 25/100\n",
            "16/16 - 10s - loss: 0.1356 - accuracy: 0.9590 - val_loss: 8.3902 - val_accuracy: 0.1906 - 10s/epoch - 601ms/step\n",
            "Epoch 26/100\n",
            "16/16 - 10s - loss: 0.1569 - accuracy: 0.9443 - val_loss: 5.4661 - val_accuracy: 0.2875 - 10s/epoch - 607ms/step\n",
            "Epoch 27/100\n",
            "16/16 - 10s - loss: 0.1451 - accuracy: 0.9561 - val_loss: 6.0310 - val_accuracy: 0.2562 - 10s/epoch - 614ms/step\n",
            "Epoch 28/100\n",
            "16/16 - 10s - loss: 0.0990 - accuracy: 0.9668 - val_loss: 6.7473 - val_accuracy: 0.2875 - 10s/epoch - 603ms/step\n",
            "Epoch 29/100\n",
            "16/16 - 10s - loss: 0.1128 - accuracy: 0.9668 - val_loss: 5.7901 - val_accuracy: 0.3125 - 10s/epoch - 611ms/step\n",
            "Epoch 30/100\n",
            "16/16 - 10s - loss: 0.1135 - accuracy: 0.9629 - val_loss: 3.8743 - val_accuracy: 0.3812 - 10s/epoch - 608ms/step\n",
            "Epoch 31/100\n",
            "16/16 - 10s - loss: 0.0811 - accuracy: 0.9756 - val_loss: 2.3477 - val_accuracy: 0.5688 - 10s/epoch - 604ms/step\n",
            "Epoch 32/100\n",
            "16/16 - 10s - loss: 0.0969 - accuracy: 0.9629 - val_loss: 1.2110 - val_accuracy: 0.7188 - 10s/epoch - 611ms/step\n",
            "Epoch 33/100\n",
            "16/16 - 10s - loss: 0.0700 - accuracy: 0.9727 - val_loss: 1.6012 - val_accuracy: 0.6344 - 10s/epoch - 610ms/step\n",
            "Epoch 34/100\n",
            "16/16 - 10s - loss: 0.0712 - accuracy: 0.9795 - val_loss: 1.1597 - val_accuracy: 0.7594 - 10s/epoch - 613ms/step\n",
            "Epoch 35/100\n",
            "16/16 - 10s - loss: 0.0737 - accuracy: 0.9736 - val_loss: 0.8702 - val_accuracy: 0.8094 - 10s/epoch - 602ms/step\n",
            "Epoch 36/100\n",
            "16/16 - 10s - loss: 0.0762 - accuracy: 0.9766 - val_loss: 0.6396 - val_accuracy: 0.8719 - 10s/epoch - 611ms/step\n",
            "Epoch 37/100\n",
            "16/16 - 10s - loss: 0.0797 - accuracy: 0.9746 - val_loss: 0.3153 - val_accuracy: 0.9438 - 10s/epoch - 610ms/step\n",
            "Epoch 38/100\n",
            "16/16 - 10s - loss: 0.0528 - accuracy: 0.9814 - val_loss: 3.1794 - val_accuracy: 0.6125 - 10s/epoch - 612ms/step\n",
            "Epoch 39/100\n",
            "16/16 - 10s - loss: 0.0714 - accuracy: 0.9756 - val_loss: 3.4878 - val_accuracy: 0.6406 - 10s/epoch - 610ms/step\n",
            "Epoch 40/100\n",
            "16/16 - 10s - loss: 0.1046 - accuracy: 0.9639 - val_loss: 6.0178 - val_accuracy: 0.7219 - 10s/epoch - 601ms/step\n",
            "Epoch 41/100\n",
            "16/16 - 10s - loss: 0.0694 - accuracy: 0.9795 - val_loss: 1.5738 - val_accuracy: 0.8000 - 10s/epoch - 611ms/step\n",
            "Epoch 42/100\n",
            "16/16 - 10s - loss: 0.0771 - accuracy: 0.9766 - val_loss: 1.1178 - val_accuracy: 0.8156 - 10s/epoch - 610ms/step\n",
            "Epoch 43/100\n",
            "16/16 - 10s - loss: 0.1179 - accuracy: 0.9668 - val_loss: 2.7264 - val_accuracy: 0.7656 - 10s/epoch - 614ms/step\n",
            "Epoch 44/100\n",
            "16/16 - 10s - loss: 0.1169 - accuracy: 0.9688 - val_loss: 1.0237 - val_accuracy: 0.8062 - 10s/epoch - 610ms/step\n",
            "Epoch 45/100\n",
            "16/16 - 10s - loss: 0.0724 - accuracy: 0.9736 - val_loss: 0.1814 - val_accuracy: 0.9406 - 10s/epoch - 605ms/step\n",
            "Epoch 46/100\n",
            "16/16 - 10s - loss: 0.0562 - accuracy: 0.9795 - val_loss: 0.5502 - val_accuracy: 0.8687 - 10s/epoch - 611ms/step\n",
            "Epoch 47/100\n",
            "16/16 - 10s - loss: 0.0521 - accuracy: 0.9785 - val_loss: 0.3586 - val_accuracy: 0.9000 - 10s/epoch - 609ms/step\n",
            "Epoch 48/100\n",
            "16/16 - 10s - loss: 0.0359 - accuracy: 0.9893 - val_loss: 0.4025 - val_accuracy: 0.8969 - 10s/epoch - 618ms/step\n",
            "Epoch 49/100\n",
            "16/16 - 10s - loss: 0.0478 - accuracy: 0.9863 - val_loss: 0.3679 - val_accuracy: 0.8875 - 10s/epoch - 616ms/step\n",
            "Epoch 50/100\n",
            "16/16 - 10s - loss: 0.0450 - accuracy: 0.9834 - val_loss: 0.4843 - val_accuracy: 0.9031 - 10s/epoch - 614ms/step\n",
            "Epoch 51/100\n",
            "16/16 - 10s - loss: 0.0501 - accuracy: 0.9834 - val_loss: 0.3613 - val_accuracy: 0.9062 - 10s/epoch - 596ms/step\n",
            "Epoch 52/100\n",
            "16/16 - 10s - loss: 0.0553 - accuracy: 0.9814 - val_loss: 0.7096 - val_accuracy: 0.8562 - 10s/epoch - 611ms/step\n",
            "Epoch 53/100\n",
            "16/16 - 10s - loss: 0.0742 - accuracy: 0.9717 - val_loss: 0.2055 - val_accuracy: 0.9469 - 10s/epoch - 616ms/step\n",
            "Epoch 54/100\n",
            "16/16 - 10s - loss: 0.0809 - accuracy: 0.9736 - val_loss: 0.1078 - val_accuracy: 0.9625 - 10s/epoch - 612ms/step\n",
            "Epoch 55/100\n",
            "16/16 - 10s - loss: 0.0730 - accuracy: 0.9717 - val_loss: 2.5777 - val_accuracy: 0.6562 - 10s/epoch - 613ms/step\n",
            "Epoch 56/100\n",
            "16/16 - 10s - loss: 0.0604 - accuracy: 0.9824 - val_loss: 4.4780 - val_accuracy: 0.5813 - 10s/epoch - 606ms/step\n",
            "Epoch 57/100\n",
            "16/16 - 10s - loss: 0.0668 - accuracy: 0.9756 - val_loss: 4.1087 - val_accuracy: 0.5625 - 10s/epoch - 613ms/step\n",
            "Epoch 58/100\n",
            "16/16 - 10s - loss: 0.0537 - accuracy: 0.9854 - val_loss: 1.4047 - val_accuracy: 0.7875 - 10s/epoch - 605ms/step\n",
            "Epoch 59/100\n",
            "16/16 - 10s - loss: 0.0485 - accuracy: 0.9873 - val_loss: 0.4856 - val_accuracy: 0.8750 - 10s/epoch - 611ms/step\n",
            "Epoch 60/100\n",
            "16/16 - 10s - loss: 0.0348 - accuracy: 0.9883 - val_loss: 0.2753 - val_accuracy: 0.9156 - 10s/epoch - 611ms/step\n",
            "Epoch 61/100\n",
            "16/16 - 10s - loss: 0.0279 - accuracy: 0.9912 - val_loss: 0.1660 - val_accuracy: 0.9500 - 10s/epoch - 613ms/step\n",
            "Epoch 62/100\n",
            "16/16 - 10s - loss: 0.0287 - accuracy: 0.9893 - val_loss: 0.3026 - val_accuracy: 0.9250 - 10s/epoch - 607ms/step\n",
            "Epoch 63/100\n",
            "16/16 - 10s - loss: 0.0608 - accuracy: 0.9814 - val_loss: 0.3427 - val_accuracy: 0.9250 - 10s/epoch - 613ms/step\n",
            "Epoch 64/100\n",
            "16/16 - 10s - loss: 0.0496 - accuracy: 0.9863 - val_loss: 0.4006 - val_accuracy: 0.9000 - 10s/epoch - 614ms/step\n",
            "Epoch 65/100\n",
            "16/16 - 10s - loss: 0.0495 - accuracy: 0.9814 - val_loss: 0.4733 - val_accuracy: 0.9156 - 10s/epoch - 604ms/step\n",
            "Epoch 66/100\n",
            "16/16 - 10s - loss: 0.0498 - accuracy: 0.9834 - val_loss: 0.2333 - val_accuracy: 0.9281 - 10s/epoch - 611ms/step\n",
            "Epoch 67/100\n",
            "16/16 - 10s - loss: 0.0841 - accuracy: 0.9756 - val_loss: 4.6982 - val_accuracy: 0.7375 - 10s/epoch - 605ms/step\n",
            "Epoch 68/100\n",
            "16/16 - 10s - loss: 0.0587 - accuracy: 0.9805 - val_loss: 2.2263 - val_accuracy: 0.7406 - 10s/epoch - 614ms/step\n",
            "Epoch 69/100\n",
            "16/16 - 10s - loss: 0.0365 - accuracy: 0.9834 - val_loss: 1.0697 - val_accuracy: 0.8438 - 10s/epoch - 613ms/step\n",
            "Epoch 70/100\n",
            "16/16 - 10s - loss: 0.0307 - accuracy: 0.9932 - val_loss: 0.9195 - val_accuracy: 0.8969 - 10s/epoch - 611ms/step\n",
            "Epoch 71/100\n",
            "16/16 - 10s - loss: 0.0365 - accuracy: 0.9844 - val_loss: 0.7201 - val_accuracy: 0.9156 - 10s/epoch - 614ms/step\n",
            "Epoch 72/100\n",
            "16/16 - 10s - loss: 0.0310 - accuracy: 0.9893 - val_loss: 0.5738 - val_accuracy: 0.8938 - 10s/epoch - 615ms/step\n",
            "Epoch 73/100\n",
            "16/16 - 10s - loss: 0.0345 - accuracy: 0.9912 - val_loss: 1.5584 - val_accuracy: 0.7656 - 10s/epoch - 610ms/step\n",
            "Epoch 74/100\n",
            "16/16 - 10s - loss: 0.0314 - accuracy: 0.9883 - val_loss: 4.5196 - val_accuracy: 0.5063 - 10s/epoch - 606ms/step\n",
            "Epoch 75/100\n",
            "16/16 - 10s - loss: 0.0236 - accuracy: 0.9951 - val_loss: 4.9898 - val_accuracy: 0.5250 - 10s/epoch - 611ms/step\n",
            "Epoch 76/100\n",
            "16/16 - 10s - loss: 0.0215 - accuracy: 0.9922 - val_loss: 4.4517 - val_accuracy: 0.5437 - 10s/epoch - 612ms/step\n",
            "Epoch 77/100\n",
            "16/16 - 10s - loss: 0.0314 - accuracy: 0.9922 - val_loss: 4.4081 - val_accuracy: 0.5312 - 10s/epoch - 608ms/step\n",
            "Epoch 78/100\n",
            "16/16 - 10s - loss: 0.0499 - accuracy: 0.9873 - val_loss: 0.4527 - val_accuracy: 0.9000 - 10s/epoch - 605ms/step\n",
            "Epoch 79/100\n",
            "16/16 - 10s - loss: 0.0270 - accuracy: 0.9912 - val_loss: 1.1678 - val_accuracy: 0.8594 - 10s/epoch - 610ms/step\n",
            "Epoch 80/100\n",
            "16/16 - 10s - loss: 0.0245 - accuracy: 0.9912 - val_loss: 0.1313 - val_accuracy: 0.9781 - 10s/epoch - 616ms/step\n",
            "Epoch 81/100\n",
            "16/16 - 10s - loss: 0.0364 - accuracy: 0.9912 - val_loss: 0.3997 - val_accuracy: 0.9062 - 10s/epoch - 612ms/step\n",
            "Epoch 82/100\n",
            "16/16 - 10s - loss: 0.0332 - accuracy: 0.9922 - val_loss: 0.5690 - val_accuracy: 0.8813 - 10s/epoch - 613ms/step\n",
            "Epoch 83/100\n",
            "16/16 - 10s - loss: 0.0240 - accuracy: 0.9922 - val_loss: 1.3915 - val_accuracy: 0.8000 - 10s/epoch - 616ms/step\n",
            "Epoch 84/100\n",
            "16/16 - 10s - loss: 0.0481 - accuracy: 0.9863 - val_loss: 0.9524 - val_accuracy: 0.8281 - 10s/epoch - 612ms/step\n",
            "Epoch 85/100\n",
            "16/16 - 10s - loss: 0.0230 - accuracy: 0.9922 - val_loss: 0.4089 - val_accuracy: 0.9125 - 10s/epoch - 605ms/step\n",
            "Epoch 86/100\n",
            "16/16 - 10s - loss: 0.0264 - accuracy: 0.9863 - val_loss: 1.0285 - val_accuracy: 0.7906 - 10s/epoch - 613ms/step\n",
            "Epoch 87/100\n",
            "16/16 - 10s - loss: 0.0276 - accuracy: 0.9922 - val_loss: 0.7590 - val_accuracy: 0.8469 - 10s/epoch - 605ms/step\n",
            "Epoch 88/100\n",
            "16/16 - 10s - loss: 0.0180 - accuracy: 0.9961 - val_loss: 0.4781 - val_accuracy: 0.9031 - 10s/epoch - 610ms/step\n",
            "Epoch 89/100\n",
            "16/16 - 10s - loss: 0.0212 - accuracy: 0.9932 - val_loss: 0.7001 - val_accuracy: 0.8469 - 10s/epoch - 611ms/step\n",
            "Epoch 90/100\n",
            "16/16 - 10s - loss: 0.0191 - accuracy: 0.9922 - val_loss: 0.3694 - val_accuracy: 0.9344 - 10s/epoch - 609ms/step\n",
            "Epoch 91/100\n",
            "16/16 - 10s - loss: 0.0302 - accuracy: 0.9873 - val_loss: 0.5397 - val_accuracy: 0.8656 - 10s/epoch - 612ms/step\n",
            "Epoch 92/100\n",
            "16/16 - 10s - loss: 0.0188 - accuracy: 0.9932 - val_loss: 0.1796 - val_accuracy: 0.9563 - 10s/epoch - 605ms/step\n",
            "Epoch 93/100\n",
            "16/16 - 10s - loss: 0.0207 - accuracy: 0.9941 - val_loss: 0.5543 - val_accuracy: 0.8969 - 10s/epoch - 619ms/step\n",
            "Epoch 94/100\n",
            "16/16 - 10s - loss: 0.0142 - accuracy: 0.9961 - val_loss: 0.3794 - val_accuracy: 0.9219 - 10s/epoch - 616ms/step\n",
            "Epoch 95/100\n",
            "16/16 - 10s - loss: 0.0546 - accuracy: 0.9834 - val_loss: 0.6746 - val_accuracy: 0.8625 - 10s/epoch - 615ms/step\n",
            "Epoch 96/100\n",
            "16/16 - 10s - loss: 0.0478 - accuracy: 0.9883 - val_loss: 0.6926 - val_accuracy: 0.8625 - 10s/epoch - 608ms/step\n",
            "Epoch 97/100\n",
            "16/16 - 10s - loss: 0.0300 - accuracy: 0.9893 - val_loss: 0.7814 - val_accuracy: 0.8219 - 10s/epoch - 614ms/step\n",
            "Epoch 98/100\n",
            "16/16 - 10s - loss: 0.0191 - accuracy: 0.9941 - val_loss: 1.8217 - val_accuracy: 0.8062 - 10s/epoch - 609ms/step\n",
            "Epoch 99/100\n",
            "16/16 - 10s - loss: 0.0133 - accuracy: 0.9961 - val_loss: 1.8406 - val_accuracy: 0.8219 - 10s/epoch - 611ms/step\n",
            "Epoch 100/100\n",
            "16/16 - 10s - loss: 0.0105 - accuracy: 0.9961 - val_loss: 0.8316 - val_accuracy: 0.9031 - 10s/epoch - 618ms/step\n"
          ]
        }
      ],
      "source": [
        "from tensorflow.keras.applications import EfficientNetB0\n",
        "\n",
        "with strategy.scope():\n",
        "    inputs = layers.Input(shape=(IMG_SIZE, IMG_SIZE, 3))\n",
        "    x = img_augmentation(inputs)\n",
        "    outputs = EfficientNetB0(include_top=True, weights=None, classes=NUM_CLASSES)(x)\n",
        "\n",
        "    model = tf.keras.Model(inputs, outputs)\n",
        "    model.compile(\n",
        "        optimizer=\"adam\", loss=\"categorical_crossentropy\", metrics=[\"accuracy\"]\n",
        "    )\n",
        "\n",
        "model.summary()\n",
        "\n",
        "epochs = 100  # @param {type: \"slider\", min:10, max:100}\n",
        "hist = model.fit(ds_train, epochs=epochs, validation_data=ds_test, verbose=2)"
      ]
    },
    {
      "cell_type": "code",
      "execution_count": 16,
      "metadata": {
        "colab": {
          "base_uri": "https://localhost:8080/",
          "height": 295
        },
        "id": "u4mPhmmq7XQ2",
        "outputId": "e36b2fe0-c798-4fda-ff6e-5f2076b060de"
      },
      "outputs": [
        {
          "data": {
            "image/png": "[encoded data removed]",
            "text/plain": [
              "<Figure size 432x288 with 1 Axes>"
            ]
          },
          "metadata": {
            "needs_background": "light"
          },
          "output_type": "display_data"
        }
      ],
      "source": [
        "import matplotlib.pyplot as plt\n",
        "\n",
        "\n",
        "def plot_hist(hist):\n",
        "    plt.plot(hist.history[\"accuracy\"])\n",
        "    plt.plot(hist.history[\"val_accuracy\"])\n",
        "    plt.title(\"model accuracy\")\n",
        "    plt.ylabel(\"accuracy\")\n",
        "    plt.xlabel(\"epoch\")\n",
        "    plt.legend([\"train\", \"validation\"], loc=\"upper left\")\n",
        "    plt.show()\n",
        "\n",
        "\n",
        "plot_hist(hist)"
      ]
    },
    {
      "cell_type": "code",
      "execution_count": 17,
      "metadata": {
        "id": "e_GRQrzy7XSx"
      },
      "outputs": [],
      "source": [
        "def build_model(num_classes):\n",
        "    inputs = layers.Input(shape=(IMG_SIZE, IMG_SIZE, 3))\n",
        "    x = img_augmentation(inputs)\n",
        "    model = EfficientNetB0(include_top=False, input_tensor=x, weights=\"imagenet\")\n",
        "\n",
        "    # Freeze the pretrained weights\n",
        "    model.trainable = False\n",
        "\n",
        "    # Rebuild top\n",
        "    x = layers.GlobalAveragePooling2D(name=\"avg_pool\")(model.output)\n",
        "    x = layers.BatchNormalization()(x)\n",
        "\n",
        "    top_dropout_rate = 0.2\n",
        "    x = layers.Dropout(top_dropout_rate, name=\"top_dropout\")(x)\n",
        "    outputs = layers.Dense(NUM_CLASSES, activation=\"softmax\", name=\"pred\")(x)\n",
        "\n",
        "    # Compile\n",
        "    model = tf.keras.Model(inputs, outputs, name=\"EfficientNet\")\n",
        "    optimizer = tf.keras.optimizers.Adam(learning_rate=1e-2)\n",
        "    model.compile(\n",
        "        optimizer=optimizer, loss=\"categorical_crossentropy\", metrics=[\"accuracy\"]\n",
        "    )\n",
        "    return model"
      ]
    },
    {
      "cell_type": "code",
      "execution_count": 18,
      "metadata": {
        "colab": {
          "base_uri": "https://localhost:8080/",
          "height": 1000
        },
        "id": "oHNly0LAIU8d",
        "outputId": "69590069-a3a9-4f28-f39e-36c9014024cf"
      },
      "outputs": [
        {
          "name": "stdout",
          "output_type": "stream",
          "text": [
            "Downloading data from https://storage.googleapis.com/keras-applications/efficientnetb0_notop.h5\n",
            "16711680/16705208 [==============================] - 0s 0us/step\n",
            "16719872/16705208 [==============================] - 0s 0us/step\n",
            "Epoch 1/60\n",
            "16/16 - 13s - loss: 0.3928 - accuracy: 0.8838 - val_loss: 0.4721 - val_accuracy: 0.8469 - 13s/epoch - 824ms/step\n",
            "Epoch 2/60\n",
            "16/16 - 3s - loss: 0.0405 - accuracy: 0.9834 - val_loss: 0.2870 - val_accuracy: 0.9031 - 3s/epoch - 159ms/step\n",
            "Epoch 3/60\n",
            "16/16 - 3s - loss: 0.0492 - accuracy: 0.9844 - val_loss: 0.5257 - val_accuracy: 0.7781 - 3s/epoch - 159ms/step\n",
            "Epoch 4/60\n",
            "16/16 - 3s - loss: 0.0266 - accuracy: 0.9912 - val_loss: 0.2631 - val_accuracy: 0.9000 - 3s/epoch - 159ms/step\n",
            "Epoch 5/60\n",
            "16/16 - 3s - loss: 0.0230 - accuracy: 0.9922 - val_loss: 0.2809 - val_accuracy: 0.9156 - 3s/epoch - 160ms/step\n",
            "Epoch 6/60\n",
            "16/16 - 3s - loss: 0.0248 - accuracy: 0.9922 - val_loss: 0.2667 - val_accuracy: 0.8969 - 3s/epoch - 160ms/step\n",
            "Epoch 7/60\n",
            "16/16 - 3s - loss: 0.0448 - accuracy: 0.9873 - val_loss: 0.1157 - val_accuracy: 0.9625 - 3s/epoch - 160ms/step\n",
            "Epoch 8/60\n",
            "16/16 - 3s - loss: 0.0600 - accuracy: 0.9902 - val_loss: 0.1410 - val_accuracy: 0.9594 - 3s/epoch - 164ms/step\n",
            "Epoch 9/60\n",
            "16/16 - 3s - loss: 0.0429 - accuracy: 0.9922 - val_loss: 0.1616 - val_accuracy: 0.9406 - 3s/epoch - 160ms/step\n",
            "Epoch 10/60\n",
            "16/16 - 3s - loss: 0.0913 - accuracy: 0.9834 - val_loss: 0.0389 - val_accuracy: 0.9937 - 3s/epoch - 160ms/step\n",
            "Epoch 11/60\n",
            "16/16 - 3s - loss: 0.0561 - accuracy: 0.9824 - val_loss: 0.0364 - val_accuracy: 0.9937 - 3s/epoch - 160ms/step\n",
            "Epoch 12/60\n",
            "16/16 - 3s - loss: 0.0384 - accuracy: 0.9902 - val_loss: 0.1852 - val_accuracy: 0.9312 - 3s/epoch - 163ms/step\n",
            "Epoch 13/60\n",
            "16/16 - 3s - loss: 0.0585 - accuracy: 0.9834 - val_loss: 0.0401 - val_accuracy: 0.9937 - 3s/epoch - 161ms/step\n",
            "Epoch 14/60\n",
            "16/16 - 3s - loss: 0.0157 - accuracy: 0.9922 - val_loss: 0.1399 - val_accuracy: 0.9438 - 3s/epoch - 161ms/step\n",
            "Epoch 15/60\n",
            "16/16 - 3s - loss: 0.0265 - accuracy: 0.9932 - val_loss: 0.0209 - val_accuracy: 0.9937 - 3s/epoch - 161ms/step\n",
            "Epoch 16/60\n",
            "16/16 - 3s - loss: 0.0261 - accuracy: 0.9951 - val_loss: 0.0636 - val_accuracy: 0.9844 - 3s/epoch - 162ms/step\n",
            "Epoch 17/60\n",
            "16/16 - 3s - loss: 0.0317 - accuracy: 0.9932 - val_loss: 0.0129 - val_accuracy: 0.9969 - 3s/epoch - 160ms/step\n",
            "Epoch 18/60\n",
            "16/16 - 3s - loss: 0.0386 - accuracy: 0.9932 - val_loss: 0.0545 - val_accuracy: 0.9844 - 3s/epoch - 162ms/step\n",
            "Epoch 19/60\n",
            "16/16 - 3s - loss: 0.0185 - accuracy: 0.9961 - val_loss: 0.0465 - val_accuracy: 0.9812 - 3s/epoch - 160ms/step\n",
            "Epoch 20/60\n",
            "16/16 - 3s - loss: 0.0195 - accuracy: 0.9941 - val_loss: 0.0560 - val_accuracy: 0.9781 - 3s/epoch - 159ms/step\n",
            "Epoch 21/60\n",
            "16/16 - 3s - loss: 0.0279 - accuracy: 0.9941 - val_loss: 0.0394 - val_accuracy: 0.9812 - 3s/epoch - 160ms/step\n",
            "Epoch 22/60\n",
            "16/16 - 3s - loss: 0.0214 - accuracy: 0.9951 - val_loss: 0.0319 - val_accuracy: 0.9906 - 3s/epoch - 161ms/step\n",
            "Epoch 23/60\n",
            "16/16 - 3s - loss: 0.0225 - accuracy: 0.9941 - val_loss: 0.1152 - val_accuracy: 0.9844 - 3s/epoch - 160ms/step\n",
            "Epoch 24/60\n",
            "16/16 - 3s - loss: 0.0380 - accuracy: 0.9912 - val_loss: 0.0776 - val_accuracy: 0.9906 - 3s/epoch - 160ms/step\n",
            "Epoch 25/60\n",
            "16/16 - 3s - loss: 0.0310 - accuracy: 0.9932 - val_loss: 0.0553 - val_accuracy: 0.9937 - 3s/epoch - 159ms/step\n",
            "Epoch 26/60\n",
            "16/16 - 3s - loss: 0.0521 - accuracy: 0.9941 - val_loss: 0.0844 - val_accuracy: 0.9875 - 3s/epoch - 160ms/step\n",
            "Epoch 27/60\n",
            "16/16 - 3s - loss: 0.0215 - accuracy: 0.9980 - val_loss: 0.0855 - val_accuracy: 0.9906 - 3s/epoch - 159ms/step\n",
            "Epoch 28/60\n",
            "16/16 - 3s - loss: 0.0537 - accuracy: 0.9941 - val_loss: 0.0990 - val_accuracy: 0.9906 - 3s/epoch - 160ms/step\n",
            "Epoch 29/60\n",
            "16/16 - 3s - loss: 0.0133 - accuracy: 0.9941 - val_loss: 0.0557 - val_accuracy: 0.9937 - 3s/epoch - 160ms/step\n",
            "Epoch 30/60\n",
            "16/16 - 3s - loss: 0.0258 - accuracy: 0.9932 - val_loss: 0.0967 - val_accuracy: 0.9906 - 3s/epoch - 159ms/step\n",
            "Epoch 31/60\n",
            "16/16 - 3s - loss: 0.0423 - accuracy: 0.9922 - val_loss: 0.0468 - val_accuracy: 0.9937 - 3s/epoch - 159ms/step\n",
            "Epoch 32/60\n",
            "16/16 - 3s - loss: 0.0374 - accuracy: 0.9902 - val_loss: 0.0931 - val_accuracy: 0.9906 - 3s/epoch - 159ms/step\n",
            "Epoch 33/60\n",
            "16/16 - 3s - loss: 0.0063 - accuracy: 0.9980 - val_loss: 0.0609 - val_accuracy: 0.9875 - 3s/epoch - 160ms/step\n",
            "Epoch 34/60\n",
            "16/16 - 3s - loss: 0.0398 - accuracy: 0.9912 - val_loss: 0.1460 - val_accuracy: 0.9906 - 3s/epoch - 160ms/step\n",
            "Epoch 35/60\n",
            "16/16 - 3s - loss: 0.0124 - accuracy: 0.9951 - val_loss: 0.1538 - val_accuracy: 0.9906 - 3s/epoch - 159ms/step\n",
            "Epoch 36/60\n",
            "16/16 - 3s - loss: 0.0244 - accuracy: 0.9951 - val_loss: 0.1036 - val_accuracy: 0.9906 - 3s/epoch - 159ms/step\n",
            "Epoch 37/60\n",
            "16/16 - 3s - loss: 0.0222 - accuracy: 0.9951 - val_loss: 0.0712 - val_accuracy: 0.9937 - 3s/epoch - 159ms/step\n",
            "Epoch 38/60\n",
            "16/16 - 3s - loss: 0.0236 - accuracy: 0.9951 - val_loss: 0.0737 - val_accuracy: 0.9906 - 3s/epoch - 160ms/step\n",
            "Epoch 39/60\n",
            "16/16 - 3s - loss: 0.0434 - accuracy: 0.9932 - val_loss: 0.0430 - val_accuracy: 0.9875 - 3s/epoch - 168ms/step\n",
            "Epoch 40/60\n",
            "16/16 - 3s - loss: 0.0206 - accuracy: 0.9961 - val_loss: 0.0737 - val_accuracy: 0.9875 - 3s/epoch - 162ms/step\n",
            "Epoch 41/60\n",
            "16/16 - 3s - loss: 0.0340 - accuracy: 0.9941 - val_loss: 0.0859 - val_accuracy: 0.9906 - 3s/epoch - 159ms/step\n",
            "Epoch 42/60\n",
            "16/16 - 3s - loss: 0.0869 - accuracy: 0.9932 - val_loss: 0.1055 - val_accuracy: 0.9906 - 3s/epoch - 159ms/step\n",
            "Epoch 43/60\n",
            "16/16 - 3s - loss: 0.0654 - accuracy: 0.9883 - val_loss: 0.0505 - val_accuracy: 0.9937 - 3s/epoch - 158ms/step\n",
            "Epoch 44/60\n",
            "16/16 - 3s - loss: 0.0290 - accuracy: 0.9971 - val_loss: 0.0197 - val_accuracy: 0.9937 - 3s/epoch - 159ms/step\n",
            "Epoch 45/60\n",
            "16/16 - 3s - loss: 0.0456 - accuracy: 0.9932 - val_loss: 0.1017 - val_accuracy: 0.9937 - 3s/epoch - 159ms/step\n",
            "Epoch 46/60\n",
            "16/16 - 3s - loss: 0.0950 - accuracy: 0.9883 - val_loss: 0.2038 - val_accuracy: 0.9844 - 3s/epoch - 159ms/step\n",
            "Epoch 47/60\n",
            "16/16 - 3s - loss: 0.0432 - accuracy: 0.9922 - val_loss: 0.1716 - val_accuracy: 0.9844 - 3s/epoch - 159ms/step\n",
            "Epoch 48/60\n",
            "16/16 - 3s - loss: 0.0202 - accuracy: 0.9961 - val_loss: 0.1498 - val_accuracy: 0.9875 - 3s/epoch - 159ms/step\n",
            "Epoch 49/60\n",
            "16/16 - 3s - loss: 0.0241 - accuracy: 0.9961 - val_loss: 0.1665 - val_accuracy: 0.9906 - 3s/epoch - 160ms/step\n",
            "Epoch 50/60\n",
            "16/16 - 3s - loss: 0.0234 - accuracy: 0.9941 - val_loss: 0.2116 - val_accuracy: 0.9844 - 3s/epoch - 159ms/step\n",
            "Epoch 51/60\n",
            "16/16 - 3s - loss: 0.0197 - accuracy: 0.9951 - val_loss: 0.1652 - val_accuracy: 0.9906 - 3s/epoch - 159ms/step\n",
            "Epoch 52/60\n",
            "16/16 - 3s - loss: 0.0503 - accuracy: 0.9941 - val_loss: 0.1088 - val_accuracy: 0.9875 - 3s/epoch - 158ms/step\n",
            "Epoch 53/60\n",
            "16/16 - 3s - loss: 0.0089 - accuracy: 0.9980 - val_loss: 0.1498 - val_accuracy: 0.9906 - 3s/epoch - 158ms/step\n",
            "Epoch 54/60\n",
            "16/16 - 3s - loss: 0.0301 - accuracy: 0.9971 - val_loss: 0.1287 - val_accuracy: 0.9906 - 3s/epoch - 158ms/step\n",
            "Epoch 55/60\n",
            "16/16 - 3s - loss: 0.0690 - accuracy: 0.9912 - val_loss: 0.1419 - val_accuracy: 0.9906 - 3s/epoch - 159ms/step\n",
            "Epoch 56/60\n",
            "16/16 - 3s - loss: 0.0299 - accuracy: 0.9951 - val_loss: 0.0252 - val_accuracy: 0.9969 - 3s/epoch - 158ms/step\n",
            "Epoch 57/60\n",
            "16/16 - 3s - loss: 0.0387 - accuracy: 0.9941 - val_loss: 0.0737 - val_accuracy: 0.9937 - 3s/epoch - 158ms/step\n",
            "Epoch 58/60\n",
            "16/16 - 3s - loss: 0.0407 - accuracy: 0.9922 - val_loss: 0.1750 - val_accuracy: 0.9937 - 3s/epoch - 159ms/step\n",
            "Epoch 59/60\n",
            "16/16 - 3s - loss: 0.0223 - accuracy: 0.9980 - val_loss: 0.0704 - val_accuracy: 0.9937 - 3s/epoch - 160ms/step\n",
            "Epoch 60/60\n",
            "16/16 - 3s - loss: 0.0425 - accuracy: 0.9951 - val_loss: 0.1560 - val_accuracy: 0.9937 - 3s/epoch - 159ms/step\n"
          ]
        },
        {
          "data": {
            "image/png": "[encoded data removed]",
            "text/plain": [
              "<Figure size 432x288 with 1 Axes>"
            ]
          },
          "metadata": {
            "needs_background": "light"
          },
          "output_type": "display_data"
        }
      ],
      "source": [
        "with strategy.scope():\n",
        "    model = build_model(num_classes=NUM_CLASSES)\n",
        "\n",
        "epochs = 60  # @param {type: \"slider\", min:8, max:80}\n",
        "hist = model.fit(ds_train, epochs=epochs, validation_data=ds_test, verbose=2)\n",
        "plot_hist(hist)"
      ]
    },
    {
      "cell_type": "code",
      "execution_count": 19,
      "metadata": {
        "colab": {
          "base_uri": "https://localhost:8080/",
          "height": 662
        },
        "id": "fg_qIjn6IU6f",
        "outputId": "c8b01e7e-34f8-4414-f913-5605523f102d"
      },
      "outputs": [
        {
          "name": "stdout",
          "output_type": "stream",
          "text": [
            "Epoch 1/10\n",
            "16/16 - 13s - loss: 0.0363 - accuracy: 0.9990 - val_loss: 0.0719 - val_accuracy: 0.9906 - 13s/epoch - 808ms/step\n",
            "Epoch 2/10\n",
            "16/16 - 3s - loss: 0.0869 - accuracy: 0.9912 - val_loss: 0.0396 - val_accuracy: 0.9937 - 3s/epoch - 170ms/step\n",
            "Epoch 3/10\n",
            "16/16 - 3s - loss: 0.0140 - accuracy: 0.9990 - val_loss: 0.0846 - val_accuracy: 0.9906 - 3s/epoch - 171ms/step\n",
            "Epoch 4/10\n",
            "16/16 - 3s - loss: 0.0270 - accuracy: 0.9990 - val_loss: 0.1240 - val_accuracy: 0.9906 - 3s/epoch - 170ms/step\n",
            "Epoch 5/10\n",
            "16/16 - 3s - loss: 0.0410 - accuracy: 0.9941 - val_loss: 0.1174 - val_accuracy: 0.9688 - 3s/epoch - 171ms/step\n",
            "Epoch 6/10\n",
            "16/16 - 3s - loss: 0.0130 - accuracy: 0.9980 - val_loss: 0.5183 - val_accuracy: 0.9531 - 3s/epoch - 172ms/step\n",
            "Epoch 7/10\n",
            "16/16 - 3s - loss: 0.0236 - accuracy: 0.9961 - val_loss: 0.1408 - val_accuracy: 0.9719 - 3s/epoch - 171ms/step\n",
            "Epoch 8/10\n",
            "16/16 - 3s - loss: 0.0130 - accuracy: 0.9980 - val_loss: 0.0889 - val_accuracy: 0.9906 - 3s/epoch - 173ms/step\n",
            "Epoch 9/10\n",
            "16/16 - 3s - loss: 0.0060 - accuracy: 0.9980 - val_loss: 0.0753 - val_accuracy: 0.9875 - 3s/epoch - 172ms/step\n",
            "Epoch 10/10\n",
            "16/16 - 3s - loss: 0.0153 - accuracy: 0.9971 - val_loss: 0.1086 - val_accuracy: 0.9875 - 3s/epoch - 172ms/step\n"
          ]
        },
        {
          "data": {
            "image/png": "[encoded data removed]",
            "text/plain": [
              "<Figure size 432x288 with 1 Axes>"
            ]
          },
          "metadata": {
            "needs_background": "light"
          },
          "output_type": "display_data"
        }
      ],
      "source": [
        "def unfreeze_model(model):\n",
        "    # We unfreeze the top 20 layers while leaving BatchNorm layers frozen\n",
        "    for layer in model.layers[-20:]:\n",
        "        if not isinstance(layer, layers.BatchNormalization):\n",
        "            layer.trainable = True\n",
        "\n",
        "    optimizer = tf.keras.optimizers.Adam(learning_rate=1e-4)\n",
        "    model.compile(\n",
        "        optimizer=optimizer, loss=\"categorical_crossentropy\", metrics=[\"accuracy\"]\n",
        "    )\n",
        "\n",
        "\n",
        "unfreeze_model(model)\n",
        "\n",
        "epochs = 10  # @param {type: \"slider\", min:8, max:50}\n",
        "hist = model.fit(ds_train, epochs=epochs, validation_data=ds_test, verbose=2)\n",
        "plot_hist(hist)"
      ]
    },
    {
      "cell_type": "code",
      "execution_count": 20,
      "metadata": {
        "colab": {
          "base_uri": "https://localhost:8080/"
        },
        "id": "dlwIrZYHIU4M",
        "outputId": "cd85a486-cf2d-4981-836a-4ba3d8756ee0"
      },
      "outputs": [
        {
          "name": "stdout",
          "output_type": "stream",
          "text": [
            "5/5 [==============================] - 1s 114ms/step - loss: 0.1086 - accuracy: 0.9875\n"
          ]
        },
        {
          "data": {
            "text/plain": [
              "[0.10864289849996567, 0.987500011920929]"
            ]
          },
          "execution_count": 20,
          "metadata": {},
          "output_type": "execute_result"
        }
      ],
      "source": [
        "model.evaluate(ds_test)"
      ]
    },
    {
      "cell_type": "code",
      "execution_count": 21,
      "metadata": {
        "colab": {
          "base_uri": "https://localhost:8080/"
        },
        "id": "EB7MPxHfEqfQ",
        "outputId": "2c90703c-e056-4f7b-e8b3-1e77a8369365"
      },
      "outputs": [
        {
          "name": "stdout",
          "output_type": "stream",
          "text": [
            "[[4.85605379e-24 1.00000000e+00 4.53589493e-18 1.09366038e-09\n",
            "  2.03093861e-11 7.52459206e-12]\n",
            " [5.13063153e-27 1.05372479e-35 1.00631875e-36 1.00000000e+00\n",
            "  0.00000000e+00 0.00000000e+00]\n",
            " [1.00000000e+00 0.00000000e+00 5.51050960e-23 2.57943369e-32\n",
            "  2.81074782e-31 2.71642548e-38]\n",
            " ...\n",
            " [4.32126858e-33 5.70268858e-27 8.63527987e-17 0.00000000e+00\n",
            "  1.00000000e+00 6.54292761e-28]\n",
            " [7.05483898e-35 1.03684571e-36 1.46436786e-23 0.00000000e+00\n",
            "  1.00000000e+00 9.37925657e-34]\n",
            " [1.54426395e-30 1.99753078e-26 7.48791898e-14 4.63149013e-38\n",
            "  1.00000000e+00 2.25698406e-23]] <class 'numpy.ndarray'> (360, 6)\n",
            "[1 3 0 0 2 0 2 0 5 4 2 2 1 5 0 4 5 2 3 2 2 0 4 0 0 5 2 4 2 2 2 0 2 5 0 2 1\n",
            " 3 3 4 3 3 3 4 1 3 5 3 5 1 4 3 5 5 0 0 0 1 0 2 1 1 2 4 0 4 1 5 1 2 2 5 2 1\n",
            " 1 3 0 5 2 2 5 2 0 4 1 1 2 3 2 1 5 1 2 4 1 5 2 0 4 2 3 0 3 1 1 1 1 4 4 1 5\n",
            " 1 4 4 2 4 5 2 0 4 1 2 3 1 3 4 2 1 5 0 3 0 0 0 2 1 0 0 3 0 1 3 0 5 2 0 4 0\n",
            " 0 5 5 5 3 1 5 0 4 3 0 2 1 5 3 2 4 1 1 5 5 4 5 1 4 2 5 2 0 3 1 2 0 5 3 0 0\n",
            " 0 2 4 3 1 0 3 4 1 0 2 3 0 3 2 3 3 1 2 0 3 1 5 2 1 1 3 0 0 5 1 2 2 1 5 3 0\n",
            " 4 1 3 2 3 4 3 4 3 0 0 1 0 2 4 1 4 4 4 3 5 0 4 2 3 2 2 2 4 2 4 4 1 1 4 3 4\n",
            " 3 3 0 4 2 2 4 3 4 4 1 1 1 4 4 0 3 5 3 2 3 2 5 2 4 4 4 3 2 1 1 5 1 3 1 4 2\n",
            " 4 3 5 0 4 5 0 3 2 2 5 1 2 5 0 2 5 2 0 2 4 4 0 1 3 1 3 4 0 4 2 1 4 2 2 0 5\n",
            " 3 2 1 0 5 1 0 1 3 4 1 5 4 5 0 1 1 5 5 5 0 4 1 0 4 4 4] (360,)\n",
            "[1 3 0 0 2 0 2 0 5 4 2 2 1 5 0 4 5 2 3 2 2 0 4 0 0 5 2 4 2 2 2 0 2 5 0 2 1\n",
            " 3 3 4 3 3 3 4 1 3 5 3 5 1 4 3 5 5 0 0 0 1 0 2 1 1 2 4 0 4 1 5 1 2 2 5 2 1\n",
            " 1 3 0 5 2 2 5 2 0 4 1 1 2 3 2 1 5 5 2 4 5 5 2 0 4 2 3 0 3 1 1 1 1 4 4 1 5\n",
            " 1 4 4 2 4 5 2 0 4 1 2 3 1 3 4 2 1 5 0 3 0 0 0 2 1 0 0 3 0 1 3 0 5 2 0 4 0\n",
            " 0 5 5 5 3 1 5 0 4 3 0 2 1 5 3 2 4 1 1 5 5 4 5 1 4 2 5 2 0 3 1 2 0 5 3 0 0\n",
            " 0 2 4 3 1 0 3 4 1 0 2 3 0 3 2 3 3 1 2 0 3 1 5 2 1 1 3 0 0 5 5 2 2 1 5 3 0\n",
            " 4 1 3 2 3 4 3 4 3 0 0 1 0 2 4 1 4 4 4 3 5 0 4 2 3 2 2 2 4 2 4 4 1 1 4 3 4\n",
            " 3 3 0 4 2 2 4 3 4 4 1 1 1 4 4 0 3 5 3 2 3 2 5 2 4 4 4 3 2 1 1 5 1 3 1 4 2\n",
            " 4 3 1 0 4 5 0 3 2 2 5 1 2 5 0 2 5 2 0 2 4 4 0 1 3 1 3 4 0 4 2 1 4 2 2 0 5\n",
            " 3 2 1 0 5 1 0 1 3 4 1 5 4 5 0 5 1 5 5 5 0 4 1 0 4 4 4] (360,)\n"
          ]
        }
      ],
      "source": [
        "#Test set 정확도\n",
        "y_pred_test=model.predict(x_test)\n",
        "print(y_pred_test, type(y_pred_test), y_pred_test.shape)\n",
        "y_pred=[]\n",
        "for ar in y_pred_test:\n",
        "  y_pred.append(np.argmax(ar))\n",
        "y_pred = np.array(y_pred)\n",
        "print(y_pred, y_pred.shape)\n",
        "print(y_test, y_test.shape)"
      ]
    },
    {
      "cell_type": "code",
      "execution_count": 22,
      "metadata": {
        "colab": {
          "base_uri": "https://localhost:8080/"
        },
        "id": "RpZW7G96IUsi",
        "outputId": "1c9d32e9-5f47-4555-ac7a-d28738fabc4b"
      },
      "outputs": [
        {
          "name": "stdout",
          "output_type": "stream",
          "text": [
            "accuracy: 0.9861111111111112\n",
            "Precision: 0.9864503205128204\n",
            "Recall: 0.9861111111111112\n",
            "F1-Score: 0.9860647153954241\n"
          ]
        }
      ],
      "source": [
        "from sklearn.metrics import f1_score, accuracy_score, recall_score, precision_score\n",
        "print(\"accuracy:\",accuracy_score(y_test, y_pred))\n",
        "print(\"Precision:\",precision_score(y_test, y_pred, average='weighted'))\n",
        "print(\"Recall:\",recall_score(y_test, y_pred, average='weighted'))\n",
        "print(\"F1-Score:\",f1_score(y_test, y_pred, average='weighted'))"
      ]
    },
    {
      "cell_type": "code",
      "execution_count": 23,
      "metadata": {
        "colab": {
          "base_uri": "https://localhost:8080/"
        },
        "id": "EXzxgRCOh8Kz",
        "outputId": "aecefa6a-fb25-4cec-c6dc-8485bd79df54"
      },
      "outputs": [
        {
          "name": "stdout",
          "output_type": "stream",
          "text": [
            "[[3.6911805e-30 1.0000000e+00 5.2232197e-23 2.3538875e-14 6.7307123e-15\n",
            "  1.3768682e-10]\n",
            " [1.0000000e+00 0.0000000e+00 1.9880149e-17 5.4316758e-33 7.5021769e-24\n",
            "  0.0000000e+00]\n",
            " [6.6828095e-33 0.0000000e+00 3.4384523e-34 1.0000000e+00 0.0000000e+00\n",
            "  0.0000000e+00]\n",
            " ...\n",
            " [0.0000000e+00 5.0856206e-34 4.3288827e-37 5.4618745e-30 1.1777490e-37\n",
            "  1.0000000e+00]\n",
            " [5.3148908e-24 0.0000000e+00 1.0000000e+00 1.8643507e-31 1.5280357e-33\n",
            "  3.9699646e-38]\n",
            " [4.1433010e-24 1.9745371e-34 2.8447488e-38 1.0000000e+00 1.2122007e-35\n",
            "  0.0000000e+00]] <class 'numpy.ndarray'> (1080, 6)\n",
            "[[3.6911805e-30 1.0000000e+00 5.2232197e-23 2.3538875e-14 6.7307123e-15\n",
            "  1.3768682e-10]\n",
            " [1.0000000e+00 0.0000000e+00 1.9880149e-17 5.4316758e-33 7.5021769e-24\n",
            "  0.0000000e+00]\n",
            " [6.6828095e-33 0.0000000e+00 3.4384523e-34 1.0000000e+00 0.0000000e+00\n",
            "  0.0000000e+00]\n",
            " ...\n",
            " [0.0000000e+00 5.0856206e-34 4.3288827e-37 5.4618745e-30 1.1777490e-37\n",
            "  1.0000000e+00]\n",
            " [5.3148908e-24 0.0000000e+00 1.0000000e+00 1.8643507e-31 1.5280357e-33\n",
            "  3.9699646e-38]\n",
            " [4.1433010e-24 1.9745371e-34 2.8447488e-38 1.0000000e+00 1.2122007e-35\n",
            "  0.0000000e+00]] (1080, 6)\n",
            "[1 0 3 ... 5 2 3] (1080,)\n"
          ]
        }
      ],
      "source": [
        "#Train set 정확도\n",
        "\n",
        "y_pred_train=model.predict(x_train)\n",
        "print(y_pred_train, type(y_pred_train), y_pred_train.shape)\n",
        "y_train_list=[]\n",
        "for ar in y_pred_train:\n",
        "  y_train_list.append(np.argmax(ar))\n",
        "y_train_list = np.array(y_train_list)\n",
        "print(y_pred_train, y_pred_train.shape)\n",
        "print(y_train_list, y_train_list.shape)"
      ]
    },
    {
      "cell_type": "code",
      "execution_count": 24,
      "metadata": {
        "colab": {
          "base_uri": "https://localhost:8080/"
        },
        "id": "VUljgSBFiS0L",
        "outputId": "170da26a-a978-45c1-ac6a-0c7fc4cc1cb9"
      },
      "outputs": [
        {
          "name": "stdout",
          "output_type": "stream",
          "text": [
            "accuracy: 0.9981481481481481\n",
            "Precision: 0.9981481481481481\n",
            "Recall: 0.9981481481481481\n",
            "F1-Score: 0.9981481481481481\n"
          ]
        }
      ],
      "source": [
        "print(\"accuracy:\",accuracy_score(y_train, y_train_list))\n",
        "print(\"Precision:\",precision_score(y_train, y_train_list, average='weighted'))\n",
        "print(\"Recall:\",recall_score(y_train, y_train_list, average='weighted'))\n",
        "print(\"F1-Score:\",f1_score(y_train, y_train_list, average='weighted'))"
      ]
    },
    {
      "cell_type": "code",
      "execution_count": 25,
      "metadata": {
        "colab": {
          "base_uri": "https://localhost:8080/"
        },
        "id": "xM9cj2PXvGHI",
        "outputId": "32e43e07-a55e-478b-8ca2-3516be98a979"
      },
      "outputs": [
        {
          "name": "stdout",
          "output_type": "stream",
          "text": [
            "Ubuntu 18.04.5 LTS \\n \\l\n",
            "\n",
            "processor\t: 0\n",
            "vendor_id\t: GenuineIntel\n",
            "cpu family\t: 6\n",
            "model\t\t: 79\n",
            "model name\t: Intel(R) Xeon(R) CPU @ 2.20GHz\n",
            "stepping\t: 0\n",
            "microcode\t: 0x1\n",
            "cpu MHz\t\t: 2199.998\n",
            "cache size\t: 56320 KB\n",
            "physical id\t: 0\n",
            "siblings\t: 2\n",
            "core id\t\t: 0\n",
            "cpu cores\t: 1\n",
            "apicid\t\t: 0\n",
            "initial apicid\t: 0\n",
            "fpu\t\t: yes\n",
            "fpu_exception\t: yes\n",
            "cpuid level\t: 13\n",
            "wp\t\t: yes\n",
            "flags\t\t: fpu vme de pse tsc msr pae mce cx8 apic sep mtrr pge mca cmov pat pse36 clflush mmx fxsr sse sse2 ss ht syscall nx pdpe1gb rdtscp lm constant_tsc rep_good nopl xtopology nonstop_tsc cpuid tsc_known_freq pni pclmulqdq ssse3 fma cx16 pcid sse4_1 sse4_2 x2apic movbe popcnt aes xsave avx f16c rdrand hypervisor lahf_lm abm 3dnowprefetch invpcid_single ssbd ibrs ibpb stibp fsgsbase tsc_adjust bmi1 hle avx2 smep bmi2 erms invpcid rtm rdseed adx smap xsaveopt arat md_clear arch_capabilities\n",
            "bugs\t\t: cpu_meltdown spectre_v1 spectre_v2 spec_store_bypass l1tf mds swapgs taa\n",
            "bogomips\t: 4399.99\n",
            "clflush size\t: 64\n",
            "cache_alignment\t: 64\n",
            "address sizes\t: 46 bits physical, 48 bits virtual\n",
            "power management:\n",
            "\n",
            "processor\t: 1\n",
            "vendor_id\t: GenuineIntel\n",
            "cpu family\t: 6\n",
            "model\t\t: 79\n",
            "model name\t: Intel(R) Xeon(R) CPU @ 2.20GHz\n",
            "stepping\t: 0\n",
            "microcode\t: 0x1\n",
            "cpu MHz\t\t: 2199.998\n",
            "cache size\t: 56320 KB\n",
            "physical id\t: 0\n",
            "siblings\t: 2\n",
            "core id\t\t: 0\n",
            "cpu cores\t: 1\n",
            "apicid\t\t: 1\n",
            "initial apicid\t: 1\n",
            "fpu\t\t: yes\n",
            "fpu_exception\t: yes\n",
            "cpuid level\t: 13\n",
            "wp\t\t: yes\n",
            "flags\t\t: fpu vme de pse tsc msr pae mce cx8 apic sep mtrr pge mca cmov pat pse36 clflush mmx fxsr sse sse2 ss ht syscall nx pdpe1gb rdtscp lm constant_tsc rep_good nopl xtopology nonstop_tsc cpuid tsc_known_freq pni pclmulqdq ssse3 fma cx16 pcid sse4_1 sse4_2 x2apic movbe popcnt aes xsave avx f16c rdrand hypervisor lahf_lm abm 3dnowprefetch invpcid_single ssbd ibrs ibpb stibp fsgsbase tsc_adjust bmi1 hle avx2 smep bmi2 erms invpcid rtm rdseed adx smap xsaveopt arat md_clear arch_capabilities\n",
            "bugs\t\t: cpu_meltdown spectre_v1 spectre_v2 spec_store_bypass l1tf mds swapgs taa\n",
            "bogomips\t: 4399.99\n",
            "clflush size\t: 64\n",
            "cache_alignment\t: 64\n",
            "address sizes\t: 46 bits physical, 48 bits virtual\n",
            "power management:\n",
            "\n",
            "2\n",
            "1\n",
            "cpu cores\t: 1\n",
            "              total        used        free      shared  buff/cache   available\n",
            "Mem:            12G        4.9G        1.1G        527M        6.8G        8.8G\n",
            "Swap:            0B          0B          0B\n",
            "Wed Jun 22 13:35:00 2022       \n",
            "+-----------------------------------------------------------------------------+\n",
            "| NVIDIA-SMI 460.32.03    Driver Version: 460.32.03    CUDA Version: 11.2     |\n",
            "|-------------------------------+----------------------+----------------------+\n",
            "| GPU  Name        Persistence-M| Bus-Id        Disp.A | Volatile Uncorr. ECC |\n",
            "| Fan  Temp  Perf  Pwr:Usage/Cap|         Memory-Usage | GPU-Util  Compute M. |\n",
            "|                               |                      |               MIG M. |\n",
            "|===============================+======================+======================|\n",
            "|   0  Tesla T4            Off  | 00000000:00:04.0 Off |                    0 |\n",
            "| N/A   78C    P0    44W /  70W |   9044MiB / 15109MiB |      0%      Default |\n",
            "|                               |                      |                  N/A |\n",
            "+-------------------------------+----------------------+----------------------+\n",
            "                                                                               \n",
            "+-----------------------------------------------------------------------------+\n",
            "| Processes:                                                                  |\n",
            "|  GPU   GI   CI        PID   Type   Process name                  GPU Memory |\n",
            "|        ID   ID                                                   Usage      |\n",
            "|=============================================================================|\n",
            "+-----------------------------------------------------------------------------+\n"
          ]
        }
      ],
      "source": [
        "#운영체제 확인\n",
        "!cat /etc/issue\n",
        "\n",
        "#0. CPU 정보 확인\n",
        "!cat /proc/cpuinfo\n",
        "\n",
        "#1. CPU 코어 전체 개수 확인\n",
        "!grep -c processor /proc/cpuinfo\n",
        " \n",
        "#2. 물리 CPU 수 확인\n",
        "!grep \"physical id\" /proc/cpuinfo | sort -u | wc -l\n",
        " \n",
        "# 3.CPU당 물리 코어 수 확인\n",
        "!grep \"cpu cores\" /proc/cpuinfo | tail -1\n",
        "\n",
        "#메모리 확인\n",
        "!free -h\n",
        "\n",
        "#런타임 유형 변경 후 gpu 확인\n",
        "!nvidia-smi"
      ]
    }
  ],
  "metadata": {
    "accelerator": "GPU",
    "colab": {
      "collapsed_sections": [],
      "name": "EfficientNet_Model_9",
      "provenance": []
    },
    "gpuClass": "standard",
    "kernelspec": {
      "display_name": "Python 3",
      "name": "python3"
    },
    "language_info": {
      "name": "python"
    }
  },
  "nbformat": 4,
  "nbformat_minor": 0
}
