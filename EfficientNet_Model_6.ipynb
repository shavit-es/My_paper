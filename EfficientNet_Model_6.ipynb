{
  "cells": [
    {
      "cell_type": "code",
      "execution_count": 1,
      "metadata": {
        "colab": {
          "base_uri": "https://localhost:8080/"
        },
        "id": "-P2q4WSEARhh",
        "outputId": "2ee831a1-e150-40a4-e48d-9a36f977ff06"
      },
      "outputs": [
        {
          "name": "stdout",
          "output_type": "stream",
          "text": [
            "Looking in indexes: https://pypi.org/simple, https://us-python.pkg.dev/colab-wheels/public/simple/\n",
            "Collecting cloud_tpu_client\n",
            "  Downloading cloud_tpu_client-0.10-py3-none-any.whl (7.4 kB)\n",
            "Requirement already satisfied: oauth2client in /usr/local/lib/python3.7/dist-packages (from cloud_tpu_client) (4.1.3)\n",
            "Collecting google-api-python-client==1.8.0\n",
            "  Downloading google_api_python_client-1.8.0-py3-none-any.whl (57 kB)\n",
            "\u001b[K     |████████████████████████████████| 57 kB 3.7 MB/s \n",
            "\u001b[?25hRequirement already satisfied: uritemplate<4dev,>=3.0.0 in /usr/local/lib/python3.7/dist-packages (from google-api-python-client==1.8.0->cloud_tpu_client) (3.0.1)\n",
            "Requirement already satisfied: httplib2<1dev,>=0.9.2 in /usr/local/lib/python3.7/dist-packages (from google-api-python-client==1.8.0->cloud_tpu_client) (0.17.4)\n",
            "Requirement already satisfied: six<2dev,>=1.6.1 in /usr/local/lib/python3.7/dist-packages (from google-api-python-client==1.8.0->cloud_tpu_client) (1.15.0)\n",
            "Requirement already satisfied: google-api-core<2dev,>=1.13.0 in /usr/local/lib/python3.7/dist-packages (from google-api-python-client==1.8.0->cloud_tpu_client) (1.31.6)\n",
            "Requirement already satisfied: google-auth-httplib2>=0.0.3 in /usr/local/lib/python3.7/dist-packages (from google-api-python-client==1.8.0->cloud_tpu_client) (0.0.4)\n",
            "Requirement already satisfied: google-auth>=1.4.1 in /usr/local/lib/python3.7/dist-packages (from google-api-python-client==1.8.0->cloud_tpu_client) (1.35.0)\n",
            "Requirement already satisfied: setuptools>=40.3.0 in /usr/local/lib/python3.7/dist-packages (from google-api-core<2dev,>=1.13.0->google-api-python-client==1.8.0->cloud_tpu_client) (57.4.0)\n",
            "Requirement already satisfied: requests<3.0.0dev,>=2.18.0 in /usr/local/lib/python3.7/dist-packages (from google-api-core<2dev,>=1.13.0->google-api-python-client==1.8.0->cloud_tpu_client) (2.23.0)\n",
            "Requirement already satisfied: googleapis-common-protos<2.0dev,>=1.6.0 in /usr/local/lib/python3.7/dist-packages (from google-api-core<2dev,>=1.13.0->google-api-python-client==1.8.0->cloud_tpu_client) (1.56.2)\n",
            "Requirement already satisfied: protobuf<4.0.0dev,>=3.12.0 in /usr/local/lib/python3.7/dist-packages (from google-api-core<2dev,>=1.13.0->google-api-python-client==1.8.0->cloud_tpu_client) (3.17.3)\n",
            "Requirement already satisfied: packaging>=14.3 in /usr/local/lib/python3.7/dist-packages (from google-api-core<2dev,>=1.13.0->google-api-python-client==1.8.0->cloud_tpu_client) (21.3)\n",
            "Requirement already satisfied: pytz in /usr/local/lib/python3.7/dist-packages (from google-api-core<2dev,>=1.13.0->google-api-python-client==1.8.0->cloud_tpu_client) (2022.1)\n",
            "Requirement already satisfied: rsa<5,>=3.1.4 in /usr/local/lib/python3.7/dist-packages (from google-auth>=1.4.1->google-api-python-client==1.8.0->cloud_tpu_client) (4.8)\n",
            "Requirement already satisfied: cachetools<5.0,>=2.0.0 in /usr/local/lib/python3.7/dist-packages (from google-auth>=1.4.1->google-api-python-client==1.8.0->cloud_tpu_client) (4.2.4)\n",
            "Requirement already satisfied: pyasn1-modules>=0.2.1 in /usr/local/lib/python3.7/dist-packages (from google-auth>=1.4.1->google-api-python-client==1.8.0->cloud_tpu_client) (0.2.8)\n",
            "Requirement already satisfied: pyparsing!=3.0.5,>=2.0.2 in /usr/local/lib/python3.7/dist-packages (from packaging>=14.3->google-api-core<2dev,>=1.13.0->google-api-python-client==1.8.0->cloud_tpu_client) (3.0.9)\n",
            "Requirement already satisfied: pyasn1<0.5.0,>=0.4.6 in /usr/local/lib/python3.7/dist-packages (from pyasn1-modules>=0.2.1->google-auth>=1.4.1->google-api-python-client==1.8.0->cloud_tpu_client) (0.4.8)\n",
            "Requirement already satisfied: idna<3,>=2.5 in /usr/local/lib/python3.7/dist-packages (from requests<3.0.0dev,>=2.18.0->google-api-core<2dev,>=1.13.0->google-api-python-client==1.8.0->cloud_tpu_client) (2.10)\n",
            "Requirement already satisfied: certifi>=2017.4.17 in /usr/local/lib/python3.7/dist-packages (from requests<3.0.0dev,>=2.18.0->google-api-core<2dev,>=1.13.0->google-api-python-client==1.8.0->cloud_tpu_client) (2022.5.18.1)\n",
            "Requirement already satisfied: chardet<4,>=3.0.2 in /usr/local/lib/python3.7/dist-packages (from requests<3.0.0dev,>=2.18.0->google-api-core<2dev,>=1.13.0->google-api-python-client==1.8.0->cloud_tpu_client) (3.0.4)\n",
            "Requirement already satisfied: urllib3!=1.25.0,!=1.25.1,<1.26,>=1.21.1 in /usr/local/lib/python3.7/dist-packages (from requests<3.0.0dev,>=2.18.0->google-api-core<2dev,>=1.13.0->google-api-python-client==1.8.0->cloud_tpu_client) (1.24.3)\n",
            "Installing collected packages: google-api-python-client, cloud-tpu-client\n",
            "  Attempting uninstall: google-api-python-client\n",
            "    Found existing installation: google-api-python-client 1.12.11\n",
            "    Uninstalling google-api-python-client-1.12.11:\n",
            "      Successfully uninstalled google-api-python-client-1.12.11\n",
            "\u001b[31mERROR: pip's dependency resolver does not currently take into account all the packages that are installed. This behaviour is the source of the following dependency conflicts.\n",
            "earthengine-api 0.1.311 requires google-api-python-client<2,>=1.12.1, but you have google-api-python-client 1.8.0 which is incompatible.\u001b[0m\n",
            "Successfully installed cloud-tpu-client-0.10 google-api-python-client-1.8.0\n"
          ]
        }
      ],
      "source": [
        "!pip install cloud_tpu_client"
      ]
    },
    {
      "cell_type": "code",
      "execution_count": 2,
      "metadata": {
        "colab": {
          "base_uri": "https://localhost:8080/"
        },
        "id": "LvgMhZQt7W5w",
        "outputId": "4cdaccda-879a-4741-e238-233b5d79ce50"
      },
      "outputs": [
        {
          "name": "stdout",
          "output_type": "stream",
          "text": [
            "Downloading data from https://storage.googleapis.com/keras-applications/efficientnetb0.h5\n",
            "21839872/21834768 [==============================] - 0s 0us/step\n",
            "21848064/21834768 [==============================] - 0s 0us/step\n"
          ]
        }
      ],
      "source": [
        "from tensorflow.keras.applications import EfficientNetB0\n",
        "model = EfficientNetB0(weights='imagenet')"
      ]
    },
    {
      "cell_type": "code",
      "execution_count": 3,
      "metadata": {
        "id": "0iYRk_PS7W8V"
      },
      "outputs": [],
      "source": [
        "# IMG_SIZE is determined by EfficientNet model choice\n",
        "IMG_SIZE = 224"
      ]
    },
    {
      "cell_type": "code",
      "execution_count": 4,
      "metadata": {
        "colab": {
          "base_uri": "https://localhost:8080/"
        },
        "id": "06Ys3SeT7W-y",
        "outputId": "5631611a-7021-4ff1-f96c-d8f7c9a1ce95"
      },
      "outputs": [
        {
          "name": "stdout",
          "output_type": "stream",
          "text": [
            "Not connected to a TPU runtime. Using CPU/GPU strategy\n",
            "INFO:tensorflow:Using MirroredStrategy with devices ('/job:localhost/replica:0/task:0/device:GPU:0',)\n"
          ]
        }
      ],
      "source": [
        "from cloud_tpu_client import Client\n",
        "import tensorflow as tf\n",
        "import numpy as np\n",
        "\n",
        "\n",
        "\n",
        "try:\n",
        "    c = Client()\n",
        "    c.configure_tpu_version(tf.__version__, restart_type=\"always\")\n",
        "    tpu = tf.distribute.cluster_resolver.TPUClusterResolver.connect()\n",
        "    print(\"Device:\", tpu.master())\n",
        "    strategy = tf.distribute.TPUStrategy(tpu)\n",
        "\n",
        "except ValueError:\n",
        "    print(\"Not connected to a TPU runtime. Using CPU/GPU strategy\")\n",
        "    strategy = tf.distribute.MirroredStrategy()"
      ]
    },
    {
      "cell_type": "code",
      "execution_count": 5,
      "metadata": {
        "colab": {
          "base_uri": "https://localhost:8080/"
        },
        "id": "54v8xUNRBnT6",
        "outputId": "f1c0d586-1e57-4d70-dca3-3f63f1d1a18d"
      },
      "outputs": [
        {
          "name": "stdout",
          "output_type": "stream",
          "text": [
            "<PrefetchDataset element_spec=(TensorSpec(shape=(224, 224, 3), dtype=tf.uint8, name=None), TensorSpec(shape=(), dtype=tf.int32, name=None))>\n",
            "<PrefetchDataset element_spec=(TensorSpec(shape=(224, 224, 3), dtype=tf.uint8, name=None), TensorSpec(shape=(), dtype=tf.int32, name=None))>\n"
          ]
        }
      ],
      "source": [
        "batch_size = 32\n",
        "SHUFFLE_BUFFER_SIZE = 128\n",
        "\n",
        "x_train, x_test, y_train, y_test = np.load(\"/content/drive/MyDrive/steel_surface_224.npy\", allow_pickle=True)\n",
        "ds_train = tf.data.Dataset.from_tensor_slices((x_train, y_train))\n",
        "ds_train = ds_train.prefetch(batch_size)\n",
        "ds_test = tf.data.Dataset.from_tensor_slices((x_test, y_test))\n",
        "ds_test = ds_test.prefetch(batch_size)\n",
        "print(ds_train)\n",
        "print(ds_test)"
      ]
    },
    {
      "cell_type": "code",
      "execution_count": 6,
      "metadata": {
        "id": "ETtjOBJr7XBF"
      },
      "outputs": [],
      "source": [
        "NUM_CLASSES = 6"
      ]
    },
    {
      "cell_type": "code",
      "execution_count": 7,
      "metadata": {
        "id": "7fDMzZvW7XDY"
      },
      "outputs": [],
      "source": [
        "size = (IMG_SIZE, IMG_SIZE)\n",
        "ds_train = ds_train.map(lambda image, label: (tf.image.resize(image, size), label))\n",
        "ds_test = ds_test.map(lambda image, label: (tf.image.resize(image, size), label))"
      ]
    },
    {
      "cell_type": "code",
      "execution_count": 8,
      "metadata": {
        "colab": {
          "base_uri": "https://localhost:8080/",
          "height": 264
        },
        "id": "KO1NCo6Z7XFp",
        "outputId": "4ee45188-c2d2-46e4-b69f-139cbc1bae19"
      },
      "outputs": [
        {
          "data": {
            "image/png": "[encoded data removed]",
            "text/plain": [
              "<Figure size 432x288 with 9 Axes>"
            ]
          },
          "metadata": {
            "needs_background": "light"
          },
          "output_type": "display_data"
        }
      ],
      "source": [
        "import matplotlib.pyplot as plt\n",
        "\n",
        "labellist=[\"crazing\",\"inclusion\",\"patches\",\"pitted_surface\",\"rolled-in_scale\",\"scratches\"]\n",
        "def format_label(label):\n",
        "  return labellist[(int(str(label)[10]))]\n",
        "\n",
        "\n",
        "for i, (image, label) in enumerate(ds_train.take(9)):\n",
        "    ax = plt.subplot(3, 3, i + 1)\n",
        "    plt.imshow(image.numpy().astype(\"uint8\"))\n",
        "    plt.title(format_label(label))\n",
        "    plt.axis(\"off\")"
      ]
    },
    {
      "cell_type": "code",
      "execution_count": 9,
      "metadata": {
        "id": "p_L0gBYE7XIA"
      },
      "outputs": [],
      "source": [
        "from tensorflow.keras.models import Sequential\n",
        "from tensorflow.keras import layers\n",
        "\n",
        "img_augmentation = Sequential(\n",
        "    [\n",
        "        layers.RandomRotation(factor=0.15),\n",
        "        layers.RandomTranslation(height_factor=0.1, width_factor=0.1),\n",
        "        layers.RandomFlip(),\n",
        "        layers.RandomContrast(factor=0.1),\n",
        "    ],\n",
        "    name=\"img_augmentation\",\n",
        ")"
      ]
    },
    {
      "cell_type": "code",
      "execution_count": 11,
      "metadata": {
        "id": "7MepxW4l7XMW"
      },
      "outputs": [],
      "source": [
        "# One-hot / categorical encoding\n",
        "def input_preprocess(image, label):\n",
        "    label = tf.one_hot(label, NUM_CLASSES)\n",
        "    return image, label\n",
        "\n",
        "\n",
        "ds_train = ds_train.map(\n",
        "    input_preprocess, num_parallel_calls=tf.data.AUTOTUNE\n",
        ")\n",
        "ds_train = ds_train.batch(batch_size=batch_size, drop_remainder=True)\n",
        "ds_train = ds_train.prefetch(tf.data.AUTOTUNE)\n",
        "\n",
        "ds_test = ds_test.map(input_preprocess)\n",
        "ds_test = ds_test.batch(batch_size=batch_size, drop_remainder=True)"
      ]
    },
    {
      "cell_type": "code",
      "execution_count": 12,
      "metadata": {
        "colab": {
          "base_uri": "https://localhost:8080/"
        },
        "id": "Y4me0mAj7XOh",
        "outputId": "ef43bf95-7d6b-407f-a689-6dbbefae3fab"
      },
      "outputs": [
        {
          "name": "stdout",
          "output_type": "stream",
          "text": [
            "INFO:tensorflow:Reduce to /job:localhost/replica:0/task:0/device:CPU:0 then broadcast to ('/job:localhost/replica:0/task:0/device:CPU:0',).\n",
            "INFO:tensorflow:Reduce to /job:localhost/replica:0/task:0/device:CPU:0 then broadcast to ('/job:localhost/replica:0/task:0/device:CPU:0',).\n",
            "INFO:tensorflow:Reduce to /job:localhost/replica:0/task:0/device:CPU:0 then broadcast to ('/job:localhost/replica:0/task:0/device:CPU:0',).\n",
            "INFO:tensorflow:Reduce to /job:localhost/replica:0/task:0/device:CPU:0 then broadcast to ('/job:localhost/replica:0/task:0/device:CPU:0',).\n",
            "INFO:tensorflow:Reduce to /job:localhost/replica:0/task:0/device:CPU:0 then broadcast to ('/job:localhost/replica:0/task:0/device:CPU:0',).\n",
            "INFO:tensorflow:Reduce to /job:localhost/replica:0/task:0/device:CPU:0 then broadcast to ('/job:localhost/replica:0/task:0/device:CPU:0',).\n",
            "INFO:tensorflow:Reduce to /job:localhost/replica:0/task:0/device:CPU:0 then broadcast to ('/job:localhost/replica:0/task:0/device:CPU:0',).\n",
            "INFO:tensorflow:Reduce to /job:localhost/replica:0/task:0/device:CPU:0 then broadcast to ('/job:localhost/replica:0/task:0/device:CPU:0',).\n",
            "INFO:tensorflow:Reduce to /job:localhost/replica:0/task:0/device:CPU:0 then broadcast to ('/job:localhost/replica:0/task:0/device:CPU:0',).\n",
            "INFO:tensorflow:Reduce to /job:localhost/replica:0/task:0/device:CPU:0 then broadcast to ('/job:localhost/replica:0/task:0/device:CPU:0',).\n",
            "Model: \"model\"\n",
            "_________________________________________________________________\n",
            " Layer (type)                Output Shape              Param #   \n",
            "=================================================================\n",
            " input_2 (InputLayer)        [(None, 224, 224, 3)]     0         \n",
            "                                                                 \n",
            " img_augmentation (Sequentia  (None, 224, 224, 3)      0         \n",
            " l)                                                              \n",
            "                                                                 \n",
            " efficientnetb0 (Functional)  (None, 6)                4057257   \n",
            "                                                                 \n",
            "=================================================================\n",
            "Total params: 4,057,257\n",
            "Trainable params: 4,015,234\n",
            "Non-trainable params: 42,023\n",
            "_________________________________________________________________\n",
            "Epoch 1/100\n",
            "33/33 - 46s - loss: 3.0721 - accuracy: 0.4148 - val_loss: 2.1333 - val_accuracy: 0.1420 - 46s/epoch - 1s/step\n",
            "Epoch 2/100\n",
            "33/33 - 10s - loss: 1.5151 - accuracy: 0.5795 - val_loss: 2.7054 - val_accuracy: 0.1420 - 10s/epoch - 317ms/step\n",
            "Epoch 3/100\n",
            "33/33 - 11s - loss: 1.0275 - accuracy: 0.6742 - val_loss: 3.9418 - val_accuracy: 0.1420 - 11s/epoch - 322ms/step\n",
            "Epoch 4/100\n",
            "33/33 - 11s - loss: 0.7593 - accuracy: 0.7727 - val_loss: 3.4756 - val_accuracy: 0.1420 - 11s/epoch - 322ms/step\n",
            "Epoch 5/100\n",
            "33/33 - 11s - loss: 0.7278 - accuracy: 0.7822 - val_loss: 4.1005 - val_accuracy: 0.1420 - 11s/epoch - 319ms/step\n",
            "Epoch 6/100\n",
            "33/33 - 11s - loss: 0.6932 - accuracy: 0.7680 - val_loss: 7.0764 - val_accuracy: 0.1733 - 11s/epoch - 337ms/step\n",
            "Epoch 7/100\n",
            "33/33 - 11s - loss: 0.5193 - accuracy: 0.8182 - val_loss: 7.0470 - val_accuracy: 0.1733 - 11s/epoch - 320ms/step\n",
            "Epoch 8/100\n",
            "33/33 - 11s - loss: 0.6252 - accuracy: 0.8305 - val_loss: 5.1606 - val_accuracy: 0.1733 - 11s/epoch - 322ms/step\n",
            "Epoch 9/100\n",
            "33/33 - 11s - loss: 0.4095 - accuracy: 0.8580 - val_loss: 7.8410 - val_accuracy: 0.1733 - 11s/epoch - 319ms/step\n",
            "Epoch 10/100\n",
            "33/33 - 11s - loss: 0.5254 - accuracy: 0.8598 - val_loss: 8.0014 - val_accuracy: 0.1733 - 11s/epoch - 319ms/step\n",
            "Epoch 11/100\n",
            "33/33 - 11s - loss: 0.4797 - accuracy: 0.8580 - val_loss: 5.2032 - val_accuracy: 0.2273 - 11s/epoch - 321ms/step\n",
            "Epoch 12/100\n",
            "33/33 - 11s - loss: 0.4604 - accuracy: 0.8617 - val_loss: 4.2696 - val_accuracy: 0.2784 - 11s/epoch - 319ms/step\n",
            "Epoch 13/100\n",
            "33/33 - 11s - loss: 0.3500 - accuracy: 0.8987 - val_loss: 4.3583 - val_accuracy: 0.2926 - 11s/epoch - 320ms/step\n",
            "Epoch 14/100\n",
            "33/33 - 11s - loss: 0.3071 - accuracy: 0.9100 - val_loss: 3.7317 - val_accuracy: 0.3636 - 11s/epoch - 321ms/step\n",
            "Epoch 15/100\n",
            "33/33 - 11s - loss: 0.3137 - accuracy: 0.9110 - val_loss: 1.5702 - val_accuracy: 0.6278 - 11s/epoch - 319ms/step\n",
            "Epoch 16/100\n",
            "33/33 - 11s - loss: 0.2666 - accuracy: 0.9205 - val_loss: 1.5788 - val_accuracy: 0.5682 - 11s/epoch - 320ms/step\n",
            "Epoch 17/100\n",
            "33/33 - 11s - loss: 0.3099 - accuracy: 0.9100 - val_loss: 4.2453 - val_accuracy: 0.3835 - 11s/epoch - 319ms/step\n",
            "Epoch 18/100\n",
            "33/33 - 10s - loss: 0.5735 - accuracy: 0.8580 - val_loss: 417.1997 - val_accuracy: 0.2415 - 10s/epoch - 318ms/step\n",
            "Epoch 19/100\n",
            "33/33 - 10s - loss: 0.4249 - accuracy: 0.8542 - val_loss: 191.1859 - val_accuracy: 0.4205 - 10s/epoch - 318ms/step\n",
            "Epoch 20/100\n",
            "33/33 - 10s - loss: 0.2953 - accuracy: 0.8968 - val_loss: 9.0359 - val_accuracy: 0.6506 - 10s/epoch - 316ms/step\n",
            "Epoch 21/100\n",
            "33/33 - 10s - loss: 0.2370 - accuracy: 0.9176 - val_loss: 1.1825 - val_accuracy: 0.7386 - 10s/epoch - 316ms/step\n",
            "Epoch 22/100\n",
            "33/33 - 11s - loss: 0.2286 - accuracy: 0.9252 - val_loss: 0.5935 - val_accuracy: 0.7869 - 11s/epoch - 342ms/step\n",
            "Epoch 23/100\n",
            "33/33 - 11s - loss: 0.1748 - accuracy: 0.9366 - val_loss: 0.2749 - val_accuracy: 0.8977 - 11s/epoch - 320ms/step\n",
            "Epoch 24/100\n",
            "33/33 - 10s - loss: 0.1936 - accuracy: 0.9403 - val_loss: 1.5787 - val_accuracy: 0.6790 - 10s/epoch - 317ms/step\n",
            "Epoch 25/100\n",
            "33/33 - 11s - loss: 0.1847 - accuracy: 0.9432 - val_loss: 0.4070 - val_accuracy: 0.8352 - 11s/epoch - 320ms/step\n",
            "Epoch 26/100\n",
            "33/33 - 11s - loss: 0.1592 - accuracy: 0.9517 - val_loss: 0.3398 - val_accuracy: 0.8835 - 11s/epoch - 319ms/step\n",
            "Epoch 27/100\n",
            "33/33 - 11s - loss: 0.1470 - accuracy: 0.9545 - val_loss: 0.9330 - val_accuracy: 0.7472 - 11s/epoch - 319ms/step\n",
            "Epoch 28/100\n",
            "33/33 - 10s - loss: 0.1309 - accuracy: 0.9669 - val_loss: 0.7953 - val_accuracy: 0.7386 - 10s/epoch - 315ms/step\n",
            "Epoch 29/100\n",
            "33/33 - 11s - loss: 0.1315 - accuracy: 0.9602 - val_loss: 0.4177 - val_accuracy: 0.8608 - 11s/epoch - 320ms/step\n",
            "Epoch 30/100\n",
            "33/33 - 11s - loss: 0.1356 - accuracy: 0.9583 - val_loss: 0.1904 - val_accuracy: 0.9432 - 11s/epoch - 320ms/step\n",
            "Epoch 31/100\n",
            "33/33 - 10s - loss: 0.1201 - accuracy: 0.9536 - val_loss: 0.1554 - val_accuracy: 0.9602 - 10s/epoch - 317ms/step\n",
            "Epoch 32/100\n",
            "33/33 - 11s - loss: 0.1563 - accuracy: 0.9489 - val_loss: 0.3468 - val_accuracy: 0.8778 - 11s/epoch - 319ms/step\n",
            "Epoch 33/100\n",
            "33/33 - 10s - loss: 0.1373 - accuracy: 0.9479 - val_loss: 0.8401 - val_accuracy: 0.8636 - 10s/epoch - 314ms/step\n",
            "Epoch 34/100\n",
            "33/33 - 10s - loss: 0.1210 - accuracy: 0.9612 - val_loss: 0.2605 - val_accuracy: 0.9347 - 10s/epoch - 316ms/step\n",
            "Epoch 35/100\n",
            "33/33 - 11s - loss: 0.1025 - accuracy: 0.9612 - val_loss: 0.3181 - val_accuracy: 0.9347 - 11s/epoch - 320ms/step\n",
            "Epoch 36/100\n",
            "33/33 - 11s - loss: 0.1110 - accuracy: 0.9621 - val_loss: 0.1448 - val_accuracy: 0.9688 - 11s/epoch - 318ms/step\n",
            "Epoch 37/100\n",
            "33/33 - 10s - loss: 0.1019 - accuracy: 0.9716 - val_loss: 0.1967 - val_accuracy: 0.9574 - 10s/epoch - 316ms/step\n",
            "Epoch 38/100\n",
            "33/33 - 11s - loss: 0.1002 - accuracy: 0.9640 - val_loss: 5.8493 - val_accuracy: 0.6023 - 11s/epoch - 322ms/step\n",
            "Epoch 39/100\n",
            "33/33 - 11s - loss: 0.0895 - accuracy: 0.9725 - val_loss: 9.9359 - val_accuracy: 0.6250 - 11s/epoch - 322ms/step\n",
            "Epoch 40/100\n",
            "33/33 - 11s - loss: 0.0990 - accuracy: 0.9650 - val_loss: 2.4499 - val_accuracy: 0.7386 - 11s/epoch - 319ms/step\n",
            "Epoch 41/100\n",
            "33/33 - 10s - loss: 0.0721 - accuracy: 0.9773 - val_loss: 0.4878 - val_accuracy: 0.8977 - 10s/epoch - 316ms/step\n",
            "Epoch 42/100\n",
            "33/33 - 10s - loss: 0.0777 - accuracy: 0.9716 - val_loss: 0.5853 - val_accuracy: 0.8892 - 10s/epoch - 316ms/step\n",
            "Epoch 43/100\n",
            "33/33 - 11s - loss: 0.1013 - accuracy: 0.9697 - val_loss: 0.5261 - val_accuracy: 0.9233 - 11s/epoch - 320ms/step\n",
            "Epoch 44/100\n",
            "33/33 - 10s - loss: 0.0978 - accuracy: 0.9678 - val_loss: 0.4576 - val_accuracy: 0.9119 - 10s/epoch - 317ms/step\n",
            "Epoch 45/100\n",
            "33/33 - 11s - loss: 0.0730 - accuracy: 0.9735 - val_loss: 1.5548 - val_accuracy: 0.7244 - 11s/epoch - 319ms/step\n",
            "Epoch 46/100\n",
            "33/33 - 10s - loss: 0.1333 - accuracy: 0.9612 - val_loss: 2.8585 - val_accuracy: 0.6193 - 10s/epoch - 317ms/step\n",
            "Epoch 47/100\n",
            "33/33 - 11s - loss: 0.0584 - accuracy: 0.9820 - val_loss: 1.1800 - val_accuracy: 0.7983 - 11s/epoch - 320ms/step\n",
            "Epoch 48/100\n",
            "33/33 - 10s - loss: 0.0631 - accuracy: 0.9820 - val_loss: 0.5229 - val_accuracy: 0.8409 - 10s/epoch - 317ms/step\n",
            "Epoch 49/100\n",
            "33/33 - 11s - loss: 0.0708 - accuracy: 0.9763 - val_loss: 0.1615 - val_accuracy: 0.9574 - 11s/epoch - 320ms/step\n",
            "Epoch 50/100\n",
            "33/33 - 11s - loss: 0.0663 - accuracy: 0.9754 - val_loss: 0.1804 - val_accuracy: 0.9574 - 11s/epoch - 321ms/step\n",
            "Epoch 51/100\n",
            "33/33 - 11s - loss: 0.0792 - accuracy: 0.9782 - val_loss: 0.1263 - val_accuracy: 0.9659 - 11s/epoch - 319ms/step\n",
            "Epoch 52/100\n",
            "33/33 - 11s - loss: 0.0733 - accuracy: 0.9735 - val_loss: 0.2280 - val_accuracy: 0.9460 - 11s/epoch - 321ms/step\n",
            "Epoch 53/100\n",
            "33/33 - 11s - loss: 0.0868 - accuracy: 0.9744 - val_loss: 0.2973 - val_accuracy: 0.9403 - 11s/epoch - 320ms/step\n",
            "Epoch 54/100\n",
            "33/33 - 11s - loss: 0.0759 - accuracy: 0.9754 - val_loss: 0.2000 - val_accuracy: 0.9517 - 11s/epoch - 320ms/step\n",
            "Epoch 55/100\n",
            "33/33 - 11s - loss: 0.0452 - accuracy: 0.9858 - val_loss: 0.2056 - val_accuracy: 0.9517 - 11s/epoch - 320ms/step\n",
            "Epoch 56/100\n",
            "33/33 - 11s - loss: 0.0627 - accuracy: 0.9792 - val_loss: 0.1980 - val_accuracy: 0.9602 - 11s/epoch - 320ms/step\n",
            "Epoch 57/100\n",
            "33/33 - 10s - loss: 0.0579 - accuracy: 0.9754 - val_loss: 0.1630 - val_accuracy: 0.9659 - 10s/epoch - 317ms/step\n",
            "Epoch 58/100\n",
            "33/33 - 10s - loss: 0.0542 - accuracy: 0.9801 - val_loss: 0.4941 - val_accuracy: 0.9261 - 10s/epoch - 315ms/step\n",
            "Epoch 59/100\n",
            "33/33 - 11s - loss: 0.0608 - accuracy: 0.9782 - val_loss: 0.4093 - val_accuracy: 0.9347 - 11s/epoch - 320ms/step\n",
            "Epoch 60/100\n",
            "33/33 - 11s - loss: 0.0593 - accuracy: 0.9782 - val_loss: 1.0993 - val_accuracy: 0.8125 - 11s/epoch - 319ms/step\n",
            "Epoch 61/100\n",
            "33/33 - 10s - loss: 0.0550 - accuracy: 0.9792 - val_loss: 0.2468 - val_accuracy: 0.9403 - 10s/epoch - 316ms/step\n",
            "Epoch 62/100\n",
            "33/33 - 11s - loss: 0.0446 - accuracy: 0.9858 - val_loss: 0.1623 - val_accuracy: 0.9460 - 11s/epoch - 336ms/step\n",
            "Epoch 63/100\n",
            "33/33 - 10s - loss: 0.0686 - accuracy: 0.9811 - val_loss: 0.1653 - val_accuracy: 0.9659 - 10s/epoch - 317ms/step\n",
            "Epoch 64/100\n",
            "33/33 - 11s - loss: 0.0510 - accuracy: 0.9839 - val_loss: 0.3986 - val_accuracy: 0.9205 - 11s/epoch - 319ms/step\n",
            "Epoch 65/100\n",
            "33/33 - 11s - loss: 0.0721 - accuracy: 0.9763 - val_loss: 0.2479 - val_accuracy: 0.9432 - 11s/epoch - 320ms/step\n",
            "Epoch 66/100\n",
            "33/33 - 11s - loss: 0.0703 - accuracy: 0.9782 - val_loss: 2.1232 - val_accuracy: 0.7443 - 11s/epoch - 321ms/step\n",
            "Epoch 67/100\n",
            "33/33 - 11s - loss: 0.0414 - accuracy: 0.9867 - val_loss: 0.1456 - val_accuracy: 0.9688 - 11s/epoch - 320ms/step\n",
            "Epoch 68/100\n",
            "33/33 - 11s - loss: 0.0490 - accuracy: 0.9801 - val_loss: 0.3297 - val_accuracy: 0.8920 - 11s/epoch - 322ms/step\n",
            "Epoch 69/100\n",
            "33/33 - 11s - loss: 0.0611 - accuracy: 0.9782 - val_loss: 0.3263 - val_accuracy: 0.8807 - 11s/epoch - 320ms/step\n",
            "Epoch 70/100\n",
            "33/33 - 11s - loss: 0.0418 - accuracy: 0.9839 - val_loss: 0.3468 - val_accuracy: 0.8977 - 11s/epoch - 319ms/step\n",
            "Epoch 71/100\n",
            "33/33 - 11s - loss: 0.0260 - accuracy: 0.9943 - val_loss: 0.0858 - val_accuracy: 0.9659 - 11s/epoch - 320ms/step\n",
            "Epoch 72/100\n",
            "33/33 - 10s - loss: 0.0382 - accuracy: 0.9848 - val_loss: 0.9095 - val_accuracy: 0.8324 - 10s/epoch - 317ms/step\n",
            "Epoch 73/100\n",
            "33/33 - 11s - loss: 0.0334 - accuracy: 0.9915 - val_loss: 0.5457 - val_accuracy: 0.8892 - 11s/epoch - 321ms/step\n",
            "Epoch 74/100\n",
            "33/33 - 10s - loss: 0.0656 - accuracy: 0.9782 - val_loss: 1.3575 - val_accuracy: 0.7557 - 10s/epoch - 318ms/step\n",
            "Epoch 75/100\n",
            "33/33 - 10s - loss: 0.0559 - accuracy: 0.9811 - val_loss: 0.6107 - val_accuracy: 0.8494 - 10s/epoch - 316ms/step\n",
            "Epoch 76/100\n",
            "33/33 - 11s - loss: 0.0407 - accuracy: 0.9839 - val_loss: 0.1172 - val_accuracy: 0.9517 - 11s/epoch - 319ms/step\n",
            "Epoch 77/100\n",
            "33/33 - 11s - loss: 0.0868 - accuracy: 0.9659 - val_loss: 0.3760 - val_accuracy: 0.9148 - 11s/epoch - 320ms/step\n",
            "Epoch 78/100\n",
            "33/33 - 11s - loss: 0.0625 - accuracy: 0.9801 - val_loss: 0.4787 - val_accuracy: 0.8608 - 11s/epoch - 319ms/step\n",
            "Epoch 79/100\n",
            "33/33 - 10s - loss: 0.0364 - accuracy: 0.9811 - val_loss: 0.2123 - val_accuracy: 0.9545 - 10s/epoch - 317ms/step\n",
            "Epoch 80/100\n",
            "33/33 - 11s - loss: 0.0364 - accuracy: 0.9848 - val_loss: 0.2058 - val_accuracy: 0.9602 - 11s/epoch - 319ms/step\n",
            "Epoch 81/100\n",
            "33/33 - 11s - loss: 0.0522 - accuracy: 0.9839 - val_loss: 0.1577 - val_accuracy: 0.9801 - 11s/epoch - 320ms/step\n",
            "Epoch 82/100\n",
            "33/33 - 11s - loss: 0.0800 - accuracy: 0.9716 - val_loss: 1.8263 - val_accuracy: 0.8722 - 11s/epoch - 319ms/step\n",
            "Epoch 83/100\n",
            "33/33 - 10s - loss: 0.0528 - accuracy: 0.9839 - val_loss: 1.2231 - val_accuracy: 0.8182 - 10s/epoch - 313ms/step\n",
            "Epoch 84/100\n",
            "33/33 - 10s - loss: 0.0565 - accuracy: 0.9886 - val_loss: 0.2431 - val_accuracy: 0.9545 - 10s/epoch - 314ms/step\n",
            "Epoch 85/100\n",
            "33/33 - 11s - loss: 0.0584 - accuracy: 0.9792 - val_loss: 0.9660 - val_accuracy: 0.8210 - 11s/epoch - 320ms/step\n",
            "Epoch 86/100\n",
            "33/33 - 10s - loss: 0.0568 - accuracy: 0.9830 - val_loss: 0.1070 - val_accuracy: 0.9688 - 10s/epoch - 318ms/step\n",
            "Epoch 87/100\n",
            "33/33 - 11s - loss: 0.0488 - accuracy: 0.9839 - val_loss: 0.1463 - val_accuracy: 0.9489 - 11s/epoch - 321ms/step\n",
            "Epoch 88/100\n",
            "33/33 - 11s - loss: 0.0418 - accuracy: 0.9839 - val_loss: 0.1504 - val_accuracy: 0.9716 - 11s/epoch - 320ms/step\n",
            "Epoch 89/100\n",
            "33/33 - 10s - loss: 0.0496 - accuracy: 0.9877 - val_loss: 0.5054 - val_accuracy: 0.8949 - 10s/epoch - 318ms/step\n",
            "Epoch 90/100\n",
            "33/33 - 11s - loss: 0.0506 - accuracy: 0.9830 - val_loss: 0.2236 - val_accuracy: 0.9318 - 11s/epoch - 321ms/step\n",
            "Epoch 91/100\n",
            "33/33 - 11s - loss: 0.0291 - accuracy: 0.9905 - val_loss: 0.1657 - val_accuracy: 0.9688 - 11s/epoch - 319ms/step\n",
            "Epoch 92/100\n",
            "33/33 - 11s - loss: 0.0377 - accuracy: 0.9915 - val_loss: 0.1853 - val_accuracy: 0.9602 - 11s/epoch - 320ms/step\n",
            "Epoch 93/100\n",
            "33/33 - 11s - loss: 0.0455 - accuracy: 0.9830 - val_loss: 0.4593 - val_accuracy: 0.9205 - 11s/epoch - 319ms/step\n",
            "Epoch 94/100\n",
            "33/33 - 11s - loss: 0.0362 - accuracy: 0.9867 - val_loss: 0.3666 - val_accuracy: 0.9062 - 11s/epoch - 323ms/step\n",
            "Epoch 95/100\n",
            "33/33 - 11s - loss: 0.0303 - accuracy: 0.9858 - val_loss: 0.2253 - val_accuracy: 0.9375 - 11s/epoch - 322ms/step\n",
            "Epoch 96/100\n",
            "33/33 - 11s - loss: 0.0538 - accuracy: 0.9839 - val_loss: 0.6301 - val_accuracy: 0.8892 - 11s/epoch - 324ms/step\n",
            "Epoch 97/100\n",
            "33/33 - 11s - loss: 0.0497 - accuracy: 0.9839 - val_loss: 0.5728 - val_accuracy: 0.9006 - 11s/epoch - 324ms/step\n",
            "Epoch 98/100\n",
            "33/33 - 11s - loss: 0.0285 - accuracy: 0.9924 - val_loss: 0.3868 - val_accuracy: 0.9489 - 11s/epoch - 323ms/step\n",
            "Epoch 99/100\n",
            "33/33 - 11s - loss: 0.0161 - accuracy: 0.9934 - val_loss: 0.4443 - val_accuracy: 0.9432 - 11s/epoch - 320ms/step\n",
            "Epoch 100/100\n",
            "33/33 - 11s - loss: 0.0693 - accuracy: 0.9773 - val_loss: 0.3453 - val_accuracy: 0.9375 - 11s/epoch - 321ms/step\n"
          ]
        }
      ],
      "source": [
        "from tensorflow.keras.applications import EfficientNetB0\n",
        "\n",
        "with strategy.scope():\n",
        "    inputs = layers.Input(shape=(IMG_SIZE, IMG_SIZE, 3))\n",
        "    x = img_augmentation(inputs)\n",
        "    outputs = EfficientNetB0(include_top=True, weights=None, classes=NUM_CLASSES)(x)\n",
        "\n",
        "    model = tf.keras.Model(inputs, outputs)\n",
        "    model.compile(\n",
        "        optimizer=\"adam\", loss=\"categorical_crossentropy\", metrics=[\"accuracy\"]\n",
        "    )\n",
        "\n",
        "model.summary()\n",
        "\n",
        "epochs = 100  # @param {type: \"slider\", min:10, max:100}\n",
        "hist = model.fit(ds_train, epochs=epochs, validation_data=ds_test, verbose=2)"
      ]
    },
    {
      "cell_type": "code",
      "execution_count": 13,
      "metadata": {
        "colab": {
          "base_uri": "https://localhost:8080/",
          "height": 295
        },
        "id": "u4mPhmmq7XQ2",
        "outputId": "1e281f33-c5ca-4016-9139-967540b5aa13"
      },
      "outputs": [
        {
          "data": {
            "image/png": "[encoded data removed]",
            "text/plain": [
              "<Figure size 432x288 with 1 Axes>"
            ]
          },
          "metadata": {
            "needs_background": "light"
          },
          "output_type": "display_data"
        }
      ],
      "source": [
        "import matplotlib.pyplot as plt\n",
        "\n",
        "\n",
        "def plot_hist(hist):\n",
        "    plt.plot(hist.history[\"accuracy\"])\n",
        "    plt.plot(hist.history[\"val_accuracy\"])\n",
        "    plt.title(\"model accuracy\")\n",
        "    plt.ylabel(\"accuracy\")\n",
        "    plt.xlabel(\"epoch\")\n",
        "    plt.legend([\"train\", \"validation\"], loc=\"upper left\")\n",
        "    plt.show()\n",
        "\n",
        "\n",
        "plot_hist(hist)"
      ]
    },
    {
      "cell_type": "code",
      "execution_count": 14,
      "metadata": {
        "id": "e_GRQrzy7XSx"
      },
      "outputs": [],
      "source": [
        "def build_model(num_classes):\n",
        "    inputs = layers.Input(shape=(IMG_SIZE, IMG_SIZE, 3))\n",
        "    x = img_augmentation(inputs)\n",
        "    model = EfficientNetB0(include_top=False, input_tensor=x, weights=\"imagenet\")\n",
        "\n",
        "    # Freeze the pretrained weights\n",
        "    model.trainable = False\n",
        "\n",
        "    # Rebuild top\n",
        "    x = layers.GlobalAveragePooling2D(name=\"avg_pool\")(model.output)\n",
        "    x = layers.BatchNormalization()(x)\n",
        "\n",
        "    top_dropout_rate = 0.2\n",
        "    x = layers.Dropout(top_dropout_rate, name=\"top_dropout\")(x)\n",
        "    outputs = layers.Dense(NUM_CLASSES, activation=\"softmax\", name=\"pred\")(x)\n",
        "\n",
        "    # Compile\n",
        "    model = tf.keras.Model(inputs, outputs, name=\"EfficientNet\")\n",
        "    optimizer = tf.keras.optimizers.Adam(learning_rate=1e-2)\n",
        "    model.compile(\n",
        "        optimizer=optimizer, loss=\"categorical_crossentropy\", metrics=[\"accuracy\"]\n",
        "    )\n",
        "    return model"
      ]
    },
    {
      "cell_type": "code",
      "execution_count": 15,
      "metadata": {
        "colab": {
          "base_uri": "https://localhost:8080/",
          "height": 1000
        },
        "id": "oHNly0LAIU8d",
        "outputId": "4f72801a-639d-45bb-c92b-e146420c690d"
      },
      "outputs": [
        {
          "name": "stdout",
          "output_type": "stream",
          "text": [
            "Downloading data from https://storage.googleapis.com/keras-applications/efficientnetb0_notop.h5\n",
            "16711680/16705208 [==============================] - 0s 0us/step\n",
            "16719872/16705208 [==============================] - 0s 0us/step\n",
            "Epoch 1/60\n",
            "33/33 - 13s - loss: 0.3208 - accuracy: 0.9025 - val_loss: 0.2947 - val_accuracy: 0.9062 - 13s/epoch - 400ms/step\n",
            "Epoch 2/60\n",
            "33/33 - 3s - loss: 0.0740 - accuracy: 0.9858 - val_loss: 0.2461 - val_accuracy: 0.9148 - 3s/epoch - 86ms/step\n",
            "Epoch 3/60\n",
            "33/33 - 3s - loss: 0.0632 - accuracy: 0.9858 - val_loss: 0.1494 - val_accuracy: 0.9602 - 3s/epoch - 86ms/step\n",
            "Epoch 4/60\n",
            "33/33 - 3s - loss: 0.1077 - accuracy: 0.9773 - val_loss: 0.4671 - val_accuracy: 0.8438 - 3s/epoch - 87ms/step\n",
            "Epoch 5/60\n",
            "33/33 - 3s - loss: 0.1578 - accuracy: 0.9706 - val_loss: 0.3565 - val_accuracy: 0.8835 - 3s/epoch - 86ms/step\n",
            "Epoch 6/60\n",
            "33/33 - 3s - loss: 0.0906 - accuracy: 0.9820 - val_loss: 0.0971 - val_accuracy: 0.9659 - 3s/epoch - 87ms/step\n",
            "Epoch 7/60\n",
            "33/33 - 3s - loss: 0.0999 - accuracy: 0.9820 - val_loss: 0.0291 - val_accuracy: 0.9915 - 3s/epoch - 87ms/step\n",
            "Epoch 8/60\n",
            "33/33 - 3s - loss: 0.1205 - accuracy: 0.9820 - val_loss: 0.0409 - val_accuracy: 0.9886 - 3s/epoch - 87ms/step\n",
            "Epoch 9/60\n",
            "33/33 - 3s - loss: 0.0409 - accuracy: 0.9896 - val_loss: 0.0882 - val_accuracy: 0.9602 - 3s/epoch - 88ms/step\n",
            "Epoch 10/60\n",
            "33/33 - 3s - loss: 0.1245 - accuracy: 0.9820 - val_loss: 0.0084 - val_accuracy: 0.9943 - 3s/epoch - 87ms/step\n",
            "Epoch 11/60\n",
            "33/33 - 3s - loss: 0.0650 - accuracy: 0.9858 - val_loss: 0.0425 - val_accuracy: 0.9801 - 3s/epoch - 87ms/step\n",
            "Epoch 12/60\n",
            "33/33 - 3s - loss: 0.0755 - accuracy: 0.9877 - val_loss: 0.0502 - val_accuracy: 0.9858 - 3s/epoch - 87ms/step\n",
            "Epoch 13/60\n",
            "33/33 - 3s - loss: 0.0799 - accuracy: 0.9848 - val_loss: 0.1301 - val_accuracy: 0.9801 - 3s/epoch - 88ms/step\n",
            "Epoch 14/60\n",
            "33/33 - 3s - loss: 0.0836 - accuracy: 0.9848 - val_loss: 0.0491 - val_accuracy: 0.9915 - 3s/epoch - 88ms/step\n",
            "Epoch 15/60\n",
            "33/33 - 3s - loss: 0.1011 - accuracy: 0.9848 - val_loss: 0.1656 - val_accuracy: 0.9858 - 3s/epoch - 87ms/step\n",
            "Epoch 16/60\n",
            "33/33 - 3s - loss: 0.0396 - accuracy: 0.9943 - val_loss: 0.0286 - val_accuracy: 0.9886 - 3s/epoch - 88ms/step\n",
            "Epoch 17/60\n",
            "33/33 - 3s - loss: 0.0365 - accuracy: 0.9915 - val_loss: 0.1344 - val_accuracy: 0.9858 - 3s/epoch - 87ms/step\n",
            "Epoch 18/60\n",
            "33/33 - 3s - loss: 0.0775 - accuracy: 0.9886 - val_loss: 0.0019 - val_accuracy: 1.0000 - 3s/epoch - 88ms/step\n",
            "Epoch 19/60\n",
            "33/33 - 3s - loss: 0.0446 - accuracy: 0.9924 - val_loss: 0.1269 - val_accuracy: 0.9858 - 3s/epoch - 86ms/step\n",
            "Epoch 20/60\n",
            "33/33 - 3s - loss: 0.0885 - accuracy: 0.9848 - val_loss: 0.0439 - val_accuracy: 0.9943 - 3s/epoch - 88ms/step\n",
            "Epoch 21/60\n",
            "33/33 - 3s - loss: 0.0201 - accuracy: 0.9953 - val_loss: 0.0912 - val_accuracy: 0.9915 - 3s/epoch - 86ms/step\n",
            "Epoch 22/60\n",
            "33/33 - 3s - loss: 0.0333 - accuracy: 0.9896 - val_loss: 0.0787 - val_accuracy: 0.9886 - 3s/epoch - 86ms/step\n",
            "Epoch 23/60\n",
            "33/33 - 3s - loss: 0.0518 - accuracy: 0.9896 - val_loss: 0.1183 - val_accuracy: 0.9886 - 3s/epoch - 87ms/step\n",
            "Epoch 24/60\n",
            "33/33 - 3s - loss: 0.0353 - accuracy: 0.9943 - val_loss: 0.1046 - val_accuracy: 0.9858 - 3s/epoch - 86ms/step\n",
            "Epoch 25/60\n",
            "33/33 - 3s - loss: 0.0550 - accuracy: 0.9943 - val_loss: 0.0831 - val_accuracy: 0.9915 - 3s/epoch - 86ms/step\n",
            "Epoch 26/60\n",
            "33/33 - 3s - loss: 0.0270 - accuracy: 0.9953 - val_loss: 0.1585 - val_accuracy: 0.9886 - 3s/epoch - 86ms/step\n",
            "Epoch 27/60\n",
            "33/33 - 3s - loss: 0.0667 - accuracy: 0.9915 - val_loss: 0.1327 - val_accuracy: 0.9801 - 3s/epoch - 87ms/step\n",
            "Epoch 28/60\n",
            "33/33 - 3s - loss: 0.1147 - accuracy: 0.9905 - val_loss: 0.1543 - val_accuracy: 0.9886 - 3s/epoch - 86ms/step\n",
            "Epoch 29/60\n",
            "33/33 - 3s - loss: 0.0714 - accuracy: 0.9915 - val_loss: 0.1116 - val_accuracy: 0.9943 - 3s/epoch - 86ms/step\n",
            "Epoch 30/60\n",
            "33/33 - 3s - loss: 0.1113 - accuracy: 0.9886 - val_loss: 0.0863 - val_accuracy: 0.9915 - 3s/epoch - 87ms/step\n",
            "Epoch 31/60\n",
            "33/33 - 3s - loss: 0.0288 - accuracy: 0.9896 - val_loss: 0.0385 - val_accuracy: 0.9915 - 3s/epoch - 86ms/step\n",
            "Epoch 32/60\n",
            "33/33 - 3s - loss: 0.0620 - accuracy: 0.9943 - val_loss: 0.0886 - val_accuracy: 0.9886 - 3s/epoch - 106ms/step\n",
            "Epoch 33/60\n",
            "33/33 - 3s - loss: 0.0220 - accuracy: 0.9905 - val_loss: 0.1955 - val_accuracy: 0.9858 - 3s/epoch - 86ms/step\n",
            "Epoch 34/60\n",
            "33/33 - 3s - loss: 0.0562 - accuracy: 0.9943 - val_loss: 0.0125 - val_accuracy: 0.9972 - 3s/epoch - 87ms/step\n",
            "Epoch 35/60\n",
            "33/33 - 3s - loss: 0.0814 - accuracy: 0.9905 - val_loss: 0.0962 - val_accuracy: 0.9886 - 3s/epoch - 87ms/step\n",
            "Epoch 36/60\n",
            "33/33 - 3s - loss: 0.0227 - accuracy: 0.9934 - val_loss: 0.0702 - val_accuracy: 0.9886 - 3s/epoch - 87ms/step\n",
            "Epoch 37/60\n",
            "33/33 - 3s - loss: 0.0524 - accuracy: 0.9943 - val_loss: 0.0945 - val_accuracy: 0.9886 - 3s/epoch - 87ms/step\n",
            "Epoch 38/60\n",
            "33/33 - 3s - loss: 0.0217 - accuracy: 0.9972 - val_loss: 0.0558 - val_accuracy: 0.9915 - 3s/epoch - 86ms/step\n",
            "Epoch 39/60\n",
            "33/33 - 3s - loss: 0.0415 - accuracy: 0.9953 - val_loss: 0.1934 - val_accuracy: 0.9858 - 3s/epoch - 87ms/step\n",
            "Epoch 40/60\n",
            "33/33 - 3s - loss: 0.0889 - accuracy: 0.9953 - val_loss: 0.0742 - val_accuracy: 0.9915 - 3s/epoch - 86ms/step\n",
            "Epoch 41/60\n",
            "33/33 - 3s - loss: 0.0454 - accuracy: 0.9924 - val_loss: 0.1464 - val_accuracy: 0.9886 - 3s/epoch - 86ms/step\n",
            "Epoch 42/60\n",
            "33/33 - 3s - loss: 0.0741 - accuracy: 0.9905 - val_loss: 0.0685 - val_accuracy: 0.9943 - 3s/epoch - 87ms/step\n",
            "Epoch 43/60\n",
            "33/33 - 3s - loss: 0.0702 - accuracy: 0.9896 - val_loss: 0.3362 - val_accuracy: 0.9886 - 3s/epoch - 86ms/step\n",
            "Epoch 44/60\n",
            "33/33 - 3s - loss: 0.0295 - accuracy: 0.9972 - val_loss: 0.3305 - val_accuracy: 0.9886 - 3s/epoch - 88ms/step\n",
            "Epoch 45/60\n",
            "33/33 - 3s - loss: 0.0952 - accuracy: 0.9934 - val_loss: 0.1812 - val_accuracy: 0.9915 - 3s/epoch - 87ms/step\n",
            "Epoch 46/60\n",
            "33/33 - 3s - loss: 0.0461 - accuracy: 0.9943 - val_loss: 0.0880 - val_accuracy: 0.9886 - 3s/epoch - 87ms/step\n",
            "Epoch 47/60\n",
            "33/33 - 3s - loss: 0.0590 - accuracy: 0.9934 - val_loss: 0.1389 - val_accuracy: 0.9830 - 3s/epoch - 86ms/step\n",
            "Epoch 48/60\n",
            "33/33 - 3s - loss: 0.0804 - accuracy: 0.9924 - val_loss: 0.0965 - val_accuracy: 0.9915 - 3s/epoch - 86ms/step\n",
            "Epoch 49/60\n",
            "33/33 - 3s - loss: 0.0597 - accuracy: 0.9953 - val_loss: 0.1661 - val_accuracy: 0.9830 - 3s/epoch - 87ms/step\n",
            "Epoch 50/60\n",
            "33/33 - 3s - loss: 0.0040 - accuracy: 0.9991 - val_loss: 0.1724 - val_accuracy: 0.9801 - 3s/epoch - 87ms/step\n",
            "Epoch 51/60\n",
            "33/33 - 3s - loss: 0.0974 - accuracy: 0.9934 - val_loss: 0.1951 - val_accuracy: 0.9858 - 3s/epoch - 87ms/step\n",
            "Epoch 52/60\n",
            "33/33 - 3s - loss: 0.0021 - accuracy: 0.9981 - val_loss: 0.0775 - val_accuracy: 0.9915 - 3s/epoch - 87ms/step\n",
            "Epoch 53/60\n",
            "33/33 - 3s - loss: 0.0410 - accuracy: 0.9924 - val_loss: 0.0591 - val_accuracy: 0.9858 - 3s/epoch - 87ms/step\n",
            "Epoch 54/60\n",
            "33/33 - 3s - loss: 0.1025 - accuracy: 0.9886 - val_loss: 0.1320 - val_accuracy: 0.9886 - 3s/epoch - 87ms/step\n",
            "Epoch 55/60\n",
            "33/33 - 3s - loss: 0.0918 - accuracy: 0.9943 - val_loss: 0.2123 - val_accuracy: 0.9830 - 3s/epoch - 87ms/step\n",
            "Epoch 56/60\n",
            "33/33 - 3s - loss: 0.0336 - accuracy: 0.9972 - val_loss: 0.1647 - val_accuracy: 0.9915 - 3s/epoch - 86ms/step\n",
            "Epoch 57/60\n",
            "33/33 - 3s - loss: 0.0389 - accuracy: 0.9943 - val_loss: 0.0502 - val_accuracy: 0.9943 - 3s/epoch - 87ms/step\n",
            "Epoch 58/60\n",
            "33/33 - 3s - loss: 0.0230 - accuracy: 0.9943 - val_loss: 1.0249e-04 - val_accuracy: 1.0000 - 3s/epoch - 86ms/step\n",
            "Epoch 59/60\n",
            "33/33 - 3s - loss: 0.0860 - accuracy: 0.9915 - val_loss: 0.0295 - val_accuracy: 0.9943 - 3s/epoch - 87ms/step\n",
            "Epoch 60/60\n",
            "33/33 - 3s - loss: 0.1858 - accuracy: 0.9886 - val_loss: 0.0654 - val_accuracy: 0.9943 - 3s/epoch - 87ms/step\n"
          ]
        },
        {
          "data": {
            "image/png": "[encoded data removed]",
            "text/plain": [
              "<Figure size 432x288 with 1 Axes>"
            ]
          },
          "metadata": {
            "needs_background": "light"
          },
          "output_type": "display_data"
        }
      ],
      "source": [
        "with strategy.scope():\n",
        "    model = build_model(num_classes=NUM_CLASSES)\n",
        "\n",
        "epochs = 60  # @param {type: \"slider\", min:8, max:80}\n",
        "hist = model.fit(ds_train, epochs=epochs, validation_data=ds_test, verbose=2)\n",
        "plot_hist(hist)"
      ]
    },
    {
      "cell_type": "code",
      "execution_count": 16,
      "metadata": {
        "colab": {
          "base_uri": "https://localhost:8080/",
          "height": 662
        },
        "id": "fg_qIjn6IU6f",
        "outputId": "f70cdc36-10d2-4c9d-b868-881166c51655"
      },
      "outputs": [
        {
          "name": "stdout",
          "output_type": "stream",
          "text": [
            "Epoch 1/10\n",
            "33/33 - 13s - loss: 0.0293 - accuracy: 0.9953 - val_loss: 0.0490 - val_accuracy: 0.9943 - 13s/epoch - 407ms/step\n",
            "Epoch 2/10\n",
            "33/33 - 3s - loss: 0.0623 - accuracy: 0.9953 - val_loss: 0.1149 - val_accuracy: 0.9943 - 3s/epoch - 93ms/step\n",
            "Epoch 3/10\n",
            "33/33 - 3s - loss: 0.1225 - accuracy: 0.9924 - val_loss: 0.1146 - val_accuracy: 0.9886 - 3s/epoch - 93ms/step\n",
            "Epoch 4/10\n",
            "33/33 - 3s - loss: 0.0619 - accuracy: 0.9943 - val_loss: 0.5615 - val_accuracy: 0.9631 - 3s/epoch - 93ms/step\n",
            "Epoch 5/10\n",
            "33/33 - 3s - loss: 0.0998 - accuracy: 0.9915 - val_loss: 0.2501 - val_accuracy: 0.9886 - 3s/epoch - 93ms/step\n",
            "Epoch 6/10\n",
            "33/33 - 3s - loss: 0.0695 - accuracy: 0.9934 - val_loss: 0.2487 - val_accuracy: 0.9858 - 3s/epoch - 94ms/step\n",
            "Epoch 7/10\n",
            "33/33 - 3s - loss: 0.0201 - accuracy: 0.9972 - val_loss: 0.3993 - val_accuracy: 0.9801 - 3s/epoch - 94ms/step\n",
            "Epoch 8/10\n",
            "33/33 - 3s - loss: 0.0621 - accuracy: 0.9953 - val_loss: 0.1538 - val_accuracy: 0.9886 - 3s/epoch - 94ms/step\n",
            "Epoch 9/10\n",
            "33/33 - 3s - loss: 0.0282 - accuracy: 0.9962 - val_loss: 0.0167 - val_accuracy: 0.9943 - 3s/epoch - 94ms/step\n",
            "Epoch 10/10\n",
            "33/33 - 3s - loss: 0.0485 - accuracy: 0.9953 - val_loss: 0.0243 - val_accuracy: 0.9915 - 3s/epoch - 95ms/step\n"
          ]
        },
        {
          "data": {
            "image/png": "[encoded data removed]",
            "text/plain": [
              "<Figure size 432x288 with 1 Axes>"
            ]
          },
          "metadata": {
            "needs_background": "light"
          },
          "output_type": "display_data"
        }
      ],
      "source": [
        "def unfreeze_model(model):\n",
        "    # We unfreeze the top 20 layers while leaving BatchNorm layers frozen\n",
        "    for layer in model.layers[-20:]:\n",
        "        if not isinstance(layer, layers.BatchNormalization):\n",
        "            layer.trainable = True\n",
        "\n",
        "    optimizer = tf.keras.optimizers.Adam(learning_rate=1e-4)\n",
        "    model.compile(\n",
        "        optimizer=optimizer, loss=\"categorical_crossentropy\", metrics=[\"accuracy\"]\n",
        "    )\n",
        "\n",
        "\n",
        "unfreeze_model(model)\n",
        "\n",
        "epochs = 10  # @param {type: \"slider\", min:8, max:50}\n",
        "hist = model.fit(ds_train, epochs=epochs, validation_data=ds_test, verbose=2)\n",
        "plot_hist(hist)"
      ]
    },
    {
      "cell_type": "code",
      "execution_count": 17,
      "metadata": {
        "colab": {
          "base_uri": "https://localhost:8080/"
        },
        "id": "dlwIrZYHIU4M",
        "outputId": "b1dd483b-d94e-4846-ff6c-c09262aaea18"
      },
      "outputs": [
        {
          "name": "stdout",
          "output_type": "stream",
          "text": [
            "11/11 [==============================] - 1s 68ms/step - loss: 0.0243 - accuracy: 0.9915\n"
          ]
        },
        {
          "data": {
            "text/plain": [
              "[0.024289989843964577, 0.9914772510528564]"
            ]
          },
          "execution_count": 17,
          "metadata": {},
          "output_type": "execute_result"
        }
      ],
      "source": [
        "model.evaluate(ds_test)"
      ]
    },
    {
      "cell_type": "code",
      "execution_count": 18,
      "metadata": {
        "colab": {
          "base_uri": "https://localhost:8080/"
        },
        "id": "EB7MPxHfEqfQ",
        "outputId": "d1962e25-22bc-48b2-c773-840ca9857e6e"
      },
      "outputs": [
        {
          "name": "stdout",
          "output_type": "stream",
          "text": [
            "[[0.0000000e+00 1.0000000e+00 4.2369678e-37 8.2340766e-28 6.3507478e-21\n",
            "  8.3264307e-29]\n",
            " [0.0000000e+00 0.0000000e+00 0.0000000e+00 1.0000000e+00 0.0000000e+00\n",
            "  0.0000000e+00]\n",
            " [1.0000000e+00 0.0000000e+00 0.0000000e+00 0.0000000e+00 1.7933822e-36\n",
            "  0.0000000e+00]\n",
            " ...\n",
            " [0.0000000e+00 2.4841536e-36 0.0000000e+00 0.0000000e+00 1.0000000e+00\n",
            "  0.0000000e+00]\n",
            " [0.0000000e+00 4.3078296e-37 0.0000000e+00 0.0000000e+00 1.0000000e+00\n",
            "  0.0000000e+00]\n",
            " [0.0000000e+00 4.5029247e-36 0.0000000e+00 0.0000000e+00 1.0000000e+00\n",
            "  0.0000000e+00]] <class 'numpy.ndarray'> (360, 6)\n",
            "[1 3 0 0 2 0 2 0 5 4 2 2 1 5 0 4 5 2 3 2 2 0 4 0 0 5 2 4 2 2 2 0 2 5 0 2 1\n",
            " 3 3 4 3 3 3 4 1 3 5 3 5 1 4 3 5 5 0 0 0 1 0 2 1 1 2 4 0 4 1 5 1 2 2 5 2 1\n",
            " 1 3 0 5 2 2 5 2 0 4 1 1 2 3 2 1 5 1 2 4 5 5 2 0 4 2 3 0 3 1 1 1 1 4 4 1 5\n",
            " 1 4 4 2 4 5 2 0 4 1 2 3 1 3 4 2 1 5 0 3 0 0 0 2 1 0 0 3 0 1 3 0 5 2 0 4 0\n",
            " 0 5 5 5 3 1 5 0 4 3 0 2 1 5 3 2 4 1 1 5 5 4 5 1 4 2 5 2 0 3 1 2 0 5 3 0 0\n",
            " 0 2 4 3 1 0 3 4 1 0 2 3 0 3 2 3 3 1 0 0 3 1 5 2 1 1 3 0 0 5 5 2 2 1 5 3 0\n",
            " 4 1 3 2 3 4 3 4 3 0 0 1 0 2 4 1 4 4 4 3 5 0 4 2 3 2 2 2 4 3 4 4 1 1 4 3 4\n",
            " 3 3 0 4 2 2 4 3 4 4 1 1 1 4 4 0 3 5 3 2 3 2 5 2 4 4 4 3 2 1 1 5 1 3 1 4 2\n",
            " 4 3 1 0 4 5 0 3 2 2 5 1 2 5 0 2 5 2 0 2 4 4 0 1 3 1 3 4 0 4 2 1 4 2 2 0 5\n",
            " 3 2 1 0 5 1 0 1 3 4 1 5 4 5 0 5 1 5 5 5 0 4 1 0 4 4 4] (360,)\n",
            "[1 3 0 0 2 0 2 0 5 4 2 2 1 5 0 4 5 2 3 2 2 0 4 0 0 5 2 4 2 2 2 0 2 5 0 2 1\n",
            " 3 3 4 3 3 3 4 1 3 5 3 5 1 4 3 5 5 0 0 0 1 0 2 1 1 2 4 0 4 1 5 1 2 2 5 2 1\n",
            " 1 3 0 5 2 2 5 2 0 4 1 1 2 3 2 1 5 5 2 4 5 5 2 0 4 2 3 0 3 1 1 1 1 4 4 1 5\n",
            " 1 4 4 2 4 5 2 0 4 1 2 3 1 3 4 2 1 5 0 3 0 0 0 2 1 0 0 3 0 1 3 0 5 2 0 4 0\n",
            " 0 5 5 5 3 1 5 0 4 3 0 2 1 5 3 2 4 1 1 5 5 4 5 1 4 2 5 2 0 3 1 2 0 5 3 0 0\n",
            " 0 2 4 3 1 0 3 4 1 0 2 3 0 3 2 3 3 1 2 0 3 1 5 2 1 1 3 0 0 5 5 2 2 1 5 3 0\n",
            " 4 1 3 2 3 4 3 4 3 0 0 1 0 2 4 1 4 4 4 3 5 0 4 2 3 2 2 2 4 2 4 4 1 1 4 3 4\n",
            " 3 3 0 4 2 2 4 3 4 4 1 1 1 4 4 0 3 5 3 2 3 2 5 2 4 4 4 3 2 1 1 5 1 3 1 4 2\n",
            " 4 3 1 0 4 5 0 3 2 2 5 1 2 5 0 2 5 2 0 2 4 4 0 1 3 1 3 4 0 4 2 1 4 2 2 0 5\n",
            " 3 2 1 0 5 1 0 1 3 4 1 5 4 5 0 5 1 5 5 5 0 4 1 0 4 4 4] (360,)\n"
          ]
        }
      ],
      "source": [
        "#Test set 정확도\n",
        "y_pred_test=model.predict(x_test)\n",
        "print(y_pred_test, type(y_pred_test), y_pred_test.shape)\n",
        "y_pred=[]\n",
        "for ar in y_pred_test:\n",
        "  y_pred.append(np.argmax(ar))\n",
        "y_pred = np.array(y_pred)\n",
        "print(y_pred, y_pred.shape)\n",
        "print(y_test, y_test.shape)"
      ]
    },
    {
      "cell_type": "code",
      "execution_count": 19,
      "metadata": {
        "colab": {
          "base_uri": "https://localhost:8080/"
        },
        "id": "RpZW7G96IUsi",
        "outputId": "6aec6d73-9336-4c92-e354-162c30789fa9"
      },
      "outputs": [
        {
          "name": "stdout",
          "output_type": "stream",
          "text": [
            "accuracy: 0.9916666666666667\n",
            "Precision: 0.9918046662057078\n",
            "Recall: 0.9916666666666667\n",
            "F1-Score: 0.991646245265704\n"
          ]
        }
      ],
      "source": [
        "from sklearn.metrics import f1_score, accuracy_score, recall_score, precision_score\n",
        "print(\"accuracy:\",accuracy_score(y_test, y_pred))\n",
        "print(\"Precision:\",precision_score(y_test, y_pred, average='weighted'))\n",
        "print(\"Recall:\",recall_score(y_test, y_pred, average='weighted'))\n",
        "print(\"F1-Score:\",f1_score(y_test, y_pred, average='weighted'))"
      ]
    },
    {
      "cell_type": "code",
      "execution_count": 20,
      "metadata": {
        "colab": {
          "base_uri": "https://localhost:8080/"
        },
        "id": "EXzxgRCOh8Kz",
        "outputId": "8b0ba96c-f59b-4592-c4c4-b4d2a880f59a"
      },
      "outputs": [
        {
          "name": "stdout",
          "output_type": "stream",
          "text": [
            "[[0.0000000e+00 1.0000000e+00 3.1474975e-35 2.4585025e-28 2.2264972e-24\n",
            "  3.5414608e-27]\n",
            " [1.0000000e+00 0.0000000e+00 0.0000000e+00 0.0000000e+00 0.0000000e+00\n",
            "  0.0000000e+00]\n",
            " [0.0000000e+00 0.0000000e+00 0.0000000e+00 1.0000000e+00 0.0000000e+00\n",
            "  0.0000000e+00]\n",
            " ...\n",
            " [0.0000000e+00 0.0000000e+00 0.0000000e+00 0.0000000e+00 0.0000000e+00\n",
            "  1.0000000e+00]\n",
            " [1.7863888e-23 0.0000000e+00 1.0000000e+00 8.6857579e-25 5.5113648e-33\n",
            "  0.0000000e+00]\n",
            " [0.0000000e+00 0.0000000e+00 0.0000000e+00 1.0000000e+00 0.0000000e+00\n",
            "  0.0000000e+00]] <class 'numpy.ndarray'> (1080, 6)\n",
            "[[0.0000000e+00 1.0000000e+00 3.1474975e-35 2.4585025e-28 2.2264972e-24\n",
            "  3.5414608e-27]\n",
            " [1.0000000e+00 0.0000000e+00 0.0000000e+00 0.0000000e+00 0.0000000e+00\n",
            "  0.0000000e+00]\n",
            " [0.0000000e+00 0.0000000e+00 0.0000000e+00 1.0000000e+00 0.0000000e+00\n",
            "  0.0000000e+00]\n",
            " ...\n",
            " [0.0000000e+00 0.0000000e+00 0.0000000e+00 0.0000000e+00 0.0000000e+00\n",
            "  1.0000000e+00]\n",
            " [1.7863888e-23 0.0000000e+00 1.0000000e+00 8.6857579e-25 5.5113648e-33\n",
            "  0.0000000e+00]\n",
            " [0.0000000e+00 0.0000000e+00 0.0000000e+00 1.0000000e+00 0.0000000e+00\n",
            "  0.0000000e+00]] (1080, 6)\n",
            "[1 0 3 ... 5 2 3] (1080,)\n"
          ]
        }
      ],
      "source": [
        "#Train set 정확도\n",
        "\n",
        "y_pred_train=model.predict(x_train)\n",
        "print(y_pred_train, type(y_pred_train), y_pred_train.shape)\n",
        "y_train_list=[]\n",
        "for ar in y_pred_train:\n",
        "  y_train_list.append(np.argmax(ar))\n",
        "y_train_list = np.array(y_train_list)\n",
        "print(y_pred_train, y_pred_train.shape)\n",
        "print(y_train_list, y_train_list.shape)"
      ]
    },
    {
      "cell_type": "code",
      "execution_count": 21,
      "metadata": {
        "colab": {
          "base_uri": "https://localhost:8080/"
        },
        "id": "VUljgSBFiS0L",
        "outputId": "6e08595f-0a00-4f70-8e9d-2fdebc94ec52"
      },
      "outputs": [
        {
          "name": "stdout",
          "output_type": "stream",
          "text": [
            "accuracy: 0.9981481481481481\n",
            "Precision: 0.9981687242798355\n",
            "Recall: 0.9981481481481481\n",
            "F1-Score: 0.9981483957807802\n"
          ]
        }
      ],
      "source": [
        "print(\"accuracy:\",accuracy_score(y_train, y_train_list))\n",
        "print(\"Precision:\",precision_score(y_train, y_train_list, average='weighted'))\n",
        "print(\"Recall:\",recall_score(y_train, y_train_list, average='weighted'))\n",
        "print(\"F1-Score:\",f1_score(y_train, y_train_list, average='weighted'))"
      ]
    },
    {
      "cell_type": "code",
      "execution_count": 22,
      "metadata": {
        "colab": {
          "base_uri": "https://localhost:8080/"
        },
        "id": "xM9cj2PXvGHI",
        "outputId": "212e24ab-382a-453f-9901-d501248b89a9"
      },
      "outputs": [
        {
          "name": "stdout",
          "output_type": "stream",
          "text": [
            "Ubuntu 18.04.5 LTS \\n \\l\n",
            "\n",
            "processor\t: 0\n",
            "vendor_id\t: GenuineIntel\n",
            "cpu family\t: 6\n",
            "model\t\t: 79\n",
            "model name\t: Intel(R) Xeon(R) CPU @ 2.20GHz\n",
            "stepping\t: 0\n",
            "microcode\t: 0x1\n",
            "cpu MHz\t\t: 2199.998\n",
            "cache size\t: 56320 KB\n",
            "physical id\t: 0\n",
            "siblings\t: 2\n",
            "core id\t\t: 0\n",
            "cpu cores\t: 1\n",
            "apicid\t\t: 0\n",
            "initial apicid\t: 0\n",
            "fpu\t\t: yes\n",
            "fpu_exception\t: yes\n",
            "cpuid level\t: 13\n",
            "wp\t\t: yes\n",
            "flags\t\t: fpu vme de pse tsc msr pae mce cx8 apic sep mtrr pge mca cmov pat pse36 clflush mmx fxsr sse sse2 ss ht syscall nx pdpe1gb rdtscp lm constant_tsc rep_good nopl xtopology nonstop_tsc cpuid tsc_known_freq pni pclmulqdq ssse3 fma cx16 pcid sse4_1 sse4_2 x2apic movbe popcnt aes xsave avx f16c rdrand hypervisor lahf_lm abm 3dnowprefetch invpcid_single ssbd ibrs ibpb stibp fsgsbase tsc_adjust bmi1 hle avx2 smep bmi2 erms invpcid rtm rdseed adx smap xsaveopt arat md_clear arch_capabilities\n",
            "bugs\t\t: cpu_meltdown spectre_v1 spectre_v2 spec_store_bypass l1tf mds swapgs taa\n",
            "bogomips\t: 4399.99\n",
            "clflush size\t: 64\n",
            "cache_alignment\t: 64\n",
            "address sizes\t: 46 bits physical, 48 bits virtual\n",
            "power management:\n",
            "\n",
            "processor\t: 1\n",
            "vendor_id\t: GenuineIntel\n",
            "cpu family\t: 6\n",
            "model\t\t: 79\n",
            "model name\t: Intel(R) Xeon(R) CPU @ 2.20GHz\n",
            "stepping\t: 0\n",
            "microcode\t: 0x1\n",
            "cpu MHz\t\t: 2199.998\n",
            "cache size\t: 56320 KB\n",
            "physical id\t: 0\n",
            "siblings\t: 2\n",
            "core id\t\t: 0\n",
            "cpu cores\t: 1\n",
            "apicid\t\t: 1\n",
            "initial apicid\t: 1\n",
            "fpu\t\t: yes\n",
            "fpu_exception\t: yes\n",
            "cpuid level\t: 13\n",
            "wp\t\t: yes\n",
            "flags\t\t: fpu vme de pse tsc msr pae mce cx8 apic sep mtrr pge mca cmov pat pse36 clflush mmx fxsr sse sse2 ss ht syscall nx pdpe1gb rdtscp lm constant_tsc rep_good nopl xtopology nonstop_tsc cpuid tsc_known_freq pni pclmulqdq ssse3 fma cx16 pcid sse4_1 sse4_2 x2apic movbe popcnt aes xsave avx f16c rdrand hypervisor lahf_lm abm 3dnowprefetch invpcid_single ssbd ibrs ibpb stibp fsgsbase tsc_adjust bmi1 hle avx2 smep bmi2 erms invpcid rtm rdseed adx smap xsaveopt arat md_clear arch_capabilities\n",
            "bugs\t\t: cpu_meltdown spectre_v1 spectre_v2 spec_store_bypass l1tf mds swapgs taa\n",
            "bogomips\t: 4399.99\n",
            "clflush size\t: 64\n",
            "cache_alignment\t: 64\n",
            "address sizes\t: 46 bits physical, 48 bits virtual\n",
            "power management:\n",
            "\n",
            "2\n",
            "1\n",
            "cpu cores\t: 1\n",
            "              total        used        free      shared  buff/cache   available\n",
            "Mem:            12G        4.7G        1.4G        271M        6.5G        9.2G\n",
            "Swap:            0B          0B          0B\n",
            "Mon Jun 13 15:09:18 2022       \n",
            "+-----------------------------------------------------------------------------+\n",
            "| NVIDIA-SMI 460.32.03    Driver Version: 460.32.03    CUDA Version: 11.2     |\n",
            "|-------------------------------+----------------------+----------------------+\n",
            "| GPU  Name        Persistence-M| Bus-Id        Disp.A | Volatile Uncorr. ECC |\n",
            "| Fan  Temp  Perf  Pwr:Usage/Cap|         Memory-Usage | GPU-Util  Compute M. |\n",
            "|                               |                      |               MIG M. |\n",
            "|===============================+======================+======================|\n",
            "|   0  Tesla T4            Off  | 00000000:00:04.0 Off |                    0 |\n",
            "| N/A   75C    P0    41W /  70W |   9044MiB / 15109MiB |      0%      Default |\n",
            "|                               |                      |                  N/A |\n",
            "+-------------------------------+----------------------+----------------------+\n",
            "                                                                               \n",
            "+-----------------------------------------------------------------------------+\n",
            "| Processes:                                                                  |\n",
            "|  GPU   GI   CI        PID   Type   Process name                  GPU Memory |\n",
            "|        ID   ID                                                   Usage      |\n",
            "|=============================================================================|\n",
            "+-----------------------------------------------------------------------------+\n"
          ]
        }
      ],
      "source": [
        "#운영체제 확인\n",
        "!cat /etc/issue\n",
        "\n",
        "#0. CPU 정보 확인\n",
        "!cat /proc/cpuinfo\n",
        "\n",
        "#1. CPU 코어 전체 개수 확인\n",
        "!grep -c processor /proc/cpuinfo\n",
        " \n",
        "#2. 물리 CPU 수 확인\n",
        "!grep \"physical id\" /proc/cpuinfo | sort -u | wc -l\n",
        " \n",
        "# 3.CPU당 물리 코어 수 확인\n",
        "!grep \"cpu cores\" /proc/cpuinfo | tail -1\n",
        "\n",
        "#메모리 확인\n",
        "!free -h\n",
        "\n",
        "#런타임 유형 변경 후 gpu 확인\n",
        "!nvidia-smi"
      ]
    }
  ],
  "metadata": {
    "accelerator": "GPU",
    "colab": {
      "collapsed_sections": [],
      "name": "EfficientNet 3rd Result",
      "provenance": []
    },
    "kernelspec": {
      "display_name": "Python 3",
      "name": "python3"
    },
    "language_info": {
      "name": "python"
    }
  },
  "nbformat": 4,
  "nbformat_minor": 0
}
