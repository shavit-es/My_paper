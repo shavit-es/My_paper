{
  "cells": [
    {
      "cell_type": "code",
      "execution_count": 9,
      "metadata": {
        "colab": {
          "base_uri": "https://localhost:8080/"
        },
        "id": "-P2q4WSEARhh",
        "outputId": "03f09a6c-860b-4a70-b9e5-da36d2623ebf"
      },
      "outputs": [
        {
          "name": "stdout",
          "output_type": "stream",
          "text": [
            "Looking in indexes: https://pypi.org/simple, https://us-python.pkg.dev/colab-wheels/public/simple/\n",
            "Requirement already satisfied: cloud_tpu_client in /usr/local/lib/python3.7/dist-packages (0.10)\n",
            "Requirement already satisfied: oauth2client in /usr/local/lib/python3.7/dist-packages (from cloud_tpu_client) (4.1.3)\n",
            "Requirement already satisfied: google-api-python-client==1.8.0 in /usr/local/lib/python3.7/dist-packages (from cloud_tpu_client) (1.8.0)\n",
            "Requirement already satisfied: httplib2<1dev,>=0.9.2 in /usr/local/lib/python3.7/dist-packages (from google-api-python-client==1.8.0->cloud_tpu_client) (0.17.4)\n",
            "Requirement already satisfied: google-auth>=1.4.1 in /usr/local/lib/python3.7/dist-packages (from google-api-python-client==1.8.0->cloud_tpu_client) (1.35.0)\n",
            "Requirement already satisfied: google-api-core<2dev,>=1.13.0 in /usr/local/lib/python3.7/dist-packages (from google-api-python-client==1.8.0->cloud_tpu_client) (1.31.6)\n",
            "Requirement already satisfied: uritemplate<4dev,>=3.0.0 in /usr/local/lib/python3.7/dist-packages (from google-api-python-client==1.8.0->cloud_tpu_client) (3.0.1)\n",
            "Requirement already satisfied: six<2dev,>=1.6.1 in /usr/local/lib/python3.7/dist-packages (from google-api-python-client==1.8.0->cloud_tpu_client) (1.15.0)\n",
            "Requirement already satisfied: google-auth-httplib2>=0.0.3 in /usr/local/lib/python3.7/dist-packages (from google-api-python-client==1.8.0->cloud_tpu_client) (0.0.4)\n",
            "Requirement already satisfied: requests<3.0.0dev,>=2.18.0 in /usr/local/lib/python3.7/dist-packages (from google-api-core<2dev,>=1.13.0->google-api-python-client==1.8.0->cloud_tpu_client) (2.23.0)\n",
            "Requirement already satisfied: packaging>=14.3 in /usr/local/lib/python3.7/dist-packages (from google-api-core<2dev,>=1.13.0->google-api-python-client==1.8.0->cloud_tpu_client) (21.3)\n",
            "Requirement already satisfied: googleapis-common-protos<2.0dev,>=1.6.0 in /usr/local/lib/python3.7/dist-packages (from google-api-core<2dev,>=1.13.0->google-api-python-client==1.8.0->cloud_tpu_client) (1.56.2)\n",
            "Requirement already satisfied: pytz in /usr/local/lib/python3.7/dist-packages (from google-api-core<2dev,>=1.13.0->google-api-python-client==1.8.0->cloud_tpu_client) (2022.1)\n",
            "Requirement already satisfied: setuptools>=40.3.0 in /usr/local/lib/python3.7/dist-packages (from google-api-core<2dev,>=1.13.0->google-api-python-client==1.8.0->cloud_tpu_client) (57.4.0)\n",
            "Requirement already satisfied: protobuf<4.0.0dev,>=3.12.0 in /usr/local/lib/python3.7/dist-packages (from google-api-core<2dev,>=1.13.0->google-api-python-client==1.8.0->cloud_tpu_client) (3.17.3)\n",
            "Requirement already satisfied: pyasn1-modules>=0.2.1 in /usr/local/lib/python3.7/dist-packages (from google-auth>=1.4.1->google-api-python-client==1.8.0->cloud_tpu_client) (0.2.8)\n",
            "Requirement already satisfied: rsa<5,>=3.1.4 in /usr/local/lib/python3.7/dist-packages (from google-auth>=1.4.1->google-api-python-client==1.8.0->cloud_tpu_client) (4.8)\n",
            "Requirement already satisfied: cachetools<5.0,>=2.0.0 in /usr/local/lib/python3.7/dist-packages (from google-auth>=1.4.1->google-api-python-client==1.8.0->cloud_tpu_client) (4.2.4)\n",
            "Requirement already satisfied: pyparsing!=3.0.5,>=2.0.2 in /usr/local/lib/python3.7/dist-packages (from packaging>=14.3->google-api-core<2dev,>=1.13.0->google-api-python-client==1.8.0->cloud_tpu_client) (3.0.9)\n",
            "Requirement already satisfied: pyasn1<0.5.0,>=0.4.6 in /usr/local/lib/python3.7/dist-packages (from pyasn1-modules>=0.2.1->google-auth>=1.4.1->google-api-python-client==1.8.0->cloud_tpu_client) (0.4.8)\n",
            "Requirement already satisfied: idna<3,>=2.5 in /usr/local/lib/python3.7/dist-packages (from requests<3.0.0dev,>=2.18.0->google-api-core<2dev,>=1.13.0->google-api-python-client==1.8.0->cloud_tpu_client) (2.10)\n",
            "Requirement already satisfied: certifi>=2017.4.17 in /usr/local/lib/python3.7/dist-packages (from requests<3.0.0dev,>=2.18.0->google-api-core<2dev,>=1.13.0->google-api-python-client==1.8.0->cloud_tpu_client) (2022.5.18.1)\n",
            "Requirement already satisfied: chardet<4,>=3.0.2 in /usr/local/lib/python3.7/dist-packages (from requests<3.0.0dev,>=2.18.0->google-api-core<2dev,>=1.13.0->google-api-python-client==1.8.0->cloud_tpu_client) (3.0.4)\n",
            "Requirement already satisfied: urllib3!=1.25.0,!=1.25.1,<1.26,>=1.21.1 in /usr/local/lib/python3.7/dist-packages (from requests<3.0.0dev,>=2.18.0->google-api-core<2dev,>=1.13.0->google-api-python-client==1.8.0->cloud_tpu_client) (1.24.3)\n"
          ]
        }
      ],
      "source": [
        "!pip install cloud_tpu_client"
      ]
    },
    {
      "cell_type": "code",
      "execution_count": 10,
      "metadata": {
        "colab": {
          "base_uri": "https://localhost:8080/"
        },
        "id": "xJbOdynPihHA",
        "outputId": "5a47cbe1-3dba-40a8-ffee-72ae5b24059b"
      },
      "outputs": [
        {
          "name": "stdout",
          "output_type": "stream",
          "text": [
            "Drive already mounted at /content/drive; to attempt to forcibly remount, call drive.mount(\"/content/drive\", force_remount=True).\n"
          ]
        }
      ],
      "source": [
        "from google.colab import drive\n",
        "drive.mount('/content/drive')"
      ]
    },
    {
      "cell_type": "code",
      "execution_count": 11,
      "metadata": {
        "id": "LvgMhZQt7W5w"
      },
      "outputs": [],
      "source": [
        "from tensorflow.keras.applications import EfficientNetB0\n",
        "model = EfficientNetB0(weights='imagenet')"
      ]
    },
    {
      "cell_type": "code",
      "execution_count": 12,
      "metadata": {
        "id": "0iYRk_PS7W8V"
      },
      "outputs": [],
      "source": [
        "# IMG_SIZE is determined by EfficientNet model choice\n",
        "IMG_SIZE = 224"
      ]
    },
    {
      "cell_type": "code",
      "execution_count": 13,
      "metadata": {
        "colab": {
          "base_uri": "https://localhost:8080/"
        },
        "id": "06Ys3SeT7W-y",
        "outputId": "61c1bbd3-cfd7-4dc0-b79a-93be5d64e57f"
      },
      "outputs": [
        {
          "name": "stdout",
          "output_type": "stream",
          "text": [
            "Not connected to a TPU runtime. Using CPU/GPU strategy\n",
            "INFO:tensorflow:Using MirroredStrategy with devices ('/job:localhost/replica:0/task:0/device:GPU:0',)\n"
          ]
        }
      ],
      "source": [
        "from cloud_tpu_client import Client\n",
        "import tensorflow as tf\n",
        "import numpy as np\n",
        "\n",
        "\n",
        "\n",
        "try:\n",
        "    c = Client()\n",
        "    c.configure_tpu_version(tf.__version__, restart_type=\"always\")\n",
        "    tpu = tf.distribute.cluster_resolver.TPUClusterResolver.connect()\n",
        "    print(\"Device:\", tpu.master())\n",
        "    strategy = tf.distribute.TPUStrategy(tpu)\n",
        "\n",
        "except ValueError:\n",
        "    print(\"Not connected to a TPU runtime. Using CPU/GPU strategy\")\n",
        "    strategy = tf.distribute.MirroredStrategy()"
      ]
    },
    {
      "cell_type": "code",
      "execution_count": 14,
      "metadata": {
        "colab": {
          "base_uri": "https://localhost:8080/"
        },
        "id": "54v8xUNRBnT6",
        "outputId": "934935bb-1c66-4703-b8f9-3ea65b5a6b3d"
      },
      "outputs": [
        {
          "name": "stdout",
          "output_type": "stream",
          "text": [
            "<PrefetchDataset element_spec=(TensorSpec(shape=(224, 224, 3), dtype=tf.uint8, name=None), TensorSpec(shape=(), dtype=tf.int32, name=None))>\n",
            "<PrefetchDataset element_spec=(TensorSpec(shape=(224, 224, 3), dtype=tf.uint8, name=None), TensorSpec(shape=(), dtype=tf.int32, name=None))>\n"
          ]
        }
      ],
      "source": [
        "batch_size = 32\n",
        "SHUFFLE_BUFFER_SIZE = 300\n",
        "\n",
        "x_train, x_test, y_train, y_test = np.load(\"/content/drive/MyDrive/steel_surface_224.npy\", allow_pickle=True)\n",
        "ds_train = tf.data.Dataset.from_tensor_slices((x_train, y_train))\n",
        "ds_train = ds_train.prefetch(batch_size)\n",
        "ds_test = tf.data.Dataset.from_tensor_slices((x_test, y_test))\n",
        "ds_test = ds_test.prefetch(batch_size)\n",
        "print(ds_train)\n",
        "print(ds_test)"
      ]
    },
    {
      "cell_type": "code",
      "execution_count": 15,
      "metadata": {
        "id": "ETtjOBJr7XBF"
      },
      "outputs": [],
      "source": [
        "NUM_CLASSES = 6"
      ]
    },
    {
      "cell_type": "code",
      "execution_count": 16,
      "metadata": {
        "id": "7fDMzZvW7XDY"
      },
      "outputs": [],
      "source": [
        "size = (IMG_SIZE, IMG_SIZE)\n",
        "ds_train = ds_train.map(lambda image, label: (tf.image.resize(image, size), label))\n",
        "ds_test = ds_test.map(lambda image, label: (tf.image.resize(image, size), label))"
      ]
    },
    {
      "cell_type": "code",
      "execution_count": 17,
      "metadata": {
        "colab": {
          "base_uri": "https://localhost:8080/",
          "height": 264
        },
        "id": "KO1NCo6Z7XFp",
        "outputId": "7f56e412-622d-4e19-b079-8e92c573b908"
      },
      "outputs": [
        {
          "data": {
            "image/png": "[encoded data removed]",
            "text/plain": [
              "<Figure size 432x288 with 9 Axes>"
            ]
          },
          "metadata": {
            "needs_background": "light"
          },
          "output_type": "display_data"
        }
      ],
      "source": [
        "import matplotlib.pyplot as plt\n",
        "\n",
        "labellist=[\"crazing\",\"inclusion\",\"patches\",\"pitted_surface\",\"rolled-in_scale\",\"scratches\"]\n",
        "def format_label(label):\n",
        "  return labellist[(int(str(label)[10]))]\n",
        "\n",
        "\n",
        "for i, (image, label) in enumerate(ds_train.take(9)):\n",
        "    ax = plt.subplot(3, 3, i + 1)\n",
        "    plt.imshow(image.numpy().astype(\"uint8\"))\n",
        "    plt.title(format_label(label))\n",
        "    plt.axis(\"off\")"
      ]
    },
    {
      "cell_type": "code",
      "execution_count": 18,
      "metadata": {
        "id": "p_L0gBYE7XIA"
      },
      "outputs": [],
      "source": [
        "from tensorflow.keras.models import Sequential\n",
        "from tensorflow.keras import layers\n",
        "\n",
        "img_augmentation = Sequential(\n",
        "    [\n",
        "        layers.RandomRotation(factor=0.15),\n",
        "        layers.RandomTranslation(height_factor=0.1, width_factor=0.1),\n",
        "        layers.RandomFlip(),\n",
        "        layers.RandomContrast(factor=0.1),\n",
        "    ],\n",
        "    name=\"img_augmentation\",\n",
        ")"
      ]
    },
    {
      "cell_type": "code",
      "execution_count": 20,
      "metadata": {
        "id": "7MepxW4l7XMW"
      },
      "outputs": [],
      "source": [
        "# One-hot / categorical encoding\n",
        "def input_preprocess(image, label):\n",
        "    label = tf.one_hot(label, NUM_CLASSES)\n",
        "    return image, label\n",
        "\n",
        "\n",
        "ds_train = ds_train.map(\n",
        "    input_preprocess, num_parallel_calls=tf.data.AUTOTUNE\n",
        ")\n",
        "ds_train = ds_train.batch(batch_size=batch_size, drop_remainder=True)\n",
        "ds_train = ds_train.prefetch(tf.data.AUTOTUNE)\n",
        "\n",
        "ds_test = ds_test.map(input_preprocess)\n",
        "ds_test = ds_test.batch(batch_size=batch_size, drop_remainder=True)"
      ]
    },
    {
      "cell_type": "code",
      "execution_count": 21,
      "metadata": {
        "colab": {
          "base_uri": "https://localhost:8080/"
        },
        "id": "Y4me0mAj7XOh",
        "outputId": "d8096f63-a9fd-4925-fced-51fd25037583"
      },
      "outputs": [
        {
          "name": "stdout",
          "output_type": "stream",
          "text": [
            "INFO:tensorflow:Reduce to /job:localhost/replica:0/task:0/device:CPU:0 then broadcast to ('/job:localhost/replica:0/task:0/device:CPU:0',).\n",
            "INFO:tensorflow:Reduce to /job:localhost/replica:0/task:0/device:CPU:0 then broadcast to ('/job:localhost/replica:0/task:0/device:CPU:0',).\n",
            "INFO:tensorflow:Reduce to /job:localhost/replica:0/task:0/device:CPU:0 then broadcast to ('/job:localhost/replica:0/task:0/device:CPU:0',).\n",
            "INFO:tensorflow:Reduce to /job:localhost/replica:0/task:0/device:CPU:0 then broadcast to ('/job:localhost/replica:0/task:0/device:CPU:0',).\n",
            "INFO:tensorflow:Reduce to /job:localhost/replica:0/task:0/device:CPU:0 then broadcast to ('/job:localhost/replica:0/task:0/device:CPU:0',).\n",
            "INFO:tensorflow:Reduce to /job:localhost/replica:0/task:0/device:CPU:0 then broadcast to ('/job:localhost/replica:0/task:0/device:CPU:0',).\n",
            "INFO:tensorflow:Reduce to /job:localhost/replica:0/task:0/device:CPU:0 then broadcast to ('/job:localhost/replica:0/task:0/device:CPU:0',).\n",
            "INFO:tensorflow:Reduce to /job:localhost/replica:0/task:0/device:CPU:0 then broadcast to ('/job:localhost/replica:0/task:0/device:CPU:0',).\n",
            "INFO:tensorflow:Reduce to /job:localhost/replica:0/task:0/device:CPU:0 then broadcast to ('/job:localhost/replica:0/task:0/device:CPU:0',).\n",
            "INFO:tensorflow:Reduce to /job:localhost/replica:0/task:0/device:CPU:0 then broadcast to ('/job:localhost/replica:0/task:0/device:CPU:0',).\n",
            "Model: \"model\"\n",
            "_________________________________________________________________\n",
            " Layer (type)                Output Shape              Param #   \n",
            "=================================================================\n",
            " input_3 (InputLayer)        [(None, 224, 224, 3)]     0         \n",
            "                                                                 \n",
            " img_augmentation (Sequentia  (None, 224, 224, 3)      0         \n",
            " l)                                                              \n",
            "                                                                 \n",
            " efficientnetb0 (Functional)  (None, 6)                4057257   \n",
            "                                                                 \n",
            "=================================================================\n",
            "Total params: 4,057,257\n",
            "Trainable params: 4,015,234\n",
            "Non-trainable params: 42,023\n",
            "_________________________________________________________________\n",
            "Epoch 1/100\n",
            "33/33 - 44s - loss: 2.1442 - accuracy: 0.4669 - val_loss: 2.8023 - val_accuracy: 0.1420 - 44s/epoch - 1s/step\n",
            "Epoch 2/100\n",
            "33/33 - 11s - loss: 1.3012 - accuracy: 0.6288 - val_loss: 3.1403 - val_accuracy: 0.1648 - 11s/epoch - 332ms/step\n",
            "Epoch 3/100\n",
            "33/33 - 11s - loss: 0.9818 - accuracy: 0.6837 - val_loss: 4.1822 - val_accuracy: 0.2244 - 11s/epoch - 331ms/step\n",
            "Epoch 4/100\n",
            "33/33 - 11s - loss: 0.6459 - accuracy: 0.7888 - val_loss: 3.9677 - val_accuracy: 0.2188 - 11s/epoch - 324ms/step\n",
            "Epoch 5/100\n",
            "33/33 - 11s - loss: 0.5255 - accuracy: 0.8172 - val_loss: 4.6344 - val_accuracy: 0.2472 - 11s/epoch - 325ms/step\n",
            "Epoch 6/100\n",
            "33/33 - 11s - loss: 0.5350 - accuracy: 0.8295 - val_loss: 4.3410 - val_accuracy: 0.2500 - 11s/epoch - 321ms/step\n",
            "Epoch 7/100\n",
            "33/33 - 11s - loss: 0.4280 - accuracy: 0.8551 - val_loss: 4.0880 - val_accuracy: 0.0597 - 11s/epoch - 323ms/step\n",
            "Epoch 8/100\n",
            "33/33 - 11s - loss: 0.3815 - accuracy: 0.8759 - val_loss: 5.7470 - val_accuracy: 0.2216 - 11s/epoch - 325ms/step\n",
            "Epoch 9/100\n",
            "33/33 - 11s - loss: 0.3608 - accuracy: 0.8731 - val_loss: 8.6909 - val_accuracy: 0.1733 - 11s/epoch - 322ms/step\n",
            "Epoch 10/100\n",
            "33/33 - 11s - loss: 0.3100 - accuracy: 0.8911 - val_loss: 7.5560 - val_accuracy: 0.1847 - 11s/epoch - 323ms/step\n",
            "Epoch 11/100\n",
            "33/33 - 11s - loss: 0.2574 - accuracy: 0.9176 - val_loss: 7.9137 - val_accuracy: 0.1733 - 11s/epoch - 328ms/step\n",
            "Epoch 12/100\n",
            "33/33 - 11s - loss: 0.2818 - accuracy: 0.9119 - val_loss: 6.0101 - val_accuracy: 0.2017 - 11s/epoch - 331ms/step\n",
            "Epoch 13/100\n",
            "33/33 - 11s - loss: 0.2055 - accuracy: 0.9328 - val_loss: 6.9680 - val_accuracy: 0.2812 - 11s/epoch - 326ms/step\n",
            "Epoch 14/100\n",
            "33/33 - 11s - loss: 0.2325 - accuracy: 0.9242 - val_loss: 5.4608 - val_accuracy: 0.3011 - 11s/epoch - 327ms/step\n",
            "Epoch 15/100\n",
            "33/33 - 11s - loss: 0.2124 - accuracy: 0.9347 - val_loss: 3.1966 - val_accuracy: 0.4773 - 11s/epoch - 340ms/step\n",
            "Epoch 16/100\n",
            "33/33 - 11s - loss: 0.2376 - accuracy: 0.9186 - val_loss: 0.8986 - val_accuracy: 0.7386 - 11s/epoch - 325ms/step\n",
            "Epoch 17/100\n",
            "33/33 - 11s - loss: 0.1827 - accuracy: 0.9432 - val_loss: 0.5229 - val_accuracy: 0.8267 - 11s/epoch - 329ms/step\n",
            "Epoch 18/100\n",
            "33/33 - 11s - loss: 0.1915 - accuracy: 0.9403 - val_loss: 0.5592 - val_accuracy: 0.8636 - 11s/epoch - 329ms/step\n",
            "Epoch 19/100\n",
            "33/33 - 11s - loss: 0.1612 - accuracy: 0.9394 - val_loss: 0.5234 - val_accuracy: 0.8864 - 11s/epoch - 329ms/step\n",
            "Epoch 20/100\n",
            "33/33 - 11s - loss: 0.1955 - accuracy: 0.9356 - val_loss: 0.2695 - val_accuracy: 0.9290 - 11s/epoch - 331ms/step\n",
            "Epoch 21/100\n",
            "33/33 - 11s - loss: 0.1439 - accuracy: 0.9545 - val_loss: 0.1789 - val_accuracy: 0.9517 - 11s/epoch - 328ms/step\n",
            "Epoch 22/100\n",
            "33/33 - 11s - loss: 0.1188 - accuracy: 0.9631 - val_loss: 0.2601 - val_accuracy: 0.9347 - 11s/epoch - 325ms/step\n",
            "Epoch 23/100\n",
            "33/33 - 11s - loss: 0.1553 - accuracy: 0.9489 - val_loss: 1.3164 - val_accuracy: 0.7330 - 11s/epoch - 327ms/step\n",
            "Epoch 24/100\n",
            "33/33 - 11s - loss: 0.1501 - accuracy: 0.9479 - val_loss: 0.2375 - val_accuracy: 0.9205 - 11s/epoch - 327ms/step\n",
            "Epoch 25/100\n",
            "33/33 - 11s - loss: 0.1168 - accuracy: 0.9555 - val_loss: 0.5402 - val_accuracy: 0.8636 - 11s/epoch - 326ms/step\n",
            "Epoch 26/100\n",
            "33/33 - 11s - loss: 0.3067 - accuracy: 0.9422 - val_loss: 3.3507 - val_accuracy: 0.3580 - 11s/epoch - 327ms/step\n",
            "Epoch 27/100\n",
            "33/33 - 11s - loss: 0.4097 - accuracy: 0.9100 - val_loss: 39.4728 - val_accuracy: 0.4773 - 11s/epoch - 329ms/step\n",
            "Epoch 28/100\n",
            "33/33 - 11s - loss: 0.4007 - accuracy: 0.9081 - val_loss: 2.8727 - val_accuracy: 0.6222 - 11s/epoch - 328ms/step\n",
            "Epoch 29/100\n",
            "33/33 - 11s - loss: 0.5822 - accuracy: 0.8712 - val_loss: 914.2074 - val_accuracy: 0.2358 - 11s/epoch - 328ms/step\n",
            "Epoch 30/100\n",
            "33/33 - 11s - loss: 0.3366 - accuracy: 0.9138 - val_loss: 140.3322 - val_accuracy: 0.2841 - 11s/epoch - 329ms/step\n",
            "Epoch 31/100\n",
            "33/33 - 11s - loss: 0.2298 - accuracy: 0.9318 - val_loss: 6.9960 - val_accuracy: 0.5227 - 11s/epoch - 328ms/step\n",
            "Epoch 32/100\n",
            "33/33 - 11s - loss: 0.1434 - accuracy: 0.9564 - val_loss: 1.8304 - val_accuracy: 0.6960 - 11s/epoch - 326ms/step\n",
            "Epoch 33/100\n",
            "33/33 - 11s - loss: 0.1578 - accuracy: 0.9517 - val_loss: 1.4266 - val_accuracy: 0.7443 - 11s/epoch - 328ms/step\n",
            "Epoch 34/100\n",
            "33/33 - 11s - loss: 0.1369 - accuracy: 0.9621 - val_loss: 2.1154 - val_accuracy: 0.6875 - 11s/epoch - 328ms/step\n",
            "Epoch 35/100\n",
            "33/33 - 11s - loss: 0.1096 - accuracy: 0.9640 - val_loss: 1.2097 - val_accuracy: 0.7699 - 11s/epoch - 328ms/step\n",
            "Epoch 36/100\n",
            "33/33 - 11s - loss: 0.1207 - accuracy: 0.9593 - val_loss: 1.3903 - val_accuracy: 0.7841 - 11s/epoch - 326ms/step\n",
            "Epoch 37/100\n",
            "33/33 - 11s - loss: 0.1649 - accuracy: 0.9384 - val_loss: 0.8514 - val_accuracy: 0.7955 - 11s/epoch - 329ms/step\n",
            "Epoch 38/100\n",
            "33/33 - 11s - loss: 0.1286 - accuracy: 0.9545 - val_loss: 2.7814 - val_accuracy: 0.7159 - 11s/epoch - 327ms/step\n",
            "Epoch 39/100\n",
            "33/33 - 11s - loss: 0.0945 - accuracy: 0.9716 - val_loss: 2.1692 - val_accuracy: 0.7386 - 11s/epoch - 329ms/step\n",
            "Epoch 40/100\n",
            "33/33 - 11s - loss: 0.0916 - accuracy: 0.9735 - val_loss: 0.2868 - val_accuracy: 0.9290 - 11s/epoch - 328ms/step\n",
            "Epoch 41/100\n",
            "33/33 - 11s - loss: 0.0860 - accuracy: 0.9792 - val_loss: 0.3970 - val_accuracy: 0.9119 - 11s/epoch - 327ms/step\n",
            "Epoch 42/100\n",
            "33/33 - 11s - loss: 0.1202 - accuracy: 0.9631 - val_loss: 0.7602 - val_accuracy: 0.8807 - 11s/epoch - 327ms/step\n",
            "Epoch 43/100\n",
            "33/33 - 11s - loss: 0.0819 - accuracy: 0.9744 - val_loss: 0.2514 - val_accuracy: 0.9517 - 11s/epoch - 328ms/step\n",
            "Epoch 44/100\n",
            "33/33 - 11s - loss: 0.1033 - accuracy: 0.9678 - val_loss: 0.2646 - val_accuracy: 0.9489 - 11s/epoch - 328ms/step\n",
            "Epoch 45/100\n",
            "33/33 - 11s - loss: 0.0970 - accuracy: 0.9697 - val_loss: 0.5086 - val_accuracy: 0.8835 - 11s/epoch - 329ms/step\n",
            "Epoch 46/100\n",
            "33/33 - 11s - loss: 0.0806 - accuracy: 0.9725 - val_loss: 0.7586 - val_accuracy: 0.8494 - 11s/epoch - 328ms/step\n",
            "Epoch 47/100\n",
            "33/33 - 11s - loss: 0.0739 - accuracy: 0.9763 - val_loss: 0.1710 - val_accuracy: 0.9631 - 11s/epoch - 326ms/step\n",
            "Epoch 48/100\n",
            "33/33 - 11s - loss: 0.0968 - accuracy: 0.9669 - val_loss: 0.4269 - val_accuracy: 0.8636 - 11s/epoch - 325ms/step\n",
            "Epoch 49/100\n",
            "33/33 - 11s - loss: 0.0824 - accuracy: 0.9735 - val_loss: 0.4738 - val_accuracy: 0.9034 - 11s/epoch - 328ms/step\n",
            "Epoch 50/100\n",
            "33/33 - 11s - loss: 0.0531 - accuracy: 0.9820 - val_loss: 0.2884 - val_accuracy: 0.9403 - 11s/epoch - 326ms/step\n",
            "Epoch 51/100\n",
            "33/33 - 11s - loss: 0.0539 - accuracy: 0.9820 - val_loss: 0.3856 - val_accuracy: 0.9148 - 11s/epoch - 326ms/step\n",
            "Epoch 52/100\n",
            "33/33 - 11s - loss: 0.0987 - accuracy: 0.9678 - val_loss: 0.3859 - val_accuracy: 0.9034 - 11s/epoch - 325ms/step\n",
            "Epoch 53/100\n",
            "33/33 - 11s - loss: 0.0815 - accuracy: 0.9735 - val_loss: 0.7419 - val_accuracy: 0.8125 - 11s/epoch - 325ms/step\n",
            "Epoch 54/100\n",
            "33/33 - 11s - loss: 0.0806 - accuracy: 0.9754 - val_loss: 2.3175 - val_accuracy: 0.7500 - 11s/epoch - 328ms/step\n",
            "Epoch 55/100\n",
            "33/33 - 11s - loss: 0.0565 - accuracy: 0.9848 - val_loss: 0.9035 - val_accuracy: 0.8381 - 11s/epoch - 327ms/step\n",
            "Epoch 56/100\n",
            "33/33 - 11s - loss: 0.0492 - accuracy: 0.9858 - val_loss: 0.2657 - val_accuracy: 0.9375 - 11s/epoch - 330ms/step\n",
            "Epoch 57/100\n",
            "33/33 - 11s - loss: 0.0532 - accuracy: 0.9830 - val_loss: 0.3880 - val_accuracy: 0.9261 - 11s/epoch - 329ms/step\n",
            "Epoch 58/100\n",
            "33/33 - 11s - loss: 0.1025 - accuracy: 0.9706 - val_loss: 0.1645 - val_accuracy: 0.9659 - 11s/epoch - 330ms/step\n",
            "Epoch 59/100\n",
            "33/33 - 11s - loss: 0.0738 - accuracy: 0.9725 - val_loss: 0.2236 - val_accuracy: 0.9403 - 11s/epoch - 327ms/step\n",
            "Epoch 60/100\n",
            "33/33 - 11s - loss: 0.1064 - accuracy: 0.9782 - val_loss: 0.2848 - val_accuracy: 0.9290 - 11s/epoch - 324ms/step\n",
            "Epoch 61/100\n",
            "33/33 - 11s - loss: 0.2194 - accuracy: 0.9536 - val_loss: 0.3923 - val_accuracy: 0.8864 - 11s/epoch - 329ms/step\n",
            "Epoch 62/100\n",
            "33/33 - 11s - loss: 0.1149 - accuracy: 0.9659 - val_loss: 0.1465 - val_accuracy: 0.9574 - 11s/epoch - 328ms/step\n",
            "Epoch 63/100\n",
            "33/33 - 11s - loss: 0.0791 - accuracy: 0.9706 - val_loss: 0.2366 - val_accuracy: 0.9489 - 11s/epoch - 326ms/step\n",
            "Epoch 64/100\n",
            "33/33 - 11s - loss: 0.0809 - accuracy: 0.9688 - val_loss: 0.2165 - val_accuracy: 0.9119 - 11s/epoch - 329ms/step\n",
            "Epoch 65/100\n",
            "33/33 - 11s - loss: 0.0810 - accuracy: 0.9735 - val_loss: 0.7574 - val_accuracy: 0.8182 - 11s/epoch - 327ms/step\n",
            "Epoch 66/100\n",
            "33/33 - 11s - loss: 0.1860 - accuracy: 0.9631 - val_loss: 3.4605 - val_accuracy: 0.5341 - 11s/epoch - 325ms/step\n",
            "Epoch 67/100\n",
            "33/33 - 11s - loss: 0.1523 - accuracy: 0.9650 - val_loss: 1.0301 - val_accuracy: 0.7869 - 11s/epoch - 329ms/step\n",
            "Epoch 68/100\n",
            "33/33 - 11s - loss: 0.2112 - accuracy: 0.9489 - val_loss: 5.2814 - val_accuracy: 0.4773 - 11s/epoch - 328ms/step\n",
            "Epoch 69/100\n",
            "33/33 - 11s - loss: 0.1325 - accuracy: 0.9555 - val_loss: 2.0923 - val_accuracy: 0.6392 - 11s/epoch - 329ms/step\n",
            "Epoch 70/100\n",
            "33/33 - 11s - loss: 0.0972 - accuracy: 0.9706 - val_loss: 0.3468 - val_accuracy: 0.8750 - 11s/epoch - 328ms/step\n",
            "Epoch 71/100\n",
            "33/33 - 11s - loss: 0.0760 - accuracy: 0.9725 - val_loss: 0.4422 - val_accuracy: 0.8722 - 11s/epoch - 328ms/step\n",
            "Epoch 72/100\n",
            "33/33 - 11s - loss: 0.0715 - accuracy: 0.9735 - val_loss: 0.1855 - val_accuracy: 0.9460 - 11s/epoch - 328ms/step\n",
            "Epoch 73/100\n",
            "33/33 - 11s - loss: 0.0872 - accuracy: 0.9792 - val_loss: 0.3472 - val_accuracy: 0.9006 - 11s/epoch - 327ms/step\n",
            "Epoch 74/100\n",
            "33/33 - 11s - loss: 0.0812 - accuracy: 0.9744 - val_loss: 0.9659 - val_accuracy: 0.7898 - 11s/epoch - 328ms/step\n",
            "Epoch 75/100\n",
            "33/33 - 11s - loss: 0.0692 - accuracy: 0.9792 - val_loss: 0.1826 - val_accuracy: 0.9347 - 11s/epoch - 328ms/step\n",
            "Epoch 76/100\n",
            "33/33 - 11s - loss: 0.0743 - accuracy: 0.9763 - val_loss: 0.2597 - val_accuracy: 0.9148 - 11s/epoch - 325ms/step\n",
            "Epoch 77/100\n",
            "33/33 - 11s - loss: 0.0615 - accuracy: 0.9801 - val_loss: 0.1482 - val_accuracy: 0.9574 - 11s/epoch - 324ms/step\n",
            "Epoch 78/100\n",
            "33/33 - 11s - loss: 0.0407 - accuracy: 0.9867 - val_loss: 0.1450 - val_accuracy: 0.9688 - 11s/epoch - 323ms/step\n",
            "Epoch 79/100\n",
            "33/33 - 11s - loss: 0.0741 - accuracy: 0.9763 - val_loss: 0.1095 - val_accuracy: 0.9688 - 11s/epoch - 321ms/step\n",
            "Epoch 80/100\n",
            "33/33 - 11s - loss: 0.0508 - accuracy: 0.9839 - val_loss: 0.1696 - val_accuracy: 0.9432 - 11s/epoch - 322ms/step\n",
            "Epoch 81/100\n",
            "33/33 - 11s - loss: 0.0368 - accuracy: 0.9839 - val_loss: 0.1286 - val_accuracy: 0.9631 - 11s/epoch - 323ms/step\n",
            "Epoch 82/100\n",
            "33/33 - 11s - loss: 0.0300 - accuracy: 0.9905 - val_loss: 0.4202 - val_accuracy: 0.8949 - 11s/epoch - 325ms/step\n",
            "Epoch 83/100\n",
            "33/33 - 11s - loss: 0.0472 - accuracy: 0.9811 - val_loss: 0.3986 - val_accuracy: 0.9091 - 11s/epoch - 320ms/step\n",
            "Epoch 84/100\n",
            "33/33 - 11s - loss: 0.0567 - accuracy: 0.9811 - val_loss: 0.4604 - val_accuracy: 0.9062 - 11s/epoch - 324ms/step\n",
            "Epoch 85/100\n",
            "33/33 - 11s - loss: 0.0523 - accuracy: 0.9820 - val_loss: 0.2941 - val_accuracy: 0.9347 - 11s/epoch - 324ms/step\n",
            "Epoch 86/100\n",
            "33/33 - 11s - loss: 0.0323 - accuracy: 0.9877 - val_loss: 0.2282 - val_accuracy: 0.9432 - 11s/epoch - 319ms/step\n",
            "Epoch 87/100\n",
            "33/33 - 11s - loss: 0.0260 - accuracy: 0.9905 - val_loss: 0.1432 - val_accuracy: 0.9631 - 11s/epoch - 326ms/step\n",
            "Epoch 88/100\n",
            "33/33 - 11s - loss: 0.0450 - accuracy: 0.9858 - val_loss: 0.1644 - val_accuracy: 0.9545 - 11s/epoch - 331ms/step\n",
            "Epoch 89/100\n",
            "33/33 - 11s - loss: 0.0447 - accuracy: 0.9830 - val_loss: 0.1973 - val_accuracy: 0.9489 - 11s/epoch - 325ms/step\n",
            "Epoch 90/100\n",
            "33/33 - 11s - loss: 0.0302 - accuracy: 0.9886 - val_loss: 0.2858 - val_accuracy: 0.9261 - 11s/epoch - 327ms/step\n",
            "Epoch 91/100\n",
            "33/33 - 11s - loss: 0.0251 - accuracy: 0.9934 - val_loss: 0.1439 - val_accuracy: 0.9545 - 11s/epoch - 320ms/step\n",
            "Epoch 92/100\n",
            "33/33 - 11s - loss: 0.0833 - accuracy: 0.9716 - val_loss: 0.2323 - val_accuracy: 0.9460 - 11s/epoch - 321ms/step\n",
            "Epoch 93/100\n",
            "33/33 - 11s - loss: 0.0595 - accuracy: 0.9811 - val_loss: 0.6713 - val_accuracy: 0.8636 - 11s/epoch - 321ms/step\n",
            "Epoch 94/100\n",
            "33/33 - 11s - loss: 0.0544 - accuracy: 0.9848 - val_loss: 0.6055 - val_accuracy: 0.8778 - 11s/epoch - 323ms/step\n",
            "Epoch 95/100\n",
            "33/33 - 11s - loss: 0.0590 - accuracy: 0.9773 - val_loss: 0.1235 - val_accuracy: 0.9659 - 11s/epoch - 326ms/step\n",
            "Epoch 96/100\n",
            "33/33 - 11s - loss: 0.0440 - accuracy: 0.9830 - val_loss: 0.3860 - val_accuracy: 0.9091 - 11s/epoch - 327ms/step\n",
            "Epoch 97/100\n",
            "33/33 - 11s - loss: 0.0285 - accuracy: 0.9896 - val_loss: 0.3453 - val_accuracy: 0.9148 - 11s/epoch - 327ms/step\n",
            "Epoch 98/100\n",
            "33/33 - 11s - loss: 0.0330 - accuracy: 0.9915 - val_loss: 0.1503 - val_accuracy: 0.9574 - 11s/epoch - 324ms/step\n",
            "Epoch 99/100\n",
            "33/33 - 11s - loss: 0.0338 - accuracy: 0.9896 - val_loss: 0.5761 - val_accuracy: 0.8608 - 11s/epoch - 325ms/step\n",
            "Epoch 100/100\n",
            "33/33 - 11s - loss: 0.0510 - accuracy: 0.9820 - val_loss: 0.6375 - val_accuracy: 0.8693 - 11s/epoch - 321ms/step\n"
          ]
        }
      ],
      "source": [
        "from tensorflow.keras.applications import EfficientNetB0\n",
        "\n",
        "with strategy.scope():\n",
        "    inputs = layers.Input(shape=(IMG_SIZE, IMG_SIZE, 3))\n",
        "    x = img_augmentation(inputs)\n",
        "    outputs = EfficientNetB0(include_top=True, weights=None, classes=NUM_CLASSES)(x)\n",
        "\n",
        "    model = tf.keras.Model(inputs, outputs)\n",
        "    model.compile(\n",
        "        optimizer=\"adam\", loss=\"categorical_crossentropy\", metrics=[\"accuracy\"]\n",
        "    )\n",
        "\n",
        "model.summary()\n",
        "\n",
        "epochs = 100  # @param {type: \"slider\", min:10, max:100}\n",
        "hist = model.fit(ds_train, epochs=epochs, validation_data=ds_test, verbose=2)"
      ]
    },
    {
      "cell_type": "code",
      "execution_count": 22,
      "metadata": {
        "colab": {
          "base_uri": "https://localhost:8080/",
          "height": 295
        },
        "id": "u4mPhmmq7XQ2",
        "outputId": "9ee2a3fb-4ff2-4c34-f851-72f67cae74ff"
      },
      "outputs": [
        {
          "data": {
            "image/png": "[encoded data removed]",
            "text/plain": [
              "<Figure size 432x288 with 1 Axes>"
            ]
          },
          "metadata": {
            "needs_background": "light"
          },
          "output_type": "display_data"
        }
      ],
      "source": [
        "import matplotlib.pyplot as plt\n",
        "\n",
        "\n",
        "def plot_hist(hist):\n",
        "    plt.plot(hist.history[\"accuracy\"])\n",
        "    plt.plot(hist.history[\"val_accuracy\"])\n",
        "    plt.title(\"model accuracy\")\n",
        "    plt.ylabel(\"accuracy\")\n",
        "    plt.xlabel(\"epoch\")\n",
        "    plt.legend([\"train\", \"validation\"], loc=\"upper left\")\n",
        "    plt.show()\n",
        "\n",
        "\n",
        "plot_hist(hist)"
      ]
    },
    {
      "cell_type": "code",
      "execution_count": 23,
      "metadata": {
        "id": "e_GRQrzy7XSx"
      },
      "outputs": [],
      "source": [
        "def build_model(num_classes):\n",
        "    inputs = layers.Input(shape=(IMG_SIZE, IMG_SIZE, 3))\n",
        "    x = img_augmentation(inputs)\n",
        "    model = EfficientNetB0(include_top=False, input_tensor=x, weights=\"imagenet\")\n",
        "\n",
        "    # Freeze the pretrained weights\n",
        "    model.trainable = False\n",
        "\n",
        "    # Rebuild top\n",
        "    x = layers.GlobalAveragePooling2D(name=\"avg_pool\")(model.output)\n",
        "    x = layers.BatchNormalization()(x)\n",
        "\n",
        "    top_dropout_rate = 0.2\n",
        "    x = layers.Dropout(top_dropout_rate, name=\"top_dropout\")(x)\n",
        "    outputs = layers.Dense(NUM_CLASSES, activation=\"softmax\", name=\"pred\")(x)\n",
        "\n",
        "    # Compile\n",
        "    model = tf.keras.Model(inputs, outputs, name=\"EfficientNet\")\n",
        "    optimizer = tf.keras.optimizers.Adam(learning_rate=1e-2)\n",
        "    model.compile(\n",
        "        optimizer=optimizer, loss=\"categorical_crossentropy\", metrics=[\"accuracy\"]\n",
        "    )\n",
        "    return model"
      ]
    },
    {
      "cell_type": "code",
      "execution_count": 24,
      "metadata": {
        "colab": {
          "base_uri": "https://localhost:8080/",
          "height": 1000
        },
        "id": "oHNly0LAIU8d",
        "outputId": "f7254a9a-a5bf-4415-fd7b-1f8aa617fe0f"
      },
      "outputs": [
        {
          "name": "stdout",
          "output_type": "stream",
          "text": [
            "Downloading data from https://storage.googleapis.com/keras-applications/efficientnetb0_notop.h5\n",
            "16711680/16705208 [==============================] - 0s 0us/step\n",
            "16719872/16705208 [==============================] - 0s 0us/step\n",
            "Epoch 1/60\n",
            "33/33 - 13s - loss: 0.3669 - accuracy: 0.8920 - val_loss: 0.2625 - val_accuracy: 0.9318 - 13s/epoch - 402ms/step\n",
            "Epoch 2/60\n",
            "33/33 - 3s - loss: 0.1315 - accuracy: 0.9754 - val_loss: 0.1313 - val_accuracy: 0.9631 - 3s/epoch - 88ms/step\n",
            "Epoch 3/60\n",
            "33/33 - 3s - loss: 0.0854 - accuracy: 0.9830 - val_loss: 0.1119 - val_accuracy: 0.9830 - 3s/epoch - 89ms/step\n",
            "Epoch 4/60\n",
            "33/33 - 3s - loss: 0.0839 - accuracy: 0.9754 - val_loss: 0.1415 - val_accuracy: 0.9545 - 3s/epoch - 88ms/step\n",
            "Epoch 5/60\n",
            "33/33 - 3s - loss: 0.0830 - accuracy: 0.9830 - val_loss: 0.0396 - val_accuracy: 0.9886 - 3s/epoch - 90ms/step\n",
            "Epoch 6/60\n",
            "33/33 - 3s - loss: 0.0840 - accuracy: 0.9839 - val_loss: 0.0341 - val_accuracy: 0.9943 - 3s/epoch - 89ms/step\n",
            "Epoch 7/60\n",
            "33/33 - 3s - loss: 0.0896 - accuracy: 0.9811 - val_loss: 0.4992 - val_accuracy: 0.8580 - 3s/epoch - 90ms/step\n",
            "Epoch 8/60\n",
            "33/33 - 3s - loss: 0.0859 - accuracy: 0.9877 - val_loss: 0.0692 - val_accuracy: 0.9830 - 3s/epoch - 90ms/step\n",
            "Epoch 9/60\n",
            "33/33 - 3s - loss: 0.0821 - accuracy: 0.9848 - val_loss: 0.0852 - val_accuracy: 0.9801 - 3s/epoch - 91ms/step\n",
            "Epoch 10/60\n",
            "33/33 - 3s - loss: 0.1394 - accuracy: 0.9792 - val_loss: 0.0405 - val_accuracy: 0.9886 - 3s/epoch - 90ms/step\n",
            "Epoch 11/60\n",
            "33/33 - 3s - loss: 0.0438 - accuracy: 0.9867 - val_loss: 0.0270 - val_accuracy: 0.9943 - 3s/epoch - 91ms/step\n",
            "Epoch 12/60\n",
            "33/33 - 3s - loss: 0.0586 - accuracy: 0.9858 - val_loss: 0.0771 - val_accuracy: 0.9830 - 3s/epoch - 90ms/step\n",
            "Epoch 13/60\n",
            "33/33 - 3s - loss: 0.0308 - accuracy: 0.9953 - val_loss: 0.0729 - val_accuracy: 0.9915 - 3s/epoch - 90ms/step\n",
            "Epoch 14/60\n",
            "33/33 - 3s - loss: 0.0900 - accuracy: 0.9858 - val_loss: 0.1387 - val_accuracy: 0.9773 - 3s/epoch - 89ms/step\n",
            "Epoch 15/60\n",
            "33/33 - 3s - loss: 0.0834 - accuracy: 0.9839 - val_loss: 0.0999 - val_accuracy: 0.9886 - 3s/epoch - 90ms/step\n",
            "Epoch 16/60\n",
            "33/33 - 3s - loss: 0.0315 - accuracy: 0.9915 - val_loss: 0.2049 - val_accuracy: 0.9773 - 3s/epoch - 90ms/step\n",
            "Epoch 17/60\n",
            "33/33 - 3s - loss: 0.0563 - accuracy: 0.9905 - val_loss: 0.1294 - val_accuracy: 0.9915 - 3s/epoch - 89ms/step\n",
            "Epoch 18/60\n",
            "33/33 - 3s - loss: 0.0327 - accuracy: 0.9924 - val_loss: 0.1813 - val_accuracy: 0.9801 - 3s/epoch - 91ms/step\n",
            "Epoch 19/60\n",
            "33/33 - 3s - loss: 0.0417 - accuracy: 0.9943 - val_loss: 0.2608 - val_accuracy: 0.9773 - 3s/epoch - 89ms/step\n",
            "Epoch 20/60\n",
            "33/33 - 3s - loss: 0.0486 - accuracy: 0.9934 - val_loss: 0.1524 - val_accuracy: 0.9886 - 3s/epoch - 88ms/step\n",
            "Epoch 21/60\n",
            "33/33 - 3s - loss: 0.0581 - accuracy: 0.9943 - val_loss: 0.2200 - val_accuracy: 0.9801 - 3s/epoch - 89ms/step\n",
            "Epoch 22/60\n",
            "33/33 - 3s - loss: 0.0737 - accuracy: 0.9915 - val_loss: 0.1637 - val_accuracy: 0.9915 - 3s/epoch - 88ms/step\n",
            "Epoch 23/60\n",
            "33/33 - 3s - loss: 0.0471 - accuracy: 0.9915 - val_loss: 0.1553 - val_accuracy: 0.9830 - 3s/epoch - 88ms/step\n",
            "Epoch 24/60\n",
            "33/33 - 3s - loss: 0.1595 - accuracy: 0.9811 - val_loss: 0.1007 - val_accuracy: 0.9915 - 3s/epoch - 88ms/step\n",
            "Epoch 25/60\n",
            "33/33 - 3s - loss: 0.0995 - accuracy: 0.9877 - val_loss: 0.1414 - val_accuracy: 0.9943 - 3s/epoch - 88ms/step\n",
            "Epoch 26/60\n",
            "33/33 - 3s - loss: 0.0603 - accuracy: 0.9896 - val_loss: 0.2825 - val_accuracy: 0.9830 - 3s/epoch - 88ms/step\n",
            "Epoch 27/60\n",
            "33/33 - 3s - loss: 0.0418 - accuracy: 0.9905 - val_loss: 0.1478 - val_accuracy: 0.9915 - 3s/epoch - 88ms/step\n",
            "Epoch 28/60\n",
            "33/33 - 3s - loss: 0.0825 - accuracy: 0.9943 - val_loss: 0.1521 - val_accuracy: 0.9886 - 3s/epoch - 88ms/step\n",
            "Epoch 29/60\n",
            "33/33 - 3s - loss: 0.1244 - accuracy: 0.9867 - val_loss: 0.2561 - val_accuracy: 0.9858 - 3s/epoch - 89ms/step\n",
            "Epoch 30/60\n",
            "33/33 - 3s - loss: 0.0595 - accuracy: 0.9934 - val_loss: 0.1019 - val_accuracy: 0.9915 - 3s/epoch - 90ms/step\n",
            "Epoch 31/60\n",
            "33/33 - 3s - loss: 0.0434 - accuracy: 0.9953 - val_loss: 0.1733 - val_accuracy: 0.9858 - 3s/epoch - 89ms/step\n",
            "Epoch 32/60\n",
            "33/33 - 3s - loss: 0.0670 - accuracy: 0.9924 - val_loss: 0.2163 - val_accuracy: 0.9830 - 3s/epoch - 89ms/step\n",
            "Epoch 33/60\n",
            "33/33 - 3s - loss: 0.0594 - accuracy: 0.9943 - val_loss: 0.1217 - val_accuracy: 0.9943 - 3s/epoch - 88ms/step\n",
            "Epoch 34/60\n",
            "33/33 - 3s - loss: 0.0709 - accuracy: 0.9924 - val_loss: 0.0725 - val_accuracy: 0.9943 - 3s/epoch - 89ms/step\n",
            "Epoch 35/60\n",
            "33/33 - 3s - loss: 0.0161 - accuracy: 0.9953 - val_loss: 0.0912 - val_accuracy: 0.9943 - 3s/epoch - 89ms/step\n",
            "Epoch 36/60\n",
            "33/33 - 3s - loss: 0.1328 - accuracy: 0.9867 - val_loss: 0.1455 - val_accuracy: 0.9858 - 3s/epoch - 89ms/step\n",
            "Epoch 37/60\n",
            "33/33 - 3s - loss: 0.0574 - accuracy: 0.9886 - val_loss: 0.1916 - val_accuracy: 0.9886 - 3s/epoch - 89ms/step\n",
            "Epoch 38/60\n",
            "33/33 - 3s - loss: 0.0534 - accuracy: 0.9924 - val_loss: 0.1942 - val_accuracy: 0.9886 - 3s/epoch - 89ms/step\n",
            "Epoch 39/60\n",
            "33/33 - 3s - loss: 0.1494 - accuracy: 0.9886 - val_loss: 0.1896 - val_accuracy: 0.9858 - 3s/epoch - 89ms/step\n",
            "Epoch 40/60\n",
            "33/33 - 3s - loss: 0.0667 - accuracy: 0.9905 - val_loss: 0.1559 - val_accuracy: 0.9886 - 3s/epoch - 89ms/step\n",
            "Epoch 41/60\n",
            "33/33 - 3s - loss: 0.1996 - accuracy: 0.9820 - val_loss: 0.1408 - val_accuracy: 0.9915 - 3s/epoch - 89ms/step\n",
            "Epoch 42/60\n",
            "33/33 - 3s - loss: 0.0952 - accuracy: 0.9905 - val_loss: 0.1801 - val_accuracy: 0.9886 - 3s/epoch - 89ms/step\n",
            "Epoch 43/60\n",
            "33/33 - 3s - loss: 0.1094 - accuracy: 0.9896 - val_loss: 0.2428 - val_accuracy: 0.9858 - 3s/epoch - 89ms/step\n",
            "Epoch 44/60\n",
            "33/33 - 3s - loss: 0.0319 - accuracy: 0.9943 - val_loss: 0.0883 - val_accuracy: 0.9915 - 3s/epoch - 89ms/step\n",
            "Epoch 45/60\n",
            "33/33 - 3s - loss: 0.0576 - accuracy: 0.9934 - val_loss: 0.2624 - val_accuracy: 0.9915 - 3s/epoch - 89ms/step\n",
            "Epoch 46/60\n",
            "33/33 - 3s - loss: 0.0686 - accuracy: 0.9877 - val_loss: 0.2000 - val_accuracy: 0.9858 - 3s/epoch - 88ms/step\n",
            "Epoch 47/60\n",
            "33/33 - 3s - loss: 0.0149 - accuracy: 0.9962 - val_loss: 0.1432 - val_accuracy: 0.9943 - 3s/epoch - 89ms/step\n",
            "Epoch 48/60\n",
            "33/33 - 3s - loss: 0.1100 - accuracy: 0.9934 - val_loss: 0.2826 - val_accuracy: 0.9886 - 3s/epoch - 89ms/step\n",
            "Epoch 49/60\n",
            "33/33 - 3s - loss: 0.0711 - accuracy: 0.9934 - val_loss: 0.1206 - val_accuracy: 0.9972 - 3s/epoch - 89ms/step\n",
            "Epoch 50/60\n",
            "33/33 - 3s - loss: 0.0334 - accuracy: 0.9953 - val_loss: 0.3632 - val_accuracy: 0.9915 - 3s/epoch - 89ms/step\n",
            "Epoch 51/60\n",
            "33/33 - 3s - loss: 0.0557 - accuracy: 0.9943 - val_loss: 0.3443 - val_accuracy: 0.9858 - 3s/epoch - 89ms/step\n",
            "Epoch 52/60\n",
            "33/33 - 3s - loss: 0.0584 - accuracy: 0.9934 - val_loss: 0.0934 - val_accuracy: 0.9972 - 3s/epoch - 89ms/step\n",
            "Epoch 53/60\n",
            "33/33 - 3s - loss: 0.0618 - accuracy: 0.9943 - val_loss: 0.3111 - val_accuracy: 0.9915 - 3s/epoch - 89ms/step\n",
            "Epoch 54/60\n",
            "33/33 - 3s - loss: 0.1003 - accuracy: 0.9943 - val_loss: 0.2212 - val_accuracy: 0.9943 - 3s/epoch - 89ms/step\n",
            "Epoch 55/60\n",
            "33/33 - 3s - loss: 0.0116 - accuracy: 0.9991 - val_loss: 0.1352 - val_accuracy: 0.9972 - 3s/epoch - 89ms/step\n",
            "Epoch 56/60\n",
            "33/33 - 3s - loss: 0.0980 - accuracy: 0.9915 - val_loss: 0.1482 - val_accuracy: 0.9972 - 3s/epoch - 89ms/step\n",
            "Epoch 57/60\n",
            "33/33 - 3s - loss: 0.0916 - accuracy: 0.9915 - val_loss: 0.1757 - val_accuracy: 0.9915 - 3s/epoch - 88ms/step\n",
            "Epoch 58/60\n",
            "33/33 - 3s - loss: 0.0988 - accuracy: 0.9915 - val_loss: 0.1536 - val_accuracy: 0.9943 - 3s/epoch - 96ms/step\n",
            "Epoch 59/60\n",
            "33/33 - 3s - loss: 0.0709 - accuracy: 0.9915 - val_loss: 0.1627 - val_accuracy: 0.9943 - 3s/epoch - 89ms/step\n",
            "Epoch 60/60\n",
            "33/33 - 3s - loss: 0.0514 - accuracy: 0.9943 - val_loss: 0.1804 - val_accuracy: 0.9915 - 3s/epoch - 89ms/step\n"
          ]
        },
        {
          "data": {
            "image/png": "[encoded data removed]",
            "text/plain": [
              "<Figure size 432x288 with 1 Axes>"
            ]
          },
          "metadata": {
            "needs_background": "light"
          },
          "output_type": "display_data"
        }
      ],
      "source": [
        "with strategy.scope():\n",
        "    model = build_model(num_classes=NUM_CLASSES)\n",
        "\n",
        "epochs = 60  # @param {type: \"slider\", min:8, max:80}\n",
        "hist = model.fit(ds_train, epochs=epochs, validation_data=ds_test, verbose=2)\n",
        "plot_hist(hist)"
      ]
    },
    {
      "cell_type": "code",
      "execution_count": 25,
      "metadata": {
        "colab": {
          "base_uri": "https://localhost:8080/",
          "height": 662
        },
        "id": "fg_qIjn6IU6f",
        "outputId": "8fa19573-b168-458e-a931-40fde6920c7b"
      },
      "outputs": [
        {
          "name": "stdout",
          "output_type": "stream",
          "text": [
            "Epoch 1/10\n",
            "33/33 - 13s - loss: 0.0324 - accuracy: 0.9934 - val_loss: 0.1128 - val_accuracy: 0.9915 - 13s/epoch - 398ms/step\n",
            "Epoch 2/10\n",
            "33/33 - 3s - loss: 0.1005 - accuracy: 0.9924 - val_loss: 0.2996 - val_accuracy: 0.9830 - 3s/epoch - 95ms/step\n",
            "Epoch 3/10\n",
            "33/33 - 3s - loss: 0.0666 - accuracy: 0.9934 - val_loss: 0.1284 - val_accuracy: 0.9943 - 3s/epoch - 95ms/step\n",
            "Epoch 4/10\n",
            "33/33 - 3s - loss: 0.0309 - accuracy: 0.9981 - val_loss: 0.1774 - val_accuracy: 0.9915 - 3s/epoch - 95ms/step\n",
            "Epoch 5/10\n",
            "33/33 - 3s - loss: 0.1099 - accuracy: 0.9905 - val_loss: 0.2397 - val_accuracy: 0.9886 - 3s/epoch - 95ms/step\n",
            "Epoch 6/10\n",
            "33/33 - 3s - loss: 0.0635 - accuracy: 0.9943 - val_loss: 0.2549 - val_accuracy: 0.9915 - 3s/epoch - 96ms/step\n",
            "Epoch 7/10\n",
            "33/33 - 3s - loss: 0.0052 - accuracy: 0.9981 - val_loss: 0.1468 - val_accuracy: 0.9943 - 3s/epoch - 96ms/step\n",
            "Epoch 8/10\n",
            "33/33 - 3s - loss: 0.0216 - accuracy: 0.9962 - val_loss: 0.3880 - val_accuracy: 0.9858 - 3s/epoch - 96ms/step\n",
            "Epoch 9/10\n",
            "33/33 - 3s - loss: 0.0064 - accuracy: 0.9981 - val_loss: 0.3166 - val_accuracy: 0.9886 - 3s/epoch - 97ms/step\n",
            "Epoch 10/10\n",
            "33/33 - 3s - loss: 0.0457 - accuracy: 0.9962 - val_loss: 0.1765 - val_accuracy: 0.9915 - 3s/epoch - 97ms/step\n"
          ]
        },
        {
          "data": {
            "image/png": "[encoded data removed]",
            "text/plain": [
              "<Figure size 432x288 with 1 Axes>"
            ]
          },
          "metadata": {
            "needs_background": "light"
          },
          "output_type": "display_data"
        }
      ],
      "source": [
        "def unfreeze_model(model):\n",
        "    # We unfreeze the top 20 layers while leaving BatchNorm layers frozen\n",
        "    for layer in model.layers[-20:]:\n",
        "        if not isinstance(layer, layers.BatchNormalization):\n",
        "            layer.trainable = True\n",
        "\n",
        "    optimizer = tf.keras.optimizers.Adam(learning_rate=1e-4)\n",
        "    model.compile(\n",
        "        optimizer=optimizer, loss=\"categorical_crossentropy\", metrics=[\"accuracy\"]\n",
        "    )\n",
        "\n",
        "\n",
        "unfreeze_model(model)\n",
        "\n",
        "epochs = 10  # @param {type: \"slider\", min:8, max:50}\n",
        "hist = model.fit(ds_train, epochs=epochs, validation_data=ds_test, verbose=2)\n",
        "plot_hist(hist)"
      ]
    },
    {
      "cell_type": "code",
      "execution_count": 26,
      "metadata": {
        "colab": {
          "base_uri": "https://localhost:8080/"
        },
        "id": "dlwIrZYHIU4M",
        "outputId": "62a9cf96-65fd-48c0-9b4c-03cb43acd7a0"
      },
      "outputs": [
        {
          "name": "stdout",
          "output_type": "stream",
          "text": [
            "11/11 [==============================] - 1s 64ms/step - loss: 0.1765 - accuracy: 0.9915\n"
          ]
        },
        {
          "data": {
            "text/plain": [
              "[0.17653080821037292, 0.9914772510528564]"
            ]
          },
          "execution_count": 26,
          "metadata": {},
          "output_type": "execute_result"
        }
      ],
      "source": [
        "model.evaluate(ds_test)"
      ]
    },
    {
      "cell_type": "code",
      "execution_count": 27,
      "metadata": {
        "colab": {
          "base_uri": "https://localhost:8080/"
        },
        "id": "EB7MPxHfEqfQ",
        "outputId": "08ce1282-236d-42dc-8986-4e44a1fc2e50"
      },
      "outputs": [
        {
          "name": "stdout",
          "output_type": "stream",
          "text": [
            "[[0.0000000e+00 1.0000000e+00 0.0000000e+00 3.8008747e-31 5.3108624e-37\n",
            "  1.0422309e-36]\n",
            " [0.0000000e+00 0.0000000e+00 0.0000000e+00 1.0000000e+00 0.0000000e+00\n",
            "  0.0000000e+00]\n",
            " [1.0000000e+00 0.0000000e+00 3.2800930e-34 0.0000000e+00 0.0000000e+00\n",
            "  0.0000000e+00]\n",
            " ...\n",
            " [0.0000000e+00 0.0000000e+00 0.0000000e+00 0.0000000e+00 1.0000000e+00\n",
            "  0.0000000e+00]\n",
            " [0.0000000e+00 0.0000000e+00 0.0000000e+00 0.0000000e+00 1.0000000e+00\n",
            "  0.0000000e+00]\n",
            " [0.0000000e+00 0.0000000e+00 0.0000000e+00 0.0000000e+00 1.0000000e+00\n",
            "  0.0000000e+00]] <class 'numpy.ndarray'> (360, 6)\n",
            "[1 3 0 0 2 0 2 0 5 4 2 2 1 5 0 4 5 2 3 2 2 0 4 0 0 5 2 4 2 2 2 0 2 5 0 2 1\n",
            " 3 3 4 3 3 3 4 1 3 5 3 5 1 4 3 5 5 0 0 0 1 0 2 1 1 2 4 0 4 1 5 1 2 2 5 2 1\n",
            " 1 3 0 5 2 2 5 2 0 4 1 1 2 3 2 1 5 1 2 4 5 5 2 0 4 2 3 0 3 1 1 1 1 4 4 1 5\n",
            " 1 4 4 2 4 5 2 0 4 1 2 3 1 3 4 2 1 5 0 3 0 0 0 2 1 0 0 3 0 1 3 0 5 2 0 4 0\n",
            " 0 5 5 5 4 1 5 0 4 3 0 2 1 5 3 2 4 1 1 5 5 4 5 1 4 2 5 2 0 3 1 2 0 5 3 0 0\n",
            " 0 2 4 3 1 0 3 4 1 0 2 3 0 3 2 3 3 1 2 0 3 1 5 2 1 1 3 0 0 5 1 2 2 1 5 3 0\n",
            " 4 1 3 2 3 4 3 4 3 0 0 1 0 2 4 1 4 4 4 3 5 0 4 2 3 2 2 2 4 2 4 4 1 1 4 3 4\n",
            " 3 3 0 4 2 2 4 3 4 4 1 1 1 4 4 0 3 5 3 2 3 2 5 2 4 4 4 3 2 1 1 5 1 3 1 4 2\n",
            " 4 3 1 0 4 5 0 3 2 2 5 1 2 5 0 2 5 2 0 2 4 4 0 1 3 1 3 4 0 4 2 1 4 2 2 0 5\n",
            " 3 2 1 0 5 1 0 1 3 4 1 5 4 5 0 5 1 5 5 5 0 4 1 0 4 4 4] (360,)\n",
            "[1 3 0 0 2 0 2 0 5 4 2 2 1 5 0 4 5 2 3 2 2 0 4 0 0 5 2 4 2 2 2 0 2 5 0 2 1\n",
            " 3 3 4 3 3 3 4 1 3 5 3 5 1 4 3 5 5 0 0 0 1 0 2 1 1 2 4 0 4 1 5 1 2 2 5 2 1\n",
            " 1 3 0 5 2 2 5 2 0 4 1 1 2 3 2 1 5 5 2 4 5 5 2 0 4 2 3 0 3 1 1 1 1 4 4 1 5\n",
            " 1 4 4 2 4 5 2 0 4 1 2 3 1 3 4 2 1 5 0 3 0 0 0 2 1 0 0 3 0 1 3 0 5 2 0 4 0\n",
            " 0 5 5 5 3 1 5 0 4 3 0 2 1 5 3 2 4 1 1 5 5 4 5 1 4 2 5 2 0 3 1 2 0 5 3 0 0\n",
            " 0 2 4 3 1 0 3 4 1 0 2 3 0 3 2 3 3 1 2 0 3 1 5 2 1 1 3 0 0 5 5 2 2 1 5 3 0\n",
            " 4 1 3 2 3 4 3 4 3 0 0 1 0 2 4 1 4 4 4 3 5 0 4 2 3 2 2 2 4 2 4 4 1 1 4 3 4\n",
            " 3 3 0 4 2 2 4 3 4 4 1 1 1 4 4 0 3 5 3 2 3 2 5 2 4 4 4 3 2 1 1 5 1 3 1 4 2\n",
            " 4 3 1 0 4 5 0 3 2 2 5 1 2 5 0 2 5 2 0 2 4 4 0 1 3 1 3 4 0 4 2 1 4 2 2 0 5\n",
            " 3 2 1 0 5 1 0 1 3 4 1 5 4 5 0 5 1 5 5 5 0 4 1 0 4 4 4] (360,)\n"
          ]
        }
      ],
      "source": [
        "#Test set 정확도\n",
        "y_pred_test=model.predict(x_test)\n",
        "print(y_pred_test, type(y_pred_test), y_pred_test.shape)\n",
        "y_pred=[]\n",
        "for ar in y_pred_test:\n",
        "  y_pred.append(np.argmax(ar))\n",
        "y_pred = np.array(y_pred)\n",
        "print(y_pred, y_pred.shape)\n",
        "print(y_test, y_test.shape)"
      ]
    },
    {
      "cell_type": "code",
      "execution_count": 28,
      "metadata": {
        "colab": {
          "base_uri": "https://localhost:8080/"
        },
        "id": "RpZW7G96IUsi",
        "outputId": "2869adbc-416a-4122-ab36-856e06eeb9c9"
      },
      "outputs": [
        {
          "name": "stdout",
          "output_type": "stream",
          "text": [
            "accuracy: 0.9916666666666667\n",
            "Precision: 0.9918843694885362\n",
            "Recall: 0.9916666666666667\n",
            "F1-Score: 0.9916533336629909\n"
          ]
        }
      ],
      "source": [
        "from sklearn.metrics import f1_score, accuracy_score, recall_score, precision_score\n",
        "print(\"accuracy:\",accuracy_score(y_test, y_pred))\n",
        "print(\"Precision:\",precision_score(y_test, y_pred, average='weighted'))\n",
        "print(\"Recall:\",recall_score(y_test, y_pred, average='weighted'))\n",
        "print(\"F1-Score:\",f1_score(y_test, y_pred, average='weighted'))"
      ]
    },
    {
      "cell_type": "code",
      "execution_count": 29,
      "metadata": {
        "colab": {
          "base_uri": "https://localhost:8080/"
        },
        "id": "EXzxgRCOh8Kz",
        "outputId": "253a2915-0386-4bb7-b202-a52f7f3d00b6"
      },
      "outputs": [
        {
          "name": "stdout",
          "output_type": "stream",
          "text": [
            "[[0.00000000e+00 1.00000000e+00 0.00000000e+00 1.30813375e-28\n",
            "  1.91479014e-31 5.19665742e-27]\n",
            " [1.00000000e+00 0.00000000e+00 0.00000000e+00 0.00000000e+00\n",
            "  0.00000000e+00 0.00000000e+00]\n",
            " [0.00000000e+00 0.00000000e+00 0.00000000e+00 1.00000000e+00\n",
            "  0.00000000e+00 0.00000000e+00]\n",
            " ...\n",
            " [0.00000000e+00 0.00000000e+00 0.00000000e+00 0.00000000e+00\n",
            "  0.00000000e+00 1.00000000e+00]\n",
            " [1.23735846e-29 0.00000000e+00 1.00000000e+00 3.97712342e-36\n",
            "  0.00000000e+00 0.00000000e+00]\n",
            " [0.00000000e+00 0.00000000e+00 0.00000000e+00 1.00000000e+00\n",
            "  0.00000000e+00 0.00000000e+00]] <class 'numpy.ndarray'> (1080, 6)\n",
            "[[0.00000000e+00 1.00000000e+00 0.00000000e+00 1.30813375e-28\n",
            "  1.91479014e-31 5.19665742e-27]\n",
            " [1.00000000e+00 0.00000000e+00 0.00000000e+00 0.00000000e+00\n",
            "  0.00000000e+00 0.00000000e+00]\n",
            " [0.00000000e+00 0.00000000e+00 0.00000000e+00 1.00000000e+00\n",
            "  0.00000000e+00 0.00000000e+00]\n",
            " ...\n",
            " [0.00000000e+00 0.00000000e+00 0.00000000e+00 0.00000000e+00\n",
            "  0.00000000e+00 1.00000000e+00]\n",
            " [1.23735846e-29 0.00000000e+00 1.00000000e+00 3.97712342e-36\n",
            "  0.00000000e+00 0.00000000e+00]\n",
            " [0.00000000e+00 0.00000000e+00 0.00000000e+00 1.00000000e+00\n",
            "  0.00000000e+00 0.00000000e+00]] (1080, 6)\n",
            "[1 0 3 ... 5 2 3] (1080,)\n"
          ]
        }
      ],
      "source": [
        "#Train set 정확도\n",
        "\n",
        "y_pred_train=model.predict(x_train)\n",
        "print(y_pred_train, type(y_pred_train), y_pred_train.shape)\n",
        "y_train_list=[]\n",
        "for ar in y_pred_train:\n",
        "  y_train_list.append(np.argmax(ar))\n",
        "y_train_list = np.array(y_train_list)\n",
        "print(y_pred_train, y_pred_train.shape)\n",
        "print(y_train_list, y_train_list.shape)"
      ]
    },
    {
      "cell_type": "code",
      "execution_count": 30,
      "metadata": {
        "colab": {
          "base_uri": "https://localhost:8080/"
        },
        "id": "VUljgSBFiS0L",
        "outputId": "3387cbcd-7811-4095-dcab-372f63b0133a"
      },
      "outputs": [
        {
          "name": "stdout",
          "output_type": "stream",
          "text": [
            "accuracy: 0.9972222222222222\n",
            "Precision: 0.997248000184954\n",
            "Recall: 0.9972222222222222\n",
            "F1-Score: 0.9972225260972704\n"
          ]
        }
      ],
      "source": [
        "print(\"accuracy:\",accuracy_score(y_train, y_train_list))\n",
        "print(\"Precision:\",precision_score(y_train, y_train_list, average='weighted'))\n",
        "print(\"Recall:\",recall_score(y_train, y_train_list, average='weighted'))\n",
        "print(\"F1-Score:\",f1_score(y_train, y_train_list, average='weighted'))"
      ]
    },
    {
      "cell_type": "code",
      "execution_count": 31,
      "metadata": {
        "colab": {
          "base_uri": "https://localhost:8080/"
        },
        "id": "xM9cj2PXvGHI",
        "outputId": "839c87c4-0334-494a-8c86-1d9064715114"
      },
      "outputs": [
        {
          "name": "stdout",
          "output_type": "stream",
          "text": [
            "Ubuntu 18.04.5 LTS \\n \\l\n",
            "\n",
            "processor\t: 0\n",
            "vendor_id\t: GenuineIntel\n",
            "cpu family\t: 6\n",
            "model\t\t: 63\n",
            "model name\t: Intel(R) Xeon(R) CPU @ 2.30GHz\n",
            "stepping\t: 0\n",
            "microcode\t: 0x1\n",
            "cpu MHz\t\t: 2299.998\n",
            "cache size\t: 46080 KB\n",
            "physical id\t: 0\n",
            "siblings\t: 2\n",
            "core id\t\t: 0\n",
            "cpu cores\t: 1\n",
            "apicid\t\t: 0\n",
            "initial apicid\t: 0\n",
            "fpu\t\t: yes\n",
            "fpu_exception\t: yes\n",
            "cpuid level\t: 13\n",
            "wp\t\t: yes\n",
            "flags\t\t: fpu vme de pse tsc msr pae mce cx8 apic sep mtrr pge mca cmov pat pse36 clflush mmx fxsr sse sse2 ss ht syscall nx pdpe1gb rdtscp lm constant_tsc rep_good nopl xtopology nonstop_tsc cpuid tsc_known_freq pni pclmulqdq ssse3 fma cx16 pcid sse4_1 sse4_2 x2apic movbe popcnt aes xsave avx f16c rdrand hypervisor lahf_lm abm invpcid_single ssbd ibrs ibpb stibp fsgsbase tsc_adjust bmi1 avx2 smep bmi2 erms invpcid xsaveopt arat md_clear arch_capabilities\n",
            "bugs\t\t: cpu_meltdown spectre_v1 spectre_v2 spec_store_bypass l1tf mds swapgs\n",
            "bogomips\t: 4599.99\n",
            "clflush size\t: 64\n",
            "cache_alignment\t: 64\n",
            "address sizes\t: 46 bits physical, 48 bits virtual\n",
            "power management:\n",
            "\n",
            "processor\t: 1\n",
            "vendor_id\t: GenuineIntel\n",
            "cpu family\t: 6\n",
            "model\t\t: 63\n",
            "model name\t: Intel(R) Xeon(R) CPU @ 2.30GHz\n",
            "stepping\t: 0\n",
            "microcode\t: 0x1\n",
            "cpu MHz\t\t: 2299.998\n",
            "cache size\t: 46080 KB\n",
            "physical id\t: 0\n",
            "siblings\t: 2\n",
            "core id\t\t: 0\n",
            "cpu cores\t: 1\n",
            "apicid\t\t: 1\n",
            "initial apicid\t: 1\n",
            "fpu\t\t: yes\n",
            "fpu_exception\t: yes\n",
            "cpuid level\t: 13\n",
            "wp\t\t: yes\n",
            "flags\t\t: fpu vme de pse tsc msr pae mce cx8 apic sep mtrr pge mca cmov pat pse36 clflush mmx fxsr sse sse2 ss ht syscall nx pdpe1gb rdtscp lm constant_tsc rep_good nopl xtopology nonstop_tsc cpuid tsc_known_freq pni pclmulqdq ssse3 fma cx16 pcid sse4_1 sse4_2 x2apic movbe popcnt aes xsave avx f16c rdrand hypervisor lahf_lm abm invpcid_single ssbd ibrs ibpb stibp fsgsbase tsc_adjust bmi1 avx2 smep bmi2 erms invpcid xsaveopt arat md_clear arch_capabilities\n",
            "bugs\t\t: cpu_meltdown spectre_v1 spectre_v2 spec_store_bypass l1tf mds swapgs\n",
            "bogomips\t: 4599.99\n",
            "clflush size\t: 64\n",
            "cache_alignment\t: 64\n",
            "address sizes\t: 46 bits physical, 48 bits virtual\n",
            "power management:\n",
            "\n",
            "2\n",
            "1\n",
            "cpu cores\t: 1\n",
            "              total        used        free      shared  buff/cache   available\n",
            "Mem:            12G        4.9G        1.3G        271M        6.5G        9.1G\n",
            "Swap:            0B          0B          0B\n",
            "Mon Jun 13 15:15:00 2022       \n",
            "+-----------------------------------------------------------------------------+\n",
            "| NVIDIA-SMI 460.32.03    Driver Version: 460.32.03    CUDA Version: 11.2     |\n",
            "|-------------------------------+----------------------+----------------------+\n",
            "| GPU  Name        Persistence-M| Bus-Id        Disp.A | Volatile Uncorr. ECC |\n",
            "| Fan  Temp  Perf  Pwr:Usage/Cap|         Memory-Usage | GPU-Util  Compute M. |\n",
            "|                               |                      |               MIG M. |\n",
            "|===============================+======================+======================|\n",
            "|   0  Tesla T4            Off  | 00000000:00:04.0 Off |                    0 |\n",
            "| N/A   78C    P0    46W /  70W |   9044MiB / 15109MiB |      0%      Default |\n",
            "|                               |                      |                  N/A |\n",
            "+-------------------------------+----------------------+----------------------+\n",
            "                                                                               \n",
            "+-----------------------------------------------------------------------------+\n",
            "| Processes:                                                                  |\n",
            "|  GPU   GI   CI        PID   Type   Process name                  GPU Memory |\n",
            "|        ID   ID                                                   Usage      |\n",
            "|=============================================================================|\n",
            "+-----------------------------------------------------------------------------+\n"
          ]
        }
      ],
      "source": [
        "#운영체제 확인\n",
        "!cat /etc/issue\n",
        "\n",
        "#0. CPU 정보 확인\n",
        "!cat /proc/cpuinfo\n",
        "\n",
        "#1. CPU 코어 전체 개수 확인\n",
        "!grep -c processor /proc/cpuinfo\n",
        " \n",
        "#2. 물리 CPU 수 확인\n",
        "!grep \"physical id\" /proc/cpuinfo | sort -u | wc -l\n",
        " \n",
        "# 3.CPU당 물리 코어 수 확인\n",
        "!grep \"cpu cores\" /proc/cpuinfo | tail -1\n",
        "\n",
        "#메모리 확인\n",
        "!free -h\n",
        "\n",
        "#런타임 유형 변경 후 gpu 확인\n",
        "!nvidia-smi"
      ]
    }
  ],
  "metadata": {
    "accelerator": "GPU",
    "colab": {
      "collapsed_sections": [],
      "name": "EfficientNet_4th_Result.ipynb",
      "provenance": []
    },
    "kernelspec": {
      "display_name": "Python 3",
      "name": "python3"
    },
    "language_info": {
      "name": "python"
    }
  },
  "nbformat": 4,
  "nbformat_minor": 0
}
