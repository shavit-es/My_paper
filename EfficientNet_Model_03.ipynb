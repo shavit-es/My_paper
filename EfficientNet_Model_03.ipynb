{
  "cells": [
    {
      "cell_type": "code",
      "execution_count": null,
      "metadata": {
        "colab": {
          "base_uri": "https://localhost:8080/"
        },
        "id": "-P2q4WSEARhh",
        "outputId": "380a6fcf-83e9-4406-cdb9-2a0ac5419f3c"
      },
      "outputs": [
        {
          "name": "stdout",
          "output_type": "stream",
          "text": [
            "Looking in indexes: https://pypi.org/simple, https://us-python.pkg.dev/colab-wheels/public/simple/\n",
            "Requirement already satisfied: cloud_tpu_client in /usr/local/lib/python3.7/dist-packages (0.10)\n",
            "Requirement already satisfied: google-api-python-client==1.8.0 in /usr/local/lib/python3.7/dist-packages (from cloud_tpu_client) (1.8.0)\n",
            "Requirement already satisfied: oauth2client in /usr/local/lib/python3.7/dist-packages (from cloud_tpu_client) (4.1.3)\n",
            "Requirement already satisfied: google-auth-httplib2>=0.0.3 in /usr/local/lib/python3.7/dist-packages (from google-api-python-client==1.8.0->cloud_tpu_client) (0.0.4)\n",
            "Requirement already satisfied: google-api-core<2dev,>=1.13.0 in /usr/local/lib/python3.7/dist-packages (from google-api-python-client==1.8.0->cloud_tpu_client) (1.31.6)\n",
            "Requirement already satisfied: six<2dev,>=1.6.1 in /usr/local/lib/python3.7/dist-packages (from google-api-python-client==1.8.0->cloud_tpu_client) (1.15.0)\n",
            "Requirement already satisfied: httplib2<1dev,>=0.9.2 in /usr/local/lib/python3.7/dist-packages (from google-api-python-client==1.8.0->cloud_tpu_client) (0.17.4)\n",
            "Requirement already satisfied: google-auth>=1.4.1 in /usr/local/lib/python3.7/dist-packages (from google-api-python-client==1.8.0->cloud_tpu_client) (1.35.0)\n",
            "Requirement already satisfied: uritemplate<4dev,>=3.0.0 in /usr/local/lib/python3.7/dist-packages (from google-api-python-client==1.8.0->cloud_tpu_client) (3.0.1)\n",
            "Requirement already satisfied: protobuf<4.0.0dev,>=3.12.0 in /usr/local/lib/python3.7/dist-packages (from google-api-core<2dev,>=1.13.0->google-api-python-client==1.8.0->cloud_tpu_client) (3.17.3)\n",
            "Requirement already satisfied: setuptools>=40.3.0 in /usr/local/lib/python3.7/dist-packages (from google-api-core<2dev,>=1.13.0->google-api-python-client==1.8.0->cloud_tpu_client) (57.4.0)\n",
            "Requirement already satisfied: googleapis-common-protos<2.0dev,>=1.6.0 in /usr/local/lib/python3.7/dist-packages (from google-api-core<2dev,>=1.13.0->google-api-python-client==1.8.0->cloud_tpu_client) (1.56.2)\n",
            "Requirement already satisfied: requests<3.0.0dev,>=2.18.0 in /usr/local/lib/python3.7/dist-packages (from google-api-core<2dev,>=1.13.0->google-api-python-client==1.8.0->cloud_tpu_client) (2.23.0)\n",
            "Requirement already satisfied: packaging>=14.3 in /usr/local/lib/python3.7/dist-packages (from google-api-core<2dev,>=1.13.0->google-api-python-client==1.8.0->cloud_tpu_client) (21.3)\n",
            "Requirement already satisfied: pytz in /usr/local/lib/python3.7/dist-packages (from google-api-core<2dev,>=1.13.0->google-api-python-client==1.8.0->cloud_tpu_client) (2022.1)\n",
            "Requirement already satisfied: pyasn1-modules>=0.2.1 in /usr/local/lib/python3.7/dist-packages (from google-auth>=1.4.1->google-api-python-client==1.8.0->cloud_tpu_client) (0.2.8)\n",
            "Requirement already satisfied: rsa<5,>=3.1.4 in /usr/local/lib/python3.7/dist-packages (from google-auth>=1.4.1->google-api-python-client==1.8.0->cloud_tpu_client) (4.8)\n",
            "Requirement already satisfied: cachetools<5.0,>=2.0.0 in /usr/local/lib/python3.7/dist-packages (from google-auth>=1.4.1->google-api-python-client==1.8.0->cloud_tpu_client) (4.2.4)\n",
            "Requirement already satisfied: pyparsing!=3.0.5,>=2.0.2 in /usr/local/lib/python3.7/dist-packages (from packaging>=14.3->google-api-core<2dev,>=1.13.0->google-api-python-client==1.8.0->cloud_tpu_client) (3.0.9)\n",
            "Requirement already satisfied: pyasn1<0.5.0,>=0.4.6 in /usr/local/lib/python3.7/dist-packages (from pyasn1-modules>=0.2.1->google-auth>=1.4.1->google-api-python-client==1.8.0->cloud_tpu_client) (0.4.8)\n",
            "Requirement already satisfied: idna<3,>=2.5 in /usr/local/lib/python3.7/dist-packages (from requests<3.0.0dev,>=2.18.0->google-api-core<2dev,>=1.13.0->google-api-python-client==1.8.0->cloud_tpu_client) (2.10)\n",
            "Requirement already satisfied: certifi>=2017.4.17 in /usr/local/lib/python3.7/dist-packages (from requests<3.0.0dev,>=2.18.0->google-api-core<2dev,>=1.13.0->google-api-python-client==1.8.0->cloud_tpu_client) (2022.5.18.1)\n",
            "Requirement already satisfied: urllib3!=1.25.0,!=1.25.1,<1.26,>=1.21.1 in /usr/local/lib/python3.7/dist-packages (from requests<3.0.0dev,>=2.18.0->google-api-core<2dev,>=1.13.0->google-api-python-client==1.8.0->cloud_tpu_client) (1.24.3)\n",
            "Requirement already satisfied: chardet<4,>=3.0.2 in /usr/local/lib/python3.7/dist-packages (from requests<3.0.0dev,>=2.18.0->google-api-core<2dev,>=1.13.0->google-api-python-client==1.8.0->cloud_tpu_client) (3.0.4)\n"
          ]
        }
      ],
      "source": [
        "!pip install cloud_tpu_client"
      ]
    },
    {
      "cell_type": "code",
      "execution_count": null,
      "metadata": {
        "id": "LvgMhZQt7W5w"
      },
      "outputs": [],
      "source": [
        "from tensorflow.keras.applications import EfficientNetB0\n",
        "model = EfficientNetB0(weights='imagenet')"
      ]
    },
    {
      "cell_type": "code",
      "execution_count": null,
      "metadata": {
        "id": "0iYRk_PS7W8V"
      },
      "outputs": [],
      "source": [
        "# IMG_SIZE is determined by EfficientNet model choice\n",
        "IMG_SIZE = 224"
      ]
    },
    {
      "cell_type": "code",
      "execution_count": null,
      "metadata": {
        "colab": {
          "base_uri": "https://localhost:8080/"
        },
        "id": "06Ys3SeT7W-y",
        "outputId": "1bee9bfb-85cb-4ced-a988-40cff6f4a331"
      },
      "outputs": [
        {
          "name": "stdout",
          "output_type": "stream",
          "text": [
            "Not connected to a TPU runtime. Using CPU/GPU strategy\n",
            "INFO:tensorflow:Using MirroredStrategy with devices ('/job:localhost/replica:0/task:0/device:GPU:0',)\n"
          ]
        }
      ],
      "source": [
        "from cloud_tpu_client import Client\n",
        "import tensorflow as tf\n",
        "import numpy as np\n",
        "\n",
        "\n",
        "\n",
        "try:\n",
        "    c = Client()\n",
        "    c.configure_tpu_version(tf.__version__, restart_type=\"always\")\n",
        "    tpu = tf.distribute.cluster_resolver.TPUClusterResolver.connect()\n",
        "    print(\"Device:\", tpu.master())\n",
        "    strategy = tf.distribute.TPUStrategy(tpu)\n",
        "\n",
        "except ValueError:\n",
        "    print(\"Not connected to a TPU runtime. Using CPU/GPU strategy\")\n",
        "    strategy = tf.distribute.MirroredStrategy()"
      ]
    },
    {
      "cell_type": "code",
      "execution_count": null,
      "metadata": {
        "colab": {
          "base_uri": "https://localhost:8080/"
        },
        "id": "54v8xUNRBnT6",
        "outputId": "6481740a-dd96-4d07-c65d-9184c5c4b072"
      },
      "outputs": [
        {
          "name": "stdout",
          "output_type": "stream",
          "text": [
            "<PrefetchDataset element_spec=(TensorSpec(shape=(224, 224, 3), dtype=tf.uint8, name=None), TensorSpec(shape=(), dtype=tf.int32, name=None))>\n",
            "<PrefetchDataset element_spec=(TensorSpec(shape=(224, 224, 3), dtype=tf.uint8, name=None), TensorSpec(shape=(), dtype=tf.int32, name=None))>\n"
          ]
        }
      ],
      "source": [
        "batch_size = 16\n",
        "SHUFFLE_BUFFER_SIZE = 64\n",
        "\n",
        "x_train, x_test, y_train, y_test = np.load(\"/content/drive/MyDrive/steel_surface_224.npy\", allow_pickle=True)\n",
        "ds_train = tf.data.Dataset.from_tensor_slices((x_train, y_train))\n",
        "ds_train = ds_train.prefetch(batch_size)\n",
        "ds_test = tf.data.Dataset.from_tensor_slices((x_test, y_test))\n",
        "ds_test = ds_test.prefetch(batch_size)\n",
        "print(ds_train)\n",
        "print(ds_test)"
      ]
    },
    {
      "cell_type": "code",
      "execution_count": null,
      "metadata": {
        "id": "ETtjOBJr7XBF"
      },
      "outputs": [],
      "source": [
        "NUM_CLASSES = 6"
      ]
    },
    {
      "cell_type": "code",
      "execution_count": null,
      "metadata": {
        "id": "7fDMzZvW7XDY"
      },
      "outputs": [],
      "source": [
        "size = (IMG_SIZE, IMG_SIZE)\n",
        "ds_train = ds_train.map(lambda image, label: (tf.image.resize(image, size), label))\n",
        "ds_test = ds_test.map(lambda image, label: (tf.image.resize(image, size), label))"
      ]
    },
    {
      "cell_type": "code",
      "execution_count": null,
      "metadata": {
        "colab": {
          "base_uri": "https://localhost:8080/",
          "height": 264
        },
        "id": "KO1NCo6Z7XFp",
        "outputId": "47b5c28b-3fb0-4afd-f9ea-ef64fd70da7d"
      },
      "outputs": [
        {
          "data": {
            "image/png": "[encoded data removed]",
            "text/plain": [
              "<Figure size 432x288 with 9 Axes>"
            ]
          },
          "metadata": {
            "needs_background": "light"
          },
          "output_type": "display_data"
        }
      ],
      "source": [
        "import matplotlib.pyplot as plt\n",
        "\n",
        "labellist=[\"crazing\",\"inclusion\",\"patches\",\"pitted_surface\",\"rolled-in_scale\",\"scratches\"]\n",
        "def format_label(label):\n",
        "  return labellist[(int(str(label)[10]))]\n",
        "\n",
        "\n",
        "for i, (image, label) in enumerate(ds_train.take(9)):\n",
        "    ax = plt.subplot(3, 3, i + 1)\n",
        "    plt.imshow(image.numpy().astype(\"uint8\"))\n",
        "    plt.title(format_label(label))\n",
        "    plt.axis(\"off\")"
      ]
    },
    {
      "cell_type": "code",
      "execution_count": null,
      "metadata": {
        "id": "p_L0gBYE7XIA"
      },
      "outputs": [],
      "source": [
        "from tensorflow.keras.models import Sequential\n",
        "from tensorflow.keras import layers\n",
        "\n",
        "img_augmentation = Sequential(\n",
        "    [\n",
        "        layers.RandomRotation(factor=0.15),\n",
        "        layers.RandomTranslation(height_factor=0.1, width_factor=0.1),\n",
        "        layers.RandomFlip(),\n",
        "        layers.RandomContrast(factor=0.1),\n",
        "    ],\n",
        "    name=\"img_augmentation\",\n",
        ")"
      ]
    },
    {
      "cell_type": "code",
      "execution_count": null,
      "metadata": {
        "id": "7MepxW4l7XMW"
      },
      "outputs": [],
      "source": [
        "# One-hot / categorical encoding\n",
        "def input_preprocess(image, label):\n",
        "    label = tf.one_hot(label, NUM_CLASSES)\n",
        "    return image, label\n",
        "\n",
        "\n",
        "ds_train = ds_train.map(\n",
        "    input_preprocess, num_parallel_calls=tf.data.AUTOTUNE\n",
        ")\n",
        "ds_train = ds_train.batch(batch_size=batch_size, drop_remainder=True)\n",
        "ds_train = ds_train.prefetch(tf.data.AUTOTUNE)\n",
        "\n",
        "ds_test = ds_test.map(input_preprocess)\n",
        "ds_test = ds_test.batch(batch_size=batch_size, drop_remainder=True)"
      ]
    },
    {
      "cell_type": "code",
      "execution_count": null,
      "metadata": {
        "colab": {
          "base_uri": "https://localhost:8080/"
        },
        "id": "Y4me0mAj7XOh",
        "outputId": "39f8ad58-6c0b-4ad1-e893-3e07c6e8820e"
      },
      "outputs": [
        {
          "name": "stdout",
          "output_type": "stream",
          "text": [
            "Model: \"model_2\"\n",
            "_________________________________________________________________\n",
            " Layer (type)                Output Shape              Param #   \n",
            "=================================================================\n",
            " input_10 (InputLayer)       [(None, 224, 224, 3)]     0         \n",
            "                                                                 \n",
            " img_augmentation (Sequentia  (None, 224, 224, 3)      0         \n",
            " l)                                                              \n",
            "                                                                 \n",
            " efficientnetb0 (Functional)  (None, 6)                4057257   \n",
            "                                                                 \n",
            "=================================================================\n",
            "Total params: 4,057,257\n",
            "Trainable params: 4,015,234\n",
            "Non-trainable params: 42,023\n",
            "_________________________________________________________________\n",
            "Epoch 1/100\n",
            "67/67 - 33s - loss: 2.6444 - accuracy: 0.4188 - val_loss: 3.4672 - val_accuracy: 0.1648 - 33s/epoch - 489ms/step\n",
            "Epoch 2/100\n",
            "67/67 - 12s - loss: 1.1929 - accuracy: 0.6194 - val_loss: 3.9210 - val_accuracy: 0.1648 - 12s/epoch - 175ms/step\n",
            "Epoch 3/100\n",
            "67/67 - 12s - loss: 0.8893 - accuracy: 0.7118 - val_loss: 5.5217 - val_accuracy: 0.1733 - 12s/epoch - 173ms/step\n",
            "Epoch 4/100\n",
            "67/67 - 11s - loss: 0.8709 - accuracy: 0.7453 - val_loss: 6.1278 - val_accuracy: 0.1733 - 11s/epoch - 171ms/step\n",
            "Epoch 5/100\n",
            "67/67 - 12s - loss: 0.6960 - accuracy: 0.7733 - val_loss: 9.0017 - val_accuracy: 0.1733 - 12s/epoch - 172ms/step\n",
            "Epoch 6/100\n",
            "67/67 - 11s - loss: 0.6123 - accuracy: 0.8125 - val_loss: 6.6624 - val_accuracy: 0.2131 - 11s/epoch - 170ms/step\n",
            "Epoch 7/100\n",
            "67/67 - 12s - loss: 0.6146 - accuracy: 0.8237 - val_loss: 4.3776 - val_accuracy: 0.2727 - 12s/epoch - 172ms/step\n",
            "Epoch 8/100\n",
            "67/67 - 12s - loss: 0.5553 - accuracy: 0.8377 - val_loss: 1.1334 - val_accuracy: 0.6392 - 12s/epoch - 174ms/step\n",
            "Epoch 9/100\n",
            "67/67 - 11s - loss: 0.5104 - accuracy: 0.8535 - val_loss: 0.5273 - val_accuracy: 0.8409 - 11s/epoch - 171ms/step\n",
            "Epoch 10/100\n",
            "67/67 - 12s - loss: 0.4200 - accuracy: 0.8853 - val_loss: 0.3407 - val_accuracy: 0.9148 - 12s/epoch - 173ms/step\n",
            "Epoch 11/100\n",
            "67/67 - 12s - loss: 0.3885 - accuracy: 0.8881 - val_loss: 0.2325 - val_accuracy: 0.9205 - 12s/epoch - 172ms/step\n",
            "Epoch 12/100\n",
            "67/67 - 12s - loss: 0.3017 - accuracy: 0.8974 - val_loss: 0.1487 - val_accuracy: 0.9460 - 12s/epoch - 172ms/step\n",
            "Epoch 13/100\n",
            "67/67 - 12s - loss: 0.3674 - accuracy: 0.8843 - val_loss: 0.9041 - val_accuracy: 0.8409 - 12s/epoch - 176ms/step\n",
            "Epoch 14/100\n",
            "67/67 - 12s - loss: 0.3194 - accuracy: 0.9095 - val_loss: 0.1679 - val_accuracy: 0.9403 - 12s/epoch - 173ms/step\n",
            "Epoch 15/100\n",
            "67/67 - 12s - loss: 0.3125 - accuracy: 0.9049 - val_loss: 0.2293 - val_accuracy: 0.9460 - 12s/epoch - 173ms/step\n",
            "Epoch 16/100\n",
            "67/67 - 12s - loss: 0.2409 - accuracy: 0.9328 - val_loss: 0.5695 - val_accuracy: 0.9034 - 12s/epoch - 174ms/step\n",
            "Epoch 17/100\n",
            "67/67 - 12s - loss: 0.2561 - accuracy: 0.9328 - val_loss: 0.2855 - val_accuracy: 0.9290 - 12s/epoch - 172ms/step\n",
            "Epoch 18/100\n",
            "67/67 - 12s - loss: 0.2650 - accuracy: 0.9216 - val_loss: 0.3057 - val_accuracy: 0.9290 - 12s/epoch - 173ms/step\n",
            "Epoch 19/100\n",
            "67/67 - 12s - loss: 0.2715 - accuracy: 0.9216 - val_loss: 0.8441 - val_accuracy: 0.8040 - 12s/epoch - 173ms/step\n",
            "Epoch 20/100\n",
            "67/67 - 12s - loss: 0.2240 - accuracy: 0.9366 - val_loss: 0.2396 - val_accuracy: 0.9176 - 12s/epoch - 174ms/step\n",
            "Epoch 21/100\n",
            "67/67 - 12s - loss: 0.2135 - accuracy: 0.9394 - val_loss: 0.6785 - val_accuracy: 0.8722 - 12s/epoch - 173ms/step\n",
            "Epoch 22/100\n",
            "67/67 - 12s - loss: 0.1750 - accuracy: 0.9431 - val_loss: 0.7760 - val_accuracy: 0.8636 - 12s/epoch - 173ms/step\n",
            "Epoch 23/100\n",
            "67/67 - 12s - loss: 0.2092 - accuracy: 0.9403 - val_loss: 1.5044 - val_accuracy: 0.6903 - 12s/epoch - 173ms/step\n",
            "Epoch 24/100\n",
            "67/67 - 12s - loss: 0.1600 - accuracy: 0.9524 - val_loss: 0.8744 - val_accuracy: 0.8608 - 12s/epoch - 173ms/step\n",
            "Epoch 25/100\n",
            "67/67 - 12s - loss: 0.1422 - accuracy: 0.9543 - val_loss: 0.2529 - val_accuracy: 0.9290 - 12s/epoch - 173ms/step\n",
            "Epoch 26/100\n",
            "67/67 - 12s - loss: 0.1393 - accuracy: 0.9552 - val_loss: 0.7436 - val_accuracy: 0.8239 - 12s/epoch - 173ms/step\n",
            "Epoch 27/100\n",
            "67/67 - 12s - loss: 0.1158 - accuracy: 0.9636 - val_loss: 0.2203 - val_accuracy: 0.9205 - 12s/epoch - 173ms/step\n",
            "Epoch 28/100\n",
            "67/67 - 12s - loss: 0.1321 - accuracy: 0.9618 - val_loss: 0.5465 - val_accuracy: 0.8920 - 12s/epoch - 174ms/step\n",
            "Epoch 29/100\n",
            "67/67 - 12s - loss: 0.1675 - accuracy: 0.9627 - val_loss: 1.7016 - val_accuracy: 0.8750 - 12s/epoch - 173ms/step\n",
            "Epoch 30/100\n",
            "67/67 - 12s - loss: 0.1591 - accuracy: 0.9543 - val_loss: 0.6438 - val_accuracy: 0.9091 - 12s/epoch - 173ms/step\n",
            "Epoch 31/100\n",
            "67/67 - 12s - loss: 0.1451 - accuracy: 0.9580 - val_loss: 0.2489 - val_accuracy: 0.9517 - 12s/epoch - 174ms/step\n",
            "Epoch 32/100\n",
            "67/67 - 12s - loss: 0.1089 - accuracy: 0.9739 - val_loss: 1.9908 - val_accuracy: 0.7898 - 12s/epoch - 174ms/step\n",
            "Epoch 33/100\n",
            "67/67 - 12s - loss: 0.1696 - accuracy: 0.9440 - val_loss: 1.1739 - val_accuracy: 0.6960 - 12s/epoch - 174ms/step\n",
            "Epoch 34/100\n",
            "67/67 - 12s - loss: 0.0998 - accuracy: 0.9683 - val_loss: 0.9465 - val_accuracy: 0.8210 - 12s/epoch - 173ms/step\n",
            "Epoch 35/100\n",
            "67/67 - 12s - loss: 0.0819 - accuracy: 0.9804 - val_loss: 0.1228 - val_accuracy: 0.9659 - 12s/epoch - 173ms/step\n",
            "Epoch 36/100\n",
            "67/67 - 12s - loss: 0.1001 - accuracy: 0.9683 - val_loss: 0.2448 - val_accuracy: 0.9545 - 12s/epoch - 172ms/step\n",
            "Epoch 37/100\n",
            "67/67 - 12s - loss: 0.0820 - accuracy: 0.9720 - val_loss: 0.1373 - val_accuracy: 0.9716 - 12s/epoch - 174ms/step\n",
            "Epoch 38/100\n",
            "67/67 - 12s - loss: 0.1708 - accuracy: 0.9478 - val_loss: 0.3789 - val_accuracy: 0.9432 - 12s/epoch - 174ms/step\n",
            "Epoch 39/100\n",
            "67/67 - 12s - loss: 0.1909 - accuracy: 0.9403 - val_loss: 1.1052 - val_accuracy: 0.8295 - 12s/epoch - 173ms/step\n",
            "Epoch 40/100\n",
            "67/67 - 12s - loss: 0.1325 - accuracy: 0.9590 - val_loss: 0.2343 - val_accuracy: 0.9403 - 12s/epoch - 173ms/step\n",
            "Epoch 41/100\n",
            "67/67 - 12s - loss: 0.2212 - accuracy: 0.9384 - val_loss: 0.1947 - val_accuracy: 0.9489 - 12s/epoch - 172ms/step\n",
            "Epoch 42/100\n",
            "67/67 - 12s - loss: 0.1803 - accuracy: 0.9562 - val_loss: 0.1722 - val_accuracy: 0.9574 - 12s/epoch - 174ms/step\n",
            "Epoch 43/100\n",
            "67/67 - 12s - loss: 0.1361 - accuracy: 0.9646 - val_loss: 0.2034 - val_accuracy: 0.9403 - 12s/epoch - 173ms/step\n",
            "Epoch 44/100\n",
            "67/67 - 12s - loss: 0.0889 - accuracy: 0.9739 - val_loss: 0.1765 - val_accuracy: 0.9460 - 12s/epoch - 173ms/step\n",
            "Epoch 45/100\n",
            "67/67 - 12s - loss: 0.1252 - accuracy: 0.9562 - val_loss: 0.3675 - val_accuracy: 0.9261 - 12s/epoch - 173ms/step\n",
            "Epoch 46/100\n",
            "67/67 - 12s - loss: 0.0757 - accuracy: 0.9739 - val_loss: 0.3226 - val_accuracy: 0.9261 - 12s/epoch - 173ms/step\n",
            "Epoch 47/100\n",
            "67/67 - 12s - loss: 0.0621 - accuracy: 0.9776 - val_loss: 0.2198 - val_accuracy: 0.9574 - 12s/epoch - 173ms/step\n",
            "Epoch 48/100\n",
            "67/67 - 12s - loss: 0.1047 - accuracy: 0.9636 - val_loss: 0.3189 - val_accuracy: 0.9148 - 12s/epoch - 172ms/step\n",
            "Epoch 49/100\n",
            "67/67 - 12s - loss: 0.0955 - accuracy: 0.9664 - val_loss: 0.2014 - val_accuracy: 0.9545 - 12s/epoch - 173ms/step\n",
            "Epoch 50/100\n",
            "67/67 - 12s - loss: 0.0516 - accuracy: 0.9795 - val_loss: 0.1143 - val_accuracy: 0.9688 - 12s/epoch - 172ms/step\n",
            "Epoch 51/100\n",
            "67/67 - 12s - loss: 0.0540 - accuracy: 0.9823 - val_loss: 0.2250 - val_accuracy: 0.9602 - 12s/epoch - 173ms/step\n",
            "Epoch 52/100\n",
            "67/67 - 12s - loss: 0.0469 - accuracy: 0.9832 - val_loss: 0.2448 - val_accuracy: 0.9432 - 12s/epoch - 172ms/step\n",
            "Epoch 53/100\n",
            "67/67 - 11s - loss: 0.0437 - accuracy: 0.9879 - val_loss: 1.4409 - val_accuracy: 0.8778 - 11s/epoch - 171ms/step\n",
            "Epoch 54/100\n",
            "67/67 - 12s - loss: 0.0318 - accuracy: 0.9907 - val_loss: 0.1660 - val_accuracy: 0.9489 - 12s/epoch - 180ms/step\n",
            "Epoch 55/100\n",
            "67/67 - 12s - loss: 0.0424 - accuracy: 0.9869 - val_loss: 0.3930 - val_accuracy: 0.9432 - 12s/epoch - 172ms/step\n",
            "Epoch 56/100\n",
            "67/67 - 12s - loss: 0.1235 - accuracy: 0.9636 - val_loss: 0.5041 - val_accuracy: 0.9006 - 12s/epoch - 172ms/step\n",
            "Epoch 57/100\n",
            "67/67 - 12s - loss: 0.0939 - accuracy: 0.9729 - val_loss: 0.2788 - val_accuracy: 0.9545 - 12s/epoch - 173ms/step\n",
            "Epoch 58/100\n",
            "67/67 - 12s - loss: 0.0618 - accuracy: 0.9785 - val_loss: 0.2221 - val_accuracy: 0.9489 - 12s/epoch - 172ms/step\n",
            "Epoch 59/100\n",
            "67/67 - 12s - loss: 0.0788 - accuracy: 0.9739 - val_loss: 0.7935 - val_accuracy: 0.8523 - 12s/epoch - 172ms/step\n",
            "Epoch 60/100\n",
            "67/67 - 12s - loss: 0.1085 - accuracy: 0.9711 - val_loss: 0.1936 - val_accuracy: 0.9489 - 12s/epoch - 176ms/step\n",
            "Epoch 61/100\n",
            "67/67 - 12s - loss: 0.0606 - accuracy: 0.9795 - val_loss: 0.1390 - val_accuracy: 0.9659 - 12s/epoch - 173ms/step\n",
            "Epoch 62/100\n",
            "67/67 - 12s - loss: 0.0843 - accuracy: 0.9823 - val_loss: 0.5185 - val_accuracy: 0.9034 - 12s/epoch - 173ms/step\n",
            "Epoch 63/100\n",
            "67/67 - 12s - loss: 0.0905 - accuracy: 0.9729 - val_loss: 0.8842 - val_accuracy: 0.8949 - 12s/epoch - 173ms/step\n",
            "Epoch 64/100\n",
            "67/67 - 12s - loss: 0.0611 - accuracy: 0.9776 - val_loss: 0.5389 - val_accuracy: 0.9347 - 12s/epoch - 173ms/step\n",
            "Epoch 65/100\n",
            "67/67 - 12s - loss: 0.0613 - accuracy: 0.9851 - val_loss: 0.1204 - val_accuracy: 0.9688 - 12s/epoch - 173ms/step\n",
            "Epoch 66/100\n",
            "67/67 - 12s - loss: 0.0808 - accuracy: 0.9711 - val_loss: 0.1032 - val_accuracy: 0.9631 - 12s/epoch - 174ms/step\n",
            "Epoch 67/100\n",
            "67/67 - 12s - loss: 0.0933 - accuracy: 0.9748 - val_loss: 0.1688 - val_accuracy: 0.9545 - 12s/epoch - 173ms/step\n",
            "Epoch 68/100\n",
            "67/67 - 12s - loss: 0.0255 - accuracy: 0.9935 - val_loss: 0.2425 - val_accuracy: 0.9517 - 12s/epoch - 172ms/step\n",
            "Epoch 69/100\n",
            "67/67 - 12s - loss: 0.0718 - accuracy: 0.9757 - val_loss: 0.5680 - val_accuracy: 0.8665 - 12s/epoch - 173ms/step\n",
            "Epoch 70/100\n",
            "67/67 - 12s - loss: 0.0280 - accuracy: 0.9935 - val_loss: 0.2112 - val_accuracy: 0.9545 - 12s/epoch - 172ms/step\n",
            "Epoch 71/100\n",
            "67/67 - 11s - loss: 0.0475 - accuracy: 0.9869 - val_loss: 0.4165 - val_accuracy: 0.9318 - 11s/epoch - 171ms/step\n",
            "Epoch 72/100\n",
            "67/67 - 12s - loss: 0.1951 - accuracy: 0.9459 - val_loss: 111.0985 - val_accuracy: 0.7102 - 12s/epoch - 173ms/step\n",
            "Epoch 73/100\n",
            "67/67 - 12s - loss: 0.1316 - accuracy: 0.9608 - val_loss: 1.2169 - val_accuracy: 0.9176 - 12s/epoch - 173ms/step\n",
            "Epoch 74/100\n",
            "67/67 - 12s - loss: 0.1510 - accuracy: 0.9599 - val_loss: 0.1590 - val_accuracy: 0.9659 - 12s/epoch - 173ms/step\n",
            "Epoch 75/100\n",
            "67/67 - 12s - loss: 0.1334 - accuracy: 0.9562 - val_loss: 0.9069 - val_accuracy: 0.8523 - 12s/epoch - 173ms/step\n",
            "Epoch 76/100\n",
            "67/67 - 12s - loss: 0.0885 - accuracy: 0.9757 - val_loss: 0.1723 - val_accuracy: 0.9545 - 12s/epoch - 173ms/step\n",
            "Epoch 77/100\n",
            "67/67 - 12s - loss: 0.0354 - accuracy: 0.9869 - val_loss: 0.1338 - val_accuracy: 0.9659 - 12s/epoch - 172ms/step\n",
            "Epoch 78/100\n",
            "67/67 - 12s - loss: 0.0472 - accuracy: 0.9879 - val_loss: 0.1451 - val_accuracy: 0.9631 - 12s/epoch - 172ms/step\n",
            "Epoch 79/100\n",
            "67/67 - 12s - loss: 0.1640 - accuracy: 0.9552 - val_loss: 0.1205 - val_accuracy: 0.9744 - 12s/epoch - 172ms/step\n",
            "Epoch 80/100\n",
            "67/67 - 12s - loss: 0.1380 - accuracy: 0.9748 - val_loss: 0.6339 - val_accuracy: 0.9347 - 12s/epoch - 172ms/step\n",
            "Epoch 81/100\n",
            "67/67 - 12s - loss: 0.1137 - accuracy: 0.9776 - val_loss: 0.4047 - val_accuracy: 0.9176 - 12s/epoch - 174ms/step\n",
            "Epoch 82/100\n",
            "67/67 - 11s - loss: 0.0581 - accuracy: 0.9823 - val_loss: 0.1578 - val_accuracy: 0.9545 - 11s/epoch - 171ms/step\n",
            "Epoch 83/100\n",
            "67/67 - 12s - loss: 0.0731 - accuracy: 0.9795 - val_loss: 0.2046 - val_accuracy: 0.9375 - 12s/epoch - 173ms/step\n",
            "Epoch 84/100\n",
            "67/67 - 12s - loss: 0.0555 - accuracy: 0.9823 - val_loss: 0.2686 - val_accuracy: 0.9517 - 12s/epoch - 172ms/step\n",
            "Epoch 85/100\n",
            "67/67 - 12s - loss: 0.0509 - accuracy: 0.9832 - val_loss: 0.0967 - val_accuracy: 0.9744 - 12s/epoch - 173ms/step\n",
            "Epoch 86/100\n",
            "67/67 - 12s - loss: 0.0233 - accuracy: 0.9907 - val_loss: 0.1862 - val_accuracy: 0.9602 - 12s/epoch - 173ms/step\n",
            "Epoch 87/100\n",
            "67/67 - 12s - loss: 0.0470 - accuracy: 0.9795 - val_loss: 0.1164 - val_accuracy: 0.9545 - 12s/epoch - 172ms/step\n",
            "Epoch 88/100\n",
            "67/67 - 12s - loss: 0.1159 - accuracy: 0.9674 - val_loss: 0.4241 - val_accuracy: 0.9545 - 12s/epoch - 173ms/step\n",
            "Epoch 89/100\n",
            "67/67 - 12s - loss: 0.0741 - accuracy: 0.9748 - val_loss: 0.3376 - val_accuracy: 0.8949 - 12s/epoch - 173ms/step\n",
            "Epoch 90/100\n",
            "67/67 - 12s - loss: 0.1181 - accuracy: 0.9841 - val_loss: 0.2112 - val_accuracy: 0.9403 - 12s/epoch - 173ms/step\n",
            "Epoch 91/100\n",
            "67/67 - 12s - loss: 0.0317 - accuracy: 0.9897 - val_loss: 0.1363 - val_accuracy: 0.9716 - 12s/epoch - 173ms/step\n",
            "Epoch 92/100\n",
            "67/67 - 12s - loss: 0.1230 - accuracy: 0.9832 - val_loss: 0.0883 - val_accuracy: 0.9744 - 12s/epoch - 172ms/step\n",
            "Epoch 93/100\n",
            "67/67 - 12s - loss: 0.0684 - accuracy: 0.9907 - val_loss: 0.0623 - val_accuracy: 0.9773 - 12s/epoch - 174ms/step\n",
            "Epoch 94/100\n",
            "67/67 - 12s - loss: 0.0405 - accuracy: 0.9897 - val_loss: 0.1906 - val_accuracy: 0.9602 - 12s/epoch - 172ms/step\n",
            "Epoch 95/100\n",
            "67/67 - 12s - loss: 0.0458 - accuracy: 0.9860 - val_loss: 0.1788 - val_accuracy: 0.9659 - 12s/epoch - 173ms/step\n",
            "Epoch 96/100\n",
            "67/67 - 11s - loss: 0.0395 - accuracy: 0.9860 - val_loss: 0.0577 - val_accuracy: 0.9830 - 11s/epoch - 171ms/step\n",
            "Epoch 97/100\n",
            "67/67 - 12s - loss: 0.0835 - accuracy: 0.9795 - val_loss: 3.1769 - val_accuracy: 0.8239 - 12s/epoch - 173ms/step\n",
            "Epoch 98/100\n",
            "67/67 - 12s - loss: 0.1106 - accuracy: 0.9739 - val_loss: 0.1230 - val_accuracy: 0.9659 - 12s/epoch - 173ms/step\n",
            "Epoch 99/100\n",
            "67/67 - 12s - loss: 0.0672 - accuracy: 0.9804 - val_loss: 0.1459 - val_accuracy: 0.9545 - 12s/epoch - 174ms/step\n",
            "Epoch 100/100\n",
            "67/67 - 12s - loss: 0.0417 - accuracy: 0.9869 - val_loss: 0.1279 - val_accuracy: 0.9545 - 12s/epoch - 172ms/step\n"
          ]
        }
      ],
      "source": [
        "from tensorflow.keras.applications import EfficientNetB0\n",
        "\n",
        "with strategy.scope():\n",
        "    inputs = layers.Input(shape=(IMG_SIZE, IMG_SIZE, 3))\n",
        "    x = img_augmentation(inputs)\n",
        "    outputs = EfficientNetB0(include_top=True, weights=None, classes=NUM_CLASSES)(x)\n",
        "\n",
        "    model = tf.keras.Model(inputs, outputs)\n",
        "    model.compile(\n",
        "        optimizer=\"adam\", loss=\"categorical_crossentropy\", metrics=[\"accuracy\"]\n",
        "    )\n",
        "\n",
        "model.summary()\n",
        "\n",
        "epochs = 100  # @param {type: \"slider\", min:10, max:100}\n",
        "hist = model.fit(ds_train, epochs=epochs, validation_data=ds_test, verbose=2)"
      ]
    },
    {
      "cell_type": "code",
      "execution_count": null,
      "metadata": {
        "colab": {
          "base_uri": "https://localhost:8080/",
          "height": 295
        },
        "id": "u4mPhmmq7XQ2",
        "outputId": "cd62a8c1-b899-4eba-9315-9d7c56fc3f4c"
      },
      "outputs": [
        {
          "data": {
            "image/png": "[encoded data removed]",
            "text/plain": [
              "<Figure size 432x288 with 1 Axes>"
            ]
          },
          "metadata": {
            "needs_background": "light"
          },
          "output_type": "display_data"
        }
      ],
      "source": [
        "import matplotlib.pyplot as plt\n",
        "\n",
        "\n",
        "def plot_hist(hist):\n",
        "    plt.plot(hist.history[\"accuracy\"])\n",
        "    plt.plot(hist.history[\"val_accuracy\"])\n",
        "    plt.title(\"model accuracy\")\n",
        "    plt.ylabel(\"accuracy\")\n",
        "    plt.xlabel(\"epoch\")\n",
        "    plt.legend([\"train\", \"validation\"], loc=\"upper left\")\n",
        "    plt.show()\n",
        "\n",
        "\n",
        "plot_hist(hist)"
      ]
    },
    {
      "cell_type": "code",
      "execution_count": null,
      "metadata": {
        "id": "e_GRQrzy7XSx"
      },
      "outputs": [],
      "source": [
        "def build_model(num_classes):\n",
        "    inputs = layers.Input(shape=(IMG_SIZE, IMG_SIZE, 3))\n",
        "    x = img_augmentation(inputs)\n",
        "    model = EfficientNetB0(include_top=False, input_tensor=x, weights=\"imagenet\")\n",
        "\n",
        "    # Freeze the pretrained weights\n",
        "    model.trainable = False\n",
        "\n",
        "    # Rebuild top\n",
        "    x = layers.GlobalAveragePooling2D(name=\"avg_pool\")(model.output)\n",
        "    x = layers.BatchNormalization()(x)\n",
        "\n",
        "    top_dropout_rate = 0.2\n",
        "    x = layers.Dropout(top_dropout_rate, name=\"top_dropout\")(x)\n",
        "    outputs = layers.Dense(NUM_CLASSES, activation=\"softmax\", name=\"pred\")(x)\n",
        "\n",
        "    # Compile\n",
        "    model = tf.keras.Model(inputs, outputs, name=\"EfficientNet\")\n",
        "    optimizer = tf.keras.optimizers.Adam(learning_rate=1e-2)\n",
        "    model.compile(\n",
        "        optimizer=optimizer, loss=\"categorical_crossentropy\", metrics=[\"accuracy\"]\n",
        "    )\n",
        "    return model"
      ]
    },
    {
      "cell_type": "code",
      "execution_count": null,
      "metadata": {
        "colab": {
          "base_uri": "https://localhost:8080/",
          "height": 1000
        },
        "id": "oHNly0LAIU8d",
        "outputId": "491d94fd-2b58-4135-b7e7-0a5ffb0b3948"
      },
      "outputs": [
        {
          "name": "stdout",
          "output_type": "stream",
          "text": [
            "Epoch 1/60\n",
            "67/67 - 13s - loss: 0.2336 - accuracy: 0.9291 - val_loss: 0.4710 - val_accuracy: 0.7528 - 13s/epoch - 198ms/step\n",
            "Epoch 2/60\n",
            "67/67 - 3s - loss: 0.1579 - accuracy: 0.9646 - val_loss: 0.2046 - val_accuracy: 0.9318 - 3s/epoch - 50ms/step\n",
            "Epoch 3/60\n",
            "67/67 - 4s - loss: 0.1885 - accuracy: 0.9646 - val_loss: 0.0745 - val_accuracy: 0.9716 - 4s/epoch - 58ms/step\n",
            "Epoch 4/60\n",
            "67/67 - 3s - loss: 0.1388 - accuracy: 0.9757 - val_loss: 0.0224 - val_accuracy: 0.9915 - 3s/epoch - 51ms/step\n",
            "Epoch 5/60\n",
            "67/67 - 3s - loss: 0.1603 - accuracy: 0.9767 - val_loss: 0.1237 - val_accuracy: 0.9631 - 3s/epoch - 51ms/step\n",
            "Epoch 6/60\n",
            "67/67 - 3s - loss: 0.1498 - accuracy: 0.9823 - val_loss: 0.1658 - val_accuracy: 0.9631 - 3s/epoch - 50ms/step\n",
            "Epoch 7/60\n",
            "67/67 - 3s - loss: 0.1343 - accuracy: 0.9813 - val_loss: 0.0511 - val_accuracy: 0.9886 - 3s/epoch - 50ms/step\n",
            "Epoch 8/60\n",
            "67/67 - 3s - loss: 0.1290 - accuracy: 0.9804 - val_loss: 0.0518 - val_accuracy: 0.9886 - 3s/epoch - 52ms/step\n",
            "Epoch 9/60\n",
            "67/67 - 4s - loss: 0.0633 - accuracy: 0.9869 - val_loss: 0.0795 - val_accuracy: 0.9886 - 4s/epoch - 57ms/step\n",
            "Epoch 10/60\n",
            "67/67 - 3s - loss: 0.1841 - accuracy: 0.9795 - val_loss: 0.0307 - val_accuracy: 0.9915 - 3s/epoch - 51ms/step\n",
            "Epoch 11/60\n",
            "67/67 - 3s - loss: 0.0783 - accuracy: 0.9879 - val_loss: 0.0409 - val_accuracy: 0.9943 - 3s/epoch - 50ms/step\n",
            "Epoch 12/60\n",
            "67/67 - 3s - loss: 0.0402 - accuracy: 0.9916 - val_loss: 0.0454 - val_accuracy: 0.9886 - 3s/epoch - 51ms/step\n",
            "Epoch 13/60\n",
            "67/67 - 3s - loss: 0.1933 - accuracy: 0.9888 - val_loss: 0.0739 - val_accuracy: 0.9886 - 3s/epoch - 51ms/step\n",
            "Epoch 14/60\n",
            "67/67 - 3s - loss: 0.0796 - accuracy: 0.9897 - val_loss: 0.1128 - val_accuracy: 0.9886 - 3s/epoch - 50ms/step\n",
            "Epoch 15/60\n",
            "67/67 - 4s - loss: 0.1128 - accuracy: 0.9851 - val_loss: 0.0247 - val_accuracy: 0.9915 - 4s/epoch - 59ms/step\n",
            "Epoch 16/60\n",
            "67/67 - 3s - loss: 0.2190 - accuracy: 0.9823 - val_loss: 0.0728 - val_accuracy: 0.9886 - 3s/epoch - 50ms/step\n",
            "Epoch 17/60\n",
            "67/67 - 3s - loss: 0.0773 - accuracy: 0.9925 - val_loss: 0.0732 - val_accuracy: 0.9943 - 3s/epoch - 50ms/step\n",
            "Epoch 18/60\n",
            "67/67 - 3s - loss: 0.2234 - accuracy: 0.9767 - val_loss: 0.0580 - val_accuracy: 0.9943 - 3s/epoch - 50ms/step\n",
            "Epoch 19/60\n",
            "67/67 - 3s - loss: 0.1040 - accuracy: 0.9879 - val_loss: 0.0631 - val_accuracy: 0.9915 - 3s/epoch - 50ms/step\n",
            "Epoch 20/60\n",
            "67/67 - 3s - loss: 0.1044 - accuracy: 0.9860 - val_loss: 0.0595 - val_accuracy: 0.9886 - 3s/epoch - 50ms/step\n",
            "Epoch 21/60\n",
            "67/67 - 3s - loss: 0.1569 - accuracy: 0.9860 - val_loss: 0.0824 - val_accuracy: 0.9915 - 3s/epoch - 51ms/step\n",
            "Epoch 22/60\n",
            "67/67 - 3s - loss: 0.1079 - accuracy: 0.9907 - val_loss: 0.1067 - val_accuracy: 0.9886 - 3s/epoch - 50ms/step\n",
            "Epoch 23/60\n",
            "67/67 - 3s - loss: 0.0901 - accuracy: 0.9888 - val_loss: 0.0045 - val_accuracy: 0.9972 - 3s/epoch - 50ms/step\n",
            "Epoch 24/60\n",
            "67/67 - 4s - loss: 0.2420 - accuracy: 0.9804 - val_loss: 0.0459 - val_accuracy: 0.9943 - 4s/epoch - 58ms/step\n",
            "Epoch 25/60\n",
            "67/67 - 3s - loss: 0.1540 - accuracy: 0.9888 - val_loss: 0.0369 - val_accuracy: 0.9972 - 3s/epoch - 49ms/step\n",
            "Epoch 26/60\n",
            "67/67 - 3s - loss: 0.1854 - accuracy: 0.9832 - val_loss: 0.0371 - val_accuracy: 0.9943 - 3s/epoch - 50ms/step\n",
            "Epoch 27/60\n",
            "67/67 - 3s - loss: 0.2132 - accuracy: 0.9869 - val_loss: 0.0491 - val_accuracy: 0.9943 - 3s/epoch - 50ms/step\n",
            "Epoch 28/60\n",
            "67/67 - 3s - loss: 0.1744 - accuracy: 0.9879 - val_loss: 0.0375 - val_accuracy: 0.9972 - 3s/epoch - 50ms/step\n",
            "Epoch 29/60\n",
            "67/67 - 3s - loss: 0.1404 - accuracy: 0.9879 - val_loss: 0.0154 - val_accuracy: 0.9943 - 3s/epoch - 50ms/step\n",
            "Epoch 30/60\n",
            "67/67 - 3s - loss: 0.1332 - accuracy: 0.9925 - val_loss: 0.0578 - val_accuracy: 0.9943 - 3s/epoch - 51ms/step\n",
            "Epoch 31/60\n",
            "67/67 - 3s - loss: 0.1199 - accuracy: 0.9897 - val_loss: 0.0400 - val_accuracy: 0.9972 - 3s/epoch - 50ms/step\n",
            "Epoch 32/60\n",
            "67/67 - 3s - loss: 0.0622 - accuracy: 0.9879 - val_loss: 0.0421 - val_accuracy: 0.9943 - 3s/epoch - 51ms/step\n",
            "Epoch 33/60\n",
            "67/67 - 3s - loss: 0.1559 - accuracy: 0.9869 - val_loss: 0.0245 - val_accuracy: 0.9972 - 3s/epoch - 50ms/step\n",
            "Epoch 34/60\n",
            "67/67 - 3s - loss: 0.0604 - accuracy: 0.9897 - val_loss: 0.0809 - val_accuracy: 0.9943 - 3s/epoch - 50ms/step\n",
            "Epoch 35/60\n",
            "67/67 - 3s - loss: 0.1336 - accuracy: 0.9953 - val_loss: 0.0557 - val_accuracy: 0.9915 - 3s/epoch - 50ms/step\n",
            "Epoch 36/60\n",
            "67/67 - 3s - loss: 0.2362 - accuracy: 0.9813 - val_loss: 0.0026 - val_accuracy: 1.0000 - 3s/epoch - 50ms/step\n",
            "Epoch 37/60\n",
            "67/67 - 3s - loss: 0.0604 - accuracy: 0.9907 - val_loss: 0.0900 - val_accuracy: 0.9972 - 3s/epoch - 50ms/step\n",
            "Epoch 38/60\n",
            "67/67 - 3s - loss: 0.1524 - accuracy: 0.9879 - val_loss: 0.0949 - val_accuracy: 0.9943 - 3s/epoch - 50ms/step\n",
            "Epoch 39/60\n",
            "67/67 - 3s - loss: 0.1259 - accuracy: 0.9925 - val_loss: 0.0262 - val_accuracy: 0.9943 - 3s/epoch - 50ms/step\n",
            "Epoch 40/60\n",
            "67/67 - 3s - loss: 0.0816 - accuracy: 0.9897 - val_loss: 0.1091 - val_accuracy: 0.9915 - 3s/epoch - 50ms/step\n",
            "Epoch 41/60\n",
            "67/67 - 3s - loss: 0.0862 - accuracy: 0.9916 - val_loss: 0.1876 - val_accuracy: 0.9915 - 3s/epoch - 50ms/step\n",
            "Epoch 42/60\n",
            "67/67 - 3s - loss: 0.2705 - accuracy: 0.9851 - val_loss: 0.2719 - val_accuracy: 0.9830 - 3s/epoch - 50ms/step\n",
            "Epoch 43/60\n",
            "67/67 - 3s - loss: 0.0578 - accuracy: 0.9935 - val_loss: 0.0040 - val_accuracy: 0.9972 - 3s/epoch - 50ms/step\n",
            "Epoch 44/60\n",
            "67/67 - 3s - loss: 0.0193 - accuracy: 0.9963 - val_loss: 0.0349 - val_accuracy: 0.9972 - 3s/epoch - 50ms/step\n",
            "Epoch 45/60\n",
            "67/67 - 3s - loss: 0.1058 - accuracy: 0.9935 - val_loss: 0.0863 - val_accuracy: 0.9886 - 3s/epoch - 50ms/step\n",
            "Epoch 46/60\n",
            "67/67 - 3s - loss: 0.0599 - accuracy: 0.9925 - val_loss: 0.0066 - val_accuracy: 0.9972 - 3s/epoch - 50ms/step\n",
            "Epoch 47/60\n",
            "67/67 - 3s - loss: 0.0762 - accuracy: 0.9925 - val_loss: 0.0605 - val_accuracy: 0.9972 - 3s/epoch - 50ms/step\n",
            "Epoch 48/60\n",
            "67/67 - 3s - loss: 0.0771 - accuracy: 0.9897 - val_loss: 2.4943e-04 - val_accuracy: 1.0000 - 3s/epoch - 50ms/step\n",
            "Epoch 49/60\n",
            "67/67 - 3s - loss: 0.2144 - accuracy: 0.9925 - val_loss: 0.1973 - val_accuracy: 0.9886 - 3s/epoch - 50ms/step\n",
            "Epoch 50/60\n",
            "67/67 - 3s - loss: 0.1489 - accuracy: 0.9897 - val_loss: 2.1505e-07 - val_accuracy: 1.0000 - 3s/epoch - 50ms/step\n",
            "Epoch 51/60\n",
            "67/67 - 3s - loss: 0.1050 - accuracy: 0.9897 - val_loss: 0.1606 - val_accuracy: 0.9943 - 3s/epoch - 50ms/step\n",
            "Epoch 52/60\n",
            "67/67 - 3s - loss: 0.0713 - accuracy: 0.9916 - val_loss: 0.2543 - val_accuracy: 0.9886 - 3s/epoch - 50ms/step\n",
            "Epoch 53/60\n",
            "67/67 - 3s - loss: 0.2223 - accuracy: 0.9860 - val_loss: 0.0759 - val_accuracy: 0.9972 - 3s/epoch - 50ms/step\n",
            "Epoch 54/60\n",
            "67/67 - 3s - loss: 0.1932 - accuracy: 0.9925 - val_loss: 0.2082 - val_accuracy: 0.9886 - 3s/epoch - 50ms/step\n",
            "Epoch 55/60\n",
            "67/67 - 3s - loss: 0.2379 - accuracy: 0.9860 - val_loss: 0.0527 - val_accuracy: 0.9915 - 3s/epoch - 50ms/step\n",
            "Epoch 56/60\n",
            "67/67 - 3s - loss: 0.1388 - accuracy: 0.9860 - val_loss: 0.0333 - val_accuracy: 0.9943 - 3s/epoch - 51ms/step\n",
            "Epoch 57/60\n",
            "67/67 - 3s - loss: 0.2951 - accuracy: 0.9841 - val_loss: 0.0986 - val_accuracy: 0.9943 - 3s/epoch - 50ms/step\n",
            "Epoch 58/60\n",
            "67/67 - 3s - loss: 0.1050 - accuracy: 0.9935 - val_loss: 0.0595 - val_accuracy: 0.9915 - 3s/epoch - 51ms/step\n",
            "Epoch 59/60\n",
            "67/67 - 3s - loss: 0.1976 - accuracy: 0.9907 - val_loss: 0.0525 - val_accuracy: 0.9943 - 3s/epoch - 51ms/step\n",
            "Epoch 60/60\n",
            "67/67 - 3s - loss: 0.0795 - accuracy: 0.9916 - val_loss: 0.0540 - val_accuracy: 0.9943 - 3s/epoch - 50ms/step\n"
          ]
        },
        {
          "data": {
            "image/png": "[encoded data removed]",
            "text/plain": [
              "<Figure size 432x288 with 1 Axes>"
            ]
          },
          "metadata": {
            "needs_background": "light"
          },
          "output_type": "display_data"
        }
      ],
      "source": [
        "with strategy.scope():\n",
        "    model = build_model(num_classes=NUM_CLASSES)\n",
        "\n",
        "epochs = 60  # @param {type: \"slider\", min:8, max:80}\n",
        "hist = model.fit(ds_train, epochs=epochs, validation_data=ds_test, verbose=2)\n",
        "plot_hist(hist)"
      ]
    },
    {
      "cell_type": "code",
      "execution_count": null,
      "metadata": {
        "colab": {
          "base_uri": "https://localhost:8080/",
          "height": 422
        },
        "id": "fg_qIjn6IU6f",
        "outputId": "36ce275a-b274-48a6-f921-8babf8fd8c00"
      },
      "outputs": [
        {
          "name": "stdout",
          "output_type": "stream",
          "text": [
            "Epoch 1/10\n",
            "67/67 - 14s - loss: 0.2132 - accuracy: 0.9888 - val_loss: 0.1246 - val_accuracy: 0.9886 - 14s/epoch - 204ms/step\n",
            "Epoch 2/10\n",
            "67/67 - 4s - loss: 0.0690 - accuracy: 0.9953 - val_loss: 0.0873 - val_accuracy: 0.9943 - 4s/epoch - 54ms/step\n",
            "Epoch 3/10\n",
            "67/67 - 4s - loss: 0.4430 - accuracy: 0.9860 - val_loss: 0.7268 - val_accuracy: 0.9773 - 4s/epoch - 54ms/step\n",
            "Epoch 4/10\n",
            "67/67 - 4s - loss: 0.3441 - accuracy: 0.9841 - val_loss: 0.4984 - val_accuracy: 0.9830 - 4s/epoch - 54ms/step\n",
            "Epoch 5/10\n",
            "67/67 - 4s - loss: 0.1259 - accuracy: 0.9963 - val_loss: 3.1452e-05 - val_accuracy: 1.0000 - 4s/epoch - 54ms/step\n",
            "Epoch 6/10\n",
            "67/67 - 4s - loss: 0.0819 - accuracy: 0.9944 - val_loss: 0.8609 - val_accuracy: 0.9830 - 4s/epoch - 54ms/step\n",
            "Epoch 7/10\n",
            "67/67 - 4s - loss: 0.2346 - accuracy: 0.9944 - val_loss: 0.3605 - val_accuracy: 0.9886 - 4s/epoch - 54ms/step\n",
            "Epoch 8/10\n",
            "67/67 - 4s - loss: 0.0326 - accuracy: 0.9963 - val_loss: 0.0745 - val_accuracy: 0.9943 - 4s/epoch - 54ms/step\n",
            "Epoch 9/10\n",
            "67/67 - 4s - loss: 0.0932 - accuracy: 0.9935 - val_loss: 0.6180 - val_accuracy: 0.9744 - 4s/epoch - 55ms/step\n",
            "Epoch 10/10\n",
            "67/67 - 4s - loss: 0.0852 - accuracy: 0.9953 - val_loss: 0.3550 - val_accuracy: 0.9830 - 4s/epoch - 54ms/step\n"
          ]
        },
        {
          "data": {
            "image/png": "[encoded data removed]",
            "text/plain": [
              "<Figure size 432x288 with 1 Axes>"
            ]
          },
          "metadata": {
            "needs_background": "light"
          },
          "output_type": "display_data"
        }
      ],
      "source": [
        "def unfreeze_model(model):\n",
        "    # We unfreeze the top 20 layers while leaving BatchNorm layers frozen\n",
        "    for layer in model.layers[-20:]:\n",
        "        if not isinstance(layer, layers.BatchNormalization):\n",
        "            layer.trainable = True\n",
        "\n",
        "    optimizer = tf.keras.optimizers.Adam(learning_rate=1e-4)\n",
        "    model.compile(\n",
        "        optimizer=optimizer, loss=\"categorical_crossentropy\", metrics=[\"accuracy\"]\n",
        "    )\n",
        "\n",
        "\n",
        "unfreeze_model(model)\n",
        "\n",
        "epochs = 10  # @param {type: \"slider\", min:8, max:50}\n",
        "hist = model.fit(ds_train, epochs=epochs, validation_data=ds_test, verbose=2)\n",
        "plot_hist(hist)"
      ]
    },
    {
      "cell_type": "code",
      "execution_count": null,
      "metadata": {
        "colab": {
          "base_uri": "https://localhost:8080/"
        },
        "id": "dlwIrZYHIU4M",
        "outputId": "c847be11-972e-43e7-fd4f-47dcc9a52209"
      },
      "outputs": [
        {
          "name": "stdout",
          "output_type": "stream",
          "text": [
            "22/22 [==============================] - 1s 36ms/step - loss: 0.3550 - accuracy: 0.9830\n"
          ]
        },
        {
          "data": {
            "text/plain": [
              "[0.3549836277961731, 0.9829545617103577]"
            ]
          },
          "execution_count": 61,
          "metadata": {},
          "output_type": "execute_result"
        }
      ],
      "source": [
        "model.evaluate(ds_test)"
      ]
    },
    {
      "cell_type": "code",
      "execution_count": null,
      "metadata": {
        "colab": {
          "base_uri": "https://localhost:8080/"
        },
        "id": "EB7MPxHfEqfQ",
        "outputId": "dbaf0cdf-5d43-48bd-beab-8eb6b9ec726b"
      },
      "outputs": [
        {
          "name": "stdout",
          "output_type": "stream",
          "text": [
            "[[0.0000000e+00 1.0000000e+00 0.0000000e+00 9.8329658e-36 2.1909118e-21\n",
            "  1.5343388e-32]\n",
            " [0.0000000e+00 0.0000000e+00 0.0000000e+00 1.0000000e+00 0.0000000e+00\n",
            "  0.0000000e+00]\n",
            " [1.0000000e+00 0.0000000e+00 0.0000000e+00 0.0000000e+00 0.0000000e+00\n",
            "  0.0000000e+00]\n",
            " ...\n",
            " [0.0000000e+00 0.0000000e+00 0.0000000e+00 0.0000000e+00 1.0000000e+00\n",
            "  0.0000000e+00]\n",
            " [0.0000000e+00 0.0000000e+00 0.0000000e+00 0.0000000e+00 1.0000000e+00\n",
            "  0.0000000e+00]\n",
            " [0.0000000e+00 0.0000000e+00 0.0000000e+00 0.0000000e+00 1.0000000e+00\n",
            "  0.0000000e+00]] <class 'numpy.ndarray'> (360, 6)\n",
            "[1 3 0 0 2 0 2 0 5 4 2 2 1 5 0 4 5 2 4 2 2 0 4 0 0 5 2 4 2 2 2 0 2 5 0 2 1\n",
            " 3 3 4 3 3 3 4 1 3 5 3 5 1 4 3 5 5 0 0 0 1 0 2 1 1 2 4 0 4 1 5 1 2 2 5 2 1\n",
            " 5 3 0 5 2 2 5 2 0 4 1 1 2 3 2 1 5 5 2 4 5 5 2 0 4 2 3 0 3 1 1 1 1 4 4 1 5\n",
            " 1 4 4 2 4 5 2 0 4 1 2 3 5 3 4 2 1 5 0 3 0 0 0 2 1 0 0 3 0 1 3 0 5 2 0 4 0\n",
            " 0 5 5 5 4 1 5 0 4 3 0 2 1 5 3 2 4 1 1 5 5 4 5 1 4 2 5 2 0 3 1 2 0 5 3 0 0\n",
            " 0 2 4 3 1 0 5 4 1 0 2 3 0 3 2 3 3 1 2 0 3 1 5 2 1 1 3 0 0 5 5 2 2 1 5 3 0\n",
            " 4 1 3 2 3 4 3 4 3 0 0 1 0 2 4 1 4 4 4 3 5 0 4 2 3 2 2 2 4 2 4 4 1 1 4 3 4\n",
            " 3 3 0 4 2 2 4 3 4 4 1 1 1 4 4 0 3 5 3 2 3 2 5 2 4 4 4 3 2 1 1 5 1 3 1 4 2\n",
            " 4 3 5 0 4 5 0 3 2 2 5 1 2 5 0 2 5 2 0 2 4 4 0 1 3 1 3 4 0 4 2 1 4 2 2 0 5\n",
            " 3 2 1 0 5 1 0 1 3 4 1 5 4 5 0 5 1 5 5 5 0 4 1 0 4 4 4] (360,)\n",
            "[1 3 0 0 2 0 2 0 5 4 2 2 1 5 0 4 5 2 3 2 2 0 4 0 0 5 2 4 2 2 2 0 2 5 0 2 1\n",
            " 3 3 4 3 3 3 4 1 3 5 3 5 1 4 3 5 5 0 0 0 1 0 2 1 1 2 4 0 4 1 5 1 2 2 5 2 1\n",
            " 1 3 0 5 2 2 5 2 0 4 1 1 2 3 2 1 5 5 2 4 5 5 2 0 4 2 3 0 3 1 1 1 1 4 4 1 5\n",
            " 1 4 4 2 4 5 2 0 4 1 2 3 1 3 4 2 1 5 0 3 0 0 0 2 1 0 0 3 0 1 3 0 5 2 0 4 0\n",
            " 0 5 5 5 3 1 5 0 4 3 0 2 1 5 3 2 4 1 1 5 5 4 5 1 4 2 5 2 0 3 1 2 0 5 3 0 0\n",
            " 0 2 4 3 1 0 3 4 1 0 2 3 0 3 2 3 3 1 2 0 3 1 5 2 1 1 3 0 0 5 5 2 2 1 5 3 0\n",
            " 4 1 3 2 3 4 3 4 3 0 0 1 0 2 4 1 4 4 4 3 5 0 4 2 3 2 2 2 4 2 4 4 1 1 4 3 4\n",
            " 3 3 0 4 2 2 4 3 4 4 1 1 1 4 4 0 3 5 3 2 3 2 5 2 4 4 4 3 2 1 1 5 1 3 1 4 2\n",
            " 4 3 1 0 4 5 0 3 2 2 5 1 2 5 0 2 5 2 0 2 4 4 0 1 3 1 3 4 0 4 2 1 4 2 2 0 5\n",
            " 3 2 1 0 5 1 0 1 3 4 1 5 4 5 0 5 1 5 5 5 0 4 1 0 4 4 4] (360,)\n"
          ]
        }
      ],
      "source": [
        "#Test set 정확도\n",
        "y_pred_test=model.predict(x_test)\n",
        "print(y_pred_test, type(y_pred_test), y_pred_test.shape)\n",
        "y_pred=[]\n",
        "for ar in y_pred_test:\n",
        "  y_pred.append(np.argmax(ar))\n",
        "y_pred = np.array(y_pred)\n",
        "print(y_pred, y_pred.shape)\n",
        "print(y_test, y_test.shape)"
      ]
    },
    {
      "cell_type": "code",
      "execution_count": null,
      "metadata": {
        "colab": {
          "base_uri": "https://localhost:8080/"
        },
        "id": "RpZW7G96IUsi",
        "outputId": "e07dff76-4cbc-4e43-b58a-c83715d23b57"
      },
      "outputs": [
        {
          "name": "stdout",
          "output_type": "stream",
          "text": [
            "accuracy: 0.9833333333333333\n",
            "Precision: 0.9843150252525253\n",
            "Recall: 0.9833333333333333\n",
            "F1-Score: 0.9833647152457903\n"
          ]
        }
      ],
      "source": [
        "from sklearn.metrics import f1_score, accuracy_score, recall_score, precision_score\n",
        "print(\"accuracy:\",accuracy_score(y_test, y_pred))\n",
        "print(\"Precision:\",precision_score(y_test, y_pred, average='weighted'))\n",
        "print(\"Recall:\",recall_score(y_test, y_pred, average='weighted'))\n",
        "print(\"F1-Score:\",f1_score(y_test, y_pred, average='weighted'))"
      ]
    },
    {
      "cell_type": "code",
      "execution_count": null,
      "metadata": {
        "colab": {
          "base_uri": "https://localhost:8080/"
        },
        "id": "EXzxgRCOh8Kz",
        "outputId": "4451553b-f349-497c-bb3c-dfa439b4c850"
      },
      "outputs": [
        {
          "name": "stdout",
          "output_type": "stream",
          "text": [
            "[[0.0000000e+00 1.0000000e+00 0.0000000e+00 7.1389175e-37 2.2102077e-31\n",
            "  4.5508290e-28]\n",
            " [1.0000000e+00 0.0000000e+00 3.3510007e-30 0.0000000e+00 0.0000000e+00\n",
            "  0.0000000e+00]\n",
            " [0.0000000e+00 0.0000000e+00 0.0000000e+00 1.0000000e+00 0.0000000e+00\n",
            "  0.0000000e+00]\n",
            " ...\n",
            " [0.0000000e+00 0.0000000e+00 0.0000000e+00 0.0000000e+00 0.0000000e+00\n",
            "  1.0000000e+00]\n",
            " [0.0000000e+00 0.0000000e+00 1.0000000e+00 0.0000000e+00 0.0000000e+00\n",
            "  0.0000000e+00]\n",
            " [0.0000000e+00 0.0000000e+00 0.0000000e+00 1.0000000e+00 0.0000000e+00\n",
            "  0.0000000e+00]] <class 'numpy.ndarray'> (1080, 6)\n",
            "[[0.0000000e+00 1.0000000e+00 0.0000000e+00 7.1389175e-37 2.2102077e-31\n",
            "  4.5508290e-28]\n",
            " [1.0000000e+00 0.0000000e+00 3.3510007e-30 0.0000000e+00 0.0000000e+00\n",
            "  0.0000000e+00]\n",
            " [0.0000000e+00 0.0000000e+00 0.0000000e+00 1.0000000e+00 0.0000000e+00\n",
            "  0.0000000e+00]\n",
            " ...\n",
            " [0.0000000e+00 0.0000000e+00 0.0000000e+00 0.0000000e+00 0.0000000e+00\n",
            "  1.0000000e+00]\n",
            " [0.0000000e+00 0.0000000e+00 1.0000000e+00 0.0000000e+00 0.0000000e+00\n",
            "  0.0000000e+00]\n",
            " [0.0000000e+00 0.0000000e+00 0.0000000e+00 1.0000000e+00 0.0000000e+00\n",
            "  0.0000000e+00]] (1080, 6)\n",
            "[1 0 3 ... 5 2 3] (1080,)\n"
          ]
        }
      ],
      "source": [
        "#Train set 정확도\n",
        "\n",
        "y_pred_train=model.predict(x_train)\n",
        "print(y_pred_train, type(y_pred_train), y_pred_train.shape)\n",
        "y_train_list=[]\n",
        "for ar in y_pred_train:\n",
        "  y_train_list.append(np.argmax(ar))\n",
        "y_train_list = np.array(y_train_list)\n",
        "print(y_pred_train, y_pred_train.shape)\n",
        "print(y_train_list, y_train_list.shape)"
      ]
    },
    {
      "cell_type": "code",
      "execution_count": null,
      "metadata": {
        "colab": {
          "base_uri": "https://localhost:8080/"
        },
        "id": "VUljgSBFiS0L",
        "outputId": "3e4ce3d1-6f12-4fed-b291-2cacf2d6b5ce"
      },
      "outputs": [
        {
          "name": "stdout",
          "output_type": "stream",
          "text": [
            "accuracy: 0.9888888888888889\n",
            "Precision: 0.9892936050723462\n",
            "Recall: 0.9888888888888889\n",
            "F1-Score: 0.9888729418620132\n"
          ]
        }
      ],
      "source": [
        "print(\"accuracy:\",accuracy_score(y_train, y_train_list))\n",
        "print(\"Precision:\",precision_score(y_train, y_train_list, average='weighted'))\n",
        "print(\"Recall:\",recall_score(y_train, y_train_list, average='weighted'))\n",
        "print(\"F1-Score:\",f1_score(y_train, y_train_list, average='weighted'))"
      ]
    },
    {
      "cell_type": "code",
      "execution_count": null,
      "metadata": {
        "colab": {
          "base_uri": "https://localhost:8080/"
        },
        "id": "xM9cj2PXvGHI",
        "outputId": "9b117794-6c39-4e6d-da7b-b804d01b4d9f"
      },
      "outputs": [
        {
          "name": "stdout",
          "output_type": "stream",
          "text": [
            "Ubuntu 18.04.5 LTS \\n \\l\n",
            "\n",
            "processor\t: 0\n",
            "vendor_id\t: GenuineIntel\n",
            "cpu family\t: 6\n",
            "model\t\t: 63\n",
            "model name\t: Intel(R) Xeon(R) CPU @ 2.30GHz\n",
            "stepping\t: 0\n",
            "microcode\t: 0x1\n",
            "cpu MHz\t\t: 2299.998\n",
            "cache size\t: 46080 KB\n",
            "physical id\t: 0\n",
            "siblings\t: 2\n",
            "core id\t\t: 0\n",
            "cpu cores\t: 1\n",
            "apicid\t\t: 0\n",
            "initial apicid\t: 0\n",
            "fpu\t\t: yes\n",
            "fpu_exception\t: yes\n",
            "cpuid level\t: 13\n",
            "wp\t\t: yes\n",
            "flags\t\t: fpu vme de pse tsc msr pae mce cx8 apic sep mtrr pge mca cmov pat pse36 clflush mmx fxsr sse sse2 ss ht syscall nx pdpe1gb rdtscp lm constant_tsc rep_good nopl xtopology nonstop_tsc cpuid tsc_known_freq pni pclmulqdq ssse3 fma cx16 pcid sse4_1 sse4_2 x2apic movbe popcnt aes xsave avx f16c rdrand hypervisor lahf_lm abm invpcid_single ssbd ibrs ibpb stibp fsgsbase tsc_adjust bmi1 avx2 smep bmi2 erms invpcid xsaveopt arat md_clear arch_capabilities\n",
            "bugs\t\t: cpu_meltdown spectre_v1 spectre_v2 spec_store_bypass l1tf mds swapgs\n",
            "bogomips\t: 4599.99\n",
            "clflush size\t: 64\n",
            "cache_alignment\t: 64\n",
            "address sizes\t: 46 bits physical, 48 bits virtual\n",
            "power management:\n",
            "\n",
            "processor\t: 1\n",
            "vendor_id\t: GenuineIntel\n",
            "cpu family\t: 6\n",
            "model\t\t: 63\n",
            "model name\t: Intel(R) Xeon(R) CPU @ 2.30GHz\n",
            "stepping\t: 0\n",
            "microcode\t: 0x1\n",
            "cpu MHz\t\t: 2299.998\n",
            "cache size\t: 46080 KB\n",
            "physical id\t: 0\n",
            "siblings\t: 2\n",
            "core id\t\t: 0\n",
            "cpu cores\t: 1\n",
            "apicid\t\t: 1\n",
            "initial apicid\t: 1\n",
            "fpu\t\t: yes\n",
            "fpu_exception\t: yes\n",
            "cpuid level\t: 13\n",
            "wp\t\t: yes\n",
            "flags\t\t: fpu vme de pse tsc msr pae mce cx8 apic sep mtrr pge mca cmov pat pse36 clflush mmx fxsr sse sse2 ss ht syscall nx pdpe1gb rdtscp lm constant_tsc rep_good nopl xtopology nonstop_tsc cpuid tsc_known_freq pni pclmulqdq ssse3 fma cx16 pcid sse4_1 sse4_2 x2apic movbe popcnt aes xsave avx f16c rdrand hypervisor lahf_lm abm invpcid_single ssbd ibrs ibpb stibp fsgsbase tsc_adjust bmi1 avx2 smep bmi2 erms invpcid xsaveopt arat md_clear arch_capabilities\n",
            "bugs\t\t: cpu_meltdown spectre_v1 spectre_v2 spec_store_bypass l1tf mds swapgs\n",
            "bogomips\t: 4599.99\n",
            "clflush size\t: 64\n",
            "cache_alignment\t: 64\n",
            "address sizes\t: 46 bits physical, 48 bits virtual\n",
            "power management:\n",
            "\n",
            "2\n",
            "1\n",
            "cpu cores\t: 1\n",
            "              total        used        free      shared  buff/cache   available\n",
            "Mem:            12G        5.6G        314M        527M        6.8G        8.9G\n",
            "Swap:            0B          0B          0B\n",
            "Tue Jun 14 05:48:04 2022       \n",
            "+-----------------------------------------------------------------------------+\n",
            "| NVIDIA-SMI 460.32.03    Driver Version: 460.32.03    CUDA Version: 11.2     |\n",
            "|-------------------------------+----------------------+----------------------+\n",
            "| GPU  Name        Persistence-M| Bus-Id        Disp.A | Volatile Uncorr. ECC |\n",
            "| Fan  Temp  Perf  Pwr:Usage/Cap|         Memory-Usage | GPU-Util  Compute M. |\n",
            "|                               |                      |               MIG M. |\n",
            "|===============================+======================+======================|\n",
            "|   0  Tesla T4            Off  | 00000000:00:04.0 Off |                    0 |\n",
            "| N/A   75C    P0    45W /  70W |   9044MiB / 15109MiB |      0%      Default |\n",
            "|                               |                      |                  N/A |\n",
            "+-------------------------------+----------------------+----------------------+\n",
            "                                                                               \n",
            "+-----------------------------------------------------------------------------+\n",
            "| Processes:                                                                  |\n",
            "|  GPU   GI   CI        PID   Type   Process name                  GPU Memory |\n",
            "|        ID   ID                                                   Usage      |\n",
            "|=============================================================================|\n",
            "+-----------------------------------------------------------------------------+\n"
          ]
        }
      ],
      "source": [
        "#운영체제 확인\n",
        "!cat /etc/issue\n",
        "\n",
        "#0. CPU 정보 확인\n",
        "!cat /proc/cpuinfo\n",
        "\n",
        "#1. CPU 코어 전체 개수 확인\n",
        "!grep -c processor /proc/cpuinfo\n",
        " \n",
        "#2. 물리 CPU 수 확인\n",
        "!grep \"physical id\" /proc/cpuinfo | sort -u | wc -l\n",
        " \n",
        "# 3.CPU당 물리 코어 수 확인\n",
        "!grep \"cpu cores\" /proc/cpuinfo | tail -1\n",
        "\n",
        "#메모리 확인\n",
        "!free -h\n",
        "\n",
        "#런타임 유형 변경 후 gpu 확인\n",
        "!nvidia-smi"
      ]
    }
  ],
  "metadata": {
    "accelerator": "GPU",
    "colab": {
      "collapsed_sections": [],
      "name": "EfficientNet 8th Result",
      "provenance": []
    },
    "kernelspec": {
      "display_name": "Python 3",
      "name": "python3"
    },
    "language_info": {
      "name": "python"
    }
  },
  "nbformat": 4,
  "nbformat_minor": 0
}
