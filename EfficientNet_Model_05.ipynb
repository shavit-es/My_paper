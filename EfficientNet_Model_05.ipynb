{
  "cells": [
    {
      "cell_type": "code",
      "execution_count": null,
      "metadata": {
        "colab": {
          "base_uri": "https://localhost:8080/"
        },
        "id": "-P2q4WSEARhh",
        "outputId": "04780117-b348-401c-e982-775bf19ecadd"
      },
      "outputs": [
        {
          "name": "stdout",
          "output_type": "stream",
          "text": [
            "Looking in indexes: https://pypi.org/simple, https://us-python.pkg.dev/colab-wheels/public/simple/\n",
            "Requirement already satisfied: cloud_tpu_client in /usr/local/lib/python3.7/dist-packages (0.10)\n",
            "Requirement already satisfied: google-api-python-client==1.8.0 in /usr/local/lib/python3.7/dist-packages (from cloud_tpu_client) (1.8.0)\n",
            "Requirement already satisfied: oauth2client in /usr/local/lib/python3.7/dist-packages (from cloud_tpu_client) (4.1.3)\n",
            "Requirement already satisfied: httplib2<1dev,>=0.9.2 in /usr/local/lib/python3.7/dist-packages (from google-api-python-client==1.8.0->cloud_tpu_client) (0.17.4)\n",
            "Requirement already satisfied: uritemplate<4dev,>=3.0.0 in /usr/local/lib/python3.7/dist-packages (from google-api-python-client==1.8.0->cloud_tpu_client) (3.0.1)\n",
            "Requirement already satisfied: google-api-core<2dev,>=1.13.0 in /usr/local/lib/python3.7/dist-packages (from google-api-python-client==1.8.0->cloud_tpu_client) (1.31.6)\n",
            "Requirement already satisfied: google-auth>=1.4.1 in /usr/local/lib/python3.7/dist-packages (from google-api-python-client==1.8.0->cloud_tpu_client) (1.35.0)\n",
            "Requirement already satisfied: google-auth-httplib2>=0.0.3 in /usr/local/lib/python3.7/dist-packages (from google-api-python-client==1.8.0->cloud_tpu_client) (0.0.4)\n",
            "Requirement already satisfied: six<2dev,>=1.6.1 in /usr/local/lib/python3.7/dist-packages (from google-api-python-client==1.8.0->cloud_tpu_client) (1.15.0)\n",
            "Requirement already satisfied: setuptools>=40.3.0 in /usr/local/lib/python3.7/dist-packages (from google-api-core<2dev,>=1.13.0->google-api-python-client==1.8.0->cloud_tpu_client) (57.4.0)\n",
            "Requirement already satisfied: packaging>=14.3 in /usr/local/lib/python3.7/dist-packages (from google-api-core<2dev,>=1.13.0->google-api-python-client==1.8.0->cloud_tpu_client) (21.3)\n",
            "Requirement already satisfied: protobuf<4.0.0dev,>=3.12.0 in /usr/local/lib/python3.7/dist-packages (from google-api-core<2dev,>=1.13.0->google-api-python-client==1.8.0->cloud_tpu_client) (3.17.3)\n",
            "Requirement already satisfied: pytz in /usr/local/lib/python3.7/dist-packages (from google-api-core<2dev,>=1.13.0->google-api-python-client==1.8.0->cloud_tpu_client) (2022.1)\n",
            "Requirement already satisfied: requests<3.0.0dev,>=2.18.0 in /usr/local/lib/python3.7/dist-packages (from google-api-core<2dev,>=1.13.0->google-api-python-client==1.8.0->cloud_tpu_client) (2.23.0)\n",
            "Requirement already satisfied: googleapis-common-protos<2.0dev,>=1.6.0 in /usr/local/lib/python3.7/dist-packages (from google-api-core<2dev,>=1.13.0->google-api-python-client==1.8.0->cloud_tpu_client) (1.56.2)\n",
            "Requirement already satisfied: pyasn1-modules>=0.2.1 in /usr/local/lib/python3.7/dist-packages (from google-auth>=1.4.1->google-api-python-client==1.8.0->cloud_tpu_client) (0.2.8)\n",
            "Requirement already satisfied: cachetools<5.0,>=2.0.0 in /usr/local/lib/python3.7/dist-packages (from google-auth>=1.4.1->google-api-python-client==1.8.0->cloud_tpu_client) (4.2.4)\n",
            "Requirement already satisfied: rsa<5,>=3.1.4 in /usr/local/lib/python3.7/dist-packages (from google-auth>=1.4.1->google-api-python-client==1.8.0->cloud_tpu_client) (4.8)\n",
            "Requirement already satisfied: pyparsing!=3.0.5,>=2.0.2 in /usr/local/lib/python3.7/dist-packages (from packaging>=14.3->google-api-core<2dev,>=1.13.0->google-api-python-client==1.8.0->cloud_tpu_client) (3.0.9)\n",
            "Requirement already satisfied: pyasn1<0.5.0,>=0.4.6 in /usr/local/lib/python3.7/dist-packages (from pyasn1-modules>=0.2.1->google-auth>=1.4.1->google-api-python-client==1.8.0->cloud_tpu_client) (0.4.8)\n",
            "Requirement already satisfied: certifi>=2017.4.17 in /usr/local/lib/python3.7/dist-packages (from requests<3.0.0dev,>=2.18.0->google-api-core<2dev,>=1.13.0->google-api-python-client==1.8.0->cloud_tpu_client) (2022.5.18.1)\n",
            "Requirement already satisfied: urllib3!=1.25.0,!=1.25.1,<1.26,>=1.21.1 in /usr/local/lib/python3.7/dist-packages (from requests<3.0.0dev,>=2.18.0->google-api-core<2dev,>=1.13.0->google-api-python-client==1.8.0->cloud_tpu_client) (1.24.3)\n",
            "Requirement already satisfied: chardet<4,>=3.0.2 in /usr/local/lib/python3.7/dist-packages (from requests<3.0.0dev,>=2.18.0->google-api-core<2dev,>=1.13.0->google-api-python-client==1.8.0->cloud_tpu_client) (3.0.4)\n",
            "Requirement already satisfied: idna<3,>=2.5 in /usr/local/lib/python3.7/dist-packages (from requests<3.0.0dev,>=2.18.0->google-api-core<2dev,>=1.13.0->google-api-python-client==1.8.0->cloud_tpu_client) (2.10)\n"
          ]
        }
      ],
      "source": [
        "!pip install cloud_tpu_client"
      ]
    },
    {
      "cell_type": "code",
      "execution_count": null,
      "metadata": {
        "id": "LvgMhZQt7W5w"
      },
      "outputs": [],
      "source": [
        "from tensorflow.keras.applications import EfficientNetB0\n",
        "model = EfficientNetB0(weights='imagenet')"
      ]
    },
    {
      "cell_type": "code",
      "execution_count": null,
      "metadata": {
        "id": "0iYRk_PS7W8V"
      },
      "outputs": [],
      "source": [
        "# IMG_SIZE is determined by EfficientNet model choice\n",
        "IMG_SIZE = 224"
      ]
    },
    {
      "cell_type": "code",
      "execution_count": null,
      "metadata": {
        "colab": {
          "base_uri": "https://localhost:8080/"
        },
        "id": "06Ys3SeT7W-y",
        "outputId": "079f464e-32cf-4f6b-ca66-e8d15f2b5446"
      },
      "outputs": [
        {
          "name": "stdout",
          "output_type": "stream",
          "text": [
            "Not connected to a TPU runtime. Using CPU/GPU strategy\n",
            "INFO:tensorflow:Using MirroredStrategy with devices ('/job:localhost/replica:0/task:0/device:GPU:0',)\n"
          ]
        }
      ],
      "source": [
        "from cloud_tpu_client import Client\n",
        "import tensorflow as tf\n",
        "import numpy as np\n",
        "\n",
        "\n",
        "\n",
        "try:\n",
        "    c = Client()\n",
        "    c.configure_tpu_version(tf.__version__, restart_type=\"always\")\n",
        "    tpu = tf.distribute.cluster_resolver.TPUClusterResolver.connect()\n",
        "    print(\"Device:\", tpu.master())\n",
        "    strategy = tf.distribute.TPUStrategy(tpu)\n",
        "\n",
        "except ValueError:\n",
        "    print(\"Not connected to a TPU runtime. Using CPU/GPU strategy\")\n",
        "    strategy = tf.distribute.MirroredStrategy()"
      ]
    },
    {
      "cell_type": "code",
      "execution_count": null,
      "metadata": {
        "colab": {
          "base_uri": "https://localhost:8080/"
        },
        "id": "54v8xUNRBnT6",
        "outputId": "7751b9d5-f03f-43c0-bf8b-4be0ba9cc13e"
      },
      "outputs": [
        {
          "name": "stdout",
          "output_type": "stream",
          "text": [
            "<PrefetchDataset element_spec=(TensorSpec(shape=(224, 224, 3), dtype=tf.uint8, name=None), TensorSpec(shape=(), dtype=tf.int32, name=None))>\n",
            "<PrefetchDataset element_spec=(TensorSpec(shape=(224, 224, 3), dtype=tf.uint8, name=None), TensorSpec(shape=(), dtype=tf.int32, name=None))>\n"
          ]
        }
      ],
      "source": [
        "batch_size = 16\n",
        "SHUFFLE_BUFFER_SIZE = 300\n",
        "\n",
        "x_train, x_test, y_train, y_test = np.load(\"/content/drive/MyDrive/steel_surface_224.npy\", allow_pickle=True)\n",
        "ds_train = tf.data.Dataset.from_tensor_slices((x_train, y_train))\n",
        "ds_train = ds_train.prefetch(batch_size)\n",
        "ds_test = tf.data.Dataset.from_tensor_slices((x_test, y_test))\n",
        "ds_test = ds_test.prefetch(batch_size)\n",
        "print(ds_train)\n",
        "print(ds_test)"
      ]
    },
    {
      "cell_type": "code",
      "execution_count": null,
      "metadata": {
        "id": "ETtjOBJr7XBF"
      },
      "outputs": [],
      "source": [
        "NUM_CLASSES = 6"
      ]
    },
    {
      "cell_type": "code",
      "execution_count": null,
      "metadata": {
        "id": "7fDMzZvW7XDY"
      },
      "outputs": [],
      "source": [
        "size = (IMG_SIZE, IMG_SIZE)\n",
        "ds_train = ds_train.map(lambda image, label: (tf.image.resize(image, size), label))\n",
        "ds_test = ds_test.map(lambda image, label: (tf.image.resize(image, size), label))"
      ]
    },
    {
      "cell_type": "code",
      "execution_count": null,
      "metadata": {
        "colab": {
          "base_uri": "https://localhost:8080/",
          "height": 264
        },
        "id": "KO1NCo6Z7XFp",
        "outputId": "81e8471e-43df-4436-c8e7-190718bf2aa6"
      },
      "outputs": [
        {
          "data": {
            "image/png": "[encoded data removed]",
            "text/plain": [
              "<Figure size 432x288 with 9 Axes>"
            ]
          },
          "metadata": {},
          "output_type": "display_data"
        }
      ],
      "source": [
        "import matplotlib.pyplot as plt\n",
        "\n",
        "labellist=[\"crazing\",\"inclusion\",\"patches\",\"pitted_surface\",\"rolled-in_scale\",\"scratches\"]\n",
        "def format_label(label):\n",
        "  return labellist[(int(str(label)[10]))]\n",
        "\n",
        "\n",
        "for i, (image, label) in enumerate(ds_train.take(9)):\n",
        "    ax = plt.subplot(3, 3, i + 1)\n",
        "    plt.imshow(image.numpy().astype(\"uint8\"))\n",
        "    plt.title(format_label(label))\n",
        "    plt.axis(\"off\")"
      ]
    },
    {
      "cell_type": "code",
      "execution_count": null,
      "metadata": {
        "id": "p_L0gBYE7XIA"
      },
      "outputs": [],
      "source": [
        "from tensorflow.keras.models import Sequential\n",
        "from tensorflow.keras import layers\n",
        "\n",
        "img_augmentation = Sequential(\n",
        "    [\n",
        "        layers.RandomRotation(factor=0.15),\n",
        "        layers.RandomTranslation(height_factor=0.1, width_factor=0.1),\n",
        "        layers.RandomFlip(),\n",
        "        layers.RandomContrast(factor=0.1),\n",
        "    ],\n",
        "    name=\"img_augmentation\",\n",
        ")"
      ]
    },
    {
      "cell_type": "code",
      "execution_count": null,
      "metadata": {
        "id": "7MepxW4l7XMW"
      },
      "outputs": [],
      "source": [
        "# One-hot / categorical encoding\n",
        "def input_preprocess(image, label):\n",
        "    label = tf.one_hot(label, NUM_CLASSES)\n",
        "    return image, label\n",
        "\n",
        "\n",
        "ds_train = ds_train.map(\n",
        "    input_preprocess, num_parallel_calls=tf.data.AUTOTUNE\n",
        ")\n",
        "ds_train = ds_train.batch(batch_size=batch_size, drop_remainder=True)\n",
        "ds_train = ds_train.prefetch(tf.data.AUTOTUNE)\n",
        "\n",
        "ds_test = ds_test.map(input_preprocess)\n",
        "ds_test = ds_test.batch(batch_size=batch_size, drop_remainder=True)"
      ]
    },
    {
      "cell_type": "code",
      "execution_count": null,
      "metadata": {
        "colab": {
          "background_save": true,
          "base_uri": "https://localhost:8080/"
        },
        "id": "Y4me0mAj7XOh",
        "outputId": "071ddce2-778e-4bd3-8109-205adcd22dbe"
      },
      "outputs": [
        {
          "name": "stdout",
          "output_type": "stream",
          "text": [
            "Model: \"model_2\"\n",
            "_________________________________________________________________\n",
            " Layer (type)                Output Shape              Param #   \n",
            "=================================================================\n",
            " input_9 (InputLayer)        [(None, 224, 224, 3)]     0         \n",
            "                                                                 \n",
            " img_augmentation (Sequentia  (None, 224, 224, 3)      0         \n",
            " l)                                                              \n",
            "                                                                 \n",
            " efficientnetb0 (Functional)  (None, 6)                4057257   \n",
            "                                                                 \n",
            "=================================================================\n",
            "Total params: 4,057,257\n",
            "Trainable params: 4,015,234\n",
            "Non-trainable params: 42,023\n",
            "_________________________________________________________________\n",
            "Epoch 1/100\n",
            "67/67 - 29s - loss: 3.3257 - accuracy: 0.3731 - val_loss: 2.6266 - val_accuracy: 0.1648 - 29s/epoch - 436ms/step\n",
            "Epoch 2/100\n",
            "67/67 - 12s - loss: 1.5193 - accuracy: 0.5830 - val_loss: 2.9163 - val_accuracy: 0.1648 - 12s/epoch - 175ms/step\n",
            "Epoch 3/100\n",
            "67/67 - 12s - loss: 1.2416 - accuracy: 0.6390 - val_loss: 3.5726 - val_accuracy: 0.1733 - 12s/epoch - 174ms/step\n",
            "Epoch 4/100\n",
            "67/67 - 12s - loss: 1.0203 - accuracy: 0.7155 - val_loss: 6.8356 - val_accuracy: 0.1733 - 12s/epoch - 173ms/step\n",
            "Epoch 5/100\n",
            "67/67 - 11s - loss: 0.8514 - accuracy: 0.7584 - val_loss: 6.8244 - val_accuracy: 0.1733 - 11s/epoch - 171ms/step\n",
            "Epoch 6/100\n",
            "67/67 - 11s - loss: 0.8186 - accuracy: 0.7584 - val_loss: 6.0428 - val_accuracy: 0.1733 - 11s/epoch - 169ms/step\n",
            "Epoch 7/100\n",
            "67/67 - 11s - loss: 0.6252 - accuracy: 0.8078 - val_loss: 3.9467 - val_accuracy: 0.2699 - 11s/epoch - 170ms/step\n",
            "Epoch 8/100\n",
            "67/67 - 11s - loss: 0.4790 - accuracy: 0.8340 - val_loss: 1.7304 - val_accuracy: 0.4972 - 11s/epoch - 170ms/step\n",
            "Epoch 9/100\n",
            "67/67 - 12s - loss: 0.3917 - accuracy: 0.8741 - val_loss: 0.9704 - val_accuracy: 0.8267 - 12s/epoch - 174ms/step\n",
            "Epoch 10/100\n",
            "67/67 - 11s - loss: 0.4019 - accuracy: 0.8629 - val_loss: 0.5323 - val_accuracy: 0.8438 - 11s/epoch - 171ms/step\n",
            "Epoch 11/100\n",
            "67/67 - 12s - loss: 0.3578 - accuracy: 0.8927 - val_loss: 0.3153 - val_accuracy: 0.9062 - 12s/epoch - 173ms/step\n",
            "Epoch 12/100\n",
            "67/67 - 12s - loss: 0.4179 - accuracy: 0.8769 - val_loss: 1.7797 - val_accuracy: 0.6477 - 12s/epoch - 174ms/step\n",
            "Epoch 13/100\n",
            "67/67 - 12s - loss: 0.3268 - accuracy: 0.8974 - val_loss: 0.8108 - val_accuracy: 0.7812 - 12s/epoch - 172ms/step\n",
            "Epoch 14/100\n",
            "67/67 - 12s - loss: 0.2913 - accuracy: 0.9095 - val_loss: 0.2796 - val_accuracy: 0.8864 - 12s/epoch - 172ms/step\n",
            "Epoch 15/100\n",
            "67/67 - 12s - loss: 0.1873 - accuracy: 0.9506 - val_loss: 0.6288 - val_accuracy: 0.8409 - 12s/epoch - 175ms/step\n",
            "Epoch 16/100\n",
            "67/67 - 11s - loss: 0.3573 - accuracy: 0.9002 - val_loss: 0.6169 - val_accuracy: 0.7869 - 11s/epoch - 172ms/step\n",
            "Epoch 17/100\n",
            "67/67 - 11s - loss: 0.2914 - accuracy: 0.9179 - val_loss: 0.4242 - val_accuracy: 0.8722 - 11s/epoch - 171ms/step\n",
            "Epoch 18/100\n",
            "67/67 - 12s - loss: 0.2908 - accuracy: 0.9235 - val_loss: 3.5032 - val_accuracy: 0.4375 - 12s/epoch - 172ms/step\n",
            "Epoch 19/100\n",
            "67/67 - 12s - loss: 0.2550 - accuracy: 0.9366 - val_loss: 0.1238 - val_accuracy: 0.9659 - 12s/epoch - 172ms/step\n",
            "Epoch 20/100\n",
            "67/67 - 12s - loss: 0.2014 - accuracy: 0.9328 - val_loss: 0.4843 - val_accuracy: 0.8636 - 12s/epoch - 172ms/step\n",
            "Epoch 21/100\n",
            "67/67 - 12s - loss: 0.2349 - accuracy: 0.9263 - val_loss: 0.3018 - val_accuracy: 0.9034 - 12s/epoch - 180ms/step\n",
            "Epoch 22/100\n",
            "67/67 - 12s - loss: 0.2086 - accuracy: 0.9356 - val_loss: 0.4381 - val_accuracy: 0.8466 - 12s/epoch - 172ms/step\n",
            "Epoch 23/100\n",
            "67/67 - 12s - loss: 0.2690 - accuracy: 0.9216 - val_loss: 0.8768 - val_accuracy: 0.7443 - 12s/epoch - 173ms/step\n",
            "Epoch 24/100\n",
            "67/67 - 12s - loss: 0.2829 - accuracy: 0.9244 - val_loss: 0.4224 - val_accuracy: 0.8920 - 12s/epoch - 172ms/step\n",
            "Epoch 25/100\n",
            "67/67 - 12s - loss: 0.1522 - accuracy: 0.9487 - val_loss: 1.3264 - val_accuracy: 0.7443 - 12s/epoch - 172ms/step\n",
            "Epoch 26/100\n",
            "67/67 - 11s - loss: 0.1841 - accuracy: 0.9375 - val_loss: 2.2885 - val_accuracy: 0.8608 - 11s/epoch - 171ms/step\n",
            "Epoch 27/100\n",
            "67/67 - 12s - loss: 0.2755 - accuracy: 0.9114 - val_loss: 0.2866 - val_accuracy: 0.9119 - 12s/epoch - 173ms/step\n",
            "Epoch 28/100\n",
            "67/67 - 12s - loss: 0.2421 - accuracy: 0.9282 - val_loss: 0.2682 - val_accuracy: 0.9261 - 12s/epoch - 172ms/step\n",
            "Epoch 29/100\n",
            "67/67 - 11s - loss: 0.1564 - accuracy: 0.9496 - val_loss: 1.5371 - val_accuracy: 0.8182 - 11s/epoch - 172ms/step\n",
            "Epoch 30/100\n",
            "67/67 - 12s - loss: 0.1829 - accuracy: 0.9431 - val_loss: 0.2856 - val_accuracy: 0.9517 - 12s/epoch - 172ms/step\n",
            "Epoch 31/100\n",
            "67/67 - 12s - loss: 0.1812 - accuracy: 0.9440 - val_loss: 0.5493 - val_accuracy: 0.8636 - 12s/epoch - 172ms/step\n",
            "Epoch 32/100\n",
            "67/67 - 12s - loss: 0.1328 - accuracy: 0.9618 - val_loss: 0.5285 - val_accuracy: 0.8807 - 12s/epoch - 173ms/step\n",
            "Epoch 33/100\n",
            "67/67 - 12s - loss: 0.1635 - accuracy: 0.9487 - val_loss: 0.1407 - val_accuracy: 0.9574 - 12s/epoch - 174ms/step\n",
            "Epoch 34/100\n",
            "67/67 - 12s - loss: 0.1404 - accuracy: 0.9515 - val_loss: 0.3060 - val_accuracy: 0.9205 - 12s/epoch - 173ms/step\n",
            "Epoch 35/100\n",
            "67/67 - 12s - loss: 0.1056 - accuracy: 0.9701 - val_loss: 0.5902 - val_accuracy: 0.8835 - 12s/epoch - 172ms/step\n",
            "Epoch 36/100\n",
            "67/67 - 12s - loss: 0.1241 - accuracy: 0.9655 - val_loss: 0.3753 - val_accuracy: 0.8977 - 12s/epoch - 173ms/step\n",
            "Epoch 37/100\n",
            "67/67 - 11s - loss: 0.0830 - accuracy: 0.9711 - val_loss: 0.2848 - val_accuracy: 0.9205 - 11s/epoch - 171ms/step\n",
            "Epoch 38/100\n",
            "67/67 - 11s - loss: 0.0986 - accuracy: 0.9636 - val_loss: 0.1975 - val_accuracy: 0.9574 - 11s/epoch - 171ms/step\n",
            "Epoch 39/100\n",
            "67/67 - 12s - loss: 0.1306 - accuracy: 0.9534 - val_loss: 0.6827 - val_accuracy: 0.8636 - 12s/epoch - 172ms/step\n",
            "Epoch 40/100\n",
            "67/67 - 12s - loss: 0.1587 - accuracy: 0.9552 - val_loss: 0.1633 - val_accuracy: 0.9545 - 12s/epoch - 172ms/step\n",
            "Epoch 41/100\n",
            "67/67 - 11s - loss: 0.1511 - accuracy: 0.9655 - val_loss: 0.1113 - val_accuracy: 0.9659 - 11s/epoch - 171ms/step\n",
            "Epoch 42/100\n",
            "67/67 - 12s - loss: 0.1070 - accuracy: 0.9618 - val_loss: 0.1518 - val_accuracy: 0.9716 - 12s/epoch - 172ms/step\n",
            "Epoch 43/100\n",
            "67/67 - 12s - loss: 0.0880 - accuracy: 0.9729 - val_loss: 0.3363 - val_accuracy: 0.9318 - 12s/epoch - 173ms/step\n",
            "Epoch 44/100\n",
            "67/67 - 12s - loss: 0.1903 - accuracy: 0.9487 - val_loss: 1.0737 - val_accuracy: 0.8011 - 12s/epoch - 172ms/step\n",
            "Epoch 45/100\n",
            "67/67 - 12s - loss: 0.1048 - accuracy: 0.9683 - val_loss: 0.2425 - val_accuracy: 0.9347 - 12s/epoch - 173ms/step\n",
            "Epoch 46/100\n",
            "67/67 - 12s - loss: 0.1559 - accuracy: 0.9543 - val_loss: 0.2804 - val_accuracy: 0.9432 - 12s/epoch - 174ms/step\n",
            "Epoch 47/100\n",
            "67/67 - 11s - loss: 0.0925 - accuracy: 0.9711 - val_loss: 0.1996 - val_accuracy: 0.9631 - 11s/epoch - 172ms/step\n",
            "Epoch 48/100\n",
            "67/67 - 12s - loss: 0.0817 - accuracy: 0.9757 - val_loss: 0.2892 - val_accuracy: 0.9489 - 12s/epoch - 172ms/step\n",
            "Epoch 49/100\n",
            "67/67 - 11s - loss: 0.1399 - accuracy: 0.9636 - val_loss: 0.2714 - val_accuracy: 0.9347 - 11s/epoch - 171ms/step\n",
            "Epoch 50/100\n",
            "67/67 - 12s - loss: 0.0709 - accuracy: 0.9748 - val_loss: 0.2148 - val_accuracy: 0.9460 - 12s/epoch - 172ms/step\n",
            "Epoch 51/100\n",
            "67/67 - 12s - loss: 0.1015 - accuracy: 0.9776 - val_loss: 0.2874 - val_accuracy: 0.9091 - 12s/epoch - 172ms/step\n",
            "Epoch 52/100\n",
            "67/67 - 12s - loss: 0.0656 - accuracy: 0.9757 - val_loss: 0.2378 - val_accuracy: 0.9375 - 12s/epoch - 173ms/step\n",
            "Epoch 53/100\n",
            "67/67 - 12s - loss: 0.0626 - accuracy: 0.9757 - val_loss: 0.4062 - val_accuracy: 0.9148 - 12s/epoch - 174ms/step\n",
            "Epoch 54/100\n",
            "67/67 - 12s - loss: 0.0850 - accuracy: 0.9767 - val_loss: 0.6905 - val_accuracy: 0.8409 - 12s/epoch - 173ms/step\n",
            "Epoch 55/100\n",
            "67/67 - 11s - loss: 0.3038 - accuracy: 0.9244 - val_loss: 18.2660 - val_accuracy: 0.3438 - 11s/epoch - 171ms/step\n",
            "Epoch 56/100\n",
            "67/67 - 11s - loss: 0.2303 - accuracy: 0.9244 - val_loss: 2.0211 - val_accuracy: 0.6676 - 11s/epoch - 171ms/step\n",
            "Epoch 57/100\n",
            "67/67 - 11s - loss: 0.1349 - accuracy: 0.9534 - val_loss: 0.3737 - val_accuracy: 0.9062 - 11s/epoch - 171ms/step\n",
            "Epoch 58/100\n",
            "67/67 - 12s - loss: 0.1327 - accuracy: 0.9571 - val_loss: 0.6776 - val_accuracy: 0.8381 - 12s/epoch - 172ms/step\n",
            "Epoch 59/100\n",
            "67/67 - 12s - loss: 0.1033 - accuracy: 0.9646 - val_loss: 0.9857 - val_accuracy: 0.8778 - 12s/epoch - 172ms/step\n",
            "Epoch 60/100\n",
            "67/67 - 12s - loss: 0.1069 - accuracy: 0.9692 - val_loss: 0.2350 - val_accuracy: 0.9460 - 12s/epoch - 173ms/step\n",
            "Epoch 61/100\n",
            "67/67 - 12s - loss: 0.1101 - accuracy: 0.9599 - val_loss: 0.1764 - val_accuracy: 0.9659 - 12s/epoch - 173ms/step\n",
            "Epoch 62/100\n",
            "67/67 - 12s - loss: 0.1176 - accuracy: 0.9646 - val_loss: 0.3277 - val_accuracy: 0.9062 - 12s/epoch - 174ms/step\n",
            "Epoch 63/100\n",
            "67/67 - 12s - loss: 0.0902 - accuracy: 0.9683 - val_loss: 0.2860 - val_accuracy: 0.9034 - 12s/epoch - 173ms/step\n",
            "Epoch 64/100\n",
            "67/67 - 12s - loss: 0.1342 - accuracy: 0.9636 - val_loss: 0.2620 - val_accuracy: 0.9489 - 12s/epoch - 173ms/step\n",
            "Epoch 65/100\n",
            "67/67 - 11s - loss: 0.1101 - accuracy: 0.9636 - val_loss: 0.2549 - val_accuracy: 0.9205 - 11s/epoch - 171ms/step\n",
            "Epoch 66/100\n",
            "67/67 - 11s - loss: 0.0777 - accuracy: 0.9776 - val_loss: 0.1733 - val_accuracy: 0.9574 - 11s/epoch - 172ms/step\n",
            "Epoch 67/100\n",
            "67/67 - 12s - loss: 0.0900 - accuracy: 0.9655 - val_loss: 0.5753 - val_accuracy: 0.8835 - 12s/epoch - 172ms/step\n",
            "Epoch 68/100\n",
            "67/67 - 11s - loss: 0.0847 - accuracy: 0.9720 - val_loss: 0.9025 - val_accuracy: 0.8040 - 11s/epoch - 172ms/step\n",
            "Epoch 69/100\n",
            "67/67 - 11s - loss: 0.1032 - accuracy: 0.9701 - val_loss: 0.1331 - val_accuracy: 0.9631 - 11s/epoch - 171ms/step\n",
            "Epoch 70/100\n",
            "67/67 - 11s - loss: 0.0616 - accuracy: 0.9776 - val_loss: 0.2461 - val_accuracy: 0.9489 - 11s/epoch - 172ms/step\n",
            "Epoch 71/100\n",
            "67/67 - 11s - loss: 0.1409 - accuracy: 0.9562 - val_loss: 0.2186 - val_accuracy: 0.9574 - 11s/epoch - 171ms/step\n",
            "Epoch 72/100\n",
            "67/67 - 12s - loss: 0.0564 - accuracy: 0.9860 - val_loss: 0.1617 - val_accuracy: 0.9716 - 12s/epoch - 173ms/step\n",
            "Epoch 73/100\n",
            "67/67 - 12s - loss: 0.0877 - accuracy: 0.9795 - val_loss: 0.4805 - val_accuracy: 0.9091 - 12s/epoch - 172ms/step\n",
            "Epoch 74/100\n",
            "67/67 - 12s - loss: 0.0669 - accuracy: 0.9860 - val_loss: 0.7090 - val_accuracy: 0.8295 - 12s/epoch - 172ms/step\n",
            "Epoch 75/100\n",
            "67/67 - 11s - loss: 0.2074 - accuracy: 0.9375 - val_loss: 0.3252 - val_accuracy: 0.8977 - 11s/epoch - 172ms/step\n",
            "Epoch 76/100\n",
            "67/67 - 12s - loss: 0.2277 - accuracy: 0.9300 - val_loss: 0.3366 - val_accuracy: 0.9148 - 12s/epoch - 172ms/step\n",
            "Epoch 77/100\n",
            "67/67 - 12s - loss: 0.1002 - accuracy: 0.9608 - val_loss: 1.2757 - val_accuracy: 0.6449 - 12s/epoch - 172ms/step\n",
            "Epoch 78/100\n",
            "67/67 - 12s - loss: 0.0641 - accuracy: 0.9776 - val_loss: 0.4146 - val_accuracy: 0.8892 - 12s/epoch - 172ms/step\n",
            "Epoch 79/100\n",
            "67/67 - 12s - loss: 0.1147 - accuracy: 0.9655 - val_loss: 0.5000 - val_accuracy: 0.8835 - 12s/epoch - 172ms/step\n",
            "Epoch 80/100\n",
            "67/67 - 12s - loss: 0.0667 - accuracy: 0.9785 - val_loss: 0.5836 - val_accuracy: 0.8750 - 12s/epoch - 172ms/step\n",
            "Epoch 81/100\n",
            "67/67 - 11s - loss: 0.0462 - accuracy: 0.9841 - val_loss: 0.2038 - val_accuracy: 0.9432 - 11s/epoch - 172ms/step\n",
            "Epoch 82/100\n",
            "67/67 - 12s - loss: 0.0641 - accuracy: 0.9795 - val_loss: 0.4462 - val_accuracy: 0.8665 - 12s/epoch - 172ms/step\n",
            "Epoch 83/100\n",
            "67/67 - 12s - loss: 0.1151 - accuracy: 0.9692 - val_loss: 0.3764 - val_accuracy: 0.9006 - 12s/epoch - 172ms/step\n",
            "Epoch 84/100\n",
            "67/67 - 11s - loss: 0.0695 - accuracy: 0.9804 - val_loss: 0.6992 - val_accuracy: 0.9006 - 11s/epoch - 171ms/step\n",
            "Epoch 85/100\n",
            "67/67 - 12s - loss: 0.1173 - accuracy: 0.9674 - val_loss: 0.1517 - val_accuracy: 0.9631 - 12s/epoch - 180ms/step\n",
            "Epoch 86/100\n",
            "67/67 - 12s - loss: 0.0746 - accuracy: 0.9748 - val_loss: 0.2323 - val_accuracy: 0.9460 - 12s/epoch - 172ms/step\n",
            "Epoch 87/100\n",
            "67/67 - 11s - loss: 0.0599 - accuracy: 0.9813 - val_loss: 0.1477 - val_accuracy: 0.9517 - 11s/epoch - 172ms/step\n",
            "Epoch 88/100\n",
            "67/67 - 12s - loss: 0.0435 - accuracy: 0.9888 - val_loss: 0.1959 - val_accuracy: 0.9602 - 12s/epoch - 172ms/step\n",
            "Epoch 89/100\n",
            "67/67 - 12s - loss: 0.0498 - accuracy: 0.9823 - val_loss: 0.4211 - val_accuracy: 0.9347 - 12s/epoch - 172ms/step\n",
            "Epoch 90/100\n",
            "67/67 - 12s - loss: 0.0287 - accuracy: 0.9916 - val_loss: 0.3241 - val_accuracy: 0.9545 - 12s/epoch - 173ms/step\n",
            "Epoch 91/100\n",
            "67/67 - 12s - loss: 0.0617 - accuracy: 0.9823 - val_loss: 0.1805 - val_accuracy: 0.9716 - 12s/epoch - 172ms/step\n",
            "Epoch 92/100\n",
            "67/67 - 12s - loss: 0.0453 - accuracy: 0.9813 - val_loss: 0.2117 - val_accuracy: 0.9403 - 12s/epoch - 172ms/step\n",
            "Epoch 93/100\n",
            "67/67 - 12s - loss: 0.0586 - accuracy: 0.9841 - val_loss: 0.2565 - val_accuracy: 0.9545 - 12s/epoch - 172ms/step\n",
            "Epoch 94/100\n",
            "67/67 - 12s - loss: 0.0471 - accuracy: 0.9869 - val_loss: 0.3377 - val_accuracy: 0.9290 - 12s/epoch - 172ms/step\n",
            "Epoch 95/100\n",
            "67/67 - 12s - loss: 0.1247 - accuracy: 0.9701 - val_loss: 0.2260 - val_accuracy: 0.9489 - 12s/epoch - 172ms/step\n",
            "Epoch 96/100\n",
            "67/67 - 12s - loss: 0.1850 - accuracy: 0.9459 - val_loss: 0.3254 - val_accuracy: 0.9034 - 12s/epoch - 172ms/step\n",
            "Epoch 97/100\n",
            "67/67 - 12s - loss: 0.1548 - accuracy: 0.9487 - val_loss: 0.1747 - val_accuracy: 0.9517 - 12s/epoch - 172ms/step\n",
            "Epoch 98/100\n",
            "67/67 - 11s - loss: 0.1012 - accuracy: 0.9683 - val_loss: 0.1665 - val_accuracy: 0.9545 - 11s/epoch - 172ms/step\n",
            "Epoch 99/100\n",
            "67/67 - 11s - loss: 0.0359 - accuracy: 0.9907 - val_loss: 0.2055 - val_accuracy: 0.9460 - 11s/epoch - 171ms/step\n",
            "Epoch 100/100\n",
            "67/67 - 12s - loss: 0.1000 - accuracy: 0.9692 - val_loss: 0.3668 - val_accuracy: 0.8636 - 12s/epoch - 172ms/step\n"
          ]
        }
      ],
      "source": [
        "from tensorflow.keras.applications import EfficientNetB0\n",
        "\n",
        "with strategy.scope():\n",
        "    inputs = layers.Input(shape=(IMG_SIZE, IMG_SIZE, 3))\n",
        "    x = img_augmentation(inputs)\n",
        "    outputs = EfficientNetB0(include_top=True, weights=None, classes=NUM_CLASSES)(x)\n",
        "\n",
        "    model = tf.keras.Model(inputs, outputs)\n",
        "    model.compile(\n",
        "        optimizer=\"adam\", loss=\"categorical_crossentropy\", metrics=[\"accuracy\"]\n",
        "    )\n",
        "\n",
        "model.summary()\n",
        "\n",
        "epochs = 100  # @param {type: \"slider\", min:10, max:100}\n",
        "hist = model.fit(ds_train, epochs=epochs, validation_data=ds_test, verbose=2)"
      ]
    },
    {
      "cell_type": "code",
      "execution_count": null,
      "metadata": {
        "colab": {
          "background_save": true
        },
        "id": "u4mPhmmq7XQ2",
        "outputId": "eb0c22da-f945-4f69-c2f9-82c3fb8e91b4"
      },
      "outputs": [
        {
          "data": {
            "image/png": "[encoded data removed]",
            "text/plain": [
              "<Figure size 432x288 with 1 Axes>"
            ]
          },
          "metadata": {},
          "output_type": "display_data"
        }
      ],
      "source": [
        "import matplotlib.pyplot as plt\n",
        "\n",
        "\n",
        "def plot_hist(hist):\n",
        "    plt.plot(hist.history[\"accuracy\"])\n",
        "    plt.plot(hist.history[\"val_accuracy\"])\n",
        "    plt.title(\"model accuracy\")\n",
        "    plt.ylabel(\"accuracy\")\n",
        "    plt.xlabel(\"epoch\")\n",
        "    plt.legend([\"train\", \"validation\"], loc=\"upper left\")\n",
        "    plt.show()\n",
        "\n",
        "\n",
        "plot_hist(hist)"
      ]
    },
    {
      "cell_type": "code",
      "execution_count": null,
      "metadata": {
        "colab": {
          "background_save": true
        },
        "id": "e_GRQrzy7XSx"
      },
      "outputs": [],
      "source": [
        "def build_model(num_classes):\n",
        "    inputs = layers.Input(shape=(IMG_SIZE, IMG_SIZE, 3))\n",
        "    x = img_augmentation(inputs)\n",
        "    model = EfficientNetB0(include_top=False, input_tensor=x, weights=\"imagenet\")\n",
        "\n",
        "    # Freeze the pretrained weights\n",
        "    model.trainable = False\n",
        "\n",
        "    # Rebuild top\n",
        "    x = layers.GlobalAveragePooling2D(name=\"avg_pool\")(model.output)\n",
        "    x = layers.BatchNormalization()(x)\n",
        "\n",
        "    top_dropout_rate = 0.2\n",
        "    x = layers.Dropout(top_dropout_rate, name=\"top_dropout\")(x)\n",
        "    outputs = layers.Dense(NUM_CLASSES, activation=\"softmax\", name=\"pred\")(x)\n",
        "\n",
        "    # Compile\n",
        "    model = tf.keras.Model(inputs, outputs, name=\"EfficientNet\")\n",
        "    optimizer = tf.keras.optimizers.Adam(learning_rate=1e-2)\n",
        "    model.compile(\n",
        "        optimizer=optimizer, loss=\"categorical_crossentropy\", metrics=[\"accuracy\"]\n",
        "    )\n",
        "    return model"
      ]
    },
    {
      "cell_type": "code",
      "execution_count": null,
      "metadata": {
        "colab": {
          "background_save": true
        },
        "id": "oHNly0LAIU8d",
        "outputId": "3be72590-4ce7-4364-a091-bd798e99a704"
      },
      "outputs": [
        {
          "name": "stdout",
          "output_type": "stream",
          "text": [
            "Epoch 1/60\n",
            "67/67 - 13s - loss: 0.3112 - accuracy: 0.9291 - val_loss: 0.2903 - val_accuracy: 0.8864 - 13s/epoch - 196ms/step\n",
            "Epoch 2/60\n",
            "67/67 - 3s - loss: 0.2264 - accuracy: 0.9618 - val_loss: 0.0923 - val_accuracy: 0.9744 - 3s/epoch - 50ms/step\n",
            "Epoch 3/60\n",
            "67/67 - 3s - loss: 0.2126 - accuracy: 0.9674 - val_loss: 0.2425 - val_accuracy: 0.9091 - 3s/epoch - 50ms/step\n",
            "Epoch 4/60\n",
            "67/67 - 4s - loss: 0.1644 - accuracy: 0.9748 - val_loss: 0.1090 - val_accuracy: 0.9688 - 4s/epoch - 58ms/step\n",
            "Epoch 5/60\n",
            "67/67 - 3s - loss: 0.1463 - accuracy: 0.9767 - val_loss: 0.0589 - val_accuracy: 0.9801 - 3s/epoch - 51ms/step\n",
            "Epoch 6/60\n",
            "67/67 - 3s - loss: 0.1563 - accuracy: 0.9785 - val_loss: 0.0688 - val_accuracy: 0.9830 - 3s/epoch - 50ms/step\n",
            "Epoch 7/60\n",
            "67/67 - 3s - loss: 0.1448 - accuracy: 0.9748 - val_loss: 0.0160 - val_accuracy: 0.9972 - 3s/epoch - 50ms/step\n",
            "Epoch 8/60\n",
            "67/67 - 3s - loss: 0.0806 - accuracy: 0.9832 - val_loss: 0.0389 - val_accuracy: 0.9915 - 3s/epoch - 50ms/step\n",
            "Epoch 9/60\n",
            "67/67 - 3s - loss: 0.0924 - accuracy: 0.9879 - val_loss: 0.0896 - val_accuracy: 0.9830 - 3s/epoch - 51ms/step\n",
            "Epoch 10/60\n",
            "67/67 - 3s - loss: 0.0911 - accuracy: 0.9832 - val_loss: 0.0996 - val_accuracy: 0.9886 - 3s/epoch - 50ms/step\n",
            "Epoch 11/60\n",
            "67/67 - 3s - loss: 0.1758 - accuracy: 0.9804 - val_loss: 0.1223 - val_accuracy: 0.9858 - 3s/epoch - 51ms/step\n",
            "Epoch 12/60\n",
            "67/67 - 3s - loss: 0.0631 - accuracy: 0.9897 - val_loss: 0.2030 - val_accuracy: 0.9830 - 3s/epoch - 50ms/step\n",
            "Epoch 13/60\n",
            "67/67 - 3s - loss: 0.0544 - accuracy: 0.9869 - val_loss: 0.0599 - val_accuracy: 0.9858 - 3s/epoch - 50ms/step\n",
            "Epoch 14/60\n",
            "67/67 - 3s - loss: 0.1264 - accuracy: 0.9813 - val_loss: 0.1627 - val_accuracy: 0.9858 - 3s/epoch - 50ms/step\n",
            "Epoch 15/60\n",
            "67/67 - 3s - loss: 0.1453 - accuracy: 0.9832 - val_loss: 0.0563 - val_accuracy: 0.9830 - 3s/epoch - 51ms/step\n",
            "Epoch 16/60\n",
            "67/67 - 3s - loss: 0.1984 - accuracy: 0.9832 - val_loss: 0.1148 - val_accuracy: 0.9915 - 3s/epoch - 50ms/step\n",
            "Epoch 17/60\n",
            "67/67 - 3s - loss: 0.2340 - accuracy: 0.9795 - val_loss: 0.4221 - val_accuracy: 0.9602 - 3s/epoch - 51ms/step\n",
            "Epoch 18/60\n",
            "67/67 - 3s - loss: 0.0768 - accuracy: 0.9897 - val_loss: 0.0135 - val_accuracy: 0.9972 - 3s/epoch - 51ms/step\n",
            "Epoch 19/60\n",
            "67/67 - 3s - loss: 0.1649 - accuracy: 0.9869 - val_loss: 0.0046 - val_accuracy: 0.9972 - 3s/epoch - 50ms/step\n",
            "Epoch 20/60\n",
            "67/67 - 3s - loss: 0.1957 - accuracy: 0.9841 - val_loss: 0.0293 - val_accuracy: 0.9915 - 3s/epoch - 51ms/step\n",
            "Epoch 21/60\n",
            "67/67 - 3s - loss: 0.1331 - accuracy: 0.9907 - val_loss: 0.0816 - val_accuracy: 0.9943 - 3s/epoch - 50ms/step\n",
            "Epoch 22/60\n",
            "67/67 - 3s - loss: 0.2095 - accuracy: 0.9823 - val_loss: 0.0443 - val_accuracy: 0.9972 - 3s/epoch - 50ms/step\n",
            "Epoch 23/60\n",
            "67/67 - 3s - loss: 0.1569 - accuracy: 0.9813 - val_loss: 0.0345 - val_accuracy: 0.9915 - 3s/epoch - 50ms/step\n",
            "Epoch 24/60\n",
            "67/67 - 3s - loss: 0.1897 - accuracy: 0.9860 - val_loss: 0.1278 - val_accuracy: 0.9915 - 3s/epoch - 50ms/step\n",
            "Epoch 25/60\n",
            "67/67 - 3s - loss: 0.1716 - accuracy: 0.9851 - val_loss: 0.0093 - val_accuracy: 0.9972 - 3s/epoch - 51ms/step\n",
            "Epoch 26/60\n",
            "67/67 - 3s - loss: 0.1410 - accuracy: 0.9888 - val_loss: 0.2329 - val_accuracy: 0.9886 - 3s/epoch - 50ms/step\n",
            "Epoch 27/60\n",
            "67/67 - 3s - loss: 0.1294 - accuracy: 0.9879 - val_loss: 0.0120 - val_accuracy: 0.9972 - 3s/epoch - 50ms/step\n",
            "Epoch 28/60\n",
            "67/67 - 3s - loss: 0.1714 - accuracy: 0.9916 - val_loss: 0.1622 - val_accuracy: 0.9915 - 3s/epoch - 50ms/step\n",
            "Epoch 29/60\n",
            "67/67 - 3s - loss: 0.0191 - accuracy: 0.9935 - val_loss: 0.1612 - val_accuracy: 0.9886 - 3s/epoch - 50ms/step\n",
            "Epoch 30/60\n",
            "67/67 - 3s - loss: 0.1169 - accuracy: 0.9897 - val_loss: 0.1930 - val_accuracy: 0.9858 - 3s/epoch - 50ms/step\n",
            "Epoch 31/60\n",
            "67/67 - 3s - loss: 0.0389 - accuracy: 0.9935 - val_loss: 0.1708 - val_accuracy: 0.9915 - 3s/epoch - 50ms/step\n",
            "Epoch 32/60\n",
            "67/67 - 3s - loss: 0.1641 - accuracy: 0.9869 - val_loss: 0.2164 - val_accuracy: 0.9915 - 3s/epoch - 49ms/step\n",
            "Epoch 33/60\n",
            "67/67 - 3s - loss: 0.2417 - accuracy: 0.9832 - val_loss: 0.1829 - val_accuracy: 0.9915 - 3s/epoch - 50ms/step\n",
            "Epoch 34/60\n",
            "67/67 - 3s - loss: 0.1083 - accuracy: 0.9869 - val_loss: 0.2830 - val_accuracy: 0.9886 - 3s/epoch - 51ms/step\n",
            "Epoch 35/60\n",
            "67/67 - 3s - loss: 0.0519 - accuracy: 0.9953 - val_loss: 0.1311 - val_accuracy: 0.9943 - 3s/epoch - 50ms/step\n",
            "Epoch 36/60\n",
            "67/67 - 3s - loss: 0.0879 - accuracy: 0.9925 - val_loss: 0.2318 - val_accuracy: 0.9915 - 3s/epoch - 50ms/step\n",
            "Epoch 37/60\n",
            "67/67 - 3s - loss: 0.0918 - accuracy: 0.9935 - val_loss: 0.0866 - val_accuracy: 0.9972 - 3s/epoch - 51ms/step\n",
            "Epoch 38/60\n",
            "67/67 - 3s - loss: 0.0892 - accuracy: 0.9916 - val_loss: 0.0417 - val_accuracy: 0.9943 - 3s/epoch - 50ms/step\n",
            "Epoch 39/60\n",
            "67/67 - 3s - loss: 0.1223 - accuracy: 0.9869 - val_loss: 0.3083 - val_accuracy: 0.9915 - 3s/epoch - 51ms/step\n",
            "Epoch 40/60\n",
            "67/67 - 3s - loss: 0.2525 - accuracy: 0.9841 - val_loss: 0.3403 - val_accuracy: 0.9886 - 3s/epoch - 50ms/step\n",
            "Epoch 41/60\n",
            "67/67 - 3s - loss: 0.1318 - accuracy: 0.9907 - val_loss: 0.3185 - val_accuracy: 0.9830 - 3s/epoch - 51ms/step\n",
            "Epoch 42/60\n",
            "67/67 - 4s - loss: 0.1673 - accuracy: 0.9897 - val_loss: 0.2152 - val_accuracy: 0.9886 - 4s/epoch - 59ms/step\n",
            "Epoch 43/60\n",
            "67/67 - 3s - loss: 0.0977 - accuracy: 0.9935 - val_loss: 0.5221 - val_accuracy: 0.9830 - 3s/epoch - 50ms/step\n",
            "Epoch 44/60\n",
            "67/67 - 3s - loss: 0.0491 - accuracy: 0.9925 - val_loss: 0.1826 - val_accuracy: 0.9886 - 3s/epoch - 50ms/step\n",
            "Epoch 45/60\n",
            "67/67 - 3s - loss: 0.0912 - accuracy: 0.9963 - val_loss: 0.1774 - val_accuracy: 0.9858 - 3s/epoch - 49ms/step\n",
            "Epoch 46/60\n",
            "67/67 - 3s - loss: 0.0915 - accuracy: 0.9916 - val_loss: 0.0428 - val_accuracy: 0.9915 - 3s/epoch - 50ms/step\n",
            "Epoch 47/60\n",
            "67/67 - 3s - loss: 0.1122 - accuracy: 0.9907 - val_loss: 0.0139 - val_accuracy: 0.9972 - 3s/epoch - 50ms/step\n",
            "Epoch 48/60\n",
            "67/67 - 3s - loss: 0.0842 - accuracy: 0.9916 - val_loss: 0.2210 - val_accuracy: 0.9830 - 3s/epoch - 50ms/step\n",
            "Epoch 49/60\n",
            "67/67 - 4s - loss: 0.1114 - accuracy: 0.9916 - val_loss: 0.4032 - val_accuracy: 0.9744 - 4s/epoch - 54ms/step\n",
            "Epoch 50/60\n",
            "67/67 - 3s - loss: 0.0985 - accuracy: 0.9897 - val_loss: 0.1918 - val_accuracy: 0.9915 - 3s/epoch - 50ms/step\n",
            "Epoch 51/60\n",
            "67/67 - 3s - loss: 0.0921 - accuracy: 0.9907 - val_loss: 0.0562 - val_accuracy: 0.9943 - 3s/epoch - 50ms/step\n",
            "Epoch 52/60\n",
            "67/67 - 3s - loss: 0.1823 - accuracy: 0.9907 - val_loss: 0.0876 - val_accuracy: 0.9915 - 3s/epoch - 50ms/step\n",
            "Epoch 53/60\n",
            "67/67 - 3s - loss: 0.1763 - accuracy: 0.9879 - val_loss: 0.0933 - val_accuracy: 0.9943 - 3s/epoch - 51ms/step\n",
            "Epoch 54/60\n",
            "67/67 - 3s - loss: 0.0515 - accuracy: 0.9963 - val_loss: 0.0995 - val_accuracy: 0.9943 - 3s/epoch - 50ms/step\n",
            "Epoch 55/60\n",
            "67/67 - 3s - loss: 0.1223 - accuracy: 0.9888 - val_loss: 0.1430 - val_accuracy: 0.9858 - 3s/epoch - 49ms/step\n",
            "Epoch 56/60\n",
            "67/67 - 3s - loss: 0.2022 - accuracy: 0.9888 - val_loss: 0.3168 - val_accuracy: 0.9886 - 3s/epoch - 49ms/step\n",
            "Epoch 57/60\n",
            "67/67 - 3s - loss: 0.1321 - accuracy: 0.9879 - val_loss: 0.2165 - val_accuracy: 0.9886 - 3s/epoch - 50ms/step\n",
            "Epoch 58/60\n",
            "67/67 - 3s - loss: 0.0446 - accuracy: 0.9963 - val_loss: 0.2413 - val_accuracy: 0.9830 - 3s/epoch - 49ms/step\n",
            "Epoch 59/60\n",
            "67/67 - 3s - loss: 0.1912 - accuracy: 0.9813 - val_loss: 0.5672 - val_accuracy: 0.9801 - 3s/epoch - 49ms/step\n",
            "Epoch 60/60\n",
            "67/67 - 3s - loss: 0.1442 - accuracy: 0.9879 - val_loss: 0.2815 - val_accuracy: 0.9886 - 3s/epoch - 49ms/step\n"
          ]
        },
        {
          "data": {
            "image/png": "[encoded data removed]",
            "text/plain": [
              "<Figure size 432x288 with 1 Axes>"
            ]
          },
          "metadata": {},
          "output_type": "display_data"
        }
      ],
      "source": [
        "with strategy.scope():\n",
        "    model = build_model(num_classes=NUM_CLASSES)\n",
        "\n",
        "epochs = 60  # @param {type: \"slider\", min:8, max:80}\n",
        "hist = model.fit(ds_train, epochs=epochs, validation_data=ds_test, verbose=2)\n",
        "plot_hist(hist)"
      ]
    },
    {
      "cell_type": "code",
      "execution_count": null,
      "metadata": {
        "colab": {
          "background_save": true
        },
        "id": "fg_qIjn6IU6f",
        "outputId": "953d2195-9780-44b6-b5cd-11041ca57d7e"
      },
      "outputs": [
        {
          "name": "stdout",
          "output_type": "stream",
          "text": [
            "Epoch 1/10\n",
            "67/67 - 14s - loss: 0.1862 - accuracy: 0.9897 - val_loss: 0.5955 - val_accuracy: 0.9858 - 14s/epoch - 212ms/step\n",
            "Epoch 2/10\n",
            "67/67 - 4s - loss: 0.1588 - accuracy: 0.9869 - val_loss: 0.4491 - val_accuracy: 0.9886 - 4s/epoch - 54ms/step\n",
            "Epoch 3/10\n",
            "67/67 - 4s - loss: 0.2269 - accuracy: 0.9869 - val_loss: 0.8748 - val_accuracy: 0.9688 - 4s/epoch - 54ms/step\n",
            "Epoch 4/10\n",
            "67/67 - 4s - loss: 0.1737 - accuracy: 0.9888 - val_loss: 0.2386 - val_accuracy: 0.9915 - 4s/epoch - 54ms/step\n",
            "Epoch 5/10\n",
            "67/67 - 4s - loss: 0.1688 - accuracy: 0.9935 - val_loss: 0.1853 - val_accuracy: 0.9915 - 4s/epoch - 54ms/step\n",
            "Epoch 6/10\n",
            "67/67 - 4s - loss: 0.0691 - accuracy: 0.9953 - val_loss: 0.3730 - val_accuracy: 0.9830 - 4s/epoch - 55ms/step\n",
            "Epoch 7/10\n",
            "67/67 - 4s - loss: 0.0108 - accuracy: 0.9972 - val_loss: 0.2013 - val_accuracy: 0.9858 - 4s/epoch - 54ms/step\n",
            "Epoch 8/10\n",
            "67/67 - 4s - loss: 0.1580 - accuracy: 0.9925 - val_loss: 0.1352 - val_accuracy: 0.9915 - 4s/epoch - 55ms/step\n",
            "Epoch 9/10\n",
            "67/67 - 4s - loss: 0.1302 - accuracy: 0.9907 - val_loss: 0.1393 - val_accuracy: 0.9943 - 4s/epoch - 54ms/step\n",
            "Epoch 10/10\n",
            "67/67 - 4s - loss: 0.2231 - accuracy: 0.9888 - val_loss: 1.0417 - val_accuracy: 0.9801 - 4s/epoch - 54ms/step\n"
          ]
        },
        {
          "data": {
            "image/png": "[encoded data removed]",
            "text/plain": [
              "<Figure size 432x288 with 1 Axes>"
            ]
          },
          "metadata": {},
          "output_type": "display_data"
        }
      ],
      "source": [
        "def unfreeze_model(model):\n",
        "    # We unfreeze the top 20 layers while leaving BatchNorm layers frozen\n",
        "    for layer in model.layers[-20:]:\n",
        "        if not isinstance(layer, layers.BatchNormalization):\n",
        "            layer.trainable = True\n",
        "\n",
        "    optimizer = tf.keras.optimizers.Adam(learning_rate=1e-4)\n",
        "    model.compile(\n",
        "        optimizer=optimizer, loss=\"categorical_crossentropy\", metrics=[\"accuracy\"]\n",
        "    )\n",
        "\n",
        "\n",
        "unfreeze_model(model)\n",
        "\n",
        "epochs = 10  # @param {type: \"slider\", min:8, max:50}\n",
        "hist = model.fit(ds_train, epochs=epochs, validation_data=ds_test, verbose=2)\n",
        "plot_hist(hist)"
      ]
    },
    {
      "cell_type": "code",
      "execution_count": null,
      "metadata": {
        "colab": {
          "background_save": true
        },
        "id": "dlwIrZYHIU4M",
        "outputId": "6fd680d8-c026-43f1-9b95-29b9570c163e"
      },
      "outputs": [
        {
          "name": "stdout",
          "output_type": "stream",
          "text": [
            "22/22 [==============================] - 1s 36ms/step - loss: 1.0417 - accuracy: 0.9801\n"
          ]
        },
        {
          "data": {
            "text/plain": [
              "[1.0416693687438965, 0.9801136255264282]"
            ]
          },
          "execution_count": null,
          "metadata": {},
          "output_type": "execute_result"
        }
      ],
      "source": [
        "model.evaluate(ds_test)"
      ]
    },
    {
      "cell_type": "code",
      "execution_count": null,
      "metadata": {
        "colab": {
          "background_save": true
        },
        "id": "EB7MPxHfEqfQ",
        "outputId": "a361619c-fd88-46a7-cb23-564f5778d506"
      },
      "outputs": [
        {
          "name": "stdout",
          "output_type": "stream",
          "text": [
            "[[0. 1. 0. 0. 0. 0.]\n",
            " [0. 0. 0. 1. 0. 0.]\n",
            " [1. 0. 0. 0. 0. 0.]\n",
            " ...\n",
            " [0. 0. 0. 0. 1. 0.]\n",
            " [0. 0. 0. 0. 1. 0.]\n",
            " [0. 0. 0. 0. 1. 0.]] <class 'numpy.ndarray'> (360, 6)\n",
            "[1 3 0 0 2 0 2 0 5 4 2 2 1 5 0 4 5 2 3 2 2 0 4 0 0 5 2 4 2 2 2 0 2 5 0 2 1\n",
            " 3 3 4 3 3 3 4 1 3 5 3 5 1 4 3 5 5 0 0 0 1 0 2 1 1 2 4 0 4 1 5 1 2 2 5 2 1\n",
            " 1 3 0 5 2 2 5 2 0 4 1 1 2 3 2 1 5 1 2 4 1 5 2 0 4 2 3 0 3 1 1 1 1 4 4 1 5\n",
            " 1 4 4 2 4 5 2 0 4 1 2 3 1 3 4 2 1 5 0 3 0 0 0 2 1 0 0 3 0 1 3 0 5 2 0 4 0\n",
            " 0 5 5 5 1 1 5 0 4 3 0 2 1 5 3 2 4 1 1 5 5 4 5 1 4 2 5 2 0 3 1 2 0 5 3 0 0\n",
            " 0 2 4 3 1 0 3 4 1 0 2 3 0 3 2 3 3 1 2 0 3 1 5 2 1 1 3 0 0 1 1 2 2 1 1 3 0\n",
            " 4 1 3 2 3 4 3 4 3 0 0 1 0 2 4 1 4 4 4 3 5 0 4 2 3 2 2 2 4 2 4 4 1 1 4 3 4\n",
            " 3 3 0 4 2 2 4 3 4 4 1 1 1 4 4 0 3 5 3 2 3 2 5 2 4 4 4 3 2 1 1 5 1 3 1 4 2\n",
            " 4 3 1 0 4 5 0 3 2 2 5 1 2 5 0 2 5 2 0 2 4 4 0 1 3 1 3 4 0 4 2 1 4 2 2 0 5\n",
            " 3 2 1 0 5 1 0 1 3 4 1 5 4 5 0 1 1 5 5 5 0 4 1 0 4 4 4] (360,)\n",
            "[1 3 0 0 2 0 2 0 5 4 2 2 1 5 0 4 5 2 3 2 2 0 4 0 0 5 2 4 2 2 2 0 2 5 0 2 1\n",
            " 3 3 4 3 3 3 4 1 3 5 3 5 1 4 3 5 5 0 0 0 1 0 2 1 1 2 4 0 4 1 5 1 2 2 5 2 1\n",
            " 1 3 0 5 2 2 5 2 0 4 1 1 2 3 2 1 5 5 2 4 5 5 2 0 4 2 3 0 3 1 1 1 1 4 4 1 5\n",
            " 1 4 4 2 4 5 2 0 4 1 2 3 1 3 4 2 1 5 0 3 0 0 0 2 1 0 0 3 0 1 3 0 5 2 0 4 0\n",
            " 0 5 5 5 3 1 5 0 4 3 0 2 1 5 3 2 4 1 1 5 5 4 5 1 4 2 5 2 0 3 1 2 0 5 3 0 0\n",
            " 0 2 4 3 1 0 3 4 1 0 2 3 0 3 2 3 3 1 2 0 3 1 5 2 1 1 3 0 0 5 5 2 2 1 5 3 0\n",
            " 4 1 3 2 3 4 3 4 3 0 0 1 0 2 4 1 4 4 4 3 5 0 4 2 3 2 2 2 4 2 4 4 1 1 4 3 4\n",
            " 3 3 0 4 2 2 4 3 4 4 1 1 1 4 4 0 3 5 3 2 3 2 5 2 4 4 4 3 2 1 1 5 1 3 1 4 2\n",
            " 4 3 1 0 4 5 0 3 2 2 5 1 2 5 0 2 5 2 0 2 4 4 0 1 3 1 3 4 0 4 2 1 4 2 2 0 5\n",
            " 3 2 1 0 5 1 0 1 3 4 1 5 4 5 0 5 1 5 5 5 0 4 1 0 4 4 4] (360,)\n"
          ]
        }
      ],
      "source": [
        "#Test set 정확도\n",
        "y_pred_test=model.predict(x_test)\n",
        "print(y_pred_test, type(y_pred_test), y_pred_test.shape)\n",
        "y_pred=[]\n",
        "for ar in y_pred_test:\n",
        "  y_pred.append(np.argmax(ar))\n",
        "y_pred = np.array(y_pred)\n",
        "print(y_pred, y_pred.shape)\n",
        "print(y_test, y_test.shape)"
      ]
    },
    {
      "cell_type": "code",
      "execution_count": null,
      "metadata": {
        "colab": {
          "background_save": true
        },
        "id": "RpZW7G96IUsi",
        "outputId": "b7ccd1f1-1ef3-46f8-b11a-d2b7af5b04e8"
      },
      "outputs": [
        {
          "name": "stdout",
          "output_type": "stream",
          "text": [
            "accuracy: 0.9805555555555555\n",
            "Precision: 0.9825281803542674\n",
            "Recall: 0.9805555555555555\n",
            "F1-Score: 0.9805412500099085\n"
          ]
        }
      ],
      "source": [
        "from sklearn.metrics import f1_score, accuracy_score, recall_score, precision_score\n",
        "print(\"accuracy:\",accuracy_score(y_test, y_pred))\n",
        "print(\"Precision:\",precision_score(y_test, y_pred, average='weighted'))\n",
        "print(\"Recall:\",recall_score(y_test, y_pred, average='weighted'))\n",
        "print(\"F1-Score:\",f1_score(y_test, y_pred, average='weighted'))"
      ]
    },
    {
      "cell_type": "code",
      "execution_count": null,
      "metadata": {
        "colab": {
          "background_save": true
        },
        "id": "EXzxgRCOh8Kz",
        "outputId": "da64dea6-a071-4ac5-e2de-1382dcda41bd"
      },
      "outputs": [
        {
          "name": "stdout",
          "output_type": "stream",
          "text": [
            "[[0.0000000e+00 1.0000000e+00 0.0000000e+00 0.0000000e+00 0.0000000e+00\n",
            "  0.0000000e+00]\n",
            " [1.0000000e+00 0.0000000e+00 0.0000000e+00 0.0000000e+00 0.0000000e+00\n",
            "  0.0000000e+00]\n",
            " [0.0000000e+00 0.0000000e+00 0.0000000e+00 1.0000000e+00 0.0000000e+00\n",
            "  0.0000000e+00]\n",
            " ...\n",
            " [0.0000000e+00 1.2289427e-37 0.0000000e+00 0.0000000e+00 0.0000000e+00\n",
            "  1.0000000e+00]\n",
            " [0.0000000e+00 0.0000000e+00 1.0000000e+00 0.0000000e+00 0.0000000e+00\n",
            "  0.0000000e+00]\n",
            " [4.7560777e-34 0.0000000e+00 0.0000000e+00 1.0000000e+00 0.0000000e+00\n",
            "  0.0000000e+00]] <class 'numpy.ndarray'> (1080, 6)\n",
            "[[0.0000000e+00 1.0000000e+00 0.0000000e+00 0.0000000e+00 0.0000000e+00\n",
            "  0.0000000e+00]\n",
            " [1.0000000e+00 0.0000000e+00 0.0000000e+00 0.0000000e+00 0.0000000e+00\n",
            "  0.0000000e+00]\n",
            " [0.0000000e+00 0.0000000e+00 0.0000000e+00 1.0000000e+00 0.0000000e+00\n",
            "  0.0000000e+00]\n",
            " ...\n",
            " [0.0000000e+00 1.2289427e-37 0.0000000e+00 0.0000000e+00 0.0000000e+00\n",
            "  1.0000000e+00]\n",
            " [0.0000000e+00 0.0000000e+00 1.0000000e+00 0.0000000e+00 0.0000000e+00\n",
            "  0.0000000e+00]\n",
            " [4.7560777e-34 0.0000000e+00 0.0000000e+00 1.0000000e+00 0.0000000e+00\n",
            "  0.0000000e+00]] (1080, 6)\n",
            "[1 0 3 ... 5 2 3] (1080,)\n"
          ]
        }
      ],
      "source": [
        "#Train set 정확도\n",
        "\n",
        "y_pred_train=model.predict(x_train)\n",
        "print(y_pred_train, type(y_pred_train), y_pred_train.shape)\n",
        "y_train_list=[]\n",
        "for ar in y_pred_train:\n",
        "  y_train_list.append(np.argmax(ar))\n",
        "y_train_list = np.array(y_train_list)\n",
        "print(y_pred_train, y_pred_train.shape)\n",
        "print(y_train_list, y_train_list.shape)"
      ]
    },
    {
      "cell_type": "code",
      "execution_count": null,
      "metadata": {
        "colab": {
          "background_save": true
        },
        "id": "VUljgSBFiS0L",
        "outputId": "bd4383ed-a5c4-473f-b834-49ca024a8a9a"
      },
      "outputs": [
        {
          "name": "stdout",
          "output_type": "stream",
          "text": [
            "accuracy: 0.9796296296296296\n",
            "Precision: 0.9816867577588316\n",
            "Recall: 0.9796296296296296\n",
            "F1-Score: 0.9797356944045132\n"
          ]
        }
      ],
      "source": [
        "print(\"accuracy:\",accuracy_score(y_train, y_train_list))\n",
        "print(\"Precision:\",precision_score(y_train, y_train_list, average='weighted'))\n",
        "print(\"Recall:\",recall_score(y_train, y_train_list, average='weighted'))\n",
        "print(\"F1-Score:\",f1_score(y_train, y_train_list, average='weighted'))"
      ]
    },
    {
      "cell_type": "code",
      "execution_count": null,
      "metadata": {
        "colab": {
          "background_save": true
        },
        "id": "xM9cj2PXvGHI",
        "outputId": "703eef84-1080-459f-ba8d-3930c65c3592"
      },
      "outputs": [
        {
          "name": "stdout",
          "output_type": "stream",
          "text": [
            "Ubuntu 18.04.5 LTS \\n \\l\n",
            "\n",
            "processor\t: 0\n",
            "vendor_id\t: GenuineIntel\n",
            "cpu family\t: 6\n",
            "model\t\t: 63\n",
            "model name\t: Intel(R) Xeon(R) CPU @ 2.30GHz\n",
            "stepping\t: 0\n",
            "microcode\t: 0x1\n",
            "cpu MHz\t\t: 2299.998\n",
            "cache size\t: 46080 KB\n",
            "physical id\t: 0\n",
            "siblings\t: 2\n",
            "core id\t\t: 0\n",
            "cpu cores\t: 1\n",
            "apicid\t\t: 0\n",
            "initial apicid\t: 0\n",
            "fpu\t\t: yes\n",
            "fpu_exception\t: yes\n",
            "cpuid level\t: 13\n",
            "wp\t\t: yes\n",
            "flags\t\t: fpu vme de pse tsc msr pae mce cx8 apic sep mtrr pge mca cmov pat pse36 clflush mmx fxsr sse sse2 ss ht syscall nx pdpe1gb rdtscp lm constant_tsc rep_good nopl xtopology nonstop_tsc cpuid tsc_known_freq pni pclmulqdq ssse3 fma cx16 pcid sse4_1 sse4_2 x2apic movbe popcnt aes xsave avx f16c rdrand hypervisor lahf_lm abm invpcid_single ssbd ibrs ibpb stibp fsgsbase tsc_adjust bmi1 avx2 smep bmi2 erms invpcid xsaveopt arat md_clear arch_capabilities\n",
            "bugs\t\t: cpu_meltdown spectre_v1 spectre_v2 spec_store_bypass l1tf mds swapgs\n",
            "bogomips\t: 4599.99\n",
            "clflush size\t: 64\n",
            "cache_alignment\t: 64\n",
            "address sizes\t: 46 bits physical, 48 bits virtual\n",
            "power management:\n",
            "\n",
            "processor\t: 1\n",
            "vendor_id\t: GenuineIntel\n",
            "cpu family\t: 6\n",
            "model\t\t: 63\n",
            "model name\t: Intel(R) Xeon(R) CPU @ 2.30GHz\n",
            "stepping\t: 0\n",
            "microcode\t: 0x1\n",
            "cpu MHz\t\t: 2299.998\n",
            "cache size\t: 46080 KB\n",
            "physical id\t: 0\n",
            "siblings\t: 2\n",
            "core id\t\t: 0\n",
            "cpu cores\t: 1\n",
            "apicid\t\t: 1\n",
            "initial apicid\t: 1\n",
            "fpu\t\t: yes\n",
            "fpu_exception\t: yes\n",
            "cpuid level\t: 13\n",
            "wp\t\t: yes\n",
            "flags\t\t: fpu vme de pse tsc msr pae mce cx8 apic sep mtrr pge mca cmov pat pse36 clflush mmx fxsr sse sse2 ss ht syscall nx pdpe1gb rdtscp lm constant_tsc rep_good nopl xtopology nonstop_tsc cpuid tsc_known_freq pni pclmulqdq ssse3 fma cx16 pcid sse4_1 sse4_2 x2apic movbe popcnt aes xsave avx f16c rdrand hypervisor lahf_lm abm invpcid_single ssbd ibrs ibpb stibp fsgsbase tsc_adjust bmi1 avx2 smep bmi2 erms invpcid xsaveopt arat md_clear arch_capabilities\n",
            "bugs\t\t: cpu_meltdown spectre_v1 spectre_v2 spec_store_bypass l1tf mds swapgs\n",
            "bogomips\t: 4599.99\n",
            "clflush size\t: 64\n",
            "cache_alignment\t: 64\n",
            "address sizes\t: 46 bits physical, 48 bits virtual\n",
            "power management:\n",
            "\n",
            "2\n",
            "1\n",
            "cpu cores\t: 1\n",
            "              total        used        free      shared  buff/cache   available\n",
            "Mem:            12G        4.9G        1.2G        271M        6.6G        9.8G\n",
            "Swap:            0B          0B          0B\n",
            "Mon Jun 13 07:41:14 2022       \n",
            "+-----------------------------------------------------------------------------+\n",
            "| NVIDIA-SMI 460.32.03    Driver Version: 460.32.03    CUDA Version: 11.2     |\n",
            "|-------------------------------+----------------------+----------------------+\n",
            "| GPU  Name        Persistence-M| Bus-Id        Disp.A | Volatile Uncorr. ECC |\n",
            "| Fan  Temp  Perf  Pwr:Usage/Cap|         Memory-Usage | GPU-Util  Compute M. |\n",
            "|                               |                      |               MIG M. |\n",
            "|===============================+======================+======================|\n",
            "|   0  Tesla T4            Off  | 00000000:00:04.0 Off |                    0 |\n",
            "| N/A   77C    P0    45W /  70W |   4948MiB / 15109MiB |      0%      Default |\n",
            "|                               |                      |                  N/A |\n",
            "+-------------------------------+----------------------+----------------------+\n",
            "                                                                               \n",
            "+-----------------------------------------------------------------------------+\n",
            "| Processes:                                                                  |\n",
            "|  GPU   GI   CI        PID   Type   Process name                  GPU Memory |\n",
            "|        ID   ID                                                   Usage      |\n",
            "|=============================================================================|\n",
            "+-----------------------------------------------------------------------------+\n"
          ]
        }
      ],
      "source": [
        "#운영체제 확인\n",
        "!cat /etc/issue\n",
        "\n",
        "#0. CPU 정보 확인\n",
        "!cat /proc/cpuinfo\n",
        "\n",
        "#1. CPU 코어 전체 개수 확인\n",
        "!grep -c processor /proc/cpuinfo\n",
        " \n",
        "#2. 물리 CPU 수 확인\n",
        "!grep \"physical id\" /proc/cpuinfo | sort -u | wc -l\n",
        " \n",
        "# 3.CPU당 물리 코어 수 확인\n",
        "!grep \"cpu cores\" /proc/cpuinfo | tail -1\n",
        "\n",
        "#메모리 확인\n",
        "!free -h\n",
        "\n",
        "#런타임 유형 변경 후 gpu 확인\n",
        "!nvidia-smi"
      ]
    }
  ],
  "metadata": {
    "accelerator": "GPU",
    "colab": {
      "collapsed_sections": [],
      "name": "EfficientNet 2nd Result",
      "provenance": []
    },
    "kernelspec": {
      "display_name": "Python 3",
      "name": "python3"
    },
    "language_info": {
      "name": "python"
    }
  },
  "nbformat": 4,
  "nbformat_minor": 0
}
